{
 "cells": [
  {
   "cell_type": "code",
   "execution_count": 22,
   "id": "80051e06-f7dd-49bd-8fb5-ac497394a16a",
   "metadata": {},
   "outputs": [],
   "source": [
    "import matplotlib.pyplot as plt\n",
    "import os\n",
    "import re"
   ]
  },
  {
   "cell_type": "code",
   "execution_count": 26,
   "id": "0a3e3b43-4fb7-4419-a8a1-328869d492e1",
   "metadata": {},
   "outputs": [],
   "source": [
    "files = os.listdir(\"/home/vdesai/bats_data/logs_pca/\")\n",
    "p = re.compile(\"^pca_.*log$\")\n",
    "files = [f for f in files if p.match(f)]"
   ]
  },
  {
   "cell_type": "code",
   "execution_count": 27,
   "id": "67320f24-5569-447c-b012-2d2ecbe7c2cf",
   "metadata": {},
   "outputs": [],
   "source": [
    "comp_list = []\n",
    "loss_list = []\n",
    "\n",
    "for f in sorted(files):\n",
    "    comps = float(f.split(\"_\")[-1].split(\".\")[0].strip())\n",
    "    lines = open(f\"/home/vdesai/bats_data/logs_pca/{f}\").readlines()\n",
    "    for l in lines:\n",
    "        if l.startswith(\"Mean: \"):\n",
    "            loss = float(l.split(\":\")[1].strip())\n",
    "            comp_list.append(comps)\n",
    "            loss_list.append(loss)\n",
    "            break\n",
    "\n",
    "    "
   ]
  },
  {
   "cell_type": "code",
   "execution_count": 28,
   "id": "2227f3a4-48e1-41b7-986c-54bda705067a",
   "metadata": {},
   "outputs": [
    {
     "data": {
      "text/plain": [
       "Text(0, 0.5, 'Loss')"
      ]
     },
     "execution_count": 28,
     "metadata": {},
     "output_type": "execute_result"
    },
    {
     "data": {
      "image/png": "[encoded data removed]",
      "text/plain": [
       "<Figure size 640x480 with 1 Axes>"
      ]
     },
     "metadata": {},
     "output_type": "display_data"
    }
   ],
   "source": [
    "plt.plot(comp_list, loss_list, 'x')\n",
    "plt.grid()\n",
    "plt.xlabel(\"PCA Components\")\n",
    "plt.ylabel(\"Loss\")"
   ]
  },
  {
   "cell_type": "code",
   "execution_count": 17,
   "id": "b67002fa-548b-47a8-be04-1020448ee584",
   "metadata": {},
   "outputs": [
    {
     "data": {
      "text/plain": [
       "[10.0, 15.0, 20.0, 30.0, 40.0, 5.0, 50.0, 60.0, 70.0, 80.0]"
      ]
     },
     "execution_count": 17,
     "metadata": {},
     "output_type": "execute_result"
    }
   ],
   "source": [
    "comp_list"
   ]
  },
  {
   "cell_type": "code",
   "execution_count": null,
   "id": "c31ec8ee-cf69-4593-965e-bc1c48b5c95b",
   "metadata": {},
   "outputs": [],
   "source": []
  }
 ],
 "metadata": {
  "kernelspec": {
   "display_name": "Python 3 (ipykernel)",
   "language": "python",
   "name": "python3"
  },
  "language_info": {
   "codemirror_mode": {
    "name": "ipython",
    "version": 3
   },
   "file_extension": ".py",
   "mimetype": "text/x-python",
   "name": "python",
   "nbconvert_exporter": "python",
   "pygments_lexer": "ipython3",
   "version": "3.8.18"
  }
 },
 "nbformat": 4,
 "nbformat_minor": 5
}
