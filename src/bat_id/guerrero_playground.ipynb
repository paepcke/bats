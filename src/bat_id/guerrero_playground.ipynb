{
 "cells": [
  {
   "cell_type": "markdown",
   "metadata": {},
   "source": [
    "File for exploring bat species classification using unsupervised learning. Methods inspired by Guerrero et al. 2023. \n",
    "https://besjournals.onlinelibrary.wiley.com/doi/full/10.1111/2041-210X.14103\n",
    "\n",
    "Notable differences:\n",
    "1. segmentation (they used otsu thresholding, I used batdetect2 CNN)\n",
    "    - for better detection, but probably takes too much computation\n",
    "2. feature extraction (they compute LFCCs with specific params in a specific way, I use PyTorch's LFCC class out of the box)\n",
    "    - temporary, for proof of concept\n",
    "3. LFCC filtering (they keep all LFCCs, i only keep those of dim (1, 40, 2) so that they're all the same size) \n",
    "    - temporary, for proof of concept\n",
    "4. clustering (they use LAMDA cluster, I use k-means clustern)\n",
    "    - temporary, for proof of concept (note: LAMDA function unpopular and I could not find existing code)"
   ]
  },
  {
   "cell_type": "code",
   "execution_count": null,
   "metadata": {},
   "outputs": [],
   "source": [
    "from tqdm import tqdm\n",
    "from pydub import AudioSegment\n",
    "import pandas as pd\n",
    "import numpy as np\n",
    "import torchaudio\n",
    "from torchaudio import transforms\n",
    "from sklearn.manifold import TSNE\n",
    "from sklearn.decomposition import PCA\n",
    "from sklearn.cluster import KMeans\n",
    "import matplotlib.pyplot as plt\n",
    "import seaborn as sns\n",
    "import plotly.express as px\n",
    "import os\n",
    "import sys\n",
    "import glob"
   ]
  },
  {
   "cell_type": "code",
   "execution_count": null,
   "metadata": {},
   "outputs": [],
   "source": [
    "sys.path.insert(0, os.path.abspath('../')) # for importing batdetect2"
   ]
  },
  {
   "cell_type": "code",
   "execution_count": null,
   "metadata": {},
   "outputs": [],
   "source": [
    "from batdetect2 import api # for pulse detection"
   ]
  },
  {
   "cell_type": "markdown",
   "metadata": {},
   "source": [
    "# helper functions"
   ]
  },
  {
   "cell_type": "code",
   "execution_count": 35,
   "metadata": {},
   "outputs": [],
   "source": [
    "def detect_pulses(filename, audio_dir, output_dir):\n",
    "    \"\"\"\n",
    "    Given directory and filename, create a csv with\n",
    "    star time, end time, and detection probability.\n",
    "    \n",
    "    detections:\n",
    "    [{\n",
    "        'start_time': 0.0015,\n",
    "        'end_time': 0.0318,\n",
    "        'low_freq': 68437,\n",
    "        'high_freq': 79180,\n",
    "        'class': 'Rhinolophus ferrumequinum',\n",
    "        'class_prob': 0.151,\n",
    "        'det_prob': 0.152,\n",
    "        'individual': '-1',\n",
    "        'event': 'Echolocation'\n",
    "    },...]\n",
    "    \"\"\"   \n",
    "    audio_file = os.path.join(audio_dir, filename)\n",
    "    audio = api.load_audio(audio_file)\n",
    "    detections, features, spec = api.process_audio(audio)\n",
    "\n",
    "    start_times = [det['start_time'] for det in detections]\n",
    "    end_times = [det['end_time'] for det in detections]\n",
    "    det_probs = [det['det_prob'] for det in detections]\n",
    "\n",
    "    df = pd.DataFrame(data={'start_times':start_times, 'end_times':end_times, 'det_probs':det_probs})\n",
    "    df.to_csv(output_dir + filename[:-3] + 'csv', index=False)"
   ]
  },
  {
   "cell_type": "code",
   "execution_count": 36,
   "metadata": {},
   "outputs": [],
   "source": [
    "def slice_audio(filename, det_dir, audio_dir, output_dir, cutoff_prob):\n",
    "    \"\"\"\n",
    "    Given a .csv file of detections (start_time, end_time, det_prob),\n",
    "    save new audio files from start->end time of detections that meet\n",
    "    cutoff probability.\n",
    "    \"\"\"\n",
    "    audio_file = os.path.join(audio_dir, filename[:-3] + 'wav')\n",
    "    det_file = os.path.join(det_dir, filename)\n",
    "    \n",
    "    audio = AudioSegment.from_file(audio_file, format=\"wav\")\n",
    "    df = pd.read_csv(det_file)\n",
    "    \n",
    "    cutoff_df = df.loc[df['det_probs'] >= cutoff_prob]\n",
    "\n",
    "    for index, row in cutoff_df.iterrows():\n",
    "        start_time, end_time = row['start_times'] * 1000, row['end_times'] * 1000 # conver to milliseconds\n",
    "        audio_splice = audio[start_time:end_time]\n",
    "        audio_splice.export(output_dir + filename[:-4] + '-' + str(index) + '.wav', format='wav')"
   ]
  },
  {
   "cell_type": "code",
   "execution_count": 37,
   "metadata": {},
   "outputs": [],
   "source": [
    "def compute_lfcc(audio_file):\n",
    "    \"\"\"\n",
    "    Compute linear frequency cepstral coefficient of an audio file\n",
    "    \"\"\"\n",
    "    waveform, sample_rate = torchaudio.load(audio_file, normalize=True)\n",
    "    transform = transforms.LFCC(\n",
    "        sample_rate=sample_rate,\n",
    "        # n_lfcc=13,\n",
    "        # speckwargs={\"n_fft\": 400, \"hop_length\": 160, \"center\": False},\n",
    "    )\n",
    "\n",
    "    lfcc = transform(waveform)\n",
    "    return lfcc"
   ]
  },
  {
   "cell_type": "code",
   "execution_count": 261,
   "metadata": {},
   "outputs": [],
   "source": [
    "def prepare_data(directory):\n",
    "    \"\"\"\n",
    "    Returns\n",
    "    X: LFCCS (num detections, LFCC dim flattened)\n",
    "    Y: species labels (num detections, 1)\n",
    "    \"\"\"\n",
    "    X = []\n",
    "    Y = []\n",
    "\n",
    "    for filename in os.listdir(directory):\n",
    "        audio_file = os.path.join(directory, filename)\n",
    "        \n",
    "        try:\n",
    "            lfcc = compute_lfcc2(audio_file)    \n",
    "        except:\n",
    "            continue\n",
    "        \n",
    "        if lfcc.shape[2] == 2: # lfccs not all the same shape, do this to filter for now\n",
    "            X.append(lfcc)\n",
    "            \n",
    "            # get species code from file name\n",
    "            species_idx = audio_file.index('-') + 1\n",
    "            Y.append(audio_file[species_idx:species_idx + 4])\n",
    "\n",
    "    X = np.concatenate([x for x in X])\n",
    "    X = X.reshape(X.shape[0], -1)\n",
    "    Y = np.array(Y)\n",
    "    \n",
    "    return X, Y"
   ]
  },
  {
   "cell_type": "code",
   "execution_count": 42,
   "metadata": {},
   "outputs": [],
   "source": [
    "def reduce_dims(X):\n",
    "    X_embedded = TSNE(\n",
    "        n_components=2,\n",
    "        learning_rate='auto',\n",
    "        init='random',\n",
    "        perplexity=10,\n",
    "        n_iter=3000\n",
    "     ).fit_transform(X)\n",
    "\n",
    "    return X_embedded"
   ]
  },
  {
   "cell_type": "code",
   "execution_count": 45,
   "metadata": {},
   "outputs": [],
   "source": [
    "def assign_clusters(km_labels, gt_labels):\n",
    "    \"\"\"\n",
    "    Given both the kmeans and ground truth labels after\n",
    "    kmeans clustering, assign each cluster a species\n",
    "    label based on popular vote\n",
    "    \"\"\"\n",
    "    cluster_votes = {}\n",
    "\n",
    "    for i, label in enumerate(km_labels):\n",
    "        if label not in cluster_votes:\n",
    "            cluster_votes[label] = {species : 0 for species in np.unique(gt_labels)}\n",
    "        species = Y[i]   \n",
    "        cluster_votes[label][species] += 1\n",
    "\n",
    "    cluster_assigns = {}    \n",
    "\n",
    "    for cluster, votes in cluster_votes.items():\n",
    "        cluster_assigns[cluster] = max(votes, key=votes.get)\n",
    "\n",
    "    return cluster_assigns"
   ]
  },
  {
   "cell_type": "code",
   "execution_count": 76,
   "metadata": {},
   "outputs": [],
   "source": [
    "def predict(filename, det_dir, audio_dir, output_dir, cutoff_prob, cluster_assigns):\n",
    "    \"\"\"\n",
    "    Given an audio file, predict the species by using kmeans.predict on\n",
    "    each call pulse and taking a popular vote.\n",
    "    \"\"\"\n",
    "    output_files = glob.glob(output_dir + '/*')\n",
    "    for f in output_files:\n",
    "        os.remove(f)\n",
    "\n",
    "    slice_audio(filename, det_dir, audio_dir, output_dir, cutoff_prob)\n",
    "    X, Y = prepare_data(output_dir)\n",
    "    \n",
    "    X = reduce_dims(X)\n",
    "    \n",
    "    prediction = kmeans.predict(X)\n",
    "    return cluster_assigns[max(prediction)]"
   ]
  },
  {
   "cell_type": "code",
   "execution_count": 119,
   "metadata": {},
   "outputs": [],
   "source": [
    "def predict_by_pulse(filename, det_dir, audio_dir, output_dir, cutoff_prob, cluster_assigns):\n",
    "    \"\"\"\n",
    "    Given an audio file, predict the species by using kmeans.predict on\n",
    "    each call pulse\n",
    "    \"\"\"\n",
    "    output_files = glob.glob(output_dir + '/*')\n",
    "    for f in output_files:\n",
    "        os.remove(f)\n",
    "\n",
    "    slice_audio(filename, det_dir, audio_dir, output_dir, cutoff_prob)\n",
    "    X, Y = prepare_data(output_dir)\n",
    "    \n",
    "    X = reduce_dims(X)\n",
    "    \n",
    "    predictions = kmeans.predict(X)\n",
    "    return [cluster_assigns[p] for p in predictions]"
   ]
  },
  {
   "cell_type": "code",
   "execution_count": 148,
   "metadata": {},
   "outputs": [],
   "source": [
    "def label_to_color(Y):\n",
    "    labels = []\n",
    "    for species in Y:\n",
    "        if species == \"Coto\": labels.append(0)\n",
    "        if species == \"Laci\": labels.append(1)\n",
    "        if species == \"Anpa\": labels.append(2)\n",
    "    return np.array(labels)"
   ]
  },
  {
   "cell_type": "markdown",
   "metadata": {},
   "source": [
    "# Using implementation on JRBP dataset"
   ]
  },
  {
   "cell_type": "code",
   "execution_count": null,
   "metadata": {},
   "outputs": [],
   "source": [
    "# get detection times for sample datset of 30 recordings\n",
    "audio_dir = '../test_audio'\n",
    "det_dir = './detections/'\n",
    "\n",
    "for filename in tqdm(os.listdir(audio_dir)):\n",
    "    detect_pulses(filename, audio_dir, det_dir)"
   ]
  },
  {
   "cell_type": "code",
   "execution_count": 305,
   "metadata": {},
   "outputs": [
    {
     "name": "stderr",
     "output_type": "stream",
     "text": [
      "100%|███████████████████████████████████████████████████████████████████████████████████████████████████████████████████| 30/30 [00:04<00:00,  7.33it/s]\n"
     ]
    }
   ],
   "source": [
    "# create new wav files based on detections collected above\n",
    "audio_dir = '../test_audio'\n",
    "det_dir = './detections/'\n",
    "audio_slice_dir = './audio_slices/'\n",
    "cutoff_prob = 0.4\n",
    "\n",
    "for filename in tqdm(os.listdir(det_dir)):\n",
    "    slice_audio(filename, det_dir, audio_dir, audio_slice_dir, cutoff_prob)"
   ]
  },
  {
   "cell_type": "code",
   "execution_count": 306,
   "metadata": {},
   "outputs": [
    {
     "ename": "ValueError",
     "evalue": "need at least one array to concatenate",
     "output_type": "error",
     "traceback": [
      "\u001b[0;31m---------------------------------------------------------------------------\u001b[0m",
      "\u001b[0;31mValueError\u001b[0m                                Traceback (most recent call last)",
      "\u001b[0;32m/tmp/ipykernel_418/1545488527.py\u001b[0m in \u001b[0;36m<module>\u001b[0;34m\u001b[0m\n\u001b[1;32m      1\u001b[0m \u001b[0;31m# create dataset for clustering\u001b[0m\u001b[0;34m\u001b[0m\u001b[0;34m\u001b[0m\u001b[0m\n\u001b[1;32m      2\u001b[0m \u001b[0maudio_slice_dir\u001b[0m \u001b[0;34m=\u001b[0m \u001b[0;34m'./audio_slices/'\u001b[0m\u001b[0;34m\u001b[0m\u001b[0;34m\u001b[0m\u001b[0m\n\u001b[0;32m----> 3\u001b[0;31m \u001b[0mX\u001b[0m\u001b[0;34m,\u001b[0m \u001b[0mY\u001b[0m \u001b[0;34m=\u001b[0m \u001b[0mprepare_data\u001b[0m\u001b[0;34m(\u001b[0m\u001b[0maudio_slice_dir\u001b[0m\u001b[0;34m)\u001b[0m\u001b[0;34m\u001b[0m\u001b[0;34m\u001b[0m\u001b[0m\n\u001b[0m",
      "\u001b[0;32m/tmp/ipykernel_418/695758698.py\u001b[0m in \u001b[0;36mprepare_data\u001b[0;34m(directory)\u001b[0m\n\u001b[1;32m     23\u001b[0m             \u001b[0mY\u001b[0m\u001b[0;34m.\u001b[0m\u001b[0mappend\u001b[0m\u001b[0;34m(\u001b[0m\u001b[0maudio_file\u001b[0m\u001b[0;34m[\u001b[0m\u001b[0mspecies_idx\u001b[0m\u001b[0;34m:\u001b[0m\u001b[0mspecies_idx\u001b[0m \u001b[0;34m+\u001b[0m \u001b[0;36m4\u001b[0m\u001b[0;34m]\u001b[0m\u001b[0;34m)\u001b[0m\u001b[0;34m\u001b[0m\u001b[0;34m\u001b[0m\u001b[0m\n\u001b[1;32m     24\u001b[0m \u001b[0;34m\u001b[0m\u001b[0m\n\u001b[0;32m---> 25\u001b[0;31m     \u001b[0mX\u001b[0m \u001b[0;34m=\u001b[0m \u001b[0mnp\u001b[0m\u001b[0;34m.\u001b[0m\u001b[0mconcatenate\u001b[0m\u001b[0;34m(\u001b[0m\u001b[0;34m[\u001b[0m\u001b[0mx\u001b[0m \u001b[0;32mfor\u001b[0m \u001b[0mx\u001b[0m \u001b[0;32min\u001b[0m \u001b[0mX\u001b[0m\u001b[0;34m]\u001b[0m\u001b[0;34m)\u001b[0m\u001b[0;34m\u001b[0m\u001b[0;34m\u001b[0m\u001b[0m\n\u001b[0m\u001b[1;32m     26\u001b[0m     \u001b[0mX\u001b[0m \u001b[0;34m=\u001b[0m \u001b[0mX\u001b[0m\u001b[0;34m.\u001b[0m\u001b[0mreshape\u001b[0m\u001b[0;34m(\u001b[0m\u001b[0mX\u001b[0m\u001b[0;34m.\u001b[0m\u001b[0mshape\u001b[0m\u001b[0;34m[\u001b[0m\u001b[0;36m0\u001b[0m\u001b[0;34m]\u001b[0m\u001b[0;34m,\u001b[0m \u001b[0;34m-\u001b[0m\u001b[0;36m1\u001b[0m\u001b[0;34m)\u001b[0m\u001b[0;34m\u001b[0m\u001b[0;34m\u001b[0m\u001b[0m\n\u001b[1;32m     27\u001b[0m     \u001b[0mY\u001b[0m \u001b[0;34m=\u001b[0m \u001b[0mnp\u001b[0m\u001b[0;34m.\u001b[0m\u001b[0marray\u001b[0m\u001b[0;34m(\u001b[0m\u001b[0mY\u001b[0m\u001b[0;34m)\u001b[0m\u001b[0;34m\u001b[0m\u001b[0;34m\u001b[0m\u001b[0m\n",
      "\u001b[0;32m<__array_function__ internals>\u001b[0m in \u001b[0;36mconcatenate\u001b[0;34m(*args, **kwargs)\u001b[0m\n",
      "\u001b[0;31mValueError\u001b[0m: need at least one array to concatenate"
     ]
    }
   ],
   "source": [
    "# create dataset for clustering\n",
    "audio_slice_dir = './audio_slices/'\n",
    "X, Y = prepare_data(audio_slice_dir)"
   ]
  },
  {
   "cell_type": "code",
   "execution_count": 264,
   "metadata": {},
   "outputs": [
    {
     "data": {
      "image/png": "[encoded data removed]",
      "text/plain": [
       "<Figure size 640x480 with 1 Axes>"
      ]
     },
     "metadata": {},
     "output_type": "display_data"
    },
    {
     "data": {
      "image/png": "[encoded data removed]",
      "text/plain": [
       "<Figure size 640x480 with 1 Axes>"
      ]
     },
     "metadata": {},
     "output_type": "display_data"
    }
   ],
   "source": [
    "# run kmeans\n",
    "# X = reduce_dims(X)\n",
    "\n",
    "kmeans = KMeans(n_clusters=3)\n",
    "kmeans.fit(X)\n",
    "\n",
    "plt.scatter(X[:,0], X[:,1], c=label_to_color(Y))\n",
    "plt.show()\n",
    "\n",
    "plt.scatter(X[:,0], X[:,1], c=kmeans.labels_)\n",
    "plt.show()"
   ]
  },
  {
   "cell_type": "code",
   "execution_count": 265,
   "metadata": {},
   "outputs": [
    {
     "data": {
      "text/plain": [
       "{2: 'Coto', 0: 'Laci', 1: 'Anpa'}"
      ]
     },
     "execution_count": 265,
     "metadata": {},
     "output_type": "execute_result"
    }
   ],
   "source": [
    "# assign clusters a species\n",
    "cluster_assigns = assign_clusters(kmeans.labels_, Y)\n",
    "cluster_assigns"
   ]
  },
  {
   "cell_type": "code",
   "execution_count": 266,
   "metadata": {},
   "outputs": [
    {
     "data": {
      "text/plain": [
       "'Coto'"
      ]
     },
     "execution_count": 266,
     "metadata": {},
     "output_type": "execute_result"
    }
   ],
   "source": [
    "# run single popular vote prediction\n",
    "filename = 'barn1_D20220723T000059m428-Coto.csv'\n",
    "det_dir = './detections/'\n",
    "audio_dir = '../test_audio/'\n",
    "output_dir = './prediction_slices/'\n",
    "cutoff_prob = 0.4\n",
    "\n",
    "predict(filename, det_dir, audio_dir, output_dir, cutoff_prob, cluster_assigns)"
   ]
  },
  {
   "cell_type": "code",
   "execution_count": 267,
   "metadata": {},
   "outputs": [
    {
     "data": {
      "text/plain": [
       "['Coto',\n",
       " 'Coto',\n",
       " 'Coto',\n",
       " 'ERROR',\n",
       " 'Coto',\n",
       " 'Anpa',\n",
       " 'Coto',\n",
       " 'Coto',\n",
       " 'ERROR',\n",
       " 'Coto',\n",
       " 'Coto',\n",
       " 'Coto',\n",
       " 'Coto',\n",
       " 'Coto',\n",
       " 'Coto',\n",
       " 'Coto',\n",
       " 'Anpa',\n",
       " 'Coto',\n",
       " 'Coto',\n",
       " 'ERROR',\n",
       " 'Coto',\n",
       " 'Laci',\n",
       " 'Coto',\n",
       " 'Anpa',\n",
       " 'Coto',\n",
       " 'ERROR',\n",
       " 'Coto',\n",
       " 'Coto',\n",
       " 'Anpa',\n",
       " 'Coto']"
      ]
     },
     "execution_count": 267,
     "metadata": {},
     "output_type": "execute_result"
    }
   ],
   "source": [
    "# run popular prediction on all files\n",
    "predictions = []\n",
    "for filename in os.listdir(det_dir):\n",
    "    try:\n",
    "        y_hat = predict(filename, det_dir, audio_dir, output_dir, cutoff_prob, cluster_assigns)\n",
    "        predictions.append(y_hat)\n",
    "    except:\n",
    "        predictions.append(\"ERROR\") # current problem when there's only 1 valid slice\n",
    "    \n",
    "predictions"
   ]
  },
  {
   "cell_type": "code",
   "execution_count": 268,
   "metadata": {},
   "outputs": [
    {
     "data": {
      "text/plain": [
       "30.769"
      ]
     },
     "execution_count": 268,
     "metadata": {},
     "output_type": "execute_result"
    }
   ],
   "source": [
    "# get popular vote accuracy\n",
    "# Ex: num_predicted_correctly / num_present\n",
    "n_samples = 0\n",
    "n_correct = 0\n",
    "\n",
    "for i, filename in enumerate(os.listdir(det_dir)):\n",
    "    if predictions[i] == \"ERROR\": # current error for when only one pulse is detected, skip for now\n",
    "        continue\n",
    "    \n",
    "    n_samples += 1\n",
    "    if predictions[i] == filename[-8:-4]:\n",
    "        n_correct += 1\n",
    "\n",
    "round(n_correct / n_samples * 100, 3)"
   ]
  },
  {
   "cell_type": "code",
   "execution_count": 269,
   "metadata": {},
   "outputs": [
    {
     "data": {
      "text/plain": [
       "['Laci', 'Coto', 'Anpa', 'Anpa', 'Laci']"
      ]
     },
     "execution_count": 269,
     "metadata": {},
     "output_type": "execute_result"
    }
   ],
   "source": [
    "# run single vote prediction\n",
    "filename = 'barn1_D20220723T000059m428-Coto.csv'\n",
    "det_dir = './detections/'\n",
    "audio_dir = '../test_audio/'\n",
    "output_dir = './prediction_slices/'\n",
    "cutoff_prob = 0.4\n",
    "\n",
    "predict_by_pulse(filename, det_dir, audio_dir, output_dir, cutoff_prob, cluster_assigns)"
   ]
  },
  {
   "cell_type": "code",
   "execution_count": 270,
   "metadata": {},
   "outputs": [
    {
     "data": {
      "text/plain": [
       "[['Laci', 'Anpa', 'Coto', 'Laci', 'Anpa'],\n",
       " ['Anpa', 'Coto', 'Laci', 'Coto', 'Laci'],\n",
       " ['Laci', 'Coto', 'Anpa', 'Anpa'],\n",
       " 'ERROR',\n",
       " ['Anpa', 'Coto', 'Anpa'],\n",
       " ['Laci', 'Coto'],\n",
       " ['Laci', 'Laci', 'Anpa'],\n",
       " ['Laci', 'Anpa', 'Laci'],\n",
       " 'ERROR',\n",
       " ['Laci', 'Coto', 'Coto', 'Coto'],\n",
       " ['Laci', 'Laci', 'Coto', 'Coto', 'Laci', 'Anpa', 'Coto', 'Laci', 'Anpa'],\n",
       " ['Laci', 'Coto', 'Coto', 'Laci', 'Laci', 'Laci', 'Anpa', 'Anpa'],\n",
       " ['Anpa', 'Laci', 'Laci', 'Coto', 'Laci', 'Coto'],\n",
       " ['Laci', 'Laci', 'Laci', 'Anpa', 'Coto'],\n",
       " ['Anpa', 'Coto'],\n",
       " ['Laci',\n",
       "  'Laci',\n",
       "  'Laci',\n",
       "  'Laci',\n",
       "  'Anpa',\n",
       "  'Laci',\n",
       "  'Anpa',\n",
       "  'Laci',\n",
       "  'Anpa',\n",
       "  'Anpa',\n",
       "  'Coto',\n",
       "  'Laci',\n",
       "  'Laci',\n",
       "  'Laci',\n",
       "  'Laci',\n",
       "  'Laci',\n",
       "  'Coto',\n",
       "  'Laci'],\n",
       " ['Coto', 'Anpa', 'Laci'],\n",
       " ['Laci', 'Coto', 'Anpa'],\n",
       " ['Anpa', 'Anpa', 'Laci', 'Laci', 'Coto', 'Coto'],\n",
       " 'ERROR',\n",
       " ['Laci', 'Coto', 'Anpa', 'Laci'],\n",
       " ['Coto',\n",
       "  'Coto',\n",
       "  'Laci',\n",
       "  'Coto',\n",
       "  'Laci',\n",
       "  'Coto',\n",
       "  'Coto',\n",
       "  'Coto',\n",
       "  'Coto',\n",
       "  'Coto',\n",
       "  'Laci',\n",
       "  'Laci',\n",
       "  'Laci',\n",
       "  'Coto',\n",
       "  'Coto',\n",
       "  'Coto',\n",
       "  'Coto',\n",
       "  'Coto'],\n",
       " ['Laci',\n",
       "  'Anpa',\n",
       "  'Anpa',\n",
       "  'Coto',\n",
       "  'Laci',\n",
       "  'Anpa',\n",
       "  'Coto',\n",
       "  'Laci',\n",
       "  'Anpa',\n",
       "  'Laci'],\n",
       " ['Laci', 'Anpa'],\n",
       " ['Laci', 'Coto', 'Anpa', 'Laci'],\n",
       " 'ERROR',\n",
       " ['Laci', 'Coto', 'Laci'],\n",
       " ['Anpa', 'Laci'],\n",
       " ['Laci', 'Coto', 'Anpa', 'Laci', 'Laci'],\n",
       " ['Coto', 'Anpa', 'Laci', 'Coto', 'Laci', 'Laci', 'Coto', 'Laci', 'Anpa']]"
      ]
     },
     "execution_count": 270,
     "metadata": {},
     "output_type": "execute_result"
    }
   ],
   "source": [
    "# run prediction on all files\n",
    "predictions = []\n",
    "for filename in os.listdir(det_dir):\n",
    "    try:\n",
    "        y_hat = predict_by_pulse(filename, det_dir, audio_dir, output_dir, cutoff_prob, cluster_assigns)\n",
    "        predictions.append(y_hat)\n",
    "    except:\n",
    "        predictions.append(\"ERROR\") # current problem when there's only 1 valid slice\n",
    "        \n",
    "predictions"
   ]
  },
  {
   "cell_type": "code",
   "execution_count": 271,
   "metadata": {},
   "outputs": [
    {
     "data": {
      "text/plain": [
       "{'Coto': 77.778, 'Anpa': 88.889, 'Laci': 100.0}"
      ]
     },
     "execution_count": 271,
     "metadata": {},
     "output_type": "execute_result"
    }
   ],
   "source": [
    "HR_by_species = {}\n",
    "\n",
    "for test_species in [\"Coto\", \"Anpa\", \"Laci\"]:\n",
    "    n_samples = 0\n",
    "    n_correct = 0\n",
    "\n",
    "    for i, filename in enumerate(os.listdir(det_dir)):\n",
    "        true_species = filename[-8:-4] \n",
    "        \n",
    "        if predictions[i] == \"ERROR\": # current error for when only one pulse is detected, skip for now\n",
    "            continue\n",
    "            \n",
    "        if true_species != test_species:\n",
    "            continue\n",
    "\n",
    "        n_samples += 1\n",
    "        if true_species in predictions[i]:\n",
    "            n_correct += 1\n",
    "\n",
    "        HR = round(n_correct / n_samples * 100, 3)\n",
    "        HR_by_species[test_species] = HR\n",
    "        \n",
    "HR_by_species"
   ]
  },
  {
   "cell_type": "code",
   "execution_count": 272,
   "metadata": {},
   "outputs": [
    {
     "data": {
      "text/plain": [
       "{'Coto': 0.882, 'Anpa': 0.824, 'Laci': 0.889}"
      ]
     },
     "execution_count": 272,
     "metadata": {},
     "output_type": "execute_result"
    }
   ],
   "source": [
    "# false positive rate\n",
    "# FP / FP + TN\n",
    "# for a specific species\n",
    "# over each audio file\n",
    "# num times predict wrong / num times predict wrong + num times didn't predict correctly\n",
    "\n",
    "FPR_by_species = {}\n",
    "\n",
    "for test_species in [\"Coto\", \"Anpa\", \"Laci\"]:\n",
    "    FP = 0\n",
    "    TN = 0\n",
    "\n",
    "    for i, filename in enumerate(os.listdir(det_dir)):\n",
    "        true_species = filename[-8:-4] # get species name from wav file name\n",
    "\n",
    "        if predictions[i] == \"ERROR\": # current error for when only one pulse is detected, skip for now\n",
    "            continue\n",
    "\n",
    "        if test_species in predictions[i] and test_species != true_species:\n",
    "            FP += 1\n",
    "\n",
    "        if test_species not in predictions[i] and test_species != true_species:\n",
    "            TN += 1\n",
    "        \n",
    "    FPR = FP / (FP + TN)\n",
    "    FPR = round(FPR, 3)\n",
    "    \n",
    "    FPR_by_species[test_species] = FPR\n",
    "    \n",
    "FPR_by_species"
   ]
  },
  {
   "cell_type": "markdown",
   "metadata": {},
   "source": [
    "# Tests"
   ]
  },
  {
   "cell_type": "code",
   "execution_count": 302,
   "metadata": {},
   "outputs": [],
   "source": [
    "def compute_lfcc2(audio_file):\n",
    "    \"\"\"\n",
    "    Compute linear frequency cepstral coefficient of an audio file\n",
    "    \"\"\"\n",
    "    waveform, sample_rate = torchaudio.load(audio_file, normalize=True)\n",
    "    transform = transforms.LFCC(\n",
    "        sample_rate=sample_rate,\n",
    "        n_lfcc=24,\n",
    "        log_lf=True,\n",
    "        dct_type=dct.dct\n",
    "        # n_lfcc=13,\n",
    "        # speckwargs={\"n_fft\": 400, \"hop_length\": 160, \"center\": False},\n",
    "    )\n",
    "\n",
    "    lfcc = transform(waveform)\n",
    "    return lfcc"
   ]
  },
  {
   "cell_type": "code",
   "execution_count": 297,
   "metadata": {},
   "outputs": [],
   "source": [
    "import torch_dct as dct"
   ]
  },
  {
   "cell_type": "code",
   "execution_count": 296,
   "metadata": {},
   "outputs": [
    {
     "name": "stdout",
     "output_type": "stream",
     "text": [
      "Collecting torch_dct\n",
      "  Downloading torch_dct-0.1.6-py3-none-any.whl (5.1 kB)\n",
      "Requirement already satisfied: torch>=0.4.1 in /home/avhuynh/anaconda3/lib/python3.9/site-packages/torch-1.13.1-py3.9-linux-x86_64.egg (from torch_dct) (1.13.1)\n",
      "Requirement already satisfied: typing-extensions in /home/avhuynh/anaconda3/lib/python3.9/site-packages (from torch>=0.4.1->torch_dct) (4.3.0)\n",
      "Requirement already satisfied: nvidia-cuda-runtime-cu11==11.7.99 in /home/avhuynh/anaconda3/lib/python3.9/site-packages/nvidia_cuda_runtime_cu11-11.7.99-py3.9-linux-x86_64.egg (from torch>=0.4.1->torch_dct) (11.7.99)\n",
      "Requirement already satisfied: nvidia-cudnn-cu11==8.5.0.96 in /home/avhuynh/anaconda3/lib/python3.9/site-packages/nvidia_cudnn_cu11-8.5.0.96-py3.9-linux-x86_64.egg (from torch>=0.4.1->torch_dct) (8.5.0.96)\n",
      "Requirement already satisfied: nvidia-cublas-cu11==11.10.3.66 in /home/avhuynh/anaconda3/lib/python3.9/site-packages/nvidia_cublas_cu11-11.10.3.66-py3.9-linux-x86_64.egg (from torch>=0.4.1->torch_dct) (11.10.3.66)\n",
      "Requirement already satisfied: nvidia-cuda-nvrtc-cu11==11.7.99 in /home/avhuynh/anaconda3/lib/python3.9/site-packages/nvidia_cuda_nvrtc_cu11-11.7.99-py3.9-linux-x86_64.egg (from torch>=0.4.1->torch_dct) (11.7.99)\n",
      "Requirement already satisfied: setuptools in /home/avhuynh/anaconda3/lib/python3.9/site-packages (from nvidia-cublas-cu11==11.10.3.66->torch>=0.4.1->torch_dct) (63.4.1)\n",
      "Requirement already satisfied: wheel in /home/avhuynh/anaconda3/lib/python3.9/site-packages (from nvidia-cublas-cu11==11.10.3.66->torch>=0.4.1->torch_dct) (0.37.1)\n",
      "Installing collected packages: torch_dct\n",
      "Successfully installed torch_dct-0.1.6\n"
     ]
    }
   ],
   "source": [
    "!pip install torch_dct"
   ]
  },
  {
   "cell_type": "code",
   "execution_count": 303,
   "metadata": {},
   "outputs": [
    {
     "ename": "ValueError",
     "evalue": "DCT type not supported: <function dct at 0x7ff46b6d99d0>",
     "output_type": "error",
     "traceback": [
      "\u001b[0;31m---------------------------------------------------------------------------\u001b[0m",
      "\u001b[0;31mValueError\u001b[0m                                Traceback (most recent call last)",
      "\u001b[0;32m/tmp/ipykernel_418/4070273268.py\u001b[0m in \u001b[0;36m<module>\u001b[0;34m\u001b[0m\n\u001b[1;32m      4\u001b[0m \u001b[0;34m\u001b[0m\u001b[0m\n\u001b[1;32m      5\u001b[0m \u001b[0mwaveform\u001b[0m\u001b[0;34m,\u001b[0m \u001b[0msample_rate\u001b[0m \u001b[0;34m=\u001b[0m \u001b[0mtorchaudio\u001b[0m\u001b[0;34m.\u001b[0m\u001b[0mload\u001b[0m\u001b[0;34m(\u001b[0m\u001b[0mpath\u001b[0m\u001b[0;34m,\u001b[0m \u001b[0mnormalize\u001b[0m\u001b[0;34m=\u001b[0m\u001b[0;32mTrue\u001b[0m\u001b[0;34m)\u001b[0m\u001b[0;34m\u001b[0m\u001b[0;34m\u001b[0m\u001b[0m\n\u001b[0;32m----> 6\u001b[0;31m \u001b[0moutput\u001b[0m \u001b[0;34m=\u001b[0m \u001b[0mcompute_lfcc2\u001b[0m\u001b[0;34m(\u001b[0m\u001b[0mpath\u001b[0m\u001b[0;34m)\u001b[0m\u001b[0;34m\u001b[0m\u001b[0;34m\u001b[0m\u001b[0m\n\u001b[0m",
      "\u001b[0;32m/tmp/ipykernel_418/3116310976.py\u001b[0m in \u001b[0;36mcompute_lfcc2\u001b[0;34m(audio_file)\u001b[0m\n\u001b[1;32m      4\u001b[0m     \"\"\"\n\u001b[1;32m      5\u001b[0m     \u001b[0mwaveform\u001b[0m\u001b[0;34m,\u001b[0m \u001b[0msample_rate\u001b[0m \u001b[0;34m=\u001b[0m \u001b[0mtorchaudio\u001b[0m\u001b[0;34m.\u001b[0m\u001b[0mload\u001b[0m\u001b[0;34m(\u001b[0m\u001b[0maudio_file\u001b[0m\u001b[0;34m,\u001b[0m \u001b[0mnormalize\u001b[0m\u001b[0;34m=\u001b[0m\u001b[0;32mTrue\u001b[0m\u001b[0;34m)\u001b[0m\u001b[0;34m\u001b[0m\u001b[0;34m\u001b[0m\u001b[0m\n\u001b[0;32m----> 6\u001b[0;31m     transform = transforms.LFCC(\n\u001b[0m\u001b[1;32m      7\u001b[0m         \u001b[0msample_rate\u001b[0m\u001b[0;34m=\u001b[0m\u001b[0msample_rate\u001b[0m\u001b[0;34m,\u001b[0m\u001b[0;34m\u001b[0m\u001b[0;34m\u001b[0m\u001b[0m\n\u001b[1;32m      8\u001b[0m         \u001b[0mn_lfcc\u001b[0m\u001b[0;34m=\u001b[0m\u001b[0;36m24\u001b[0m\u001b[0;34m,\u001b[0m\u001b[0;34m\u001b[0m\u001b[0;34m\u001b[0m\u001b[0m\n",
      "\u001b[0;32m~/anaconda3/lib/python3.9/site-packages/torchaudio-0.13.1-py3.9-linux-x86_64.egg/torchaudio/transforms/_transforms.py\u001b[0m in \u001b[0;36m__init__\u001b[0;34m(self, sample_rate, n_filter, f_min, f_max, n_lfcc, dct_type, norm, log_lf, speckwargs)\u001b[0m\n\u001b[1;32m    788\u001b[0m         \u001b[0msupported_dct_types\u001b[0m \u001b[0;34m=\u001b[0m \u001b[0;34m[\u001b[0m\u001b[0;36m2\u001b[0m\u001b[0;34m]\u001b[0m\u001b[0;34m\u001b[0m\u001b[0;34m\u001b[0m\u001b[0m\n\u001b[1;32m    789\u001b[0m         \u001b[0;32mif\u001b[0m \u001b[0mdct_type\u001b[0m \u001b[0;32mnot\u001b[0m \u001b[0;32min\u001b[0m \u001b[0msupported_dct_types\u001b[0m\u001b[0;34m:\u001b[0m\u001b[0;34m\u001b[0m\u001b[0;34m\u001b[0m\u001b[0m\n\u001b[0;32m--> 790\u001b[0;31m             \u001b[0;32mraise\u001b[0m \u001b[0mValueError\u001b[0m\u001b[0;34m(\u001b[0m\u001b[0;34m\"DCT type not supported: {}\"\u001b[0m\u001b[0;34m.\u001b[0m\u001b[0mformat\u001b[0m\u001b[0;34m(\u001b[0m\u001b[0mdct_type\u001b[0m\u001b[0;34m)\u001b[0m\u001b[0;34m)\u001b[0m\u001b[0;34m\u001b[0m\u001b[0;34m\u001b[0m\u001b[0m\n\u001b[0m\u001b[1;32m    791\u001b[0m         \u001b[0mself\u001b[0m\u001b[0;34m.\u001b[0m\u001b[0msample_rate\u001b[0m \u001b[0;34m=\u001b[0m \u001b[0msample_rate\u001b[0m\u001b[0;34m\u001b[0m\u001b[0;34m\u001b[0m\u001b[0m\n\u001b[1;32m    792\u001b[0m         \u001b[0mself\u001b[0m\u001b[0;34m.\u001b[0m\u001b[0mf_min\u001b[0m \u001b[0;34m=\u001b[0m \u001b[0mf_min\u001b[0m\u001b[0;34m\u001b[0m\u001b[0;34m\u001b[0m\u001b[0m\n",
      "\u001b[0;31mValueError\u001b[0m: DCT type not supported: <function dct at 0x7ff46b6d99d0>"
     ]
    }
   ],
   "source": [
    "audio_dir = './audio_slices'\n",
    "files = os.listdir(audio_dir)\n",
    "path = os.path.join(audio_dir, files[12])\n",
    "\n",
    "waveform, sample_rate = torchaudio.load(path, normalize=True)\n",
    "output = compute_lfcc2(path)"
   ]
  },
  {
   "cell_type": "code",
   "execution_count": 283,
   "metadata": {},
   "outputs": [
    {
     "data": {
      "text/plain": [
       "torch.Size([1, 208])"
      ]
     },
     "execution_count": 283,
     "metadata": {},
     "output_type": "execute_result"
    }
   ],
   "source": [
    "waveform.shape"
   ]
  },
  {
   "cell_type": "code",
   "execution_count": 284,
   "metadata": {},
   "outputs": [
    {
     "data": {
      "text/plain": [
       "torch.Size([1, 24, 2])"
      ]
     },
     "execution_count": 284,
     "metadata": {},
     "output_type": "execute_result"
    }
   ],
   "source": [
    "output.shape"
   ]
  },
  {
   "cell_type": "code",
   "execution_count": null,
   "metadata": {
    "scrolled": false
   },
   "outputs": [],
   "source": [
    "ns = [2, 3]\n",
    "perplexities = [5, 10, 15]\n",
    "iters = [1000, 2000, 3000]\n",
    "\n",
    "for n in ns:\n",
    "    for p in perplexities:\n",
    "        for i in iters:\n",
    "            print('n_components: ', n)\n",
    "            print('perplexity: ', p)\n",
    "            print('n_iters: ', i)\n",
    "            \n",
    "            X_embedded = TSNE(n_components=n,\n",
    "                                learning_rate='auto',\n",
    "                                init='random',\n",
    "                                perplexity=p,\n",
    "                                n_iter=i\n",
    "                             ).fit_transform(X)\n",
    "            \n",
    "            fig = px.scatter(X_embedded, x=0, y=1, color=Y)\n",
    "            fig.show()"
   ]
  },
  {
   "cell_type": "code",
   "execution_count": null,
   "metadata": {},
   "outputs": [],
   "source": [
    "inertias = []\n",
    "for i in range(1,11):\n",
    "    kmeans = KMeans(n_clusters=i)\n",
    "    kmeans.fit(X_embedded)\n",
    "    inertias.append(kmeans.inertia_)\n",
    "\n",
    "plt.plot(range(1,11), inertias, marker='o')\n",
    "plt.title('Elbow method')\n",
    "plt.xlabel('Number of clusters')\n",
    "plt.ylabel('Inertia')\n",
    "plt.show()"
   ]
  },
  {
   "cell_type": "code",
   "execution_count": 47,
   "metadata": {},
   "outputs": [
    {
     "ename": "TypeError",
     "evalue": "predict() missing 1 required positional argument: 'cluster_assigns'",
     "output_type": "error",
     "traceback": [
      "\u001b[0;31m---------------------------------------------------------------------------\u001b[0m",
      "\u001b[0;31mTypeError\u001b[0m                                 Traceback (most recent call last)",
      "\u001b[0;32m/tmp/ipykernel_418/1455557212.py\u001b[0m in \u001b[0;36m<module>\u001b[0;34m\u001b[0m\n\u001b[1;32m      5\u001b[0m \u001b[0mcutoff_prob\u001b[0m \u001b[0;34m=\u001b[0m \u001b[0;36m0.4\u001b[0m\u001b[0;34m\u001b[0m\u001b[0;34m\u001b[0m\u001b[0m\n\u001b[1;32m      6\u001b[0m \u001b[0;34m\u001b[0m\u001b[0m\n\u001b[0;32m----> 7\u001b[0;31m \u001b[0mpredict\u001b[0m\u001b[0;34m(\u001b[0m\u001b[0mfilename\u001b[0m\u001b[0;34m,\u001b[0m \u001b[0mdet_dir\u001b[0m\u001b[0;34m,\u001b[0m \u001b[0maudio_dir\u001b[0m\u001b[0;34m,\u001b[0m \u001b[0moutput_dir\u001b[0m\u001b[0;34m,\u001b[0m \u001b[0mcutoff_prob\u001b[0m\u001b[0;34m)\u001b[0m\u001b[0;34m\u001b[0m\u001b[0;34m\u001b[0m\u001b[0m\n\u001b[0m",
      "\u001b[0;31mTypeError\u001b[0m: predict() missing 1 required positional argument: 'cluster_assigns'"
     ]
    }
   ],
   "source": [
    "filename = 'barn1_D20220723T000059m428-Coto.csv'\n",
    "det_dir = './detections/'\n",
    "audio_dir = '../test_audio/'\n",
    "output_dir = './prediction_slices/'\n",
    "cutoff_prob = 0.4\n",
    "\n",
    "predict(filename, det_dir, audio_dir, output_dir, cutoff_prob)"
   ]
  },
  {
   "cell_type": "code",
   "execution_count": null,
   "metadata": {},
   "outputs": [],
   "source": [
    "def label_to_color(Y):\n",
    "    labels = []\n",
    "    for species in Y:\n",
    "        if species == \"Coto\": labels.append(0)\n",
    "        if species == \"Laci\": labels.append(1)\n",
    "        if species == \"Anpa\": labels.append(2)\n",
    "    return np.array(labels)\n",
    "\n",
    "plt.scatter(X_embedded[:,0], X_embedded[:,1], c=kmeans.labels_)\n",
    "plt.show()\n",
    "\n",
    "plt.scatter(X_embedded[:,0], X_embedded[:,1], c=label_to_marker(Y))\n",
    "plt.show()"
   ]
  },
  {
   "cell_type": "code",
   "execution_count": null,
   "metadata": {},
   "outputs": [],
   "source": [
    "os.getcwd()"
   ]
  },
  {
   "cell_type": "code",
   "execution_count": null,
   "metadata": {},
   "outputs": [],
   "source": [
    "Y"
   ]
  },
  {
   "cell_type": "code",
   "execution_count": null,
   "metadata": {},
   "outputs": [],
   "source": []
  }
 ],
 "metadata": {
  "kernelspec": {
   "display_name": "Python [conda env:root] *",
   "language": "python",
   "name": "conda-root-py"
  },
  "language_info": {
   "codemirror_mode": {
    "name": "ipython",
    "version": 3
   },
   "file_extension": ".py",
   "mimetype": "text/x-python",
   "name": "python",
   "nbconvert_exporter": "python",
   "pygments_lexer": "ipython3",
   "version": "3.9.13"
  }
 },
 "nbformat": 4,
 "nbformat_minor": 2
}
