{
 "cells": [
  {
   "cell_type": "code",
   "execution_count": 2,
   "metadata": {},
   "outputs": [],
   "source": [
    "import pandas as pd\n",
    "from sklearn.decomposition import PCA\n",
    "from sklearn.manifold import TSNE\n",
    "import matplotlib.pyplot as plt\n",
    "import seaborn as sns\n",
    "import plotly.express as px"
   ]
  },
  {
   "cell_type": "code",
   "execution_count": 3,
   "metadata": {},
   "outputs": [],
   "source": [
    "# df = pd.read_csv('../test_audio_CumulativeSonoBatch_v4.4.5.txt', sep='\\t')\n",
    "df = pd.read_csv('../test_audio_Parameters_v4.4.5.txt', sep='\\t')\n",
    "df.to_csv('sonobat_pulse_features_for_30_recordings.csv')"
   ]
  },
  {
   "cell_type": "code",
   "execution_count": 4,
   "metadata": {},
   "outputs": [
    {
     "data": {
      "text/html": [
       "<div>\n",
       "<style scoped>\n",
       "    .dataframe tbody tr th:only-of-type {\n",
       "        vertical-align: middle;\n",
       "    }\n",
       "\n",
       "    .dataframe tbody tr th {\n",
       "        vertical-align: top;\n",
       "    }\n",
       "\n",
       "    .dataframe thead th {\n",
       "        text-align: right;\n",
       "    }\n",
       "</style>\n",
       "<table border=\"1\" class=\"dataframe\">\n",
       "  <thead>\n",
       "    <tr style=\"text-align: right;\">\n",
       "      <th></th>\n",
       "      <th>Path</th>\n",
       "      <th>Filename</th>\n",
       "      <th>TimeInFile</th>\n",
       "      <th>PrecedingIntrvl</th>\n",
       "      <th>CallsPerSec</th>\n",
       "      <th>CallDuration</th>\n",
       "      <th>Fc</th>\n",
       "      <th>HiFreq</th>\n",
       "      <th>LowFreq</th>\n",
       "      <th>Bndwdth</th>\n",
       "      <th>...</th>\n",
       "      <th>RelPwr2ndTo1st</th>\n",
       "      <th>RelPwr3rdTo1st</th>\n",
       "      <th>ParentDir</th>\n",
       "      <th>NextDirUp</th>\n",
       "      <th>Version</th>\n",
       "      <th>Filter</th>\n",
       "      <th>Preemphasis</th>\n",
       "      <th>MinAccpQuality</th>\n",
       "      <th>MaxSegLngth</th>\n",
       "      <th>Max#CallsConsidered</th>\n",
       "    </tr>\n",
       "  </thead>\n",
       "  <tbody>\n",
       "    <tr>\n",
       "      <th>0</th>\n",
       "      <td>C:\\Users\\Owner\\Desktop\\bats\\src\\test_audio\\bar...</td>\n",
       "      <td>barn1_D20220723T000059m428-Coto.wav</td>\n",
       "      <td>515</td>\n",
       "      <td>48</td>\n",
       "      <td>9.990783</td>\n",
       "      <td>5.800177</td>\n",
       "      <td>30.721317</td>\n",
       "      <td>46.543086</td>\n",
       "      <td>24.877343</td>\n",
       "      <td>21.665743</td>\n",
       "      <td>...</td>\n",
       "      <td>0.268145</td>\n",
       "      <td>0.0</td>\n",
       "      <td>test_audio</td>\n",
       "      <td>src</td>\n",
       "      <td>4.4.5</td>\n",
       "      <td>5 kHz</td>\n",
       "      <td>medium</td>\n",
       "      <td>0.8</td>\n",
       "      <td>0.5 sec</td>\n",
       "      <td>32</td>\n",
       "    </tr>\n",
       "    <tr>\n",
       "      <th>1</th>\n",
       "      <td>C:\\Users\\Owner\\Desktop\\bats\\src\\test_audio\\bar...</td>\n",
       "      <td>barn1_D20220723T000059m428-Coto.wav</td>\n",
       "      <td>469</td>\n",
       "      <td>45</td>\n",
       "      <td>9.990783</td>\n",
       "      <td>5.934510</td>\n",
       "      <td>31.952577</td>\n",
       "      <td>56.529694</td>\n",
       "      <td>30.871884</td>\n",
       "      <td>25.657810</td>\n",
       "      <td>...</td>\n",
       "      <td>0.550883</td>\n",
       "      <td>0.0</td>\n",
       "      <td>test_audio</td>\n",
       "      <td>src</td>\n",
       "      <td>4.4.5</td>\n",
       "      <td>5 kHz</td>\n",
       "      <td>medium</td>\n",
       "      <td>0.8</td>\n",
       "      <td>0.5 sec</td>\n",
       "      <td>32</td>\n",
       "    </tr>\n",
       "    <tr>\n",
       "      <th>2</th>\n",
       "      <td>C:\\Users\\Owner\\Desktop\\bats\\src\\test_audio\\bar...</td>\n",
       "      <td>barn1_D20220723T000059m428-Coto.wav</td>\n",
       "      <td>865</td>\n",
       "      <td>159</td>\n",
       "      <td>9.990783</td>\n",
       "      <td>5.335590</td>\n",
       "      <td>31.774967</td>\n",
       "      <td>57.626177</td>\n",
       "      <td>30.870894</td>\n",
       "      <td>26.755283</td>\n",
       "      <td>...</td>\n",
       "      <td>0.656476</td>\n",
       "      <td>0.0</td>\n",
       "      <td>test_audio</td>\n",
       "      <td>src</td>\n",
       "      <td>4.4.5</td>\n",
       "      <td>5 kHz</td>\n",
       "      <td>medium</td>\n",
       "      <td>0.8</td>\n",
       "      <td>0.5 sec</td>\n",
       "      <td>32</td>\n",
       "    </tr>\n",
       "    <tr>\n",
       "      <th>3</th>\n",
       "      <td>C:\\Users\\Owner\\Desktop\\bats\\src\\test_audio\\bar...</td>\n",
       "      <td>barn1_D20220723T000059m428-Coto.wav</td>\n",
       "      <td>3995</td>\n",
       "      <td>374</td>\n",
       "      <td>9.990783</td>\n",
       "      <td>6.510984</td>\n",
       "      <td>32.332951</td>\n",
       "      <td>56.705444</td>\n",
       "      <td>30.580920</td>\n",
       "      <td>26.124524</td>\n",
       "      <td>...</td>\n",
       "      <td>0.598212</td>\n",
       "      <td>0.0</td>\n",
       "      <td>test_audio</td>\n",
       "      <td>src</td>\n",
       "      <td>4.4.5</td>\n",
       "      <td>5 kHz</td>\n",
       "      <td>medium</td>\n",
       "      <td>0.8</td>\n",
       "      <td>0.5 sec</td>\n",
       "      <td>32</td>\n",
       "    </tr>\n",
       "    <tr>\n",
       "      <th>4</th>\n",
       "      <td>C:\\Users\\Owner\\Desktop\\bats\\src\\test_audio\\bar...</td>\n",
       "      <td>barn1_D20220723T000059m428-Coto.wav</td>\n",
       "      <td>107</td>\n",
       "      <td>25</td>\n",
       "      <td>9.990783</td>\n",
       "      <td>4.034267</td>\n",
       "      <td>19.629609</td>\n",
       "      <td>43.862460</td>\n",
       "      <td>19.424983</td>\n",
       "      <td>24.437478</td>\n",
       "      <td>...</td>\n",
       "      <td>0.586246</td>\n",
       "      <td>0.0</td>\n",
       "      <td>test_audio</td>\n",
       "      <td>src</td>\n",
       "      <td>4.4.5</td>\n",
       "      <td>5 kHz</td>\n",
       "      <td>medium</td>\n",
       "      <td>0.8</td>\n",
       "      <td>0.5 sec</td>\n",
       "      <td>32</td>\n",
       "    </tr>\n",
       "    <tr>\n",
       "      <th>...</th>\n",
       "      <td>...</td>\n",
       "      <td>...</td>\n",
       "      <td>...</td>\n",
       "      <td>...</td>\n",
       "      <td>...</td>\n",
       "      <td>...</td>\n",
       "      <td>...</td>\n",
       "      <td>...</td>\n",
       "      <td>...</td>\n",
       "      <td>...</td>\n",
       "      <td>...</td>\n",
       "      <td>...</td>\n",
       "      <td>...</td>\n",
       "      <td>...</td>\n",
       "      <td>...</td>\n",
       "      <td>...</td>\n",
       "      <td>...</td>\n",
       "      <td>...</td>\n",
       "      <td>...</td>\n",
       "      <td>...</td>\n",
       "      <td>...</td>\n",
       "    </tr>\n",
       "    <tr>\n",
       "      <th>688</th>\n",
       "      <td>C:\\Users\\Owner\\Desktop\\bats\\src\\test_audio\\bar...</td>\n",
       "      <td>barn1_D20220723T215748m724-Anpa.wav</td>\n",
       "      <td>643</td>\n",
       "      <td>110</td>\n",
       "      <td>6.698429</td>\n",
       "      <td>6.018848</td>\n",
       "      <td>29.955968</td>\n",
       "      <td>63.004498</td>\n",
       "      <td>29.835913</td>\n",
       "      <td>33.168584</td>\n",
       "      <td>...</td>\n",
       "      <td>0.553432</td>\n",
       "      <td>0.0</td>\n",
       "      <td>test_audio</td>\n",
       "      <td>src</td>\n",
       "      <td>4.4.5</td>\n",
       "      <td>5 kHz</td>\n",
       "      <td>medium</td>\n",
       "      <td>0.8</td>\n",
       "      <td>0.5 sec</td>\n",
       "      <td>32</td>\n",
       "    </tr>\n",
       "    <tr>\n",
       "      <th>689</th>\n",
       "      <td>C:\\Users\\Owner\\Desktop\\bats\\src\\test_audio\\bar...</td>\n",
       "      <td>barn1_D20220723T215748m724-Anpa.wav</td>\n",
       "      <td>2674</td>\n",
       "      <td>183</td>\n",
       "      <td>6.698429</td>\n",
       "      <td>5.956305</td>\n",
       "      <td>29.888851</td>\n",
       "      <td>63.800558</td>\n",
       "      <td>29.508762</td>\n",
       "      <td>34.291796</td>\n",
       "      <td>...</td>\n",
       "      <td>0.550367</td>\n",
       "      <td>0.0</td>\n",
       "      <td>test_audio</td>\n",
       "      <td>src</td>\n",
       "      <td>4.4.5</td>\n",
       "      <td>5 kHz</td>\n",
       "      <td>medium</td>\n",
       "      <td>0.8</td>\n",
       "      <td>0.5 sec</td>\n",
       "      <td>32</td>\n",
       "    </tr>\n",
       "    <tr>\n",
       "      <th>690</th>\n",
       "      <td>C:\\Users\\Owner\\Desktop\\bats\\src\\test_audio\\bar...</td>\n",
       "      <td>barn1_D20220723T215748m724-Anpa.wav</td>\n",
       "      <td>2201</td>\n",
       "      <td>599</td>\n",
       "      <td>6.698429</td>\n",
       "      <td>3.897232</td>\n",
       "      <td>30.208108</td>\n",
       "      <td>62.016239</td>\n",
       "      <td>30.150512</td>\n",
       "      <td>31.865727</td>\n",
       "      <td>...</td>\n",
       "      <td>0.450351</td>\n",
       "      <td>0.0</td>\n",
       "      <td>test_audio</td>\n",
       "      <td>src</td>\n",
       "      <td>4.4.5</td>\n",
       "      <td>5 kHz</td>\n",
       "      <td>medium</td>\n",
       "      <td>0.8</td>\n",
       "      <td>0.5 sec</td>\n",
       "      <td>32</td>\n",
       "    </tr>\n",
       "    <tr>\n",
       "      <th>691</th>\n",
       "      <td>C:\\Users\\Owner\\Desktop\\bats\\src\\test_audio\\bar...</td>\n",
       "      <td>barn1_D20220723T215748m724-Anpa.wav</td>\n",
       "      <td>177</td>\n",
       "      <td>174</td>\n",
       "      <td>6.698429</td>\n",
       "      <td>5.609381</td>\n",
       "      <td>29.222841</td>\n",
       "      <td>53.043077</td>\n",
       "      <td>28.985910</td>\n",
       "      <td>24.057167</td>\n",
       "      <td>...</td>\n",
       "      <td>0.345128</td>\n",
       "      <td>0.0</td>\n",
       "      <td>test_audio</td>\n",
       "      <td>src</td>\n",
       "      <td>4.4.5</td>\n",
       "      <td>5 kHz</td>\n",
       "      <td>medium</td>\n",
       "      <td>0.8</td>\n",
       "      <td>0.5 sec</td>\n",
       "      <td>32</td>\n",
       "    </tr>\n",
       "    <tr>\n",
       "      <th>692</th>\n",
       "      <td>C:\\Users\\Owner\\Desktop\\bats\\src\\test_audio\\bar...</td>\n",
       "      <td>barn1_D20220723T215748m724-Anpa.wav</td>\n",
       "      <td>1129</td>\n",
       "      <td>196</td>\n",
       "      <td>6.698429</td>\n",
       "      <td>5.077084</td>\n",
       "      <td>30.750668</td>\n",
       "      <td>63.306031</td>\n",
       "      <td>30.739908</td>\n",
       "      <td>32.566123</td>\n",
       "      <td>...</td>\n",
       "      <td>0.643165</td>\n",
       "      <td>0.0</td>\n",
       "      <td>test_audio</td>\n",
       "      <td>src</td>\n",
       "      <td>4.4.5</td>\n",
       "      <td>5 kHz</td>\n",
       "      <td>medium</td>\n",
       "      <td>0.8</td>\n",
       "      <td>0.5 sec</td>\n",
       "      <td>32</td>\n",
       "    </tr>\n",
       "  </tbody>\n",
       "</table>\n",
       "<p>693 rows × 114 columns</p>\n",
       "</div>"
      ],
      "text/plain": [
       "                                                  Path  \\\n",
       "0    C:\\Users\\Owner\\Desktop\\bats\\src\\test_audio\\bar...   \n",
       "1    C:\\Users\\Owner\\Desktop\\bats\\src\\test_audio\\bar...   \n",
       "2    C:\\Users\\Owner\\Desktop\\bats\\src\\test_audio\\bar...   \n",
       "3    C:\\Users\\Owner\\Desktop\\bats\\src\\test_audio\\bar...   \n",
       "4    C:\\Users\\Owner\\Desktop\\bats\\src\\test_audio\\bar...   \n",
       "..                                                 ...   \n",
       "688  C:\\Users\\Owner\\Desktop\\bats\\src\\test_audio\\bar...   \n",
       "689  C:\\Users\\Owner\\Desktop\\bats\\src\\test_audio\\bar...   \n",
       "690  C:\\Users\\Owner\\Desktop\\bats\\src\\test_audio\\bar...   \n",
       "691  C:\\Users\\Owner\\Desktop\\bats\\src\\test_audio\\bar...   \n",
       "692  C:\\Users\\Owner\\Desktop\\bats\\src\\test_audio\\bar...   \n",
       "\n",
       "                                Filename  TimeInFile  PrecedingIntrvl  \\\n",
       "0    barn1_D20220723T000059m428-Coto.wav         515               48   \n",
       "1    barn1_D20220723T000059m428-Coto.wav         469               45   \n",
       "2    barn1_D20220723T000059m428-Coto.wav         865              159   \n",
       "3    barn1_D20220723T000059m428-Coto.wav        3995              374   \n",
       "4    barn1_D20220723T000059m428-Coto.wav         107               25   \n",
       "..                                   ...         ...              ...   \n",
       "688  barn1_D20220723T215748m724-Anpa.wav         643              110   \n",
       "689  barn1_D20220723T215748m724-Anpa.wav        2674              183   \n",
       "690  barn1_D20220723T215748m724-Anpa.wav        2201              599   \n",
       "691  barn1_D20220723T215748m724-Anpa.wav         177              174   \n",
       "692  barn1_D20220723T215748m724-Anpa.wav        1129              196   \n",
       "\n",
       "     CallsPerSec  CallDuration         Fc     HiFreq    LowFreq    Bndwdth  \\\n",
       "0       9.990783      5.800177  30.721317  46.543086  24.877343  21.665743   \n",
       "1       9.990783      5.934510  31.952577  56.529694  30.871884  25.657810   \n",
       "2       9.990783      5.335590  31.774967  57.626177  30.870894  26.755283   \n",
       "3       9.990783      6.510984  32.332951  56.705444  30.580920  26.124524   \n",
       "4       9.990783      4.034267  19.629609  43.862460  19.424983  24.437478   \n",
       "..           ...           ...        ...        ...        ...        ...   \n",
       "688     6.698429      6.018848  29.955968  63.004498  29.835913  33.168584   \n",
       "689     6.698429      5.956305  29.888851  63.800558  29.508762  34.291796   \n",
       "690     6.698429      3.897232  30.208108  62.016239  30.150512  31.865727   \n",
       "691     6.698429      5.609381  29.222841  53.043077  28.985910  24.057167   \n",
       "692     6.698429      5.077084  30.750668  63.306031  30.739908  32.566123   \n",
       "\n",
       "     ...  RelPwr2ndTo1st  RelPwr3rdTo1st   ParentDir  NextDirUp  Version  \\\n",
       "0    ...        0.268145             0.0  test_audio        src    4.4.5   \n",
       "1    ...        0.550883             0.0  test_audio        src    4.4.5   \n",
       "2    ...        0.656476             0.0  test_audio        src    4.4.5   \n",
       "3    ...        0.598212             0.0  test_audio        src    4.4.5   \n",
       "4    ...        0.586246             0.0  test_audio        src    4.4.5   \n",
       "..   ...             ...             ...         ...        ...      ...   \n",
       "688  ...        0.553432             0.0  test_audio        src    4.4.5   \n",
       "689  ...        0.550367             0.0  test_audio        src    4.4.5   \n",
       "690  ...        0.450351             0.0  test_audio        src    4.4.5   \n",
       "691  ...        0.345128             0.0  test_audio        src    4.4.5   \n",
       "692  ...        0.643165             0.0  test_audio        src    4.4.5   \n",
       "\n",
       "     Filter  Preemphasis  MinAccpQuality  MaxSegLngth  Max#CallsConsidered  \n",
       "0     5 kHz       medium             0.8      0.5 sec                   32  \n",
       "1     5 kHz       medium             0.8      0.5 sec                   32  \n",
       "2     5 kHz       medium             0.8      0.5 sec                   32  \n",
       "3     5 kHz       medium             0.8      0.5 sec                   32  \n",
       "4     5 kHz       medium             0.8      0.5 sec                   32  \n",
       "..      ...          ...             ...          ...                  ...  \n",
       "688   5 kHz       medium             0.8      0.5 sec                   32  \n",
       "689   5 kHz       medium             0.8      0.5 sec                   32  \n",
       "690   5 kHz       medium             0.8      0.5 sec                   32  \n",
       "691   5 kHz       medium             0.8      0.5 sec                   32  \n",
       "692   5 kHz       medium             0.8      0.5 sec                   32  \n",
       "\n",
       "[693 rows x 114 columns]"
      ]
     },
     "execution_count": 4,
     "metadata": {},
     "output_type": "execute_result"
    }
   ],
   "source": [
    "df"
   ]
  },
  {
   "cell_type": "code",
   "execution_count": 5,
   "metadata": {},
   "outputs": [
    {
     "data": {
      "text/html": [
       "<div>\n",
       "<style scoped>\n",
       "    .dataframe tbody tr th:only-of-type {\n",
       "        vertical-align: middle;\n",
       "    }\n",
       "\n",
       "    .dataframe tbody tr th {\n",
       "        vertical-align: top;\n",
       "    }\n",
       "\n",
       "    .dataframe thead th {\n",
       "        text-align: right;\n",
       "    }\n",
       "</style>\n",
       "<table border=\"1\" class=\"dataframe\">\n",
       "  <thead>\n",
       "    <tr style=\"text-align: right;\">\n",
       "      <th></th>\n",
       "      <th>Individual</th>\n",
       "      <th>Species</th>\n",
       "      <th>CallsPerSec</th>\n",
       "      <th>CallDuration</th>\n",
       "      <th>Fc</th>\n",
       "      <th>HiFreq</th>\n",
       "      <th>LowFreq</th>\n",
       "      <th>Bndwdth</th>\n",
       "      <th>FreqMaxPwr</th>\n",
       "      <th>PrcntMaxAmpDur</th>\n",
       "      <th>...</th>\n",
       "      <th>PreFc3000Residue</th>\n",
       "      <th>KneeToFcResidue</th>\n",
       "      <th>Kn-FcCurviness</th>\n",
       "      <th>meanKn-FcCurviness</th>\n",
       "      <th>Kn-FcCurvinessTrndSlp</th>\n",
       "      <th>Quality</th>\n",
       "      <th>HiFminusStartF</th>\n",
       "      <th>FcMinusEndF</th>\n",
       "      <th>RelPwr2ndTo1st</th>\n",
       "      <th>RelPwr3rdTo1st</th>\n",
       "    </tr>\n",
       "  </thead>\n",
       "  <tbody>\n",
       "    <tr>\n",
       "      <th>0</th>\n",
       "      <td>D20220723T000059m428</td>\n",
       "      <td>Coto</td>\n",
       "      <td>9.990783</td>\n",
       "      <td>5.800177</td>\n",
       "      <td>30.721317</td>\n",
       "      <td>46.543086</td>\n",
       "      <td>24.877343</td>\n",
       "      <td>21.665743</td>\n",
       "      <td>37.085534</td>\n",
       "      <td>41.304802</td>\n",
       "      <td>...</td>\n",
       "      <td>0.595328</td>\n",
       "      <td>0.554601</td>\n",
       "      <td>0.029407</td>\n",
       "      <td>0.000204</td>\n",
       "      <td>0.001672</td>\n",
       "      <td>0.862040</td>\n",
       "      <td>0.000000</td>\n",
       "      <td>5.843974</td>\n",
       "      <td>0.268145</td>\n",
       "      <td>0.0</td>\n",
       "    </tr>\n",
       "    <tr>\n",
       "      <th>1</th>\n",
       "      <td>D20220723T000059m428</td>\n",
       "      <td>Coto</td>\n",
       "      <td>9.990783</td>\n",
       "      <td>5.934510</td>\n",
       "      <td>31.952577</td>\n",
       "      <td>56.529694</td>\n",
       "      <td>30.871884</td>\n",
       "      <td>25.657810</td>\n",
       "      <td>38.313807</td>\n",
       "      <td>45.813232</td>\n",
       "      <td>...</td>\n",
       "      <td>0.292377</td>\n",
       "      <td>0.615446</td>\n",
       "      <td>0.147733</td>\n",
       "      <td>0.000966</td>\n",
       "      <td>-0.000723</td>\n",
       "      <td>0.847127</td>\n",
       "      <td>0.000000</td>\n",
       "      <td>1.080693</td>\n",
       "      <td>0.550883</td>\n",
       "      <td>0.0</td>\n",
       "    </tr>\n",
       "    <tr>\n",
       "      <th>2</th>\n",
       "      <td>D20220723T000059m428</td>\n",
       "      <td>Coto</td>\n",
       "      <td>9.990783</td>\n",
       "      <td>5.335590</td>\n",
       "      <td>31.774967</td>\n",
       "      <td>57.626177</td>\n",
       "      <td>30.870894</td>\n",
       "      <td>26.755283</td>\n",
       "      <td>34.316481</td>\n",
       "      <td>70.198725</td>\n",
       "      <td>...</td>\n",
       "      <td>0.347766</td>\n",
       "      <td>0.309295</td>\n",
       "      <td>0.104749</td>\n",
       "      <td>0.000911</td>\n",
       "      <td>0.000661</td>\n",
       "      <td>0.830255</td>\n",
       "      <td>0.283589</td>\n",
       "      <td>0.904073</td>\n",
       "      <td>0.656476</td>\n",
       "      <td>0.0</td>\n",
       "    </tr>\n",
       "    <tr>\n",
       "      <th>3</th>\n",
       "      <td>D20220723T000059m428</td>\n",
       "      <td>Coto</td>\n",
       "      <td>9.990783</td>\n",
       "      <td>6.510984</td>\n",
       "      <td>32.332951</td>\n",
       "      <td>56.705444</td>\n",
       "      <td>30.580920</td>\n",
       "      <td>26.124524</td>\n",
       "      <td>38.905409</td>\n",
       "      <td>53.293774</td>\n",
       "      <td>...</td>\n",
       "      <td>0.010113</td>\n",
       "      <td>0.000354</td>\n",
       "      <td>0.025781</td>\n",
       "      <td>0.001172</td>\n",
       "      <td>-0.006020</td>\n",
       "      <td>0.857169</td>\n",
       "      <td>0.000000</td>\n",
       "      <td>1.752031</td>\n",
       "      <td>0.598212</td>\n",
       "      <td>0.0</td>\n",
       "    </tr>\n",
       "    <tr>\n",
       "      <th>4</th>\n",
       "      <td>D20220723T000059m428</td>\n",
       "      <td>Coto</td>\n",
       "      <td>9.990783</td>\n",
       "      <td>4.034267</td>\n",
       "      <td>19.629609</td>\n",
       "      <td>43.862460</td>\n",
       "      <td>19.424983</td>\n",
       "      <td>24.437478</td>\n",
       "      <td>41.959867</td>\n",
       "      <td>16.908205</td>\n",
       "      <td>...</td>\n",
       "      <td>0.087332</td>\n",
       "      <td>0.085957</td>\n",
       "      <td>-0.004169</td>\n",
       "      <td>-0.000034</td>\n",
       "      <td>0.002262</td>\n",
       "      <td>0.854222</td>\n",
       "      <td>0.000000</td>\n",
       "      <td>0.204626</td>\n",
       "      <td>0.586246</td>\n",
       "      <td>0.0</td>\n",
       "    </tr>\n",
       "    <tr>\n",
       "      <th>...</th>\n",
       "      <td>...</td>\n",
       "      <td>...</td>\n",
       "      <td>...</td>\n",
       "      <td>...</td>\n",
       "      <td>...</td>\n",
       "      <td>...</td>\n",
       "      <td>...</td>\n",
       "      <td>...</td>\n",
       "      <td>...</td>\n",
       "      <td>...</td>\n",
       "      <td>...</td>\n",
       "      <td>...</td>\n",
       "      <td>...</td>\n",
       "      <td>...</td>\n",
       "      <td>...</td>\n",
       "      <td>...</td>\n",
       "      <td>...</td>\n",
       "      <td>...</td>\n",
       "      <td>...</td>\n",
       "      <td>...</td>\n",
       "      <td>...</td>\n",
       "    </tr>\n",
       "    <tr>\n",
       "      <th>688</th>\n",
       "      <td>D20220723T215748m724</td>\n",
       "      <td>Anpa</td>\n",
       "      <td>6.698429</td>\n",
       "      <td>6.018848</td>\n",
       "      <td>29.955968</td>\n",
       "      <td>63.004498</td>\n",
       "      <td>29.835913</td>\n",
       "      <td>33.168584</td>\n",
       "      <td>30.222921</td>\n",
       "      <td>87.419525</td>\n",
       "      <td>...</td>\n",
       "      <td>0.926078</td>\n",
       "      <td>1.131436</td>\n",
       "      <td>0.166277</td>\n",
       "      <td>0.001014</td>\n",
       "      <td>-0.000091</td>\n",
       "      <td>0.872064</td>\n",
       "      <td>0.000000</td>\n",
       "      <td>0.120055</td>\n",
       "      <td>0.553432</td>\n",
       "      <td>0.0</td>\n",
       "    </tr>\n",
       "    <tr>\n",
       "      <th>689</th>\n",
       "      <td>D20220723T215748m724</td>\n",
       "      <td>Anpa</td>\n",
       "      <td>6.698429</td>\n",
       "      <td>5.956305</td>\n",
       "      <td>29.888851</td>\n",
       "      <td>63.800558</td>\n",
       "      <td>29.508762</td>\n",
       "      <td>34.291796</td>\n",
       "      <td>30.301806</td>\n",
       "      <td>74.404991</td>\n",
       "      <td>...</td>\n",
       "      <td>0.863278</td>\n",
       "      <td>1.095236</td>\n",
       "      <td>0.155008</td>\n",
       "      <td>0.001202</td>\n",
       "      <td>-0.000539</td>\n",
       "      <td>0.886589</td>\n",
       "      <td>0.000000</td>\n",
       "      <td>0.061400</td>\n",
       "      <td>0.550367</td>\n",
       "      <td>0.0</td>\n",
       "    </tr>\n",
       "    <tr>\n",
       "      <th>690</th>\n",
       "      <td>D20220723T215748m724</td>\n",
       "      <td>Anpa</td>\n",
       "      <td>6.698429</td>\n",
       "      <td>3.897232</td>\n",
       "      <td>30.208108</td>\n",
       "      <td>62.016239</td>\n",
       "      <td>30.150512</td>\n",
       "      <td>31.865727</td>\n",
       "      <td>30.377776</td>\n",
       "      <td>88.305001</td>\n",
       "      <td>...</td>\n",
       "      <td>0.449759</td>\n",
       "      <td>0.399759</td>\n",
       "      <td>0.233327</td>\n",
       "      <td>0.002811</td>\n",
       "      <td>0.001929</td>\n",
       "      <td>0.908827</td>\n",
       "      <td>0.000000</td>\n",
       "      <td>-0.182502</td>\n",
       "      <td>0.450351</td>\n",
       "      <td>0.0</td>\n",
       "    </tr>\n",
       "    <tr>\n",
       "      <th>691</th>\n",
       "      <td>D20220723T215748m724</td>\n",
       "      <td>Anpa</td>\n",
       "      <td>6.698429</td>\n",
       "      <td>5.609381</td>\n",
       "      <td>29.222841</td>\n",
       "      <td>53.043077</td>\n",
       "      <td>28.985910</td>\n",
       "      <td>24.057167</td>\n",
       "      <td>30.454747</td>\n",
       "      <td>80.925648</td>\n",
       "      <td>...</td>\n",
       "      <td>0.087145</td>\n",
       "      <td>0.054167</td>\n",
       "      <td>0.038926</td>\n",
       "      <td>0.000683</td>\n",
       "      <td>-0.000083</td>\n",
       "      <td>0.875600</td>\n",
       "      <td>0.000000</td>\n",
       "      <td>0.101428</td>\n",
       "      <td>0.345128</td>\n",
       "      <td>0.0</td>\n",
       "    </tr>\n",
       "    <tr>\n",
       "      <th>692</th>\n",
       "      <td>D20220723T215748m724</td>\n",
       "      <td>Anpa</td>\n",
       "      <td>6.698429</td>\n",
       "      <td>5.077084</td>\n",
       "      <td>30.750668</td>\n",
       "      <td>63.306031</td>\n",
       "      <td>30.739908</td>\n",
       "      <td>32.566123</td>\n",
       "      <td>30.842467</td>\n",
       "      <td>84.749493</td>\n",
       "      <td>...</td>\n",
       "      <td>0.632950</td>\n",
       "      <td>0.338976</td>\n",
       "      <td>0.155893</td>\n",
       "      <td>0.001752</td>\n",
       "      <td>-0.000431</td>\n",
       "      <td>0.890696</td>\n",
       "      <td>0.000000</td>\n",
       "      <td>-0.172348</td>\n",
       "      <td>0.643165</td>\n",
       "      <td>0.0</td>\n",
       "    </tr>\n",
       "  </tbody>\n",
       "</table>\n",
       "<p>693 rows × 104 columns</p>\n",
       "</div>"
      ],
      "text/plain": [
       "               Individual Species  CallsPerSec  CallDuration         Fc  \\\n",
       "0    D20220723T000059m428    Coto     9.990783      5.800177  30.721317   \n",
       "1    D20220723T000059m428    Coto     9.990783      5.934510  31.952577   \n",
       "2    D20220723T000059m428    Coto     9.990783      5.335590  31.774967   \n",
       "3    D20220723T000059m428    Coto     9.990783      6.510984  32.332951   \n",
       "4    D20220723T000059m428    Coto     9.990783      4.034267  19.629609   \n",
       "..                    ...     ...          ...           ...        ...   \n",
       "688  D20220723T215748m724    Anpa     6.698429      6.018848  29.955968   \n",
       "689  D20220723T215748m724    Anpa     6.698429      5.956305  29.888851   \n",
       "690  D20220723T215748m724    Anpa     6.698429      3.897232  30.208108   \n",
       "691  D20220723T215748m724    Anpa     6.698429      5.609381  29.222841   \n",
       "692  D20220723T215748m724    Anpa     6.698429      5.077084  30.750668   \n",
       "\n",
       "        HiFreq    LowFreq    Bndwdth  FreqMaxPwr  PrcntMaxAmpDur  ...  \\\n",
       "0    46.543086  24.877343  21.665743   37.085534       41.304802  ...   \n",
       "1    56.529694  30.871884  25.657810   38.313807       45.813232  ...   \n",
       "2    57.626177  30.870894  26.755283   34.316481       70.198725  ...   \n",
       "3    56.705444  30.580920  26.124524   38.905409       53.293774  ...   \n",
       "4    43.862460  19.424983  24.437478   41.959867       16.908205  ...   \n",
       "..         ...        ...        ...         ...             ...  ...   \n",
       "688  63.004498  29.835913  33.168584   30.222921       87.419525  ...   \n",
       "689  63.800558  29.508762  34.291796   30.301806       74.404991  ...   \n",
       "690  62.016239  30.150512  31.865727   30.377776       88.305001  ...   \n",
       "691  53.043077  28.985910  24.057167   30.454747       80.925648  ...   \n",
       "692  63.306031  30.739908  32.566123   30.842467       84.749493  ...   \n",
       "\n",
       "     PreFc3000Residue  KneeToFcResidue  Kn-FcCurviness  meanKn-FcCurviness  \\\n",
       "0            0.595328         0.554601        0.029407            0.000204   \n",
       "1            0.292377         0.615446        0.147733            0.000966   \n",
       "2            0.347766         0.309295        0.104749            0.000911   \n",
       "3            0.010113         0.000354        0.025781            0.001172   \n",
       "4            0.087332         0.085957       -0.004169           -0.000034   \n",
       "..                ...              ...             ...                 ...   \n",
       "688          0.926078         1.131436        0.166277            0.001014   \n",
       "689          0.863278         1.095236        0.155008            0.001202   \n",
       "690          0.449759         0.399759        0.233327            0.002811   \n",
       "691          0.087145         0.054167        0.038926            0.000683   \n",
       "692          0.632950         0.338976        0.155893            0.001752   \n",
       "\n",
       "     Kn-FcCurvinessTrndSlp   Quality  HiFminusStartF  FcMinusEndF  \\\n",
       "0                 0.001672  0.862040        0.000000     5.843974   \n",
       "1                -0.000723  0.847127        0.000000     1.080693   \n",
       "2                 0.000661  0.830255        0.283589     0.904073   \n",
       "3                -0.006020  0.857169        0.000000     1.752031   \n",
       "4                 0.002262  0.854222        0.000000     0.204626   \n",
       "..                     ...       ...             ...          ...   \n",
       "688              -0.000091  0.872064        0.000000     0.120055   \n",
       "689              -0.000539  0.886589        0.000000     0.061400   \n",
       "690               0.001929  0.908827        0.000000    -0.182502   \n",
       "691              -0.000083  0.875600        0.000000     0.101428   \n",
       "692              -0.000431  0.890696        0.000000    -0.172348   \n",
       "\n",
       "     RelPwr2ndTo1st  RelPwr3rdTo1st  \n",
       "0          0.268145             0.0  \n",
       "1          0.550883             0.0  \n",
       "2          0.656476             0.0  \n",
       "3          0.598212             0.0  \n",
       "4          0.586246             0.0  \n",
       "..              ...             ...  \n",
       "688        0.553432             0.0  \n",
       "689        0.550367             0.0  \n",
       "690        0.450351             0.0  \n",
       "691        0.345128             0.0  \n",
       "692        0.643165             0.0  \n",
       "\n",
       "[693 rows x 104 columns]"
      ]
     },
     "execution_count": 5,
     "metadata": {},
     "output_type": "execute_result"
    }
   ],
   "source": [
    "df2 = df.loc[:,'CallsPerSec':'RelPwr3rdTo1st']\n",
    "df2['Individual'] = df.Filename.str[6:-9]\n",
    "df2['Species'] = df.Filename.str[-8:-4]\n",
    "\n",
    "cols = df2.columns.tolist()\n",
    "cols = cols[-2:] + cols[:-2]\n",
    "df2 = df2[cols] \n",
    "\n",
    "df2"
   ]
  },
  {
   "cell_type": "code",
   "execution_count": 6,
   "metadata": {},
   "outputs": [
    {
     "data": {
      "text/plain": [
       "array([[ 9.990783,  5.800177, 30.721317, ...,  5.843974,  0.268145,\n",
       "         0.      ],\n",
       "       [ 9.990783,  5.93451 , 31.952577, ...,  1.080693,  0.550883,\n",
       "         0.      ],\n",
       "       [ 9.990783,  5.33559 , 31.774967, ...,  0.904073,  0.656476,\n",
       "         0.      ],\n",
       "       ...,\n",
       "       [ 6.698429,  3.897232, 30.208108, ..., -0.182502,  0.450351,\n",
       "         0.      ],\n",
       "       [ 6.698429,  5.609381, 29.222841, ...,  0.101428,  0.345128,\n",
       "         0.      ],\n",
       "       [ 6.698429,  5.077084, 30.750668, ..., -0.172348,  0.643165,\n",
       "         0.      ]])"
      ]
     },
     "execution_count": 6,
     "metadata": {},
     "output_type": "execute_result"
    }
   ],
   "source": [
    "features = df2.loc[:,'CallsPerSec':].to_numpy()\n",
    "features"
   ]
  },
  {
   "cell_type": "code",
   "execution_count": 7,
   "metadata": {},
   "outputs": [
    {
     "data": {
      "text/plain": [
       "array(['Coto', 'Coto', 'Coto', 'Coto', 'Coto', 'Coto', 'Coto', 'Coto',\n",
       "       'Coto', 'Coto', 'Coto', 'Coto', 'Coto', 'Coto', 'Coto', 'Coto',\n",
       "       'Coto', 'Coto', 'Coto', 'Coto', 'Coto', 'Coto', 'Coto', 'Coto',\n",
       "       'Coto', 'Coto', 'Coto', 'Coto', 'Coto', 'Coto', 'Coto', 'Coto',\n",
       "       'Laci', 'Laci', 'Laci', 'Laci', 'Laci', 'Laci', 'Laci', 'Laci',\n",
       "       'Laci', 'Laci', 'Laci', 'Laci', 'Laci', 'Laci', 'Laci', 'Laci',\n",
       "       'Laci', 'Laci', 'Laci', 'Laci', 'Laci', 'Laci', 'Laci', 'Laci',\n",
       "       'Laci', 'Laci', 'Laci', 'Laci', 'Laci', 'Laci', 'Laci', 'Laci',\n",
       "       'Laci', 'Laci', 'Laci', 'Laci', 'Laci', 'Laci', 'Laci', 'Laci',\n",
       "       'Laci', 'Laci', 'Laci', 'Laci', 'Laci', 'Laci', 'Laci', 'Laci',\n",
       "       'Laci', 'Laci', 'Laci', 'Laci', 'Laci', 'Laci', 'Laci', 'Coto',\n",
       "       'Coto', 'Coto', 'Coto', 'Coto', 'Coto', 'Coto', 'Coto', 'Coto',\n",
       "       'Coto', 'Coto', 'Coto', 'Coto', 'Coto', 'Coto', 'Coto', 'Coto',\n",
       "       'Coto', 'Coto', 'Coto', 'Coto', 'Coto', 'Coto', 'Coto', 'Coto',\n",
       "       'Coto', 'Coto', 'Coto', 'Coto', 'Coto', 'Coto', 'Coto', 'Coto',\n",
       "       'Coto', 'Coto', 'Coto', 'Coto', 'Coto', 'Coto', 'Coto', 'Coto',\n",
       "       'Coto', 'Coto', 'Coto', 'Coto', 'Coto', 'Coto', 'Coto', 'Coto',\n",
       "       'Coto', 'Coto', 'Coto', 'Coto', 'Coto', 'Coto', 'Coto', 'Coto',\n",
       "       'Coto', 'Coto', 'Coto', 'Coto', 'Coto', 'Coto', 'Coto', 'Coto',\n",
       "       'Coto', 'Coto', 'Coto', 'Coto', 'Coto', 'Coto', 'Coto', 'Coto',\n",
       "       'Coto', 'Coto', 'Coto', 'Coto', 'Coto', 'Coto', 'Coto', 'Coto',\n",
       "       'Coto', 'Coto', 'Coto', 'Coto', 'Coto', 'Coto', 'Coto', 'Coto',\n",
       "       'Coto', 'Coto', 'Coto', 'Coto', 'Coto', 'Coto', 'Coto', 'Coto',\n",
       "       'Coto', 'Coto', 'Coto', 'Coto', 'Coto', 'Coto', 'Coto', 'Coto',\n",
       "       'Coto', 'Coto', 'Coto', 'Coto', 'Coto', 'Coto', 'Coto', 'Coto',\n",
       "       'Coto', 'Coto', 'Coto', 'Coto', 'Coto', 'Coto', 'Coto', 'Coto',\n",
       "       'Coto', 'Coto', 'Coto', 'Coto', 'Coto', 'Coto', 'Coto', 'Coto',\n",
       "       'Coto', 'Coto', 'Coto', 'Coto', 'Coto', 'Coto', 'Coto', 'Coto',\n",
       "       'Coto', 'Coto', 'Coto', 'Coto', 'Coto', 'Coto', 'Coto', 'Coto',\n",
       "       'Coto', 'Coto', 'Coto', 'Coto', 'Coto', 'Coto', 'Coto', 'Coto',\n",
       "       'Coto', 'Coto', 'Coto', 'Coto', 'Coto', 'Coto', 'Laci', 'Laci',\n",
       "       'Laci', 'Laci', 'Laci', 'Laci', 'Laci', 'Laci', 'Laci', 'Laci',\n",
       "       'Laci', 'Laci', 'Laci', 'Laci', 'Laci', 'Laci', 'Coto', 'Coto',\n",
       "       'Coto', 'Coto', 'Coto', 'Coto', 'Coto', 'Laci', 'Laci', 'Laci',\n",
       "       'Laci', 'Laci', 'Laci', 'Laci', 'Laci', 'Laci', 'Laci', 'Laci',\n",
       "       'Laci', 'Laci', 'Laci', 'Laci', 'Coto', 'Coto', 'Coto', 'Coto',\n",
       "       'Coto', 'Coto', 'Coto', 'Coto', 'Coto', 'Coto', 'Coto', 'Coto',\n",
       "       'Coto', 'Coto', 'Anpa', 'Anpa', 'Anpa', 'Anpa', 'Anpa', 'Anpa',\n",
       "       'Anpa', 'Anpa', 'Anpa', 'Anpa', 'Anpa', 'Anpa', 'Anpa', 'Anpa',\n",
       "       'Anpa', 'Anpa', 'Anpa', 'Anpa', 'Anpa', 'Anpa', 'Anpa', 'Anpa',\n",
       "       'Anpa', 'Anpa', 'Anpa', 'Anpa', 'Anpa', 'Anpa', 'Anpa', 'Anpa',\n",
       "       'Anpa', 'Anpa', 'Anpa', 'Anpa', 'Anpa', 'Anpa', 'Anpa', 'Anpa',\n",
       "       'Anpa', 'Anpa', 'Anpa', 'Anpa', 'Anpa', 'Anpa', 'Anpa', 'Anpa',\n",
       "       'Anpa', 'Anpa', 'Anpa', 'Anpa', 'Anpa', 'Anpa', 'Anpa', 'Anpa',\n",
       "       'Anpa', 'Anpa', 'Anpa', 'Anpa', 'Anpa', 'Anpa', 'Anpa', 'Anpa',\n",
       "       'Anpa', 'Anpa', 'Anpa', 'Anpa', 'Anpa', 'Anpa', 'Anpa', 'Anpa',\n",
       "       'Anpa', 'Anpa', 'Anpa', 'Anpa', 'Anpa', 'Anpa', 'Anpa', 'Anpa',\n",
       "       'Anpa', 'Anpa', 'Anpa', 'Anpa', 'Anpa', 'Anpa', 'Anpa', 'Anpa',\n",
       "       'Anpa', 'Anpa', 'Anpa', 'Anpa', 'Anpa', 'Anpa', 'Anpa', 'Anpa',\n",
       "       'Anpa', 'Anpa', 'Anpa', 'Anpa', 'Anpa', 'Anpa', 'Anpa', 'Anpa',\n",
       "       'Anpa', 'Laci', 'Laci', 'Laci', 'Laci', 'Laci', 'Laci', 'Laci',\n",
       "       'Laci', 'Laci', 'Laci', 'Laci', 'Laci', 'Laci', 'Laci', 'Laci',\n",
       "       'Laci', 'Laci', 'Laci', 'Laci', 'Laci', 'Laci', 'Anpa', 'Anpa',\n",
       "       'Anpa', 'Anpa', 'Anpa', 'Anpa', 'Anpa', 'Anpa', 'Anpa', 'Anpa',\n",
       "       'Anpa', 'Anpa', 'Anpa', 'Anpa', 'Anpa', 'Anpa', 'Anpa', 'Anpa',\n",
       "       'Anpa', 'Anpa', 'Anpa', 'Anpa', 'Anpa', 'Anpa', 'Anpa', 'Anpa',\n",
       "       'Anpa', 'Anpa', 'Anpa', 'Anpa', 'Anpa', 'Anpa', 'Anpa', 'Anpa',\n",
       "       'Anpa', 'Anpa', 'Anpa', 'Anpa', 'Anpa', 'Anpa', 'Anpa', 'Anpa',\n",
       "       'Anpa', 'Anpa', 'Anpa', 'Anpa', 'Anpa', 'Anpa', 'Anpa', 'Anpa',\n",
       "       'Anpa', 'Anpa', 'Anpa', 'Anpa', 'Anpa', 'Anpa', 'Anpa', 'Anpa',\n",
       "       'Anpa', 'Anpa', 'Anpa', 'Anpa', 'Anpa', 'Anpa', 'Anpa', 'Anpa',\n",
       "       'Anpa', 'Anpa', 'Anpa', 'Anpa', 'Anpa', 'Anpa', 'Anpa', 'Anpa',\n",
       "       'Anpa', 'Anpa', 'Anpa', 'Anpa', 'Anpa', 'Anpa', 'Anpa', 'Anpa',\n",
       "       'Anpa', 'Anpa', 'Anpa', 'Anpa', 'Anpa', 'Anpa', 'Anpa', 'Anpa',\n",
       "       'Anpa', 'Laci', 'Laci', 'Laci', 'Laci', 'Laci', 'Laci', 'Laci',\n",
       "       'Laci', 'Laci', 'Laci', 'Laci', 'Laci', 'Laci', 'Laci', 'Laci',\n",
       "       'Laci', 'Laci', 'Laci', 'Laci', 'Laci', 'Laci', 'Laci', 'Laci',\n",
       "       'Laci', 'Laci', 'Laci', 'Laci', 'Laci', 'Laci', 'Anpa', 'Anpa',\n",
       "       'Anpa', 'Anpa', 'Anpa', 'Anpa', 'Anpa', 'Anpa', 'Anpa', 'Anpa',\n",
       "       'Anpa', 'Anpa', 'Anpa', 'Anpa', 'Anpa', 'Anpa', 'Anpa', 'Anpa',\n",
       "       'Anpa', 'Anpa', 'Anpa', 'Anpa', 'Anpa', 'Anpa', 'Anpa', 'Anpa',\n",
       "       'Anpa', 'Anpa', 'Anpa', 'Anpa', 'Anpa', 'Anpa', 'Laci', 'Coto',\n",
       "       'Coto', 'Coto', 'Coto', 'Coto', 'Coto', 'Coto', 'Coto', 'Coto',\n",
       "       'Coto', 'Coto', 'Coto', 'Coto', 'Coto', 'Coto', 'Coto', 'Coto',\n",
       "       'Coto', 'Coto', 'Coto', 'Coto', 'Coto', 'Coto', 'Coto', 'Coto',\n",
       "       'Anpa', 'Anpa', 'Anpa', 'Anpa', 'Anpa', 'Anpa', 'Anpa', 'Anpa',\n",
       "       'Anpa', 'Anpa', 'Anpa', 'Anpa', 'Anpa', 'Anpa', 'Anpa', 'Anpa',\n",
       "       'Anpa', 'Anpa', 'Anpa', 'Anpa', 'Anpa', 'Anpa', 'Anpa', 'Anpa',\n",
       "       'Anpa', 'Anpa', 'Anpa', 'Anpa', 'Anpa', 'Anpa', 'Anpa', 'Anpa',\n",
       "       'Coto', 'Coto', 'Coto', 'Coto', 'Coto', 'Coto', 'Coto', 'Coto',\n",
       "       'Coto', 'Coto', 'Coto', 'Coto', 'Coto', 'Coto', 'Coto', 'Coto',\n",
       "       'Coto', 'Coto', 'Coto', 'Coto', 'Coto', 'Coto', 'Coto', 'Coto',\n",
       "       'Coto', 'Coto', 'Coto', 'Coto', 'Coto', 'Coto', 'Coto', 'Coto',\n",
       "       'Anpa', 'Anpa', 'Anpa', 'Anpa', 'Anpa', 'Anpa', 'Anpa', 'Anpa',\n",
       "       'Anpa', 'Anpa', 'Anpa', 'Anpa', 'Anpa', 'Anpa', 'Anpa', 'Anpa',\n",
       "       'Anpa', 'Anpa', 'Anpa', 'Anpa', 'Anpa', 'Anpa', 'Anpa', 'Anpa',\n",
       "       'Anpa', 'Anpa', 'Anpa', 'Anpa', 'Anpa'], dtype=object)"
      ]
     },
     "execution_count": 7,
     "metadata": {},
     "output_type": "execute_result"
    }
   ],
   "source": [
    "labels = df2.Species.to_numpy()\n",
    "labels"
   ]
  },
  {
   "cell_type": "code",
   "execution_count": 8,
   "metadata": {},
   "outputs": [
    {
     "data": {
      "text/plain": [
       "<AxesSubplot:>"
      ]
     },
     "execution_count": 8,
     "metadata": {},
     "output_type": "execute_result"
    },
    {
     "data": {
      "image/png": "[encoded data removed]",
      "text/plain": [
       "<Figure size 640x480 with 1 Axes>"
      ]
     },
     "metadata": {},
     "output_type": "display_data"
    }
   ],
   "source": [
    "X, Y = PCA(n_components=2).fit_transform(features).T\n",
    "\n",
    "sns.scatterplot(\n",
    "        x=X,\n",
    "        y=Y,\n",
    "        hue=[label for label in labels],\n",
    "        # hue=[d[\"det_prob\"] for d in detections],\n",
    "    )"
   ]
  },
  {
   "cell_type": "code",
   "execution_count": 9,
   "metadata": {},
   "outputs": [
    {
     "data": {
      "text/plain": [
       "D20220723T000059m428    32\n",
       "D20220723T215348m264    32\n",
       "D20220723T005607m172    32\n",
       "D20220723T023116m444    32\n",
       "D20220723T024503m939    32\n",
       "D20220723T033517m645    32\n",
       "D20220723T212734m674    32\n",
       "D20220723T205606m183    32\n",
       "D20220723T204240m923    32\n",
       "D20220723T204111m278    32\n",
       "D20220723T202257m087    32\n",
       "D20220723T025743m408    31\n",
       "D20220723T001918m846    29\n",
       "D20220723T215748m724    29\n",
       "D20220723T195414m434    27\n",
       "D20220723T203621m070    27\n",
       "D20220723T200740m009    27\n",
       "D20220723T002346m783    26\n",
       "D20220723T212238m208    25\n",
       "D20220723T203229m276    21\n",
       "D20220723T205521m092    19\n",
       "D20220723T202041m463    17\n",
       "D20220723T194741m510    15\n",
       "D20220723T194858m819    14\n",
       "D20220723T045437m130    11\n",
       "D20220723T205450m955    10\n",
       "D20220723T194107m488     7\n",
       "D20220723T190505m879     4\n",
       "D20220723T210413m486     1\n",
       "D20220723T042858m806     1\n",
       "Name: Individual, dtype: int64"
      ]
     },
     "execution_count": 9,
     "metadata": {},
     "output_type": "execute_result"
    }
   ],
   "source": [
    "df2.Individual.value_counts()\n"
   ]
  },
  {
   "cell_type": "code",
   "execution_count": 10,
   "metadata": {},
   "outputs": [],
   "source": [
    "coto_df = df2[df2.Species == 'Coto']\n",
    "coto_feats = coto_df.loc[:,'CallsPerSec':].to_numpy()\n",
    "coto_labels = coto_df.Individual.to_numpy()"
   ]
  },
  {
   "cell_type": "code",
   "execution_count": 11,
   "metadata": {},
   "outputs": [
    {
     "data": {
      "text/plain": [
       "<AxesSubplot:>"
      ]
     },
     "execution_count": 11,
     "metadata": {},
     "output_type": "execute_result"
    },
    {
     "data": {
      "image/png": "[encoded data removed]",
      "text/plain": [
       "<Figure size 640x480 with 1 Axes>"
      ]
     },
     "metadata": {},
     "output_type": "display_data"
    }
   ],
   "source": [
    "X, Y = PCA(n_components=2).fit_transform(coto_feats).T\n",
    "\n",
    "sns.scatterplot(\n",
    "        x=X,\n",
    "        y=Y,\n",
    "        hue=[label for label in coto_labels]\n",
    "    )"
   ]
  },
  {
   "cell_type": "code",
   "execution_count": 22,
   "metadata": {},
   "outputs": [
    {
     "data": {
      "text/html": [
       "<div>\n",
       "<style scoped>\n",
       "    .dataframe tbody tr th:only-of-type {\n",
       "        vertical-align: middle;\n",
       "    }\n",
       "\n",
       "    .dataframe tbody tr th {\n",
       "        vertical-align: top;\n",
       "    }\n",
       "\n",
       "    .dataframe thead th {\n",
       "        text-align: right;\n",
       "    }\n",
       "</style>\n",
       "<table border=\"1\" class=\"dataframe\">\n",
       "  <thead>\n",
       "    <tr style=\"text-align: right;\">\n",
       "      <th></th>\n",
       "      <th>Individual</th>\n",
       "      <th>Species</th>\n",
       "      <th>CallDuration</th>\n",
       "      <th>Fc</th>\n",
       "      <th>HiFreq</th>\n",
       "      <th>LowFreq</th>\n",
       "      <th>Bndwdth</th>\n",
       "      <th>FreqMaxPwr</th>\n",
       "      <th>PrcntMaxAmpDur</th>\n",
       "      <th>TimeFromMaxToFc</th>\n",
       "      <th>...</th>\n",
       "      <th>EndF</th>\n",
       "      <th>DominantSlope</th>\n",
       "      <th>SlopeAtFc</th>\n",
       "      <th>StartSlope</th>\n",
       "      <th>EndSlope</th>\n",
       "      <th>SteepestSlope</th>\n",
       "      <th>LowestSlope</th>\n",
       "      <th>TotalSlope</th>\n",
       "      <th>HiFtoKnSlope</th>\n",
       "      <th>KneeToFcSlope</th>\n",
       "    </tr>\n",
       "  </thead>\n",
       "  <tbody>\n",
       "    <tr>\n",
       "      <th>0</th>\n",
       "      <td>D20220723T000059m428</td>\n",
       "      <td>Coto</td>\n",
       "      <td>5.800177</td>\n",
       "      <td>30.721317</td>\n",
       "      <td>46.543086</td>\n",
       "      <td>24.877343</td>\n",
       "      <td>21.665743</td>\n",
       "      <td>37.085534</td>\n",
       "      <td>41.304802</td>\n",
       "      <td>1.887562</td>\n",
       "      <td>...</td>\n",
       "      <td>24.877343</td>\n",
       "      <td>5.240442</td>\n",
       "      <td>1.069545</td>\n",
       "      <td>-0.430824</td>\n",
       "      <td>-1.834016</td>\n",
       "      <td>8.328710</td>\n",
       "      <td>0.096253</td>\n",
       "      <td>4.702201</td>\n",
       "      <td>0.548744</td>\n",
       "      <td>5.081006</td>\n",
       "    </tr>\n",
       "    <tr>\n",
       "      <th>1</th>\n",
       "      <td>D20220723T000059m428</td>\n",
       "      <td>Coto</td>\n",
       "      <td>5.934510</td>\n",
       "      <td>31.952577</td>\n",
       "      <td>56.529694</td>\n",
       "      <td>30.871884</td>\n",
       "      <td>25.657810</td>\n",
       "      <td>38.313807</td>\n",
       "      <td>45.813232</td>\n",
       "      <td>3.043855</td>\n",
       "      <td>...</td>\n",
       "      <td>30.871884</td>\n",
       "      <td>4.544984</td>\n",
       "      <td>0.999816</td>\n",
       "      <td>-2.104868</td>\n",
       "      <td>-5.384712</td>\n",
       "      <td>10.588624</td>\n",
       "      <td>0.000366</td>\n",
       "      <td>4.730895</td>\n",
       "      <td>7.924472</td>\n",
       "      <td>2.705992</td>\n",
       "    </tr>\n",
       "    <tr>\n",
       "      <th>2</th>\n",
       "      <td>D20220723T000059m428</td>\n",
       "      <td>Coto</td>\n",
       "      <td>5.335590</td>\n",
       "      <td>31.774967</td>\n",
       "      <td>57.626177</td>\n",
       "      <td>30.870894</td>\n",
       "      <td>26.755283</td>\n",
       "      <td>34.316481</td>\n",
       "      <td>70.198725</td>\n",
       "      <td>1.464081</td>\n",
       "      <td>...</td>\n",
       "      <td>30.870894</td>\n",
       "      <td>4.343650</td>\n",
       "      <td>1.623519</td>\n",
       "      <td>-1.245990</td>\n",
       "      <td>-4.660829</td>\n",
       "      <td>16.314799</td>\n",
       "      <td>0.165389</td>\n",
       "      <td>5.522359</td>\n",
       "      <td>11.261107</td>\n",
       "      <td>2.783503</td>\n",
       "    </tr>\n",
       "    <tr>\n",
       "      <th>3</th>\n",
       "      <td>D20220723T000059m428</td>\n",
       "      <td>Coto</td>\n",
       "      <td>6.510984</td>\n",
       "      <td>32.332951</td>\n",
       "      <td>56.705444</td>\n",
       "      <td>30.580920</td>\n",
       "      <td>26.124524</td>\n",
       "      <td>38.905409</td>\n",
       "      <td>53.293774</td>\n",
       "      <td>2.123337</td>\n",
       "      <td>...</td>\n",
       "      <td>30.580920</td>\n",
       "      <td>4.398744</td>\n",
       "      <td>1.570330</td>\n",
       "      <td>-0.191845</td>\n",
       "      <td>-0.879799</td>\n",
       "      <td>17.377683</td>\n",
       "      <td>0.038186</td>\n",
       "      <td>5.381194</td>\n",
       "      <td>5.685353</td>\n",
       "      <td>1.736781</td>\n",
       "    </tr>\n",
       "    <tr>\n",
       "      <th>4</th>\n",
       "      <td>D20220723T000059m428</td>\n",
       "      <td>Coto</td>\n",
       "      <td>4.034267</td>\n",
       "      <td>19.629609</td>\n",
       "      <td>43.862460</td>\n",
       "      <td>19.424983</td>\n",
       "      <td>24.437478</td>\n",
       "      <td>41.959867</td>\n",
       "      <td>16.908205</td>\n",
       "      <td>3.230535</td>\n",
       "      <td>...</td>\n",
       "      <td>19.424983</td>\n",
       "      <td>2.271163</td>\n",
       "      <td>2.255931</td>\n",
       "      <td>-4.851547</td>\n",
       "      <td>-2.233276</td>\n",
       "      <td>9.498671</td>\n",
       "      <td>1.756533</td>\n",
       "      <td>6.725727</td>\n",
       "      <td>2.507910</td>\n",
       "      <td>7.336782</td>\n",
       "    </tr>\n",
       "    <tr>\n",
       "      <th>...</th>\n",
       "      <td>...</td>\n",
       "      <td>...</td>\n",
       "      <td>...</td>\n",
       "      <td>...</td>\n",
       "      <td>...</td>\n",
       "      <td>...</td>\n",
       "      <td>...</td>\n",
       "      <td>...</td>\n",
       "      <td>...</td>\n",
       "      <td>...</td>\n",
       "      <td>...</td>\n",
       "      <td>...</td>\n",
       "      <td>...</td>\n",
       "      <td>...</td>\n",
       "      <td>...</td>\n",
       "      <td>...</td>\n",
       "      <td>...</td>\n",
       "      <td>...</td>\n",
       "      <td>...</td>\n",
       "      <td>...</td>\n",
       "      <td>...</td>\n",
       "    </tr>\n",
       "    <tr>\n",
       "      <th>688</th>\n",
       "      <td>D20220723T215748m724</td>\n",
       "      <td>Anpa</td>\n",
       "      <td>6.018848</td>\n",
       "      <td>29.955968</td>\n",
       "      <td>63.004498</td>\n",
       "      <td>29.835913</td>\n",
       "      <td>33.168584</td>\n",
       "      <td>30.222921</td>\n",
       "      <td>87.419525</td>\n",
       "      <td>0.464090</td>\n",
       "      <td>...</td>\n",
       "      <td>29.835913</td>\n",
       "      <td>0.748006</td>\n",
       "      <td>0.467730</td>\n",
       "      <td>-14.784413</td>\n",
       "      <td>-0.371867</td>\n",
       "      <td>13.133185</td>\n",
       "      <td>0.582025</td>\n",
       "      <td>5.580817</td>\n",
       "      <td>10.333117</td>\n",
       "      <td>3.984857</td>\n",
       "    </tr>\n",
       "    <tr>\n",
       "      <th>689</th>\n",
       "      <td>D20220723T215748m724</td>\n",
       "      <td>Anpa</td>\n",
       "      <td>5.956305</td>\n",
       "      <td>29.888851</td>\n",
       "      <td>63.800558</td>\n",
       "      <td>29.508762</td>\n",
       "      <td>34.291796</td>\n",
       "      <td>30.301806</td>\n",
       "      <td>74.404991</td>\n",
       "      <td>1.450617</td>\n",
       "      <td>...</td>\n",
       "      <td>29.827451</td>\n",
       "      <td>6.387029</td>\n",
       "      <td>0.009886</td>\n",
       "      <td>-12.155223</td>\n",
       "      <td>-0.273344</td>\n",
       "      <td>15.201841</td>\n",
       "      <td>0.031802</td>\n",
       "      <td>5.923462</td>\n",
       "      <td>10.230423</td>\n",
       "      <td>2.342415</td>\n",
       "    </tr>\n",
       "    <tr>\n",
       "      <th>690</th>\n",
       "      <td>D20220723T215748m724</td>\n",
       "      <td>Anpa</td>\n",
       "      <td>3.897232</td>\n",
       "      <td>30.208108</td>\n",
       "      <td>62.016239</td>\n",
       "      <td>30.150512</td>\n",
       "      <td>31.865727</td>\n",
       "      <td>30.377776</td>\n",
       "      <td>88.305001</td>\n",
       "      <td>0.329175</td>\n",
       "      <td>...</td>\n",
       "      <td>30.390610</td>\n",
       "      <td>7.806477</td>\n",
       "      <td>0.874606</td>\n",
       "      <td>-13.311260</td>\n",
       "      <td>1.093627</td>\n",
       "      <td>13.318861</td>\n",
       "      <td>1.194400</td>\n",
       "      <td>8.903626</td>\n",
       "      <td>11.951542</td>\n",
       "      <td>6.186857</td>\n",
       "    </tr>\n",
       "    <tr>\n",
       "      <th>691</th>\n",
       "      <td>D20220723T215748m724</td>\n",
       "      <td>Anpa</td>\n",
       "      <td>5.609381</td>\n",
       "      <td>29.222841</td>\n",
       "      <td>53.043077</td>\n",
       "      <td>28.985910</td>\n",
       "      <td>24.057167</td>\n",
       "      <td>30.454747</td>\n",
       "      <td>80.925648</td>\n",
       "      <td>0.945878</td>\n",
       "      <td>...</td>\n",
       "      <td>29.121413</td>\n",
       "      <td>3.258720</td>\n",
       "      <td>0.642373</td>\n",
       "      <td>-7.176476</td>\n",
       "      <td>-0.692377</td>\n",
       "      <td>12.398784</td>\n",
       "      <td>0.036916</td>\n",
       "      <td>4.927745</td>\n",
       "      <td>6.249047</td>\n",
       "      <td>1.295421</td>\n",
       "    </tr>\n",
       "    <tr>\n",
       "      <th>692</th>\n",
       "      <td>D20220723T215748m724</td>\n",
       "      <td>Anpa</td>\n",
       "      <td>5.077084</td>\n",
       "      <td>30.750668</td>\n",
       "      <td>63.306031</td>\n",
       "      <td>30.739908</td>\n",
       "      <td>32.566123</td>\n",
       "      <td>30.842467</td>\n",
       "      <td>84.749493</td>\n",
       "      <td>0.524513</td>\n",
       "      <td>...</td>\n",
       "      <td>30.923016</td>\n",
       "      <td>4.564298</td>\n",
       "      <td>0.159352</td>\n",
       "      <td>-12.916952</td>\n",
       "      <td>0.848934</td>\n",
       "      <td>13.509891</td>\n",
       "      <td>0.221201</td>\n",
       "      <td>6.808382</td>\n",
       "      <td>10.122533</td>\n",
       "      <td>2.881840</td>\n",
       "    </tr>\n",
       "  </tbody>\n",
       "</table>\n",
       "<p>693 rows × 23 columns</p>\n",
       "</div>"
      ],
      "text/plain": [
       "               Individual Species  CallDuration         Fc     HiFreq  \\\n",
       "0    D20220723T000059m428    Coto      5.800177  30.721317  46.543086   \n",
       "1    D20220723T000059m428    Coto      5.934510  31.952577  56.529694   \n",
       "2    D20220723T000059m428    Coto      5.335590  31.774967  57.626177   \n",
       "3    D20220723T000059m428    Coto      6.510984  32.332951  56.705444   \n",
       "4    D20220723T000059m428    Coto      4.034267  19.629609  43.862460   \n",
       "..                    ...     ...           ...        ...        ...   \n",
       "688  D20220723T215748m724    Anpa      6.018848  29.955968  63.004498   \n",
       "689  D20220723T215748m724    Anpa      5.956305  29.888851  63.800558   \n",
       "690  D20220723T215748m724    Anpa      3.897232  30.208108  62.016239   \n",
       "691  D20220723T215748m724    Anpa      5.609381  29.222841  53.043077   \n",
       "692  D20220723T215748m724    Anpa      5.077084  30.750668  63.306031   \n",
       "\n",
       "       LowFreq    Bndwdth  FreqMaxPwr  PrcntMaxAmpDur  TimeFromMaxToFc  ...  \\\n",
       "0    24.877343  21.665743   37.085534       41.304802         1.887562  ...   \n",
       "1    30.871884  25.657810   38.313807       45.813232         3.043855  ...   \n",
       "2    30.870894  26.755283   34.316481       70.198725         1.464081  ...   \n",
       "3    30.580920  26.124524   38.905409       53.293774         2.123337  ...   \n",
       "4    19.424983  24.437478   41.959867       16.908205         3.230535  ...   \n",
       "..         ...        ...         ...             ...              ...  ...   \n",
       "688  29.835913  33.168584   30.222921       87.419525         0.464090  ...   \n",
       "689  29.508762  34.291796   30.301806       74.404991         1.450617  ...   \n",
       "690  30.150512  31.865727   30.377776       88.305001         0.329175  ...   \n",
       "691  28.985910  24.057167   30.454747       80.925648         0.945878  ...   \n",
       "692  30.739908  32.566123   30.842467       84.749493         0.524513  ...   \n",
       "\n",
       "          EndF  DominantSlope  SlopeAtFc  StartSlope  EndSlope  SteepestSlope  \\\n",
       "0    24.877343       5.240442   1.069545   -0.430824 -1.834016       8.328710   \n",
       "1    30.871884       4.544984   0.999816   -2.104868 -5.384712      10.588624   \n",
       "2    30.870894       4.343650   1.623519   -1.245990 -4.660829      16.314799   \n",
       "3    30.580920       4.398744   1.570330   -0.191845 -0.879799      17.377683   \n",
       "4    19.424983       2.271163   2.255931   -4.851547 -2.233276       9.498671   \n",
       "..         ...            ...        ...         ...       ...            ...   \n",
       "688  29.835913       0.748006   0.467730  -14.784413 -0.371867      13.133185   \n",
       "689  29.827451       6.387029   0.009886  -12.155223 -0.273344      15.201841   \n",
       "690  30.390610       7.806477   0.874606  -13.311260  1.093627      13.318861   \n",
       "691  29.121413       3.258720   0.642373   -7.176476 -0.692377      12.398784   \n",
       "692  30.923016       4.564298   0.159352  -12.916952  0.848934      13.509891   \n",
       "\n",
       "     LowestSlope  TotalSlope  HiFtoKnSlope  KneeToFcSlope  \n",
       "0       0.096253    4.702201      0.548744       5.081006  \n",
       "1       0.000366    4.730895      7.924472       2.705992  \n",
       "2       0.165389    5.522359     11.261107       2.783503  \n",
       "3       0.038186    5.381194      5.685353       1.736781  \n",
       "4       1.756533    6.725727      2.507910       7.336782  \n",
       "..           ...         ...           ...            ...  \n",
       "688     0.582025    5.580817     10.333117       3.984857  \n",
       "689     0.031802    5.923462     10.230423       2.342415  \n",
       "690     1.194400    8.903626     11.951542       6.186857  \n",
       "691     0.036916    4.927745      6.249047       1.295421  \n",
       "692     0.221201    6.808382     10.122533       2.881840  \n",
       "\n",
       "[693 rows x 23 columns]"
      ]
     },
     "execution_count": 22,
     "metadata": {},
     "output_type": "execute_result"
    }
   ],
   "source": [
    "small_df = df2.loc[:,'CallDuration':'KneeToFcSlope']\n",
    "small_df['Individual'] = df2.Individual\n",
    "small_df['Species'] = df2.Species\n",
    "\n",
    "cols = small_df.columns.tolist()\n",
    "cols = cols[-2:] + cols[:-2]\n",
    "small_df = small_df[cols]\n",
    "\n",
    "small_df"
   ]
  },
  {
   "cell_type": "code",
   "execution_count": 13,
   "metadata": {},
   "outputs": [
    {
     "data": {
      "text/plain": [
       "<AxesSubplot:>"
      ]
     },
     "execution_count": 13,
     "metadata": {},
     "output_type": "execute_result"
    },
    {
     "data": {
      "image/png": "[encoded data removed]",
      "text/plain": [
       "<Figure size 640x480 with 1 Axes>"
      ]
     },
     "metadata": {},
     "output_type": "display_data"
    }
   ],
   "source": [
    "small_feats = small_df.loc[:,'CallDuration':].to_numpy()\n",
    "small_labels = small_df.Species.to_numpy()\n",
    "\n",
    "X, Y = PCA(n_components=2).fit_transform(small_feats).T\n",
    "\n",
    "sns.scatterplot(\n",
    "        x=X,\n",
    "        y=Y,\n",
    "        hue=[label for label in small_labels]\n",
    "    )"
   ]
  },
  {
   "cell_type": "code",
   "execution_count": 14,
   "metadata": {},
   "outputs": [
    {
     "data": {
      "application/vnd.plotly.v1+json": {
       "config": {
        "plotlyServerURL": "https://plot.ly"
       },
       "data": [
        {
         "hovertemplate": "color=Coto<br>0=%{x}<br>1=%{y}<extra></extra>",
         "legendgroup": "Coto",
         "marker": {
          "color": "#636efa",
          "symbol": "circle"
         },
         "mode": "markers",
         "name": "Coto",
         "orientation": "v",
         "showlegend": true,
         "type": "scatter",
         "x": [
          58.45396423339844,
          24.65253448486328,
          -8.085405349731445,
          -10.136205673217773,
          49.20587158203125,
          0.027963081374764442,
          35.13996887207031,
          41.331817626953125,
          4.635842800140381,
          40.83024978637695,
          5.340843200683594,
          35.46276092529297,
          6.681739807128906,
          39.918643951416016,
          38.75437545776367,
          34.06568145751953,
          10.091227531433105,
          25.185022354125977,
          24.59494972229004,
          12.751473426818848,
          -6.486315727233887,
          -57.46281433105469,
          -9.73913860321045,
          -3.43585205078125,
          -34.8983154296875,
          -72.97502136230469,
          -78.77983856201172,
          -73.64276123046875,
          58.193058013916016,
          20.201509475708008,
          -2.5756263732910156,
          -38.76304244995117,
          33.13633728027344,
          50.46349334716797,
          21.779399871826172,
          37.2921142578125,
          54.81603240966797,
          38.05796432495117,
          48.389896392822266,
          47.61225509643555,
          24.089372634887695,
          58.67426681518555,
          21.71535301208496,
          24.23169708251953,
          -23.688617706298828,
          13.600099563598633,
          34.08909225463867,
          36.75352478027344,
          68.95404815673828,
          -25.142833709716797,
          -13.98268985748291,
          59.95494842529297,
          47.4795036315918,
          7.063719749450684,
          -18.751243591308594,
          57.39425277709961,
          23.9632625579834,
          51.879432678222656,
          -8.472871780395508,
          6.532055854797363,
          43.863014221191406,
          49.356082916259766,
          33.3119010925293,
          55.242095947265625,
          17.251127243041992,
          -0.47057464718818665,
          13.71279239654541,
          36.6341667175293,
          49.58665084838867,
          6.449621677398682,
          9.29947280883789,
          40.505008697509766,
          44.76445388793945,
          8.67303466796875,
          23.567975997924805,
          -0.2923831343650818,
          40.85547637939453,
          37.63498306274414,
          -36.465152740478516,
          4.942836761474609,
          36.625301361083984,
          3.0396888256073,
          6.144384384155273,
          0.07919389754533768,
          6.241483688354492,
          7.68007755279541,
          39.84442138671875,
          -13.30560302734375,
          51.5577507019043,
          4.975352764129639,
          24.112632751464844,
          -8.685209274291992,
          50.792659759521484,
          0.9967429041862488,
          0.8187710046768188,
          31.82423210144043,
          25.907577514648438,
          22.032291412353516,
          53.78940963745117,
          56.481590270996094,
          6.130274295806885,
          -35.0531120300293,
          25.92205047607422,
          41.09938049316406,
          -23.83608055114746,
          32.88577651977539,
          -37.05241775512695,
          55.803707122802734,
          39.02920913696289,
          10.847707748413086,
          34.15056610107422,
          6.6166205406188965,
          21.146459579467773,
          39.438934326171875,
          -48.39372634887695,
          8.378644943237305,
          -19.319835662841797,
          61.69657516479492,
          57.82126235961914,
          55.17884826660156,
          49.70923614501953,
          67.17005920410156,
          56.459957122802734,
          43.25754928588867,
          8.253327369689941,
          57.6456298828125,
          17.04044532775879,
          35.74613571166992,
          -41.32199478149414,
          4.458863735198975,
          4.807653903961182,
          45.02031707763672,
          36.73533248901367,
          -13.256105422973633,
          -16.253326416015625,
          1.4197496175765991,
          49.69389343261719,
          58.28231430053711,
          52.84375,
          56.621604919433594,
          24.25794792175293,
          -37.31060791015625,
          21.06446075439453,
          -11.362906455993652,
          -0.3912180960178375,
          -7.213598251342773,
          26.430654525756836,
          -9.229726791381836,
          -14.76250171661377,
          58.35271453857422,
          52.111106872558594,
          10.223527908325195,
          61.43534469604492,
          -11.141158103942871,
          46.828834533691406,
          -21.91895866394043,
          55.997283935546875,
          -17.0996150970459,
          -33.084957122802734,
          -3.303619861602783,
          56.14937973022461,
          -38.78788375854492,
          46.35617446899414,
          7.6189680099487305,
          -36.363731384277344,
          -5.207948684692383,
          8.131644248962402,
          -29.697309494018555,
          6.804659843444824,
          -20.64602279663086,
          31.59477996826172,
          -4.828722953796387,
          16.60112953186035,
          16.88359832763672,
          50.4708251953125,
          -20.097606658935547,
          61.63631057739258,
          -16.74297523498535,
          51.15840530395508,
          32.357398986816406,
          -18.031953811645508,
          65.46270751953125,
          69.42349243164062,
          21.24955177307129,
          5.763309001922607,
          55.778526306152344,
          7.635356903076172,
          43.37752914428711,
          9.487273216247559,
          56.07511901855469,
          67.40798950195312,
          -78.73667907714844,
          49.012367248535156,
          -71.05691528320312,
          -55.218017578125,
          -71.97193908691406,
          -78.1535873413086,
          46.29266357421875,
          -16.65030860900879,
          -68.74105072021484,
          -41.021732330322266,
          3.0318827629089355,
          -77.1517333984375,
          31.16869354248047,
          -36.678260803222656,
          -73.68539428710938,
          38.40678024291992,
          4.6829514503479,
          20.111225128173828,
          -77.32828521728516,
          -37.186649322509766,
          -45.16486358642578,
          15.702436447143555,
          -0.1978573501110077,
          -32.06482696533203,
          62.267662048339844,
          39.43151092529297,
          -8.60599422454834,
          28.82849884033203,
          -52.75773239135742,
          -8.18615436553955,
          51.48445510864258,
          47.916202545166016,
          14.458253860473633,
          33.477500915527344,
          -24.124637603759766,
          0.3518391251564026,
          -22.003982543945312,
          -19.18802833557129,
          -1.4130934476852417,
          -7.99500036239624,
          22.23774528503418,
          -29.348676681518555,
          53.9134635925293,
          50.15842056274414,
          38.25505447387695,
          -29.438610076904297,
          9.842020034790039,
          44.777713775634766,
          58.01485824584961,
          -38.59944534301758,
          13.830414772033691,
          -30.487356185913086,
          14.353562355041504,
          -37.078365325927734,
          57.86932373046875,
          -58.967830657958984,
          58.52186965942383,
          55.96429443359375,
          10.176152229309082,
          20.047863006591797,
          19.175466537475586,
          2.3497042655944824,
          19.571630477905273,
          47.2813720703125,
          17.350873947143555,
          -6.173187255859375,
          38.25677490234375,
          -21.468856811523438,
          -32.037353515625,
          -39.54240798950195,
          19.645570755004883,
          49.92431640625,
          -2.4198029041290283,
          0.12621106207370758,
          -30.521799087524414,
          57.44834518432617,
          19.68381118774414,
          58.893157958984375
         ],
         "xaxis": "x",
         "y": [
          -28.525531768798828,
          -14.336737632751465,
          11.134902000427246,
          -57.057159423828125,
          -43.01864242553711,
          -60.6551399230957,
          -38.09162521362305,
          -43.721981048583984,
          -65.02941131591797,
          -43.161800384521484,
          -49.77638244628906,
          -52.81392288208008,
          -13.252211570739746,
          -43.35176467895508,
          39.88829040527344,
          -4.492885589599609,
          -0.7124567627906799,
          -15.674409866333008,
          -15.592844009399414,
          0.12650543451309204,
          -57.15325164794922,
          -14.016524314880371,
          -28.94911003112793,
          -63.97776412963867,
          39.23126983642578,
          -10.876213073730469,
          -4.934565544128418,
          -10.583091735839844,
          -11.658385276794434,
          15.186051368713379,
          0.6265208721160889,
          7.733537197113037,
          2.9250729084014893,
          4.174497604370117,
          -11.082744598388672,
          -52.24817657470703,
          4.259268283843994,
          36.90409851074219,
          -5.548717975616455,
          16.109882354736328,
          -16.822874069213867,
          -26.690738677978516,
          6.867374420166016,
          -26.881500244140625,
          -37.09541320800781,
          -52.05741882324219,
          -3.7733170986175537,
          -52.017234802246094,
          12.27441120147705,
          -37.08452606201172,
          -52.10410690307617,
          -3.0983633995056152,
          14.313215255737305,
          -55.19208526611328,
          -47.71298599243164,
          18.0687198638916,
          21.43115234375,
          22.1617431640625,
          -18.73832893371582,
          -64.12981414794922,
          -35.666385650634766,
          -7.945183277130127,
          1.245882511138916,
          7.552803039550781,
          -10.83542537689209,
          -66.57246398925781,
          -51.357730865478516,
          -50.54500198364258,
          -6.180427074432373,
          -8.429936408996582,
          17.96579933166504,
          27.32493782043457,
          19.500675201416016,
          27.651182174682617,
          -26.837499618530273,
          -60.19868469238281,
          -44.802711486816406,
          -5.546590328216553,
          1.6554120779037476,
          -25.12715721130371,
          -27.195344924926758,
          -65.25855255126953,
          -65.36425018310547,
          -66.15880584716797,
          -54.3182487487793,
          -20.46816635131836,
          27.34749412536621,
          -48.95354461669922,
          -38.794891357421875,
          -24.520341873168945,
          21.422346115112305,
          -30.666715621948242,
          29.74173355102539,
          -61.62942123413086,
          -66.0683364868164,
          2.7900185585021973,
          -21.462358474731445,
          -28.818635940551758,
          21.474498748779297,
          -30.93927574157715,
          -15.359196662902832,
          -27.910415649414062,
          -20.586658477783203,
          -46.0212287902832,
          -15.766108512878418,
          -5.360555171966553,
          -23.34210777282715,
          -30.600549697875977,
          -41.29959487915039,
          -23.84253692626953,
          -1.716870903968811,
          -14.029234886169434,
          3.536391496658325,
          -41.951725006103516,
          -16.446470260620117,
          -23.984493255615234,
          -48.412540435791016,
          -3.3222038745880127,
          -30.31012535095215,
          -26.97718048095703,
          -6.703787326812744,
          7.732206344604492,
          0.40678587555885315,
          37.9959716796875,
          -23.383195877075195,
          -25.913227081298828,
          -10.832592964172363,
          -28.442758560180664,
          0.12714648246765137,
          -2.9492568969726562,
          -51.2030029296875,
          16.14564323425293,
          -49.76162338256836,
          -50.71805191040039,
          -44.493309020996094,
          -64.82760620117188,
          -42.77862548828125,
          22.19941520690918,
          14.209572792053223,
          11.269869804382324,
          -28.431638717651367,
          -27.567964553833008,
          16.908693313598633,
          -25.261560440063477,
          -45.20232009887695,
          -41.499385833740234,
          6.545454502105713,
          -29.883100509643555,
          -52.83852005004883,
          18.373882293701172,
          3.0454931259155273,
          -52.21257019042969,
          7.595419406890869,
          -23.845836639404297,
          -44.04583740234375,
          -36.864830017089844,
          -26.676286697387695,
          -44.56806945800781,
          -29.86919403076172,
          -10.072953224182129,
          20.704601287841797,
          -24.351802825927734,
          15.583517074584961,
          -25.475948333740234,
          -26.428579330444336,
          4.451889991760254,
          -26.29637908935547,
          7.146885395050049,
          -8.788588523864746,
          -24.467376708984375,
          -50.16667175292969,
          -55.90468215942383,
          -47.76055908203125,
          -48.65962219238281,
          -43.035884857177734,
          -49.17398452758789,
          0.2077581137418747,
          -24.5074405670166,
          30.55704116821289,
          -50.29558181762695,
          -25.071943283081055,
          -3.185331106185913,
          -3.1833395957946777,
          -29.34395980834961,
          -24.477689743041992,
          -31.431209564208984,
          -14.152490615844727,
          19.696426391601562,
          42.06257247924805,
          -4.517991065979004,
          6.437100887298584,
          0.14016593992710114,
          24.5725040435791,
          -8.983427047729492,
          -15.946680068969727,
          -12.077075958251953,
          -0.41630521416664124,
          24.690326690673828,
          -46.411399841308594,
          -12.296998977661133,
          -4.266907215118408,
          2.114413261413574,
          -8.287306785583496,
          -49.960025787353516,
          -26.60063362121582,
          -5.427794456481934,
          36.6141471862793,
          -4.823181629180908,
          -29.748424530029297,
          -9.145885467529297,
          -21.13839340209961,
          -17.967830657958984,
          17.704790115356445,
          -44.805599212646484,
          -3.9197959899902344,
          7.2121100425720215,
          9.492164611816406,
          -57.94682693481445,
          10.435515403747559,
          -16.91315269470215,
          -59.58902359008789,
          30.327491760253906,
          41.83218002319336,
          1.0588910579681396,
          2.1162736415863037,
          -14.977862358093262,
          -1.1681396961212158,
          -39.323341369628906,
          -42.70758819580078,
          -10.016229629516602,
          -58.10564041137695,
          6.100767135620117,
          -10.701363563537598,
          2.8655102252960205,
          25.00126075744629,
          9.75283432006836,
          -9.594192504882812,
          28.678937911987305,
          20.413896560668945,
          -6.121148109436035,
          -11.879411697387695,
          -47.79071044921875,
          6.128431797027588,
          -48.84247970581055,
          -20.044071197509766,
          -5.504062175750732,
          -14.065911293029785,
          19.327058792114258,
          11.39758014678955,
          -23.776912689208984,
          18.043041229248047,
          -36.68916702270508,
          -42.92350387573242,
          -35.507591247558594,
          41.65943145751953,
          -30.46139144897461,
          -20.57402229309082,
          39.38042068481445,
          -4.005643367767334,
          -28.67842674255371,
          -0.028673652559518814,
          -34.92291259765625,
          40.76809310913086,
          -56.95297622680664,
          -41.465614318847656,
          -29.09170150756836,
          -8.537548065185547,
          -33.744361877441406,
          -4.218323230743408
         ],
         "yaxis": "y"
        },
        {
         "hovertemplate": "color=Laci<br>0=%{x}<br>1=%{y}<extra></extra>",
         "legendgroup": "Laci",
         "marker": {
          "color": "#EF553B",
          "symbol": "circle"
         },
         "mode": "markers",
         "name": "Laci",
         "orientation": "v",
         "showlegend": true,
         "type": "scatter",
         "x": [
          -15.336030006408691,
          6.845555305480957,
          55.129295349121094,
          36.80724334716797,
          -31.790578842163086,
          38.14603042602539,
          36.202903747558594,
          60.77777862548828,
          -31.508813858032227,
          -4.2811994552612305,
          -12.74168586730957,
          -0.5478518009185791,
          -14.008894920349121,
          -25.896745681762695,
          40.47868728637695,
          66.59815979003906,
          38.7061653137207,
          -39.636470794677734,
          -48.768592834472656,
          -29.346303939819336,
          58.801483154296875,
          55.74824142456055,
          -2.6449973583221436,
          50.095550537109375,
          48.786155700683594,
          -11.320240020751953,
          -38.78687286376953,
          -23.86671257019043,
          27.761241912841797,
          44.75018310546875,
          -36.787574768066406,
          -27.61322021484375,
          67.64081573486328,
          68.56151580810547,
          51.870826721191406,
          -0.5332122445106506,
          43.822296142578125,
          -34.14337158203125,
          6.808049201965332,
          55.91726303100586,
          43.782470703125,
          59.37653732299805,
          -26.68281364440918,
          68.30611419677734,
          44.450523376464844,
          56.813873291015625,
          -23.462953567504883,
          54.106746673583984,
          47.79420852661133,
          36.28807830810547,
          -13.34129524230957,
          -2.741407632827759,
          35.40699005126953,
          -38.98299026489258,
          -19.82177734375,
          -59.77418518066406,
          -70.94615936279297,
          -79.02875518798828,
          -72.9792251586914,
          -78.98505401611328,
          -65.72007751464844,
          42.76692581176758,
          -65.13504028320312,
          -75.00663757324219,
          -80.31668090820312,
          -71.91444396972656,
          -71.3344955444336,
          -74.98234558105469,
          -75.80540466308594,
          -78.96058654785156,
          -78.60763549804688,
          7.703882694244385,
          -54.0197639465332,
          25.308212280273438,
          -77.3530044555664,
          36.761634826660156,
          31.058494567871094,
          52.76525115966797,
          -7.827517509460449,
          9.529475212097168,
          20.27348518371582,
          -23.735519409179688,
          -21.805084228515625,
          -7.4764323234558105,
          21.420949935913086,
          26.417354583740234,
          46.356407165527344,
          -45.43688201904297,
          -17.13840675354004,
          -48.28742599487305,
          -45.19142150878906,
          -77.98107147216797,
          -46.15275192260742,
          -5.034384250640869,
          -47.09757995605469,
          -49.76417541503906,
          -35.9947509765625,
          -45.69997024536133,
          -50.2039794921875,
          9.248196601867676,
          -50.54616165161133,
          -48.444889068603516,
          -48.81615447998047,
          40.22555160522461,
          -9.418460845947266,
          -47.609962463378906,
          -50.26537322998047,
          -72.12786865234375,
          68.23784637451172,
          -3.7740280628204346,
          -13.658706665039062,
          37.28683853149414,
          -71.3907699584961,
          -77.21080780029297,
          4.041560649871826,
          36.370361328125,
          -65.03953552246094,
          -32.58394241333008,
          14.911369323730469,
          -28.263084411621094,
          42.067264556884766,
          5.696311950683594,
          -36.46324920654297,
          -32.185791015625,
          -28.963247299194336,
          1.8644682168960571,
          -7.218122959136963,
          -0.900438129901886,
          10.362508773803711,
          7.430294990539551,
          54.25904083251953,
          -18.107858657836914,
          9.81103229522705,
          49.34260559082031,
          58.02659606933594,
          -1.7020573616027832,
          -77.7836685180664
         ],
         "xaxis": "x",
         "y": [
          40.788944244384766,
          -66.5827865600586,
          20.790159225463867,
          14.329109191894531,
          -4.889921188354492,
          8.060739517211914,
          34.908321380615234,
          -9.84619426727295,
          -29.30626106262207,
          -54.692752838134766,
          56.042938232421875,
          31.363330841064453,
          41.52753829956055,
          -23.633901596069336,
          36.54494857788086,
          6.969723224639893,
          41.383216857910156,
          -1.6906894445419312,
          -60.3376350402832,
          6.81899881362915,
          -9.816812515258789,
          9.906859397888184,
          3.2604148387908936,
          4.441903591156006,
          23.85989761352539,
          -56.46092224121094,
          8.570636749267578,
          -37.81959915161133,
          27.13673973083496,
          42.46236801147461,
          -17.38642120361328,
          -22.952131271362305,
          -3.141420602798462,
          5.573574066162109,
          -39.04334259033203,
          -0.19524148106575012,
          -36.76021194458008,
          -9.44382381439209,
          -55.589630126953125,
          0.7263793349266052,
          -36.92991638183594,
          -9.825560569763184,
          -23.407739639282227,
          5.521246433258057,
          42.236568450927734,
          -5.464126110076904,
          -18.218841552734375,
          -35.879173278808594,
          16.861604690551758,
          40.24995803833008,
          -24.63513946533203,
          -11.631104469299316,
          40.729618072509766,
          0.5968886017799377,
          -41.85174560546875,
          -13.534266471862793,
          -8.473860740661621,
          -17.48029327392578,
          -4.32505464553833,
          -5.045765399932861,
          -10.71854305267334,
          25.073301315307617,
          -9.387862205505371,
          -3.4048657417297363,
          -17.120187759399414,
          -12.96057415008545,
          -7.632415294647217,
          -5.260821342468262,
          -10.954253196716309,
          -19.05222511291504,
          -16.689577102661133,
          -48.255828857421875,
          -16.031879425048828,
          -23.3372859954834,
          -12.915935516357422,
          -4.778933525085449,
          21.551700592041016,
          14.019121170043945,
          -19.457435607910156,
          -49.73482131958008,
          11.45217514038086,
          -16.468368530273438,
          -3.7961905002593994,
          -19.99267578125,
          3.969287395477295,
          -22.33192253112793,
          23.098560333251953,
          -68.78742980957031,
          51.932498931884766,
          -61.857852935791016,
          -66.99470520019531,
          -14.174942970275879,
          -68.4571533203125,
          60.4305534362793,
          -68.29821014404297,
          -62.445865631103516,
          45.432220458984375,
          -66.68651580810547,
          -64.7431411743164,
          20.499500274658203,
          -61.27368927001953,
          -63.09511184692383,
          -63.16792678833008,
          39.56815719604492,
          47.031288146972656,
          -68.06488037109375,
          -65.31419372558594,
          -4.187994480133057,
          -3.1328470706939697,
          -55.8470458984375,
          -46.91735076904297,
          -45.85269546508789,
          -3.961728572845459,
          -19.062091827392578,
          -3.59438157081604,
          -27.55255126953125,
          -12.342716217041016,
          -0.25911226868629456,
          -47.492469787597656,
          13.77038288116455,
          37.61587905883789,
          -6.958283424377441,
          -3.1435680389404297,
          -0.9331361651420593,
          -11.247206687927246,
          18.827640533447266,
          -41.108604431152344,
          1.7560347318649292,
          -51.14536666870117,
          15.274687767028809,
          -35.644004821777344,
          -43.53630447387695,
          -48.9201774597168,
          42.42237091064453,
          -26.812667846679688,
          1.5574545860290527,
          -13.573100090026855
         ],
         "yaxis": "y"
        },
        {
         "hovertemplate": "color=Anpa<br>0=%{x}<br>1=%{y}<extra></extra>",
         "legendgroup": "Anpa",
         "marker": {
          "color": "#00cc96",
          "symbol": "circle"
         },
         "mode": "markers",
         "name": "Anpa",
         "orientation": "v",
         "showlegend": true,
         "type": "scatter",
         "x": [
          -36.87887954711914,
          45.616825103759766,
          1.838302493095398,
          -5.006438255310059,
          -7.2509613037109375,
          -35.59416580200195,
          19.60350227355957,
          -10.046692848205566,
          -29.005014419555664,
          -10.023234367370605,
          -55.579776763916016,
          -20.22136116027832,
          -8.064399719238281,
          -37.710784912109375,
          -37.30434799194336,
          -14.44162654876709,
          -35.66743850708008,
          -65.82173919677734,
          -36.113014221191406,
          41.70516586303711,
          21.851560592651367,
          -28.79817771911621,
          -75.12832641601562,
          28.679088592529297,
          -38.7515869140625,
          -8.690177917480469,
          -4.158819675445557,
          -28.98476791381836,
          -31.384864807128906,
          -28.5784912109375,
          -25.904281616210938,
          -39.79313659667969,
          12.694733619689941,
          -22.96111297607422,
          -1.1017976999282837,
          -47.84360122680664,
          -9.195430755615234,
          49.85700988769531,
          -21.79607391357422,
          -31.196626663208008,
          3.1332831382751465,
          -27.947296142578125,
          -49.1209602355957,
          -29.507305145263672,
          -48.06425857543945,
          -30.321823120117188,
          -28.404024124145508,
          -12.027127265930176,
          6.644308090209961,
          -4.340275764465332,
          -37.21909713745117,
          -41.37887191772461,
          41.218116760253906,
          38.35629653930664,
          -22.831348419189453,
          6.313178062438965,
          21.97306251525879,
          8.014787673950195,
          -78.34175109863281,
          -5.0708723068237305,
          6.265960693359375,
          -7.263182163238525,
          14.276552200317383,
          -1.1081414222717285,
          5.843949794769287,
          68.8967056274414,
          -7.297140598297119,
          7.345129489898682,
          27.39794158935547,
          -18.84468650817871,
          -14.032549858093262,
          -29.043176651000977,
          -18.78623390197754,
          -63.66545104980469,
          6.337819576263428,
          -10.394197463989258,
          -42.71107864379883,
          -40.89655685424805,
          -11.642476081848145,
          0.2260751575231552,
          -8.779450416564941,
          -22.364038467407227,
          1.9847599267959595,
          -10.042776107788086,
          -27.461017608642578,
          -26.788938522338867,
          23.239856719970703,
          -27.69293785095215,
          -2.260823965072632,
          -27.359416961669922,
          -9.545267105102539,
          -18.486425399780273,
          -9.248861312866211,
          -17.263853073120117,
          7.971911907196045,
          -6.723643779754639,
          -7.382097244262695,
          -45.984920501708984,
          -18.287195205688477,
          8.940749168395996,
          -11.884498596191406,
          9.673704147338867,
          -50.0963020324707,
          23.359344482421875,
          21.29766082763672,
          -2.4449427127838135,
          -6.579115390777588,
          11.593064308166504,
          10.319976806640625,
          -34.72312545776367,
          -7.31036376953125,
          28.930925369262695,
          -43.25517272949219,
          -77.69072723388672,
          -3.6637167930603027,
          8.009950637817383,
          -31.913904190063477,
          -28.28169822692871,
          -41.993919372558594,
          -30.228328704833984,
          -34.76741027832031,
          -19.552785873413086,
          -4.600909233093262,
          -0.20932450890541077,
          14.209368705749512,
          -5.194091796875,
          -52.08686065673828,
          20.29143714904785,
          -21.75743865966797,
          0.7220507860183716,
          35.44290542602539,
          -23.6615047454834,
          8.38400650024414,
          -13.714900016784668,
          -3.5789847373962402,
          -11.659041404724121,
          -10.520294189453125,
          -42.98176193237305,
          -7.9189772605896,
          -46.41147994995117,
          -59.725379943847656,
          -10.75247859954834,
          -12.6908597946167,
          -1.9633938074111938,
          27.38220977783203,
          -4.334306716918945,
          -12.548425674438477,
          -22.306352615356445,
          -3.969078302383423,
          -3.8135290145874023,
          -21.887678146362305,
          -1.3456809520721436,
          6.593995571136475,
          -33.26542282104492,
          -11.947940826416016,
          -17.271455764770508,
          -29.43280792236328,
          -17.759010314941406,
          -0.8156786561012268,
          -7.694442272186279,
          -3.1558117866516113,
          13.517427444458008,
          -2.085219621658325,
          -20.204893112182617,
          7.616455554962158,
          -13.41923713684082,
          -30.053932189941406,
          -42.23325729370117,
          -49.27069091796875,
          26.556291580200195,
          -22.979982376098633,
          16.481477737426758,
          9.124357223510742,
          8.307293891906738,
          12.616937637329102,
          12.59368896484375,
          16.924509048461914,
          -48.57913589477539,
          4.63600492477417,
          5.438384532928467,
          35.38651657104492,
          9.77334976196289,
          -25.420604705810547,
          -4.87058162689209,
          -18.146366119384766,
          -24.046581268310547,
          5.192392349243164,
          9.616024017333984,
          -12.295271873474121,
          63.93212127685547,
          -22.962196350097656,
          -48.56808853149414,
          4.245491981506348,
          -2.925351142883301,
          -33.199302673339844,
          2.6585094928741455,
          -30.64647674560547,
          -14.656195640563965,
          -21.572729110717773,
          6.69504976272583,
          -25.020769119262695,
          7.220760345458984,
          -20.877527236938477,
          -23.386430740356445,
          -27.6680965423584,
          26.915550231933594,
          -0.4345819056034088,
          12.458775520324707,
          10.771456718444824,
          -17.322622299194336,
          59.273704528808594,
          -12.338359832763672,
          -34.69771194458008,
          -17.948057174682617,
          -18.83928680419922,
          8.742308616638184,
          -13.851055145263672,
          -1.851466178894043,
          37.021305084228516,
          4.747307777404785,
          -7.398895740509033,
          13.353157997131348,
          35.81838607788086,
          -26.52688217163086,
          -38.05302810668945,
          -21.404251098632812,
          38.487030029296875,
          38.496891021728516,
          8.387462615966797,
          -11.602673530578613,
          37.107879638671875,
          -8.43177318572998,
          39.11016845703125,
          29.55431365966797,
          22.656579971313477,
          1.217980146408081,
          -49.772891998291016,
          27.514978408813477,
          -7.394021511077881,
          1.4261343479156494,
          -0.9809494614601135,
          32.35491180419922,
          6.450843811035156,
          -36.4958610534668,
          -12.102473258972168,
          5.884261131286621,
          58.351863861083984,
          13.020062446594238,
          38.572086334228516,
          35.1770133972168,
          42.221778869628906,
          36.39716720581055,
          2.3773586750030518,
          -34.86335372924805,
          -32.488487243652344,
          8.15316104888916,
          36.31357192993164,
          1.8313759565353394,
          -31.417844772338867,
          -25.078121185302734,
          -14.099908828735352,
          -0.9732168316841125,
          -22.83557891845703,
          -41.933319091796875,
          -30.3873233795166,
          -17.239669799804688,
          -13.555498123168945,
          -19.780649185180664,
          49.10048294067383,
          29.930212020874023,
          -18.60215187072754,
          -32.841461181640625,
          8.747910499572754,
          -11.442078590393066,
          -40.36093521118164,
          15.031453132629395,
          57.49822235107422,
          -17.40409278869629,
          -15.306824684143066,
          -30.41485595703125,
          -42.68090057373047,
          0.6240978837013245,
          -35.8237190246582,
          -28.914854049682617,
          -41.89014434814453,
          -36.847198486328125,
          -32.51042938232422
         ],
         "xaxis": "x",
         "y": [
          -10.41463851928711,
          21.910865783691406,
          18.82322883605957,
          5.006002902984619,
          -45.96781921386719,
          -10.467326164245605,
          17.4620361328125,
          -45.846370697021484,
          -20.89804458618164,
          9.676947593688965,
          -17.01438331604004,
          -24.52280616760254,
          -44.955604553222656,
          -10.809091567993164,
          -24.506385803222656,
          -46.43307876586914,
          -11.597639083862305,
          -11.984652519226074,
          -11.051794052124023,
          19.382274627685547,
          18.375463485717773,
          -21.254436492919922,
          -19.213605880737305,
          9.581963539123535,
          6.769619941711426,
          -44.877708435058594,
          -63.160247802734375,
          44.606258392333984,
          45.21921920776367,
          12.59337329864502,
          56.640098571777344,
          34.00754928588867,
          48.112144470214844,
          49.518798828125,
          33.9260368347168,
          33.933448791503906,
          18.4335994720459,
          41.02240753173828,
          50.0580940246582,
          0.03445902839303017,
          43.71686553955078,
          46.09902572631836,
          3.7909181118011475,
          11.601961135864258,
          33.497066497802734,
          35.61801528930664,
          16.551498413085938,
          53.709129333496094,
          19.480398178100586,
          59.60142135620117,
          2.499882459640503,
          35.63669967651367,
          37.05936813354492,
          -24.577463150024414,
          60.32466506958008,
          54.960575103759766,
          -10.879886627197266,
          40.443511962890625,
          0.44388020038604736,
          64.47232055664062,
          32.63005828857422,
          61.3682746887207,
          18.80126190185547,
          33.21778869628906,
          54.87270736694336,
          12.029272079467773,
          47.106510162353516,
          55.906620025634766,
          -16.731325149536133,
          50.46998596191406,
          60.16419219970703,
          42.81623840332031,
          19.21269989013672,
          -13.387126922607422,
          31.754074096679688,
          9.126181602478027,
          18.617130279541016,
          35.333377838134766,
          8.230942726135254,
          45.16094207763672,
          19.981916427612305,
          18.501317977905273,
          42.61316680908203,
          20.02449607849121,
          42.554264068603516,
          37.44810104370117,
          -9.03205680847168,
          30.82025146484375,
          41.588287353515625,
          35.918094635009766,
          19.488548278808594,
          4.591418743133545,
          10.271808624267578,
          5.891190052032471,
          44.6682243347168,
          -7.164543151855469,
          -6.297338485717773,
          -16.876174926757812,
          4.073888778686523,
          44.415504455566406,
          7.663895130157471,
          43.97653579711914,
          -15.191607475280762,
          -8.490490913391113,
          16.41587257385254,
          44.28384017944336,
          67.9815673828125,
          47.62314987182617,
          45.372314453125,
          41.34803771972656,
          -7.6862568855285645,
          11.06830883026123,
          21.27867889404297,
          -19.33114242553711,
          -9.9660062789917,
          19.118064880371094,
          43.86790466308594,
          15.42965316772461,
          19.108863830566406,
          42.94282913208008,
          42.62898254394531,
          7.060338973999023,
          34.4665412902832,
          40.8017692565918,
          47.97072219848633,
          67.64637756347656,
          -15.355415344238281,
          7.6370530128479,
          5.1758646965026855,
          -42.80474853515625,
          -40.150821685791016,
          34.3253288269043,
          50.6089973449707,
          52.690528869628906,
          68.5969467163086,
          70.50963592529297,
          69.47171020507812,
          18.110492706298828,
          49.129703521728516,
          -15.031880378723145,
          -14.638014793395996,
          69.59669494628906,
          53.2972412109375,
          41.22589874267578,
          24.92680549621582,
          61.22222900390625,
          59.16999053955078,
          49.88970184326172,
          34.451629638671875,
          35.505393981933594,
          19.293285369873047,
          39.53546142578125,
          53.571224212646484,
          1.0074448585510254,
          40.010986328125,
          49.78319549560547,
          30.300811767578125,
          62.902793884277344,
          45.59387969970703,
          -5.1703901290893555,
          -55.841041564941406,
          18.107439041137695,
          44.91015625,
          20.09809112548828,
          -63.33891677856445,
          40.703208923339844,
          42.070072174072266,
          36.05382537841797,
          4.2345075607299805,
          -16.31317138671875,
          6.31716775894165,
          18.705799102783203,
          50.04029083251953,
          18.52490234375,
          57.926082611083984,
          57.99533462524414,
          -30.412206649780273,
          32.3968391418457,
          40.1553840637207,
          38.0609016418457,
          -40.97224807739258,
          11.741719245910645,
          53.84967041015625,
          61.343170166015625,
          60.42144012451172,
          35.38453674316406,
          39.33855438232422,
          21.51422119140625,
          58.615108489990234,
          -3.148000478744507,
          35.75482940673828,
          2.4879462718963623,
          39.791282653808594,
          69.03667449951172,
          44.836997985839844,
          -2.545867681503296,
          35.76569747924805,
          48.88578796386719,
          60.540435791015625,
          28.940208435058594,
          55.08144760131836,
          14.153145790100098,
          60.7974853515625,
          -38.36001205444336,
          -12.569663047790527,
          6.857635021209717,
          3.304818630218506,
          0.061658456921577454,
          46.963626861572266,
          63.911773681640625,
          -2.5009424686431885,
          71.10946655273438,
          40.61002731323242,
          -26.323284149169922,
          61.23086929321289,
          13.633151054382324,
          39.780242919921875,
          69.60664367675781,
          -46.27119827270508,
          -1.877178430557251,
          47.679222106933594,
          15.97760009765625,
          26.20391845703125,
          36.3139533996582,
          5.078745365142822,
          8.36887264251709,
          -24.310121536254883,
          27.25217056274414,
          30.92266273498535,
          -23.604534149169922,
          -26.291484832763672,
          -8.795960426330566,
          29.75955581665039,
          22.27834129333496,
          8.292037010192871,
          -43.149627685546875,
          -15.328675270080566,
          25.83161163330078,
          4.379887580871582,
          2.9191629886627197,
          70.11576843261719,
          -6.93196964263916,
          -49.236793518066406,
          -1.4194730520248413,
          5.683699607849121,
          31.094337463378906,
          20.35616111755371,
          -47.40987777709961,
          10.065274238586426,
          -38.518001556396484,
          34.423851013183594,
          -3.722092390060425,
          5.104517459869385,
          1.9490668773651123,
          -2.0038528442382812,
          15.983478546142578,
          26.41700553894043,
          3.882758855819702,
          42.47710418701172,
          55.68498611450195,
          47.453857421875,
          -9.8162202835083,
          17.75558853149414,
          22.39183235168457,
          25.63554573059082,
          -43.29744338989258,
          42.265262603759766,
          21.855937957763672,
          16.20673942565918,
          22.052959442138672,
          5.479597091674805,
          24.523128509521484,
          28.528949737548828,
          52.50661087036133,
          -2.650674819946289,
          17.34976577758789,
          21.09071922302246,
          50.57281494140625,
          50.343719482421875,
          25.454072952270508,
          21.569425582885742,
          41.49669647216797,
          44.46220397949219,
          30.506336212158203,
          19.918434143066406,
          -17.765897750854492,
          24.69537353515625
         ],
         "yaxis": "y"
        }
       ],
       "layout": {
        "legend": {
         "title": {
          "text": "color"
         },
         "tracegroupgap": 0
        },
        "margin": {
         "t": 60
        },
        "template": {
         "data": {
          "bar": [
           {
            "error_x": {
             "color": "#2a3f5f"
            },
            "error_y": {
             "color": "#2a3f5f"
            },
            "marker": {
             "line": {
              "color": "#E5ECF6",
              "width": 0.5
             },
             "pattern": {
              "fillmode": "overlay",
              "size": 10,
              "solidity": 0.2
             }
            },
            "type": "bar"
           }
          ],
          "barpolar": [
           {
            "marker": {
             "line": {
              "color": "#E5ECF6",
              "width": 0.5
             },
             "pattern": {
              "fillmode": "overlay",
              "size": 10,
              "solidity": 0.2
             }
            },
            "type": "barpolar"
           }
          ],
          "carpet": [
           {
            "aaxis": {
             "endlinecolor": "#2a3f5f",
             "gridcolor": "white",
             "linecolor": "white",
             "minorgridcolor": "white",
             "startlinecolor": "#2a3f5f"
            },
            "baxis": {
             "endlinecolor": "#2a3f5f",
             "gridcolor": "white",
             "linecolor": "white",
             "minorgridcolor": "white",
             "startlinecolor": "#2a3f5f"
            },
            "type": "carpet"
           }
          ],
          "choropleth": [
           {
            "colorbar": {
             "outlinewidth": 0,
             "ticks": ""
            },
            "type": "choropleth"
           }
          ],
          "contour": [
           {
            "colorbar": {
             "outlinewidth": 0,
             "ticks": ""
            },
            "colorscale": [
             [
              0,
              "#0d0887"
             ],
             [
              0.1111111111111111,
              "#46039f"
             ],
             [
              0.2222222222222222,
              "#7201a8"
             ],
             [
              0.3333333333333333,
              "#9c179e"
             ],
             [
              0.4444444444444444,
              "#bd3786"
             ],
             [
              0.5555555555555556,
              "#d8576b"
             ],
             [
              0.6666666666666666,
              "#ed7953"
             ],
             [
              0.7777777777777778,
              "#fb9f3a"
             ],
             [
              0.8888888888888888,
              "#fdca26"
             ],
             [
              1,
              "#f0f921"
             ]
            ],
            "type": "contour"
           }
          ],
          "contourcarpet": [
           {
            "colorbar": {
             "outlinewidth": 0,
             "ticks": ""
            },
            "type": "contourcarpet"
           }
          ],
          "heatmap": [
           {
            "colorbar": {
             "outlinewidth": 0,
             "ticks": ""
            },
            "colorscale": [
             [
              0,
              "#0d0887"
             ],
             [
              0.1111111111111111,
              "#46039f"
             ],
             [
              0.2222222222222222,
              "#7201a8"
             ],
             [
              0.3333333333333333,
              "#9c179e"
             ],
             [
              0.4444444444444444,
              "#bd3786"
             ],
             [
              0.5555555555555556,
              "#d8576b"
             ],
             [
              0.6666666666666666,
              "#ed7953"
             ],
             [
              0.7777777777777778,
              "#fb9f3a"
             ],
             [
              0.8888888888888888,
              "#fdca26"
             ],
             [
              1,
              "#f0f921"
             ]
            ],
            "type": "heatmap"
           }
          ],
          "heatmapgl": [
           {
            "colorbar": {
             "outlinewidth": 0,
             "ticks": ""
            },
            "colorscale": [
             [
              0,
              "#0d0887"
             ],
             [
              0.1111111111111111,
              "#46039f"
             ],
             [
              0.2222222222222222,
              "#7201a8"
             ],
             [
              0.3333333333333333,
              "#9c179e"
             ],
             [
              0.4444444444444444,
              "#bd3786"
             ],
             [
              0.5555555555555556,
              "#d8576b"
             ],
             [
              0.6666666666666666,
              "#ed7953"
             ],
             [
              0.7777777777777778,
              "#fb9f3a"
             ],
             [
              0.8888888888888888,
              "#fdca26"
             ],
             [
              1,
              "#f0f921"
             ]
            ],
            "type": "heatmapgl"
           }
          ],
          "histogram": [
           {
            "marker": {
             "pattern": {
              "fillmode": "overlay",
              "size": 10,
              "solidity": 0.2
             }
            },
            "type": "histogram"
           }
          ],
          "histogram2d": [
           {
            "colorbar": {
             "outlinewidth": 0,
             "ticks": ""
            },
            "colorscale": [
             [
              0,
              "#0d0887"
             ],
             [
              0.1111111111111111,
              "#46039f"
             ],
             [
              0.2222222222222222,
              "#7201a8"
             ],
             [
              0.3333333333333333,
              "#9c179e"
             ],
             [
              0.4444444444444444,
              "#bd3786"
             ],
             [
              0.5555555555555556,
              "#d8576b"
             ],
             [
              0.6666666666666666,
              "#ed7953"
             ],
             [
              0.7777777777777778,
              "#fb9f3a"
             ],
             [
              0.8888888888888888,
              "#fdca26"
             ],
             [
              1,
              "#f0f921"
             ]
            ],
            "type": "histogram2d"
           }
          ],
          "histogram2dcontour": [
           {
            "colorbar": {
             "outlinewidth": 0,
             "ticks": ""
            },
            "colorscale": [
             [
              0,
              "#0d0887"
             ],
             [
              0.1111111111111111,
              "#46039f"
             ],
             [
              0.2222222222222222,
              "#7201a8"
             ],
             [
              0.3333333333333333,
              "#9c179e"
             ],
             [
              0.4444444444444444,
              "#bd3786"
             ],
             [
              0.5555555555555556,
              "#d8576b"
             ],
             [
              0.6666666666666666,
              "#ed7953"
             ],
             [
              0.7777777777777778,
              "#fb9f3a"
             ],
             [
              0.8888888888888888,
              "#fdca26"
             ],
             [
              1,
              "#f0f921"
             ]
            ],
            "type": "histogram2dcontour"
           }
          ],
          "mesh3d": [
           {
            "colorbar": {
             "outlinewidth": 0,
             "ticks": ""
            },
            "type": "mesh3d"
           }
          ],
          "parcoords": [
           {
            "line": {
             "colorbar": {
              "outlinewidth": 0,
              "ticks": ""
             }
            },
            "type": "parcoords"
           }
          ],
          "pie": [
           {
            "automargin": true,
            "type": "pie"
           }
          ],
          "scatter": [
           {
            "fillpattern": {
             "fillmode": "overlay",
             "size": 10,
             "solidity": 0.2
            },
            "type": "scatter"
           }
          ],
          "scatter3d": [
           {
            "line": {
             "colorbar": {
              "outlinewidth": 0,
              "ticks": ""
             }
            },
            "marker": {
             "colorbar": {
              "outlinewidth": 0,
              "ticks": ""
             }
            },
            "type": "scatter3d"
           }
          ],
          "scattercarpet": [
           {
            "marker": {
             "colorbar": {
              "outlinewidth": 0,
              "ticks": ""
             }
            },
            "type": "scattercarpet"
           }
          ],
          "scattergeo": [
           {
            "marker": {
             "colorbar": {
              "outlinewidth": 0,
              "ticks": ""
             }
            },
            "type": "scattergeo"
           }
          ],
          "scattergl": [
           {
            "marker": {
             "colorbar": {
              "outlinewidth": 0,
              "ticks": ""
             }
            },
            "type": "scattergl"
           }
          ],
          "scattermapbox": [
           {
            "marker": {
             "colorbar": {
              "outlinewidth": 0,
              "ticks": ""
             }
            },
            "type": "scattermapbox"
           }
          ],
          "scatterpolar": [
           {
            "marker": {
             "colorbar": {
              "outlinewidth": 0,
              "ticks": ""
             }
            },
            "type": "scatterpolar"
           }
          ],
          "scatterpolargl": [
           {
            "marker": {
             "colorbar": {
              "outlinewidth": 0,
              "ticks": ""
             }
            },
            "type": "scatterpolargl"
           }
          ],
          "scatterternary": [
           {
            "marker": {
             "colorbar": {
              "outlinewidth": 0,
              "ticks": ""
             }
            },
            "type": "scatterternary"
           }
          ],
          "surface": [
           {
            "colorbar": {
             "outlinewidth": 0,
             "ticks": ""
            },
            "colorscale": [
             [
              0,
              "#0d0887"
             ],
             [
              0.1111111111111111,
              "#46039f"
             ],
             [
              0.2222222222222222,
              "#7201a8"
             ],
             [
              0.3333333333333333,
              "#9c179e"
             ],
             [
              0.4444444444444444,
              "#bd3786"
             ],
             [
              0.5555555555555556,
              "#d8576b"
             ],
             [
              0.6666666666666666,
              "#ed7953"
             ],
             [
              0.7777777777777778,
              "#fb9f3a"
             ],
             [
              0.8888888888888888,
              "#fdca26"
             ],
             [
              1,
              "#f0f921"
             ]
            ],
            "type": "surface"
           }
          ],
          "table": [
           {
            "cells": {
             "fill": {
              "color": "#EBF0F8"
             },
             "line": {
              "color": "white"
             }
            },
            "header": {
             "fill": {
              "color": "#C8D4E3"
             },
             "line": {
              "color": "white"
             }
            },
            "type": "table"
           }
          ]
         },
         "layout": {
          "annotationdefaults": {
           "arrowcolor": "#2a3f5f",
           "arrowhead": 0,
           "arrowwidth": 1
          },
          "autotypenumbers": "strict",
          "coloraxis": {
           "colorbar": {
            "outlinewidth": 0,
            "ticks": ""
           }
          },
          "colorscale": {
           "diverging": [
            [
             0,
             "#8e0152"
            ],
            [
             0.1,
             "#c51b7d"
            ],
            [
             0.2,
             "#de77ae"
            ],
            [
             0.3,
             "#f1b6da"
            ],
            [
             0.4,
             "#fde0ef"
            ],
            [
             0.5,
             "#f7f7f7"
            ],
            [
             0.6,
             "#e6f5d0"
            ],
            [
             0.7,
             "#b8e186"
            ],
            [
             0.8,
             "#7fbc41"
            ],
            [
             0.9,
             "#4d9221"
            ],
            [
             1,
             "#276419"
            ]
           ],
           "sequential": [
            [
             0,
             "#0d0887"
            ],
            [
             0.1111111111111111,
             "#46039f"
            ],
            [
             0.2222222222222222,
             "#7201a8"
            ],
            [
             0.3333333333333333,
             "#9c179e"
            ],
            [
             0.4444444444444444,
             "#bd3786"
            ],
            [
             0.5555555555555556,
             "#d8576b"
            ],
            [
             0.6666666666666666,
             "#ed7953"
            ],
            [
             0.7777777777777778,
             "#fb9f3a"
            ],
            [
             0.8888888888888888,
             "#fdca26"
            ],
            [
             1,
             "#f0f921"
            ]
           ],
           "sequentialminus": [
            [
             0,
             "#0d0887"
            ],
            [
             0.1111111111111111,
             "#46039f"
            ],
            [
             0.2222222222222222,
             "#7201a8"
            ],
            [
             0.3333333333333333,
             "#9c179e"
            ],
            [
             0.4444444444444444,
             "#bd3786"
            ],
            [
             0.5555555555555556,
             "#d8576b"
            ],
            [
             0.6666666666666666,
             "#ed7953"
            ],
            [
             0.7777777777777778,
             "#fb9f3a"
            ],
            [
             0.8888888888888888,
             "#fdca26"
            ],
            [
             1,
             "#f0f921"
            ]
           ]
          },
          "colorway": [
           "#636efa",
           "#EF553B",
           "#00cc96",
           "#ab63fa",
           "#FFA15A",
           "#19d3f3",
           "#FF6692",
           "#B6E880",
           "#FF97FF",
           "#FECB52"
          ],
          "font": {
           "color": "#2a3f5f"
          },
          "geo": {
           "bgcolor": "white",
           "lakecolor": "white",
           "landcolor": "#E5ECF6",
           "showlakes": true,
           "showland": true,
           "subunitcolor": "white"
          },
          "hoverlabel": {
           "align": "left"
          },
          "hovermode": "closest",
          "mapbox": {
           "style": "light"
          },
          "paper_bgcolor": "white",
          "plot_bgcolor": "#E5ECF6",
          "polar": {
           "angularaxis": {
            "gridcolor": "white",
            "linecolor": "white",
            "ticks": ""
           },
           "bgcolor": "#E5ECF6",
           "radialaxis": {
            "gridcolor": "white",
            "linecolor": "white",
            "ticks": ""
           }
          },
          "scene": {
           "xaxis": {
            "backgroundcolor": "#E5ECF6",
            "gridcolor": "white",
            "gridwidth": 2,
            "linecolor": "white",
            "showbackground": true,
            "ticks": "",
            "zerolinecolor": "white"
           },
           "yaxis": {
            "backgroundcolor": "#E5ECF6",
            "gridcolor": "white",
            "gridwidth": 2,
            "linecolor": "white",
            "showbackground": true,
            "ticks": "",
            "zerolinecolor": "white"
           },
           "zaxis": {
            "backgroundcolor": "#E5ECF6",
            "gridcolor": "white",
            "gridwidth": 2,
            "linecolor": "white",
            "showbackground": true,
            "ticks": "",
            "zerolinecolor": "white"
           }
          },
          "shapedefaults": {
           "line": {
            "color": "#2a3f5f"
           }
          },
          "ternary": {
           "aaxis": {
            "gridcolor": "white",
            "linecolor": "white",
            "ticks": ""
           },
           "baxis": {
            "gridcolor": "white",
            "linecolor": "white",
            "ticks": ""
           },
           "bgcolor": "#E5ECF6",
           "caxis": {
            "gridcolor": "white",
            "linecolor": "white",
            "ticks": ""
           }
          },
          "title": {
           "x": 0.05
          },
          "xaxis": {
           "automargin": true,
           "gridcolor": "white",
           "linecolor": "white",
           "ticks": "",
           "title": {
            "standoff": 15
           },
           "zerolinecolor": "white",
           "zerolinewidth": 2
          },
          "yaxis": {
           "automargin": true,
           "gridcolor": "white",
           "linecolor": "white",
           "ticks": "",
           "title": {
            "standoff": 15
           },
           "zerolinecolor": "white",
           "zerolinewidth": 2
          }
         }
        },
        "xaxis": {
         "anchor": "y",
         "domain": [
          0,
          1
         ],
         "title": {
          "text": "0"
         }
        },
        "yaxis": {
         "anchor": "x",
         "domain": [
          0,
          1
         ],
         "title": {
          "text": "1"
         }
        }
       }
      }
     },
     "metadata": {},
     "output_type": "display_data"
    },
    {
     "data": {
      "application/vnd.plotly.v1+json": {
       "config": {
        "plotlyServerURL": "https://plot.ly"
       },
       "data": [
        {
         "hovertemplate": "color=Coto<br>0=%{x}<br>1=%{y}<extra></extra>",
         "legendgroup": "Coto",
         "marker": {
          "color": "#636efa",
          "symbol": "circle"
         },
         "mode": "markers",
         "name": "Coto",
         "orientation": "v",
         "showlegend": true,
         "type": "scatter",
         "x": [
          43.25757598876953,
          24.602819442749023,
          -3.8673412799835205,
          31.087200164794922,
          50.13224411010742,
          37.716861724853516,
          57.07991409301758,
          52.01546859741211,
          43.88579559326172,
          52.5332145690918,
          34.6207160949707,
          46.388671875,
          12.181523323059082,
          53.31360626220703,
          -43.006736755371094,
          31.520971298217773,
          7.317739963531494,
          25.553573608398438,
          25.83808708190918,
          -3.378244400024414,
          33.034019470214844,
          -14.334793090820312,
          12.245989799499512,
          40.22954177856445,
          -10.316713333129883,
          -18.78643035888672,
          -22.01994514465332,
          -19.473752975463867,
          -38.43278884887695,
          -16.14530372619629,
          4.292410850524902,
          -21.641429901123047,
          -30.22243309020996,
          -33.43849563598633,
          22.166608810424805,
          47.27131271362305,
          -35.292694091796875,
          -40.96889114379883,
          -28.729013442993164,
          -30.45572280883789,
          27.130815505981445,
          42.56535339355469,
          -10.36674976348877,
          29.893863677978516,
          16.70020294189453,
          39.19607162475586,
          32.08945083618164,
          47.07913589477539,
          -49.10896301269531,
          15.305007934570312,
          28.171398162841797,
          -37.83465576171875,
          -29.196001052856445,
          39.9114990234375,
          22.439577102661133,
          -40.1551628112793,
          -19.374168395996094,
          -37.99246597290039,
          7.96850061416626,
          44.76176071166992,
          41.25920867919922,
          -28.52198600769043,
          -28.679059982299805,
          -38.531375885009766,
          20.250341415405273,
          42.61131286621094,
          38.69102096557617,
          48.24659729003906,
          -29.909576416015625,
          10.823769569396973,
          -11.392621040344238,
          -33.492549896240234,
          -32.51679992675781,
          14.603221893310547,
          29.234695434570312,
          37.05643844604492,
          51.45622634887695,
          36.28580856323242,
          -16.662261962890625,
          19.42271614074707,
          -1.2066316604614258,
          42.8934326171875,
          45.27931213378906,
          42.226383209228516,
          38.76998519897461,
          16.374038696289062,
          -32.84797286987305,
          26.71369171142578,
          47.78380584716797,
          18.72794532775879,
          -19.7303524017334,
          14.529341697692871,
          -38.75991439819336,
          39.08595657348633,
          42.68699264526367,
          -29.78647232055664,
          28.00771713256836,
          28.66511344909668,
          -39.439117431640625,
          45.235050201416016,
          13.664399147033691,
          9.702203750610352,
          27.085166931152344,
          50.6469612121582,
          1.7901062965393066,
          30.34347915649414,
          4.857634544372559,
          45.56450271606445,
          53.495479583740234,
          20.798580169677734,
          32.787879943847656,
          12.790436744689941,
          -8.125507354736328,
          53.505985260009766,
          -8.325943946838379,
          19.76913070678711,
          23.414840698242188,
          -39.46381378173828,
          43.926143646240234,
          45.84501647949219,
          -29.72567367553711,
          -46.22608947753906,
          -37.52305603027344,
          -46.175331115722656,
          19.068023681640625,
          43.40143966674805,
          20.042259216308594,
          0.254582017660141,
          -19.251060485839844,
          10.544931411743164,
          36.15420150756836,
          -30.94269371032715,
          49.259864807128906,
          27.94243049621582,
          22.02053451538086,
          41.56112289428711,
          49.86819839477539,
          -43.56881332397461,
          -36.71878433227539,
          -39.04832077026367,
          30.440509796142578,
          7.625992298126221,
          -17.05796241760254,
          9.199960708618164,
          30.209049224853516,
          24.892934799194336,
          -25.551090240478516,
          13.564364433288574,
          28.015155792236328,
          -40.497039794921875,
          -34.35907745361328,
          34.87286376953125,
          -40.98992156982422,
          7.635768413543701,
          49.54073715209961,
          18.476375579833984,
          44.890159606933594,
          21.709787368774414,
          11.08615779876709,
          12.86709976196289,
          -41.02436065673828,
          5.676191329956055,
          -30.44563865661621,
          20.500625610351562,
          7.724541187286377,
          3.7525386810302734,
          21.474523544311523,
          -13.018977165222168,
          10.491228103637695,
          6.748887538909912,
          46.35395812988281,
          32.65250015258789,
          38.13587951660156,
          38.839664459228516,
          50.65077209472656,
          23.862884521484375,
          -49.015174865722656,
          8.041074752807617,
          -39.40868377685547,
          46.79822540283203,
          8.178329467773438,
          -43.31582260131836,
          -47.02874755859375,
          28.370349884033203,
          18.897512435913086,
          46.009605407714844,
          12.061517715454102,
          -32.97849655151367,
          19.938501358032227,
          -34.361114501953125,
          -45.82662582397461,
          -25.192968368530273,
          -38.203460693359375,
          -19.540388107299805,
          -12.318643569946289,
          -17.47745704650879,
          -25.110107421875,
          -36.190311431884766,
          22.927589416503906,
          -17.359567642211914,
          -2.333010196685791,
          9.795635223388672,
          -20.6668758392334,
          46.787418365478516,
          7.6539225578308105,
          -22.377094268798828,
          -41.51605224609375,
          10.762957572937012,
          27.594390869140625,
          -19.65825843811035,
          3.235585927963257,
          10.811580657958984,
          -16.494949340820312,
          29.594526290893555,
          -9.757058143615723,
          -41.872283935546875,
          -47.69561004638672,
          32.403324127197266,
          -21.900291442871094,
          -10.246009826660156,
          34.10187530517578,
          -39.66432571411133,
          -47.105953216552734,
          -4.744565963745117,
          -29.410791397094727,
          1.275344729423523,
          6.6301798820495605,
          18.519847869873047,
          19.432090759277344,
          14.155301094055176,
          32.93328094482422,
          -9.754077911376953,
          -5.5215067863464355,
          -35.15558624267578,
          -39.315338134765625,
          -46.50178909301758,
          -5.99817419052124,
          13.15475845336914,
          -33.804443359375,
          -34.95597457885742,
          -9.211906433105469,
          36.04585266113281,
          -14.055074691772461,
          37.30915069580078,
          2.1505563259124756,
          -35.430721282958984,
          -14.648212432861328,
          -41.43183898925781,
          -38.27030944824219,
          20.33539581298828,
          -18.49095344543457,
          31.47073745727539,
          29.69806480407715,
          30.867273330688477,
          -46.26644515991211,
          26.437456130981445,
          5.008769512176514,
          -42.351959228515625,
          -24.61446189880371,
          9.535157203674316,
          -17.981224060058594,
          30.33367919921875,
          -46.9088134765625,
          34.691429138183594,
          27.382625579833984,
          9.279930114746094,
          -34.79420852661133,
          29.24443817138672,
          -36.58751678466797
         ],
         "xaxis": "x",
         "y": [
          12.796722412109375,
          14.214890480041504,
          6.029946327209473,
          -32.48657989501953,
          3.8769333362579346,
          -26.73711585998535,
          -6.024899005889893,
          -1.7201935052871704,
          -22.921424865722656,
          -2.7040841579437256,
          -19.967910766601562,
          -1.7432634830474854,
          -8.83294677734375,
          -2.3072211742401123,
          -15.334781646728516,
          19.895126342773438,
          -2.0801398754119873,
          13.171792030334473,
          13.845746994018555,
          -3.8855321407318115,
          -29.698835372924805,
          -45.14377212524414,
          -22.348722457885742,
          -28.942216873168945,
          39.274444580078125,
          -58.307315826416016,
          -60.49662399291992,
          -59.09476089477539,
          22.444822311401367,
          -4.2767744064331055,
          4.231858730316162,
          -23.281587600708008,
          3.5988762378692627,
          11.467290878295898,
          16.27096176147461,
          0.039127152413129807,
          26.849472045898438,
          -14.64700984954834,
          17.34015655517578,
          -3.6357734203338623,
          13.25699520111084,
          14.53918170928955,
          -5.105914115905762,
          3.976386070251465,
          -37.991790771484375,
          -14.603974342346191,
          19.243478775024414,
          -0.6399030685424805,
          8.020743370056152,
          -38.02545928955078,
          -35.391170501708984,
          19.286449432373047,
          -2.3338663578033447,
          -20.84842300415039,
          -35.49854278564453,
          4.82327127456665,
          -6.780068397521973,
          0.29069626331329346,
          -16.76043128967285,
          -21.071407318115234,
          2.710919141769409,
          19.495309829711914,
          3.7208518981933594,
          -11.61832046508789,
          8.699542045593262,
          -27.959627151489258,
          -13.893136978149414,
          -1.0651838779449463,
          18.232641220092773,
          -6.080510139465332,
          5.686452388763428,
          -8.203221321105957,
          -0.45401531457901,
          17.404563903808594,
          3.601945400238037,
          -27.089210510253906,
          -2.639399290084839,
          19.161075592041016,
          -27.202880859375,
          -12.75039005279541,
          -11.697236061096191,
          -24.86649513244629,
          -22.213287353515625,
          -27.34876823425293,
          -20.737396240234375,
          -9.730230331420898,
          -8.54567813873291,
          -32.065093994140625,
          6.246187210083008,
          -12.586792945861816,
          -6.631446361541748,
          -22.17933464050293,
          -6.3071160316467285,
          -25.952333450317383,
          -26.66478157043457,
          2.292855978012085,
          8.864716529846191,
          0.573859453201294,
          1.5572935342788696,
          11.48270320892334,
          -10.759038925170898,
          -40.849456787109375,
          9.80953311920166,
          -3.8566970825195312,
          -28.643749237060547,
          19.24003791809082,
          -41.731178283691406,
          12.340132713317871,
          -4.603328704833984,
          -8.012313842773438,
          18.01658821105957,
          -9.511589050292969,
          -7.572017192840576,
          -3.7604594230651855,
          -39.458248138427734,
          -9.982251167297363,
          -35.97947311401367,
          18.719690322875977,
          11.365381240844727,
          14.497925758361816,
          18.718549728393555,
          11.220276832580566,
          16.24835205078125,
          -14.459935188293457,
          -9.950579643249512,
          15.443802833557129,
          8.340272903442383,
          -11.483508110046387,
          -30.674854278564453,
          -0.9150753617286682,
          -20.458480834960938,
          -0.7335542440414429,
          -1.2835613489151,
          -33.319332122802734,
          -31.732107162475586,
          -25.99343490600586,
          4.569081783294678,
          3.5319159030914307,
          5.138476848602295,
          8.911429405212402,
          2.3835761547088623,
          -39.70125961303711,
          -3.1227822303771973,
          -21.3612060546875,
          -20.593835830688477,
          -22.178428649902344,
          6.946671485900879,
          -22.351173400878906,
          -36.46579360961914,
          5.865031719207764,
          13.230145454406738,
          -24.341543197631836,
          11.417245864868164,
          -20.76181411743164,
          2.2370965480804443,
          -38.25957107543945,
          14.795730590820312,
          -32.58039093017578,
          -38.67168045043945,
          5.159035682678223,
          3.3879716396331787,
          -43.509193420410156,
          -2.1659739017486572,
          -11.301090240478516,
          -41.204219818115234,
          6.716405868530273,
          -10.968456268310547,
          -25.6618709564209,
          -6.562319755554199,
          -29.022262573242188,
          -4.972362995147705,
          -28.166187286376953,
          -10.43252944946289,
          -11.205804824829102,
          4.9511895179748535,
          -36.96065902709961,
          12.965180397033691,
          -25.244054794311523,
          -7.065298080444336,
          -4.222413063049316,
          -26.552400588989258,
          18.90237808227539,
          20.174545288085938,
          -0.4028802216053009,
          -11.735628128051758,
          11.280304908752441,
          -10.142910957336426,
          0.6693241596221924,
          22.1000919342041,
          18.528915405273438,
          12.357986450195312,
          -62.45756530761719,
          -2.682202100753784,
          -56.345497131347656,
          -45.2872200012207,
          -57.5608024597168,
          -61.53418731689453,
          -4.045253753662109,
          -33.33448028564453,
          -55.04670333862305,
          -34.47207260131836,
          2.140158176422119,
          -62.4600944519043,
          -5.312408924102783,
          -40.82041549682617,
          -58.17782974243164,
          -14.197284698486328,
          -2.651817560195923,
          -1.576554298400879,
          -62.93429946899414,
          -41.908424377441406,
          -34.919837951660156,
          0.443797767162323,
          -20.53980255126953,
          -27.430461883544922,
          12.226656913757324,
          4.883319854736328,
          -31.704984664916992,
          6.227148532867432,
          -43.09274673461914,
          -32.19071960449219,
          -6.733285427093506,
          -9.703414916992188,
          -5.037670135498047,
          4.071143627166748,
          -28.062698364257812,
          0.2846944332122803,
          -35.896358489990234,
          -32.40393829345703,
          4.520169734954834,
          -31.193967819213867,
          -5.827663421630859,
          -29.748323440551758,
          14.37641429901123,
          -2.046445369720459,
          4.332309722900391,
          -28.72962760925293,
          16.81806755065918,
          -0.47247105836868286,
          20.423261642456055,
          -34.69518280029297,
          -12.298489570617676,
          -25.96848487854004,
          -12.447843551635742,
          -41.38447952270508,
          20.063945770263672,
          -46.5514030456543,
          5.558104515075684,
          8.186306953430176,
          -8.618060111999512,
          -2.597412347793579,
          -5.321152210235596,
          -17.273019790649414,
          -4.196348190307617,
          -10.135159492492676,
          -4.238011360168457,
          -17.11714744567871,
          -15.062496185302734,
          -26.15451431274414,
          -38.26719284057617,
          -29.41769790649414,
          -3.855847120285034,
          -7.775972843170166,
          -26.943735122680664,
          -18.217575073242188,
          -36.69699478149414,
          22.208452224731445,
          -3.7083191871643066,
          19.293333053588867
         ],
         "yaxis": "y"
        },
        {
         "hovertemplate": "color=Laci<br>0=%{x}<br>1=%{y}<extra></extra>",
         "legendgroup": "Laci",
         "marker": {
          "color": "#EF553B",
          "symbol": "circle"
         },
         "mode": "markers",
         "name": "Laci",
         "orientation": "v",
         "showlegend": true,
         "type": "scatter",
         "x": [
          19.937572479248047,
          46.626609802246094,
          -40.09022521972656,
          -34.10401153564453,
          -9.357207298278809,
          -47.494014739990234,
          -38.4157829284668,
          -36.9710693359375,
          10.348319053649902,
          32.00202941894531,
          4.090299606323242,
          -10.680672645568848,
          19.722414016723633,
          3.272003650665283,
          -42.76556396484375,
          -45.15564727783203,
          -39.528770446777344,
          -16.955265045166016,
          -2.610835075378418,
          -13.062994003295898,
          -36.361427307128906,
          -37.64651870727539,
          6.581667423248291,
          -33.13447570800781,
          -37.362850189208984,
          30.005369186401367,
          -21.491525650024414,
          16.640037536621094,
          -22.380367279052734,
          -47.17020034790039,
          0.6383212804794312,
          1.9765841960906982,
          -45.39700698852539,
          -46.410987854003906,
          48.477638244628906,
          5.704092979431152,
          42.30009078979492,
          -7.6880412101745605,
          40.37685012817383,
          -36.70268249511719,
          42.44831848144531,
          -36.51321792602539,
          2.792863607406616,
          -46.708160400390625,
          -46.44709777832031,
          -34.064918518066406,
          3.6610770225524902,
          47.749969482421875,
          -31.044313430786133,
          -42.13758087158203,
          8.530651092529297,
          14.051987648010254,
          -41.806243896484375,
          -17.95062828063965,
          18.92242431640625,
          -15.607468605041504,
          -19.99437713623047,
          -13.42713451385498,
          -23.485427856445312,
          -22.269994735717773,
          -18.857620239257812,
          -33.8497314453125,
          -19.990610122680664,
          -25.084857940673828,
          -14.264687538146973,
          -16.511756896972656,
          -21.088958740234375,
          -23.42405128479004,
          -18.767250061035156,
          -11.976969718933105,
          -14.244999885559082,
          33.78790283203125,
          -11.614483833312988,
          28.885574340820312,
          -17.06963348388672,
          34.87468338012695,
          -25.860864639282227,
          -36.38390350341797,
          7.090083122253418,
          35.421356201171875,
          -13.112332344055176,
          2.032724618911743,
          -24.09499168395996,
          6.51672887802124,
          -8.578311920166016,
          28.812070846557617,
          -35.75519943237305,
          0.4551005959510803,
          2.6107306480407715,
          -1.637149691581726,
          -0.8087639212608337,
          -16.007442474365234,
          0.40828537940979004,
          7.452234745025635,
          1.3551663160324097,
          -0.5394535064697266,
          -14.252065658569336,
          -0.7750142812728882,
          0.9501059055328369,
          -9.220165252685547,
          -1.2183337211608887,
          -0.7233543992042542,
          -0.22812484204769135,
          -44.067813873291016,
          15.613007545471191,
          1.3626443147659302,
          1.6588233709335327,
          -23.245243072509766,
          -45.942291259765625,
          32.922855377197266,
          25.122520446777344,
          54.54732894897461,
          -23.368375778198242,
          -12.35457706451416,
          9.672012329101562,
          -0.7914705872535706,
          -17.097017288208008,
          -12.683616638183594,
          36.53296661376953,
          -2.283984661102295,
          -44.764522552490234,
          10.678244590759277,
          1.1658461093902588,
          -11.482884407043457,
          -4.675742149353027,
          -14.642769813537598,
          24.29090690612793,
          6.168239593505859,
          36.6895637512207,
          -9.176177024841309,
          47.5584831237793,
          20.5318603515625,
          34.9935302734375,
          -48.2072868347168,
          43.394466400146484,
          5.422689437866211,
          -16.886127471923828
         ],
         "xaxis": "x",
         "y": [
          43.67292785644531,
          -22.58146095275879,
          2.8799664974212646,
          6.761134624481201,
          -26.367183685302734,
          2.8227412700653076,
          -15.63714599609375,
          25.010761260986328,
          -37.27171325683594,
          -26.45783042907715,
          37.565948486328125,
          10.324082374572754,
          42.213356018066406,
          -33.657508850097656,
          -13.199970245361328,
          11.725686073303223,
          -12.895069122314453,
          -31.162803649902344,
          75.36510467529297,
          -25.033180236816406,
          23.06978416442871,
          9.50308895111084,
          4.925544261932373,
          11.02375316619873,
          -1.7276135683059692,
          -33.576194763183594,
          -22.412521362304688,
          -37.295677185058594,
          -11.17961597442627,
          -11.817773818969727,
          -39.528846740722656,
          -35.17612075805664,
          19.557281494140625,
          13.434678077697754,
          6.6737895011901855,
          1.5177154541015625,
          2.483011484146118,
          -30.464441299438477,
          -21.29397964477539,
          15.855079650878906,
          2.326663017272949,
          23.652212142944336,
          -34.437278747558594,
          13.098198890686035,
          -12.04723834991455,
          19.68852424621582,
          -30.969606399536133,
          8.87420654296875,
          -4.6023383140563965,
          -17.63341522216797,
          -22.93022346496582,
          6.462662220001221,
          -18.620384216308594,
          -28.466941833496094,
          -33.81468200683594,
          -47.415855407714844,
          -56.836578369140625,
          -62.969364166259766,
          -57.58761978149414,
          -61.202335357666016,
          -52.68316650390625,
          -5.899249076843262,
          -51.76717758178711,
          -59.028541564941406,
          -63.97575378417969,
          -57.696842193603516,
          -56.68498229980469,
          -59.39431381225586,
          -61.268062591552734,
          -63.29697036743164,
          -62.307342529296875,
          -17.321035385131836,
          -44.088340759277344,
          6.891035079956055,
          -62.00436782836914,
          19.312604904174805,
          -6.7551727294921875,
          5.310976505279541,
          -17.096698760986328,
          -16.43472671508789,
          -4.655468463897705,
          -29.43047523498535,
          -25.657779693603516,
          -17.609764099121094,
          -7.113539218902588,
          8.35096549987793,
          -2.2998745441436768,
          80.42141723632812,
          42.69807052612305,
          76.74044799804688,
          78.98651123046875,
          -61.507911682128906,
          79.29217529296875,
          35.598079681396484,
          79.52532958984375,
          75.81929016113281,
          32.744503021240234,
          79.93959045410156,
          76.45297241210938,
          7.493626594543457,
          74.54935455322266,
          77.44117736816406,
          76.93114471435547,
          -16.140207290649414,
          37.86510467529297,
          78.65937042236328,
          76.94062805175781,
          -56.754337310791016,
          19.745941162109375,
          -27.274978637695312,
          -31.133684158325195,
          -0.9241982102394104,
          -56.020240783691406,
          -61.758995056152344,
          -1.5205260515213013,
          -11.630827903747559,
          -51.6381950378418,
          -29.850704193115234,
          -11.436168670654297,
          15.277204513549805,
          -13.918420791625977,
          -4.463691234588623,
          -42.61836242675781,
          -30.403282165527344,
          -29.67852020263672,
          7.28285551071167,
          -21.931241989135742,
          3.0820722579956055,
          -16.345504760742188,
          3.8665664196014404,
          9.262776374816895,
          -32.951725006103516,
          -15.61680793762207,
          -8.954115867614746,
          14.388269424438477,
          4.153309345245361,
          -61.07693099975586
         ],
         "yaxis": "y"
        },
        {
         "hovertemplate": "color=Anpa<br>0=%{x}<br>1=%{y}<extra></extra>",
         "legendgroup": "Anpa",
         "marker": {
          "color": "#00cc96",
          "symbol": "circle"
         },
         "mode": "markers",
         "name": "Anpa",
         "orientation": "v",
         "showlegend": true,
         "type": "scatter",
         "x": [
          -8.964363098144531,
          -34.900569915771484,
          -14.560613632202148,
          3.0259768962860107,
          28.338598251342773,
          -8.188166618347168,
          -17.826610565185547,
          27.494291305541992,
          -0.4478152096271515,
          -1.6020855903625488,
          -11.179537773132324,
          6.935446739196777,
          26.995132446289062,
          -9.656553268432617,
          6.1864776611328125,
          24.05484390258789,
          -7.970466136932373,
          -17.54693031311035,
          -7.651127815246582,
          -22.383983612060547,
          -18.53547477722168,
          0.21354135870933533,
          -12.403485298156738,
          -22.724388122558594,
          -21.964885711669922,
          26.61056900024414,
          38.533870697021484,
          -8.679778099060059,
          -11.809280395507812,
          -1.414757490158081,
          -4.316102981567383,
          -17.934856414794922,
          25.10276222229004,
          -0.9744175672531128,
          6.923679828643799,
          -18.352798461914062,
          7.5294718742370605,
          -47.22203063964844,
          -0.09047561138868332,
          -12.233675956726074,
          17.821352005004883,
          -8.73597526550293,
          -11.763378143310547,
          -15.507761001586914,
          -18.683818817138672,
          -4.576719760894775,
          -4.9868550300598145,
          1.8603510856628418,
          -11.035236358642578,
          7.621547222137451,
          -17.482460021972656,
          -19.419326782226562,
          -43.988014221191406,
          -18.959373474121094,
          -6.847162246704102,
          22.363502502441406,
          22.432374954223633,
          15.968547821044922,
          -25.81604766845703,
          9.09516429901123,
          12.396905899047852,
          10.591361045837402,
          -16.6400146484375,
          6.804348945617676,
          21.852556228637695,
          -48.73670196533203,
          15.811360359191895,
          23.8148136138916,
          24.711835861206055,
          0.5832250118255615,
          7.6469597816467285,
          -9.613321304321289,
          2.7626307010650635,
          -15.84980583190918,
          12.110818862915039,
          -0.9198909997940063,
          -16.758434295654297,
          -18.896432876586914,
          0.10885077714920044,
          15.954450607299805,
          7.557301044464111,
          1.2592484951019287,
          15.866145133972168,
          8.715088844299316,
          -10.787696838378906,
          -5.620866775512695,
          22.655540466308594,
          -2.860370397567749,
          11.926508903503418,
          -4.255113124847412,
          8.072407722473145,
          -2.931518077850342,
          -2.536803960800171,
          -3.7502479553222656,
          20.038389205932617,
          2.934633731842041,
          3.485401153564453,
          10.286776542663574,
          -2.3472440242767334,
          20.604032516479492,
          0.389390230178833,
          20.91257095336914,
          -10.478106498718262,
          22.37877655029297,
          -16.30706787109375,
          13.0958251953125,
          -15.232196807861328,
          23.777006149291992,
          22.007089614868164,
          -11.162534713745117,
          2.136690616607666,
          -21.228473663330078,
          -16.840457916259766,
          -11.823533058166504,
          12.612883567810059,
          -10.711790084838867,
          -11.057859420776367,
          -3.7917208671569824,
          -15.977465629577637,
          -9.155925750732422,
          -11.945334434509277,
          -3.9357306957244873,
          3.9564526081085205,
          13.442852973937988,
          26.42801284790039,
          -16.039703369140625,
          -11.277355194091797,
          -11.002459526062012,
          -6.213916778564453,
          28.908100128173828,
          57.02766036987305,
          -4.946664810180664,
          22.134416580200195,
          1.9255986213684082,
          -16.846717834472656,
          -13.990285873413086,
          -14.166863441467285,
          -17.43817710876465,
          13.493017196655273,
          -9.809880256652832,
          -14.548598289489746,
          -14.020066261291504,
          2.119267225265503,
          12.098992347717285,
          -21.842098236083984,
          7.065598487854004,
          5.782193660736084,
          -0.6746174693107605,
          4.77920389175415,
          4.622435092926025,
          0.4744561016559601,
          9.992694854736328,
          21.9630069732666,
          -13.767388343811035,
          22.143625259399414,
          0.043901264667510986,
          -4.986445426940918,
          10.618778228759766,
          15.217769622802734,
          4.419999122619629,
          33.441593170166016,
          -15.471366882324219,
          13.769880294799805,
          1.5854159593582153,
          45.25825881958008,
          20.712553024291992,
          -8.054067611694336,
          -20.213356018066406,
          -11.304893493652344,
          25.171953201293945,
          -7.539137363433838,
          -17.758392333984375,
          22.69219207763672,
          -11.209491729736328,
          26.960365295410156,
          27.071147918701172,
          25.997051239013672,
          -19.427942276000977,
          14.935625076293945,
          13.589402198791504,
          56.34226608276367,
          -13.994863510131836,
          -2.214559316635132,
          7.979811191558838,
          11.569716453552246,
          -4.141125679016113,
          14.554282188415527,
          -8.085363388061523,
          5.854112148284912,
          -41.6754150390625,
          -3.44077467918396,
          -13.169919967651367,
          14.116206169128418,
          -17.228614807128906,
          -12.737387657165527,
          8.616378784179688,
          -4.87150239944458,
          2.2001800537109375,
          -7.062505722045898,
          11.689311027526855,
          -2.7900023460388184,
          -10.00805950164795,
          -7.68973445892334,
          17.212848663330078,
          -2.368450880050659,
          -24.93904685974121,
          4.272109508514404,
          -3.2601640224456787,
          22.763874053955078,
          10.820216178894043,
          -37.615150451660156,
          -13.489431381225586,
          -10.83741283416748,
          9.46783447265625,
          10.803678512573242,
          -8.921372413635254,
          21.281444549560547,
          -18.61331558227539,
          54.5300178527832,
          10.922540664672852,
          15.131246566772461,
          -13.701335906982422,
          -28.356718063354492,
          -4.528110504150391,
          -20.584754943847656,
          -6.199021339416504,
          -19.192157745361328,
          -31.382205963134766,
          13.81911849975586,
          7.429546356201172,
          -2.268792152404785,
          0.7577160000801086,
          -33.29511642456055,
          -24.25389862060547,
          -11.86331558227539,
          29.494394302368164,
          -10.130990028381348,
          -22.201553344726562,
          3.6469619274139404,
          7.715031623840332,
          -19.61111068725586,
          29.19980239868164,
          34.31721496582031,
          -16.113771438598633,
          1.125160574913025,
          11.385416030883789,
          -42.19971466064453,
          35.18375015258789,
          -46.6895751953125,
          57.10541915893555,
          -42.76040267944336,
          33.81991195678711,
          9.19284725189209,
          -15.283074378967285,
          -11.659040451049805,
          -10.093891143798828,
          -29.006919860839844,
          8.239355087280273,
          -9.600507736206055,
          -3.498358964920044,
          16.794532775878906,
          14.571569442749023,
          1.3535408973693848,
          -15.099613189697266,
          -8.219904899597168,
          21.22139549255371,
          19.23055648803711,
          1.7841936349868774,
          -29.578691482543945,
          -24.889379501342773,
          -3.838625431060791,
          -10.698163032531738,
          13.57096004486084,
          2.109612464904785,
          -15.931928634643555,
          -15.751132011413574,
          -42.239471435546875,
          0.9798600077629089,
          1.291774868965149,
          -8.376158714294434,
          -16.011512756347656,
          14.583928108215332,
          -14.078461647033691,
          -4.2784528732299805,
          -15.529380798339844,
          0.9773703217506409,
          -10.27215576171875
         ],
         "xaxis": "x",
         "y": [
          -32.616878509521484,
          -1.5639456510543823,
          7.078360557556152,
          6.217123985290527,
          -23.76182746887207,
          -32.260807037353516,
          -2.1628596782684326,
          -25.690261840820312,
          -34.78751754760742,
          6.534445285797119,
          -45.71308517456055,
          -28.5277042388916,
          -23.675596237182617,
          -33.150428771972656,
          -42.014278411865234,
          -31.601049423217773,
          -33.46891403198242,
          -52.672367095947266,
          -32.7921028137207,
          34.54350280761719,
          -4.1509785652160645,
          -34.93846893310547,
          -59.12379837036133,
          6.027764320373535,
          -24.305509567260742,
          -24.32825469970703,
          -29.69738006591797,
          32.85240173339844,
          33.752540588378906,
          14.911616325378418,
          40.30085372924805,
          45.72611999511719,
          26.084705352783203,
          46.68048095703125,
          28.075965881347656,
          49.12495040893555,
          10.21422290802002,
          -7.867082118988037,
          45.74538040161133,
          -31.474489212036133,
          28.33328628540039,
          30.867778778076172,
          -20.284027099609375,
          -21.590280532836914,
          49.59680938720703,
          36.76161575317383,
          15.915121078491211,
          35.70374298095703,
          8.526087760925293,
          33.564701080322266,
          -25.98152732849121,
          43.8357048034668,
          -13.287860870361328,
          -41.9861946105957,
          43.597190856933594,
          35.61579132080078,
          16.404130935668945,
          24.24296760559082,
          -62.219276428222656,
          36.61878204345703,
          22.087106704711914,
          35.237953186035156,
          2.1817078590393066,
          27.01093864440918,
          35.85239028930664,
          8.367223739624023,
          35.84751510620117,
          35.62565231323242,
          10.98024845123291,
          43.575130462646484,
          40.68134689331055,
          33.65085220336914,
          16.312681198120117,
          -50.21092224121094,
          21.142189025878906,
          5.964715003967285,
          25.679819107055664,
          44.21492004394531,
          6.8773369789123535,
          31.54300308227539,
          12.03257942199707,
          14.264671325683594,
          28.763662338256836,
          11.778409957885742,
          31.94390106201172,
          33.48146057128906,
          18.52791404724121,
          31.052827835083008,
          29.865869522094727,
          34.43751525878906,
          11.324846267700195,
          -22.53723907470703,
          6.137734889984131,
          -23.75336265563965,
          24.982324600219727,
          -2.228956460952759,
          -3.2826361656188965,
          -33.86579895019531,
          -22.744197845458984,
          23.976865768432617,
          6.247131824493408,
          23.14704704284668,
          -39.93750762939453,
          19.316186904907227,
          -2.6315958499908447,
          31.529361724853516,
          41.244258880615234,
          26.32007598876953,
          24.370134353637695,
          37.19508743286133,
          -3.101715564727783,
          6.362651824951172,
          27.374732971191406,
          -62.198081970214844,
          5.258022308349609,
          7.181637287139893,
          34.921165466308594,
          16.20981788635254,
          25.36147689819336,
          34.41910171508789,
          36.27156448364258,
          -20.69049644470215,
          26.794151306152344,
          29.104822158813477,
          25.12467384338379,
          39.55984115600586,
          -41.79604721069336,
          -3.723656177520752,
          -22.81926155090332,
          -18.720577239990234,
          -4.038512706756592,
          26.61485481262207,
          30.844497680664062,
          37.90580368041992,
          38.06244659423828,
          45.66238021850586,
          44.089996337890625,
          25.456998825073242,
          37.26606369018555,
          -37.30241012573242,
          -47.615638732910156,
          44.418853759765625,
          36.7361946105957,
          29.177629470825195,
          -8.355899810791016,
          34.70825958251953,
          39.1540412902832,
          45.93301010131836,
          26.846920013427734,
          27.911495208740234,
          15.246889114379883,
          28.759883880615234,
          34.303077697753906,
          -29.33415985107422,
          41.18436050415039,
          41.692657470703125,
          30.57565689086914,
          42.32573318481445,
          32.57136154174805,
          -3.9724178314208984,
          -26.88141441345215,
          2.4557549953460693,
          32.067867279052734,
          16.979755401611328,
          -19.60133171081543,
          41.97797393798828,
          34.478004455566406,
          43.59622573852539,
          -20.313058853149414,
          11.906980514526367,
          -21.26465606689453,
          0.47656744718551636,
          29.79657554626465,
          6.706452369689941,
          32.91814041137695,
          32.68463134765625,
          -4.613769054412842,
          50.57988357543945,
          26.79677963256836,
          24.94805908203125,
          -3.311657190322876,
          14.469056129455566,
          39.866737365722656,
          34.90738296508789,
          40.196441650390625,
          27.117464065551758,
          25.903850555419922,
          8.060894966125488,
          38.2636604309082,
          18.3731689453125,
          26.228641510009766,
          -20.552963256835938,
          26.910429000854492,
          37.073543548583984,
          35.156219482421875,
          -0.40514761209487915,
          37.1654167175293,
          40.468196868896484,
          42.13312911987305,
          18.768918991088867,
          41.301143646240234,
          2.9296443462371826,
          42.00641632080078,
          -36.76200485229492,
          -29.514753341674805,
          7.037200450897217,
          2.308960199356079,
          -3.8985917568206787,
          26.093730926513672,
          43.54539489746094,
          18.29219627380371,
          46.403724670410156,
          38.00727081298828,
          -26.956539154052734,
          41.06557083129883,
          2.250124454498291,
          42.81019973754883,
          37.0617790222168,
          -0.20693767070770264,
          0.29006192088127136,
          36.01017761230469,
          2.8129806518554688,
          -9.705625534057617,
          33.391082763671875,
          -25.129621505737305,
          -18.721057891845703,
          -41.54072570800781,
          -9.053245544433594,
          19.76000213623047,
          -21.365310668945312,
          -12.159192085266113,
          -4.083950042724609,
          -10.763178825378418,
          -6.167117595672607,
          -6.766378402709961,
          -18.505889892578125,
          -39.68892288208008,
          -9.559072494506836,
          9.221489906311035,
          2.8257782459259033,
          36.867427825927734,
          18.36743927001953,
          -18.78849983215332,
          -29.520835876464844,
          -25.365135192871094,
          20.704622268676758,
          4.912651538848877,
          -12.937396049499512,
          4.769654750823975,
          -5.4740705490112305,
          -10.552637100219727,
          19.34830665588379,
          5.024435997009277,
          -27.81085968017578,
          -28.867467880249023,
          4.7435526847839355,
          -9.705557823181152,
          3.8664324283599854,
          35.456451416015625,
          41.34528350830078,
          40.34461975097656,
          3.9311835765838623,
          13.412687301635742,
          28.141847610473633,
          24.128477096557617,
          -33.47978973388672,
          41.44894790649414,
          19.284507751464844,
          -4.6555352210998535,
          -5.931890487670898,
          -22.696073532104492,
          23.586795806884766,
          17.839073181152344,
          34.40205383300781,
          -31.93822479248047,
          0.9711548686027527,
          3.849640130996704,
          42.26012420654297,
          40.21245574951172,
          23.81407928466797,
          27.528182983398438,
          29.243961334228516,
          33.689170837402344,
          30.936269760131836,
          26.261947631835938,
          -39.93402099609375,
          23.92489242553711
         ],
         "yaxis": "y"
        }
       ],
       "layout": {
        "legend": {
         "title": {
          "text": "color"
         },
         "tracegroupgap": 0
        },
        "margin": {
         "t": 60
        },
        "template": {
         "data": {
          "bar": [
           {
            "error_x": {
             "color": "#2a3f5f"
            },
            "error_y": {
             "color": "#2a3f5f"
            },
            "marker": {
             "line": {
              "color": "#E5ECF6",
              "width": 0.5
             },
             "pattern": {
              "fillmode": "overlay",
              "size": 10,
              "solidity": 0.2
             }
            },
            "type": "bar"
           }
          ],
          "barpolar": [
           {
            "marker": {
             "line": {
              "color": "#E5ECF6",
              "width": 0.5
             },
             "pattern": {
              "fillmode": "overlay",
              "size": 10,
              "solidity": 0.2
             }
            },
            "type": "barpolar"
           }
          ],
          "carpet": [
           {
            "aaxis": {
             "endlinecolor": "#2a3f5f",
             "gridcolor": "white",
             "linecolor": "white",
             "minorgridcolor": "white",
             "startlinecolor": "#2a3f5f"
            },
            "baxis": {
             "endlinecolor": "#2a3f5f",
             "gridcolor": "white",
             "linecolor": "white",
             "minorgridcolor": "white",
             "startlinecolor": "#2a3f5f"
            },
            "type": "carpet"
           }
          ],
          "choropleth": [
           {
            "colorbar": {
             "outlinewidth": 0,
             "ticks": ""
            },
            "type": "choropleth"
           }
          ],
          "contour": [
           {
            "colorbar": {
             "outlinewidth": 0,
             "ticks": ""
            },
            "colorscale": [
             [
              0,
              "#0d0887"
             ],
             [
              0.1111111111111111,
              "#46039f"
             ],
             [
              0.2222222222222222,
              "#7201a8"
             ],
             [
              0.3333333333333333,
              "#9c179e"
             ],
             [
              0.4444444444444444,
              "#bd3786"
             ],
             [
              0.5555555555555556,
              "#d8576b"
             ],
             [
              0.6666666666666666,
              "#ed7953"
             ],
             [
              0.7777777777777778,
              "#fb9f3a"
             ],
             [
              0.8888888888888888,
              "#fdca26"
             ],
             [
              1,
              "#f0f921"
             ]
            ],
            "type": "contour"
           }
          ],
          "contourcarpet": [
           {
            "colorbar": {
             "outlinewidth": 0,
             "ticks": ""
            },
            "type": "contourcarpet"
           }
          ],
          "heatmap": [
           {
            "colorbar": {
             "outlinewidth": 0,
             "ticks": ""
            },
            "colorscale": [
             [
              0,
              "#0d0887"
             ],
             [
              0.1111111111111111,
              "#46039f"
             ],
             [
              0.2222222222222222,
              "#7201a8"
             ],
             [
              0.3333333333333333,
              "#9c179e"
             ],
             [
              0.4444444444444444,
              "#bd3786"
             ],
             [
              0.5555555555555556,
              "#d8576b"
             ],
             [
              0.6666666666666666,
              "#ed7953"
             ],
             [
              0.7777777777777778,
              "#fb9f3a"
             ],
             [
              0.8888888888888888,
              "#fdca26"
             ],
             [
              1,
              "#f0f921"
             ]
            ],
            "type": "heatmap"
           }
          ],
          "heatmapgl": [
           {
            "colorbar": {
             "outlinewidth": 0,
             "ticks": ""
            },
            "colorscale": [
             [
              0,
              "#0d0887"
             ],
             [
              0.1111111111111111,
              "#46039f"
             ],
             [
              0.2222222222222222,
              "#7201a8"
             ],
             [
              0.3333333333333333,
              "#9c179e"
             ],
             [
              0.4444444444444444,
              "#bd3786"
             ],
             [
              0.5555555555555556,
              "#d8576b"
             ],
             [
              0.6666666666666666,
              "#ed7953"
             ],
             [
              0.7777777777777778,
              "#fb9f3a"
             ],
             [
              0.8888888888888888,
              "#fdca26"
             ],
             [
              1,
              "#f0f921"
             ]
            ],
            "type": "heatmapgl"
           }
          ],
          "histogram": [
           {
            "marker": {
             "pattern": {
              "fillmode": "overlay",
              "size": 10,
              "solidity": 0.2
             }
            },
            "type": "histogram"
           }
          ],
          "histogram2d": [
           {
            "colorbar": {
             "outlinewidth": 0,
             "ticks": ""
            },
            "colorscale": [
             [
              0,
              "#0d0887"
             ],
             [
              0.1111111111111111,
              "#46039f"
             ],
             [
              0.2222222222222222,
              "#7201a8"
             ],
             [
              0.3333333333333333,
              "#9c179e"
             ],
             [
              0.4444444444444444,
              "#bd3786"
             ],
             [
              0.5555555555555556,
              "#d8576b"
             ],
             [
              0.6666666666666666,
              "#ed7953"
             ],
             [
              0.7777777777777778,
              "#fb9f3a"
             ],
             [
              0.8888888888888888,
              "#fdca26"
             ],
             [
              1,
              "#f0f921"
             ]
            ],
            "type": "histogram2d"
           }
          ],
          "histogram2dcontour": [
           {
            "colorbar": {
             "outlinewidth": 0,
             "ticks": ""
            },
            "colorscale": [
             [
              0,
              "#0d0887"
             ],
             [
              0.1111111111111111,
              "#46039f"
             ],
             [
              0.2222222222222222,
              "#7201a8"
             ],
             [
              0.3333333333333333,
              "#9c179e"
             ],
             [
              0.4444444444444444,
              "#bd3786"
             ],
             [
              0.5555555555555556,
              "#d8576b"
             ],
             [
              0.6666666666666666,
              "#ed7953"
             ],
             [
              0.7777777777777778,
              "#fb9f3a"
             ],
             [
              0.8888888888888888,
              "#fdca26"
             ],
             [
              1,
              "#f0f921"
             ]
            ],
            "type": "histogram2dcontour"
           }
          ],
          "mesh3d": [
           {
            "colorbar": {
             "outlinewidth": 0,
             "ticks": ""
            },
            "type": "mesh3d"
           }
          ],
          "parcoords": [
           {
            "line": {
             "colorbar": {
              "outlinewidth": 0,
              "ticks": ""
             }
            },
            "type": "parcoords"
           }
          ],
          "pie": [
           {
            "automargin": true,
            "type": "pie"
           }
          ],
          "scatter": [
           {
            "fillpattern": {
             "fillmode": "overlay",
             "size": 10,
             "solidity": 0.2
            },
            "type": "scatter"
           }
          ],
          "scatter3d": [
           {
            "line": {
             "colorbar": {
              "outlinewidth": 0,
              "ticks": ""
             }
            },
            "marker": {
             "colorbar": {
              "outlinewidth": 0,
              "ticks": ""
             }
            },
            "type": "scatter3d"
           }
          ],
          "scattercarpet": [
           {
            "marker": {
             "colorbar": {
              "outlinewidth": 0,
              "ticks": ""
             }
            },
            "type": "scattercarpet"
           }
          ],
          "scattergeo": [
           {
            "marker": {
             "colorbar": {
              "outlinewidth": 0,
              "ticks": ""
             }
            },
            "type": "scattergeo"
           }
          ],
          "scattergl": [
           {
            "marker": {
             "colorbar": {
              "outlinewidth": 0,
              "ticks": ""
             }
            },
            "type": "scattergl"
           }
          ],
          "scattermapbox": [
           {
            "marker": {
             "colorbar": {
              "outlinewidth": 0,
              "ticks": ""
             }
            },
            "type": "scattermapbox"
           }
          ],
          "scatterpolar": [
           {
            "marker": {
             "colorbar": {
              "outlinewidth": 0,
              "ticks": ""
             }
            },
            "type": "scatterpolar"
           }
          ],
          "scatterpolargl": [
           {
            "marker": {
             "colorbar": {
              "outlinewidth": 0,
              "ticks": ""
             }
            },
            "type": "scatterpolargl"
           }
          ],
          "scatterternary": [
           {
            "marker": {
             "colorbar": {
              "outlinewidth": 0,
              "ticks": ""
             }
            },
            "type": "scatterternary"
           }
          ],
          "surface": [
           {
            "colorbar": {
             "outlinewidth": 0,
             "ticks": ""
            },
            "colorscale": [
             [
              0,
              "#0d0887"
             ],
             [
              0.1111111111111111,
              "#46039f"
             ],
             [
              0.2222222222222222,
              "#7201a8"
             ],
             [
              0.3333333333333333,
              "#9c179e"
             ],
             [
              0.4444444444444444,
              "#bd3786"
             ],
             [
              0.5555555555555556,
              "#d8576b"
             ],
             [
              0.6666666666666666,
              "#ed7953"
             ],
             [
              0.7777777777777778,
              "#fb9f3a"
             ],
             [
              0.8888888888888888,
              "#fdca26"
             ],
             [
              1,
              "#f0f921"
             ]
            ],
            "type": "surface"
           }
          ],
          "table": [
           {
            "cells": {
             "fill": {
              "color": "#EBF0F8"
             },
             "line": {
              "color": "white"
             }
            },
            "header": {
             "fill": {
              "color": "#C8D4E3"
             },
             "line": {
              "color": "white"
             }
            },
            "type": "table"
           }
          ]
         },
         "layout": {
          "annotationdefaults": {
           "arrowcolor": "#2a3f5f",
           "arrowhead": 0,
           "arrowwidth": 1
          },
          "autotypenumbers": "strict",
          "coloraxis": {
           "colorbar": {
            "outlinewidth": 0,
            "ticks": ""
           }
          },
          "colorscale": {
           "diverging": [
            [
             0,
             "#8e0152"
            ],
            [
             0.1,
             "#c51b7d"
            ],
            [
             0.2,
             "#de77ae"
            ],
            [
             0.3,
             "#f1b6da"
            ],
            [
             0.4,
             "#fde0ef"
            ],
            [
             0.5,
             "#f7f7f7"
            ],
            [
             0.6,
             "#e6f5d0"
            ],
            [
             0.7,
             "#b8e186"
            ],
            [
             0.8,
             "#7fbc41"
            ],
            [
             0.9,
             "#4d9221"
            ],
            [
             1,
             "#276419"
            ]
           ],
           "sequential": [
            [
             0,
             "#0d0887"
            ],
            [
             0.1111111111111111,
             "#46039f"
            ],
            [
             0.2222222222222222,
             "#7201a8"
            ],
            [
             0.3333333333333333,
             "#9c179e"
            ],
            [
             0.4444444444444444,
             "#bd3786"
            ],
            [
             0.5555555555555556,
             "#d8576b"
            ],
            [
             0.6666666666666666,
             "#ed7953"
            ],
            [
             0.7777777777777778,
             "#fb9f3a"
            ],
            [
             0.8888888888888888,
             "#fdca26"
            ],
            [
             1,
             "#f0f921"
            ]
           ],
           "sequentialminus": [
            [
             0,
             "#0d0887"
            ],
            [
             0.1111111111111111,
             "#46039f"
            ],
            [
             0.2222222222222222,
             "#7201a8"
            ],
            [
             0.3333333333333333,
             "#9c179e"
            ],
            [
             0.4444444444444444,
             "#bd3786"
            ],
            [
             0.5555555555555556,
             "#d8576b"
            ],
            [
             0.6666666666666666,
             "#ed7953"
            ],
            [
             0.7777777777777778,
             "#fb9f3a"
            ],
            [
             0.8888888888888888,
             "#fdca26"
            ],
            [
             1,
             "#f0f921"
            ]
           ]
          },
          "colorway": [
           "#636efa",
           "#EF553B",
           "#00cc96",
           "#ab63fa",
           "#FFA15A",
           "#19d3f3",
           "#FF6692",
           "#B6E880",
           "#FF97FF",
           "#FECB52"
          ],
          "font": {
           "color": "#2a3f5f"
          },
          "geo": {
           "bgcolor": "white",
           "lakecolor": "white",
           "landcolor": "#E5ECF6",
           "showlakes": true,
           "showland": true,
           "subunitcolor": "white"
          },
          "hoverlabel": {
           "align": "left"
          },
          "hovermode": "closest",
          "mapbox": {
           "style": "light"
          },
          "paper_bgcolor": "white",
          "plot_bgcolor": "#E5ECF6",
          "polar": {
           "angularaxis": {
            "gridcolor": "white",
            "linecolor": "white",
            "ticks": ""
           },
           "bgcolor": "#E5ECF6",
           "radialaxis": {
            "gridcolor": "white",
            "linecolor": "white",
            "ticks": ""
           }
          },
          "scene": {
           "xaxis": {
            "backgroundcolor": "#E5ECF6",
            "gridcolor": "white",
            "gridwidth": 2,
            "linecolor": "white",
            "showbackground": true,
            "ticks": "",
            "zerolinecolor": "white"
           },
           "yaxis": {
            "backgroundcolor": "#E5ECF6",
            "gridcolor": "white",
            "gridwidth": 2,
            "linecolor": "white",
            "showbackground": true,
            "ticks": "",
            "zerolinecolor": "white"
           },
           "zaxis": {
            "backgroundcolor": "#E5ECF6",
            "gridcolor": "white",
            "gridwidth": 2,
            "linecolor": "white",
            "showbackground": true,
            "ticks": "",
            "zerolinecolor": "white"
           }
          },
          "shapedefaults": {
           "line": {
            "color": "#2a3f5f"
           }
          },
          "ternary": {
           "aaxis": {
            "gridcolor": "white",
            "linecolor": "white",
            "ticks": ""
           },
           "baxis": {
            "gridcolor": "white",
            "linecolor": "white",
            "ticks": ""
           },
           "bgcolor": "#E5ECF6",
           "caxis": {
            "gridcolor": "white",
            "linecolor": "white",
            "ticks": ""
           }
          },
          "title": {
           "x": 0.05
          },
          "xaxis": {
           "automargin": true,
           "gridcolor": "white",
           "linecolor": "white",
           "ticks": "",
           "title": {
            "standoff": 15
           },
           "zerolinecolor": "white",
           "zerolinewidth": 2
          },
          "yaxis": {
           "automargin": true,
           "gridcolor": "white",
           "linecolor": "white",
           "ticks": "",
           "title": {
            "standoff": 15
           },
           "zerolinecolor": "white",
           "zerolinewidth": 2
          }
         }
        },
        "xaxis": {
         "anchor": "y",
         "domain": [
          0,
          1
         ],
         "title": {
          "text": "0"
         }
        },
        "yaxis": {
         "anchor": "x",
         "domain": [
          0,
          1
         ],
         "title": {
          "text": "1"
         }
        }
       }
      }
     },
     "metadata": {},
     "output_type": "display_data"
    },
    {
     "data": {
      "application/vnd.plotly.v1+json": {
       "config": {
        "plotlyServerURL": "https://plot.ly"
       },
       "data": [
        {
         "hovertemplate": "color=Coto<br>0=%{x}<br>1=%{y}<extra></extra>",
         "legendgroup": "Coto",
         "marker": {
          "color": "#636efa",
          "symbol": "circle"
         },
         "mode": "markers",
         "name": "Coto",
         "orientation": "v",
         "showlegend": true,
         "type": "scatter",
         "x": [
          -32.13154220581055,
          -17.722774505615234,
          1.3783704042434692,
          -18.222021102905273,
          -34.57820510864258,
          -24.327096939086914,
          -38.89630889892578,
          -34.92910385131836,
          -30.431270599365234,
          -35.91401290893555,
          -23.41793441772461,
          -31.111907958984375,
          -6.706324577331543,
          -36.070560455322266,
          37.591705322265625,
          -22.169933319091797,
          -11.411127090454102,
          -18.518722534179688,
          -18.80740737915039,
          -13.163786888122559,
          -20.479066848754883,
          7.593984127044678,
          0.3205696642398834,
          -27.085918426513672,
          5.92415714263916,
          9.319812774658203,
          11.118136405944824,
          9.948811531066895,
          19.434730529785156,
          14.481539726257324,
          -4.463349342346191,
          17.274621963500977,
          15.892790794372559,
          20.213642120361328,
          -15.829193115234375,
          -32.24869155883789,
          16.631004333496094,
          36.21384048461914,
          13.002241134643555,
          23.9571533203125,
          -19.905588150024414,
          -30.95578384399414,
          11.173465728759766,
          -25.03841781616211,
          -10.110548973083496,
          -27.30076026916504,
          -22.52613639831543,
          -31.89535903930664,
          31.72064971923828,
          -8.753992080688477,
          -17.945411682128906,
          19.31369400024414,
          23.168245315551758,
          -27.567710876464844,
          -9.985732078552246,
          26.63873291015625,
          16.787317276000977,
          28.36826515197754,
          2.1198720932006836,
          -31.05752182006836,
          -28.49822425842285,
          12.496603012084961,
          14.51669692993164,
          34.22696304321289,
          -16.74704933166504,
          -28.997241973876953,
          -26.75748634338379,
          -32.47263717651367,
          14.264874458312988,
          -7.269316673278809,
          5.112190246582031,
          28.761856079101562,
          25.4697265625,
          -11.529426574707031,
          -24.2784423828125,
          -23.778181076049805,
          -35.01143264770508,
          -26.385555267333984,
          13.894129753112793,
          -9.790851593017578,
          1.9386823177337646,
          -29.430099487304688,
          -31.75332260131836,
          -28.567577362060547,
          -26.597246170043945,
          -8.575278282165527,
          28.128822326660156,
          -16.33554458618164,
          -32.28874969482422,
          -9.330327033996582,
          17.158313751220703,
          -1.8060230016708374,
          30.89362907409668,
          -26.092788696289062,
          -28.999757766723633,
          14.503271102905273,
          -20.790746688842773,
          -17.21776008605957,
          28.363859176635742,
          -31.922321319580078,
          -6.481882572174072,
          -5.003387928009033,
          -19.47896957397461,
          -34.62462615966797,
          -0.48783135414123535,
          -20.802894592285156,
          -0.8129730820655823,
          -31.319379806518555,
          -37.61344528198242,
          -12.464714050292969,
          -22.86396598815918,
          -6.752867698669434,
          7.280996799468994,
          -36.94940948486328,
          2.4032325744628906,
          -10.944438934326172,
          -9.808123588562012,
          20.464584350585938,
          -32.790313720703125,
          -29.592802047729492,
          13.912588119506836,
          31.319236755371094,
          20.197315216064453,
          39.761436462402344,
          -10.336174964904785,
          -29.852256774902344,
          -16.46558380126953,
          -13.341926574707031,
          15.310556411743164,
          -9.377745628356934,
          -24.79571533203125,
          21.630428314208984,
          -33.43657302856445,
          -16.90737533569336,
          -13.318211555480957,
          -27.942800521850586,
          -34.13200378417969,
          27.345598220825195,
          24.80256462097168,
          23.594158172607422,
          -25.28200340270996,
          -3.94759464263916,
          15.53268051147461,
          2.4646072387695312,
          -20.90272331237793,
          -16.86457061767578,
          25.54853630065918,
          -1.0080946683883667,
          -18.086971282958984,
          25.722427368164062,
          19.3627986907959,
          -22.975252151489258,
          23.439043045043945,
          3.707076072692871,
          -33.329132080078125,
          -11.753146171569824,
          -30.004554748535156,
          -12.428044319152832,
          -6.4787373542785645,
          -10.15514850616455,
          27.731338500976562,
          -1.1384549140930176,
          23.02559471130371,
          -10.972182273864746,
          -3.648380994796753,
          -3.0754218101501465,
          -11.93554401397705,
          11.534963607788086,
          -6.812580585479736,
          -1.4812467098236084,
          -30.656532287597656,
          -20.435283660888672,
          -26.02707862854004,
          -26.48739242553711,
          -34.94076156616211,
          -8.950477600097656,
          32.93058395385742,
          1.249474287033081,
          31.70123291015625,
          -31.533967971801758,
          0.5418314337730408,
          37.2764778137207,
          38.56764602661133,
          -16.91034698486328,
          -9.567936897277832,
          -32.48744583129883,
          -6.03788948059082,
          26.03471565246582,
          -14.167901039123535,
          17.05223846435547,
          30.832416534423828,
          12.498473167419434,
          30.23508071899414,
          10.17634391784668,
          9.289280891418457,
          8.512773513793945,
          12.898225784301758,
          29.41128158569336,
          -11.974018096923828,
          8.839313507080078,
          6.619981288909912,
          -8.763275146484375,
          10.180452346801758,
          -30.582073211669922,
          -3.835500717163086,
          11.592268943786621,
          35.92155456542969,
          -9.119956970214844,
          -16.119476318359375,
          8.788382530212402,
          0.6696192622184753,
          -5.765109539031982,
          16.739051818847656,
          -20.25908851623535,
          8.810304641723633,
          23.151321411132812,
          28.79874610900879,
          -19.364221572875977,
          24.588008880615234,
          8.799379348754883,
          -20.886032104492188,
          31.739255905151367,
          37.84907150268555,
          9.897370338439941,
          15.360286712646484,
          -0.0073152510449290276,
          -6.312851428985596,
          -11.93398380279541,
          -12.873899459838867,
          -11.508442878723145,
          -20.09975814819336,
          10.735453605651855,
          7.791210651397705,
          19.095327377319336,
          30.37091064453125,
          28.073204040527344,
          8.654838562011719,
          -10.192097663879395,
          26.81438446044922,
          16.699033737182617,
          4.941834926605225,
          -24.133827209472656,
          12.4625883102417,
          -25.36825180053711,
          1.7951741218566895,
          17.27475357055664,
          7.996973991394043,
          26.13551902770996,
          23.535615921020508,
          -11.848502159118652,
          17.158105850219727,
          -19.506244659423828,
          -20.75616455078125,
          -18.827733993530273,
          37.25023651123047,
          -16.15040397644043,
          5.224179744720459,
          36.93584442138672,
          18.45476722717285,
          -5.86685037612915,
          14.274800300598145,
          -18.223020553588867,
          36.587074279785156,
          -22.137805938720703,
          -18.57965850830078,
          -6.240195274353027,
          15.971328735351562,
          -17.442516326904297,
          18.491870880126953
         ],
         "xaxis": "x",
         "y": [
          8.29887580871582,
          14.171343803405762,
          6.357751369476318,
          -22.5692138671875,
          0.9631838798522949,
          -19.2557373046875,
          -5.852499008178711,
          -1.3195698261260986,
          -15.646471977233887,
          -1.5921077728271484,
          -14.659161567687988,
          -3.334467887878418,
          -7.845745086669922,
          -2.608276128768921,
          -5.2465691566467285,
          8.976242065429688,
          0.5118910670280457,
          13.33923053741455,
          14.011467933654785,
          2.2709944248199463,
          -20.931304931640625,
          -35.0393180847168,
          -7.2950849533081055,
          -20.583250045776367,
          31.328554153442383,
          -46.20851135253906,
          -47.92497253417969,
          -47.101173400878906,
          11.605855941772461,
          -6.580722808837891,
          5.2796430587768555,
          23.781484603881836,
          1.5799988508224487,
          1.533965826034546,
          15.442078590393066,
          -1.708693027496338,
          14.850293159484863,
          -6.567659854888916,
          5.147780418395996,
          -3.1495532989501953,
          13.29851245880127,
          9.657440185546875,
          -0.8582380414009094,
          1.6486811637878418,
          -27.195446014404297,
          -9.80788516998291,
          8.154860496520996,
          -2.4046828746795654,
          9.59238338470459,
          -26.895357131958008,
          -25.2867374420166,
          9.296518325805664,
          -1.0128086805343628,
          -15.306323051452637,
          -22.989418029785156,
          3.5395822525024414,
          -9.138203620910645,
          0.21151450276374817,
          -3.112670421600342,
          -13.639223098754883,
          0.6167333722114563,
          6.788067817687988,
          2.3451671600341797,
          -1.5760260820388794,
          6.4953532218933105,
          -20.023679733276367,
          -9.096599578857422,
          -3.347608804702759,
          6.434544563293457,
          -4.975102424621582,
          8.057266235351562,
          -6.752879619598389,
          -2.056910991668701,
          13.53170394897461,
          1.7787959575653076,
          -19.74700355529785,
          -2.5553641319274902,
          8.831555366516113,
          -19.786405563354492,
          -13.273458480834961,
          -36.3967170715332,
          -17.512266159057617,
          -14.606365203857422,
          -19.593936920166016,
          -15.020661354064941,
          -10.035026550292969,
          -6.944025039672852,
          -21.481609344482422,
          2.162193536758423,
          -12.949233055114746,
          -8.88683795928955,
          -6.712043285369873,
          -5.392395973205566,
          -18.469554901123047,
          -18.927736282348633,
          0.9893057346343994,
          11.771578788757324,
          -3.024702548980713,
          1.8787879943847656,
          6.228206634521484,
          -10.429686546325684,
          -27.327333450317383,
          10.931092262268066,
          -3.366684675216675,
          -16.027551651000977,
          8.574112892150879,
          -26.635202407836914,
          6.741754531860352,
          -2.007117986679077,
          -9.754091262817383,
          6.955954074859619,
          -8.743128776550293,
          -0.5414449572563171,
          -2.348522186279297,
          -19.58709144592285,
          -11.213485717773438,
          -21.658918380737305,
          9.198198318481445,
          7.077606678009033,
          7.119472503662109,
          6.643843173980713,
          6.515435695648193,
          7.049870491027832,
          -3.6737828254699707,
          -10.970708847045898,
          9.316765785217285,
          6.017978191375732,
          -8.078189849853516,
          -23.137760162353516,
          -0.5671210885047913,
          -15.024860382080078,
          -2.6063265800476074,
          -4.093181133270264,
          -23.4016170501709,
          -22.08928871154785,
          -18.45761489868164,
          1.7499338388442993,
          6.4314656257629395,
          1.3779174089431763,
          4.417929649353027,
          0.1247270330786705,
          -25.239112854003906,
          -5.9458417892456055,
          -6.851476669311523,
          -14.240814208984375,
          -13.986868858337402,
          11.175101280212402,
          -6.997249126434326,
          -26.249982833862305,
          3.8270206451416016,
          3.5970618724823,
          -17.467744827270508,
          6.733457565307617,
          -5.83821964263916,
          0.2645779252052307,
          -27.465423583984375,
          8.01534652709961,
          -22.331571578979492,
          -26.753232955932617,
          5.055168628692627,
          3.9661970138549805,
          -28.222572326660156,
          -2.267855405807495,
          -12.473118782043457,
          -26.591211318969727,
          4.584611892700195,
          -12.39006519317627,
          -18.403535842895508,
          -5.243948459625244,
          -19.249011993408203,
          -5.644497394561768,
          -19.81175422668457,
          -6.2450947761535645,
          -7.18098258972168,
          2.039020538330078,
          -21.037250518798828,
          5.434576988220215,
          -9.46100902557373,
          -6.072810649871826,
          -5.326378345489502,
          -10.260157585144043,
          6.423229217529297,
          9.254281997680664,
          -3.8139331340789795,
          -12.235852241516113,
          5.702443599700928,
          -8.90945816040039,
          -1.061585783958435,
          17.48198890686035,
          7.591785430908203,
          5.363293170928955,
          -50.57200241088867,
          -2.076519727706909,
          -44.64837646484375,
          -34.92018127441406,
          -45.2490234375,
          -49.72430419921875,
          -3.8816373348236084,
          -21.344541549682617,
          -43.56257247924805,
          -25.211618423461914,
          2.3519248962402344,
          -49.678958892822266,
          -5.032832145690918,
          -26.175701141357422,
          -46.667938232421875,
          -5.993391990661621,
          -2.252530813217163,
          -4.6938347816467285,
          -49.972896575927734,
          -26.704723358154297,
          -30.803789138793945,
          -4.055856227874756,
          -14.344910621643066,
          -24.27837562561035,
          7.960484027862549,
          9.929442405700684,
          -22.35495376586914,
          14.099831581115723,
          -31.723888397216797,
          -23.103700637817383,
          -5.807208061218262,
          -0.5063908696174622,
          -2.334439516067505,
          2.2425103187561035,
          -15.54285717010498,
          0.9054640531539917,
          -25.671592712402344,
          -23.74372673034668,
          4.825678825378418,
          -21.9658260345459,
          0.2144230306148529,
          -19.27363395690918,
          4.877458095550537,
          -0.7175789475440979,
          8.853041648864746,
          -18.491806030273438,
          13.180376052856445,
          -1.9045658111572266,
          9.015231132507324,
          -22.233200073242188,
          -8.095616340637207,
          -18.880189895629883,
          -8.164261817932129,
          -26.047813415527344,
          9.166328430175781,
          -36.3061408996582,
          4.632933139801025,
          2.9432036876678467,
          -10.255151748657227,
          -5.995309829711914,
          -6.82425594329834,
          -11.292215347290039,
          -5.711642265319824,
          -1.2845507860183716,
          -8.30440902709961,
          -2.2474467754364014,
          -5.574164390563965,
          -19.354692459106445,
          -25.323278427124023,
          -21.856496810913086,
          -5.6564764976501465,
          0.6696168780326843,
          -18.943199157714844,
          -11.749176979064941,
          -23.85953712463379,
          10.287640571594238,
          -6.254559516906738,
          8.949482917785645
         ],
         "yaxis": "y"
        },
        {
         "hovertemplate": "color=Laci<br>0=%{x}<br>1=%{y}<extra></extra>",
         "legendgroup": "Laci",
         "marker": {
          "color": "#EF553B",
          "symbol": "circle"
         },
         "mode": "markers",
         "name": "Laci",
         "orientation": "v",
         "showlegend": true,
         "type": "scatter",
         "x": [
          -14.962286949157715,
          -33.04790496826172,
          28.034507751464844,
          33.249996185302734,
          9.172103881835938,
          26.64668846130371,
          34.80211639404297,
          17.5666446685791,
          -7.004412651062012,
          -20.290000915527344,
          -4.629451274871826,
          2.2760086059570312,
          -14.752059936523438,
          -1.236254096031189,
          35.97932052612305,
          30.59063148498535,
          35.48585891723633,
          11.551642417907715,
          0.360766738653183,
          11.849443435668945,
          17.312095642089844,
          22.395986557006836,
          -5.827062606811523,
          20.47191047668457,
          28.92023277282715,
          -15.617464065551758,
          17.77873992919922,
          -10.0048246383667,
          19.59687614440918,
          38.8353271484375,
          3.7431979179382324,
          -1.0077532529830933,
          37.94715118408203,
          30.87000846862793,
          -33.07856369018555,
          -5.108088493347168,
          -29.529077529907227,
          6.934685707092285,
          -28.2755126953125,
          19.351655960083008,
          -29.40898895263672,
          17.369672775268555,
          -1.4477719068527222,
          31.015411376953125,
          38.174259185791016,
          16.051124572753906,
          -4.702232837677002,
          -31.746116638183594,
          24.987577438354492,
          38.11833572387695,
          3.109161615371704,
          -11.69959831237793,
          38.5802116394043,
          14.503512382507324,
          -11.40888500213623,
          7.673099517822266,
          10.250244140625,
          4.776242256164551,
          12.633293151855469,
          11.257203102111816,
          10.4960298538208,
          27.612937927246094,
          11.702141761779785,
          13.702643394470215,
          5.12755012512207,
          7.480945110321045,
          11.303194046020508,
          12.312359809875488,
          8.872870445251465,
          3.719639539718628,
          5.572931289672852,
          -24.8030948638916,
          8.87160873413086,
          -22.38405990600586,
          7.5092620849609375,
          -24.8638973236084,
          21.875062942504883,
          24.218812942504883,
          2.981734037399292,
          -24.06926155090332,
          11.468021392822266,
          -0.9828755855560303,
          19.085739135742188,
          3.694153308868408,
          7.927270412445068,
          -21.641576766967773,
          28.445720672607422,
          -1.6135622262954712,
          -3.0967273712158203,
          -0.1743425577878952,
          -1.2529674768447876,
          7.110939025878906,
          -0.7828425765037537,
          -6.013185977935791,
          -0.6103625297546387,
          1.0762019157409668,
          9.754889488220215,
          -1.8149679899215698,
          1.3032870292663574,
          4.957794189453125,
          1.6093645095825195,
          -0.1728854775428772,
          0.4043121933937073,
          38.6764030456543,
          -11.494625091552734,
          0.035311706364154816,
          1.2316282987594604,
          12.868916511535645,
          38.135833740234375,
          -20.26268768310547,
          -15.843385696411133,
          -35.97589111328125,
          12.831430435180664,
          3.816260814666748,
          -8.548405647277832,
          1.4905797243118286,
          8.955303192138672,
          11.000849723815918,
          -24.605192184448242,
          -0.09794069081544876,
          38.2564697265625,
          -7.917351722717285,
          2.9060821533203125,
          9.340564727783203,
          7.203774929046631,
          7.314790725708008,
          -16.13438606262207,
          -5.671083450317383,
          -25.122262954711914,
          4.151961803436279,
          -31.296722412109375,
          -11.819992065429688,
          -23.35917091369629,
          38.178436279296875,
          -30.91704559326172,
          -5.070802211761475,
          8.249022483825684
         ],
         "xaxis": "x",
         "y": [
          34.59764862060547,
          -14.614575386047363,
          3.038907527923584,
          1.245977759361267,
          -25.540782928466797,
          9.258437156677246,
          -7.604569911956787,
          13.193072319030762,
          -25.060625076293945,
          -17.647920608520508,
          31.355846405029297,
          10.612951278686523,
          33.320858001708984,
          -21.05595588684082,
          -4.845369815826416,
          6.171831130981445,
          -2.991297483444214,
          -23.554672241210938,
          47.050514221191406,
          -17.879819869995117,
          11.325774192810059,
          3.9413516521453857,
          4.431983470916748,
          0.8328391313552856,
          -1.5251716375350952,
          -24.368274688720703,
          23.13653564453125,
          -26.53375816345215,
          -11.712777137756348,
          -1.6973772048950195,
          -24.162389755249023,
          -23.142358779907227,
          7.94363260269165,
          3.960515260696411,
          3.076256513595581,
          2.3926403522491455,
          0.37414172291755676,
          -17.264699935913086,
          -15.47182846069336,
          6.491969108581543,
          0.06506872177124023,
          11.86005973815918,
          -22.243391036987305,
          4.366718292236328,
          -2.3987064361572266,
          8.256460189819336,
          -21.472970962524414,
          4.019614219665527,
          -4.337777137756348,
          -7.646663188934326,
          -8.158539772033691,
          6.517897129058838,
          -8.570728302001953,
          -21.01837158203125,
          -24.392505645751953,
          -37.69861602783203,
          -45.39258575439453,
          -47.684326171875,
          -46.69172668457031,
          -48.99340057373047,
          -42.42127227783203,
          -5.265081882476807,
          -41.40214157104492,
          -48.25816345214844,
          -48.855751037597656,
          -45.173709869384766,
          -45.31755828857422,
          -48.19524383544922,
          -48.46551513671875,
          -46.358638763427734,
          -47.35805130004883,
          -12.62472915649414,
          -33.66965103149414,
          12.420654296875,
          -48.273193359375,
          8.357260704040527,
          -6.9346089363098145,
          0.9014747738838196,
          -2.9578797817230225,
          -11.393813133239746,
          -4.59722375869751,
          -16.52425193786621,
          -18.846092224121094,
          -3.3973958492279053,
          -0.32557252049446106,
          11.76977252960205,
          -2.7704036235809326,
          51.2083625793457,
          33.9085807800293,
          48.367252349853516,
          49.62945556640625,
          -47.343475341796875,
          50.598331451416016,
          28.254831314086914,
          51.43912887573242,
          48.6948356628418,
          29.42706871032715,
          50.16926956176758,
          49.94103240966797,
          9.886312484741211,
          47.61328887939453,
          49.31243896484375,
          49.518375396728516,
          -5.842514991760254,
          30.306167602539062,
          51.1112060546875,
          50.728515625,
          -45.918678283691406,
          8.351579666137695,
          -18.922542572021484,
          -20.071496963500977,
          -4.629768371582031,
          -45.24045181274414,
          -47.35756301879883,
          -0.7957074642181396,
          -36.442466735839844,
          -41.155696868896484,
          -20.707321166992188,
          -7.3364577293396,
          13.302566528320312,
          -4.041543960571289,
          -3.394993543624878,
          -26.961769104003906,
          -20.497947692871094,
          -18.966144561767578,
          9.805618286132812,
          -13.659967422485352,
          3.3979666233062744,
          -11.061519622802734,
          5.256567478179932,
          4.243505477905273,
          -23.137540817260742,
          -10.811423301696777,
          0.5392123460769653,
          8.871139526367188,
          5.895858287811279,
          -47.413917541503906
         ],
         "yaxis": "y"
        },
        {
         "hovertemplate": "color=Anpa<br>0=%{x}<br>1=%{y}<extra></extra>",
         "legendgroup": "Anpa",
         "marker": {
          "color": "#00cc96",
          "symbol": "circle"
         },
         "mode": "markers",
         "name": "Anpa",
         "orientation": "v",
         "showlegend": true,
         "type": "scatter",
         "x": [
          7.286619663238525,
          27.560110092163086,
          7.227966785430908,
          -2.386730194091797,
          -18.916839599609375,
          6.689114570617676,
          16.432239532470703,
          -18.08966827392578,
          0.9712601900100708,
          -0.5547520518302917,
          10.35210132598877,
          -1.4850167036056519,
          -17.94583511352539,
          7.829914569854736,
          -2.179326057434082,
          -14.039563179016113,
          6.122118949890137,
          9.400752067565918,
          6.668969631195068,
          30.422428131103516,
          16.623119354248047,
          0.2648329436779022,
          5.025262832641602,
          24.76945686340332,
          16.521392822265625,
          -17.324087142944336,
          -23.504924774169922,
          5.296422481536865,
          7.691125392913818,
          -0.6653279662132263,
          2.107684850692749,
          11.443596839904785,
          -18.467960357666016,
          0.21205201745033264,
          -4.353751182556152,
          13.371125221252441,
          -5.656781196594238,
          36.825103759765625,
          -0.7541897296905518,
          9.79090404510498,
          -13.855658531188965,
          5.646170139312744,
          11.74401569366455,
          14.487556457519531,
          13.919865608215332,
          2.4691202640533447,
          2.015990734100342,
          -2.10322904586792,
          2.9886865615844727,
          -6.677889347076416,
          14.872404098510742,
          12.756416320800781,
          37.322269439697266,
          3.789307117462158,
          4.000192642211914,
          -16.36078643798828,
          -16.28333854675293,
          -11.557045936584473,
          13.217220306396484,
          -7.066290855407715,
          -9.26533317565918,
          -8.358609199523926,
          17.548616409301758,
          -4.725834846496582,
          -15.885017395019531,
          31.084632873535156,
          -12.39062786102295,
          -17.791614532470703,
          -17.102230072021484,
          -1.3680788278579712,
          -6.172827243804932,
          5.7970075607299805,
          -2.4152228832244873,
          8.07861328125,
          -9.102962493896484,
          -1.1226094961166382,
          13.87058162689209,
          12.168461799621582,
          -2.0827221870422363,
          -12.510366439819336,
          -5.855960369110107,
          -2.7378175258636475,
          -12.377802848815918,
          -6.771615982055664,
          7.104119300842285,
          2.986759662628174,
          -17.41402244567871,
          0.8026226758956909,
          -9.13717269897461,
          1.9541898965835571,
          -6.147461414337158,
          4.381413459777832,
          0.292894572019577,
          3.5183074474334717,
          -14.53458309173584,
          -4.378667831420898,
          -4.301555633544922,
          -4.888021469116211,
          3.7727625370025635,
          -14.915343284606934,
          -2.205476760864258,
          -15.116034507751465,
          4.217776775360107,
          -17.104476928710938,
          15.054898262023926,
          -10.1051664352417,
          7.952669620513916,
          -17.3131103515625,
          -15.9786376953125,
          7.153235912322998,
          -3.2251784801483154,
          24.269973754882812,
          13.408267974853516,
          3.2842187881469727,
          -10.139781951904297,
          4.202602386474609,
          7.103784561157227,
          1.0491353273391724,
          13.843544960021973,
          5.379878044128418,
          8.16868782043457,
          5.0361223220825195,
          -2.237849712371826,
          -10.323613166809082,
          -19.30739402770996,
          8.200920104980469,
          7.839486122131348,
          12.19171142578125,
          6.870856761932373,
          -20.083168029785156,
          -39.16143035888672,
          3.3025643825531006,
          -15.724058151245117,
          -1.7143610715866089,
          8.39230728149414,
          8.88859748840332,
          8.47053050994873,
          14.813504219055176,
          -9.874554634094238,
          3.6156959533691406,
          8.412435531616211,
          8.400008201599121,
          -1.9599472284317017,
          -9.140372276306152,
          18.861188888549805,
          -5.499770164489746,
          -3.638524055480957,
          -0.0644356906414032,
          -3.023319959640503,
          -2.7511496543884277,
          -1.6171131134033203,
          -6.528182506561279,
          -15.997398376464844,
          11.876893997192383,
          -17.14534568786621,
          -0.8499873280525208,
          3.31457257270813,
          -8.266727447509766,
          -12.152850151062012,
          -4.767111778259277,
          -20.994426727294922,
          6.431816577911377,
          -10.899200439453125,
          -1.9279648065567017,
          -31.567224502563477,
          -15.694272994995117,
          4.3229851722717285,
          13.444889068603516,
          11.377850532531738,
          -17.904909133911133,
          8.567187309265137,
          17.900976181030273,
          -16.47376823425293,
          4.060428142547607,
          -19.489524841308594,
          -19.6531925201416,
          -16.3565616607666,
          15.054756164550781,
          -11.425931930541992,
          -9.970945358276367,
          -38.164005279541016,
          10.51777172088623,
          0.7006213068962097,
          -6.4569172859191895,
          -9.253718376159668,
          2.623525857925415,
          -11.061758995056152,
          4.735036849975586,
          -4.371610641479492,
          37.14641571044922,
          2.0947887897491455,
          12.980990409851074,
          -10.498205184936523,
          9.013718605041504,
          8.366408348083496,
          -7.651904106140137,
          2.9402503967285156,
          -2.396347761154175,
          4.112927436828613,
          -9.108078956604004,
          0.8251792788505554,
          5.028529167175293,
          4.6832098960876465,
          -10.46919059753418,
          1.3137768507003784,
          25.784664154052734,
          -4.0315351486206055,
          -12.981879234313965,
          -16.32675552368164,
          -8.53718090057373,
          19.22669219970703,
          8.50577449798584,
          6.653915882110596,
          -0.5537125468254089,
          -8.434534072875977,
          5.654901027679443,
          -16.119150161743164,
          28.72374725341797,
          -35.378761291503906,
          -9.360864639282227,
          -11.718945503234863,
          5.971975803375244,
          22.968135833740234,
          2.068821430206299,
          15.712010383605957,
          9.849153518676758,
          3.8042478561401367,
          26.178598403930664,
          -11.046527862548828,
          3.8618698120117188,
          2.3202459812164307,
          9.577079772949219,
          28.150907516479492,
          20.38703155517578,
          12.669683456420898,
          -20.629514694213867,
          3.8852899074554443,
          19.656522750854492,
          -5.73285436630249,
          -6.799365520477295,
          28.76860809326172,
          -19.81905746459961,
          -23.354896545410156,
          12.996721267700195,
          0.8250864744186401,
          -8.38881778717041,
          26.735931396484375,
          -23.297250747680664,
          28.5548152923584,
          -39.10246276855469,
          33.68118667602539,
          -23.9366512298584,
          -8.033979415893555,
          13.079741477966309,
          10.47886848449707,
          3.9425418376922607,
          23.622026443481445,
          -7.238179683685303,
          5.904897212982178,
          1.5967590808868408,
          -12.394737243652344,
          -11.647848129272461,
          -3.1496760845184326,
          11.597278594970703,
          6.475822448730469,
          -11.552905082702637,
          -14.270075798034668,
          -2.492230176925659,
          23.64521598815918,
          21.26329803466797,
          4.578065395355225,
          8.871221542358398,
          -10.625720977783203,
          -1.8198621273040771,
          9.896394729614258,
          16.081050872802734,
          27.71791648864746,
          -1.7411714792251587,
          -1.5148158073425293,
          6.782463550567627,
          12.665247917175293,
          -11.416823387145996,
          9.876336097717285,
          2.3970553874969482,
          12.83281421661377,
          3.256103515625,
          8.416990280151367
         ],
         "xaxis": "x",
         "y": [
          -21.717695236206055,
          -2.84700345993042,
          9.536396026611328,
          4.347647666931152,
          -15.940834999084473,
          -21.176530838012695,
          -5.712545871734619,
          -17.595905303955078,
          -23.122417449951172,
          6.719525337219238,
          -34.18684768676758,
          -18.60448455810547,
          -15.347943305969238,
          -21.3045597076416,
          -27.040771484375,
          -20.73128890991211,
          -21.593442916870117,
          -42.026084899902344,
          -22.21974754333496,
          14.402501106262207,
          -7.226222515106201,
          -23.193208694458008,
          -44.12543869018555,
          13.346868515014648,
          24.568462371826172,
          -16.046415328979492,
          -21.778242111206055,
          26.5035400390625,
          26.675901412963867,
          12.799813270568848,
          31.968454360961914,
          34.13205337524414,
          22.02783203125,
          36.74518585205078,
          23.63654327392578,
          36.46013259887695,
          7.761122226715088,
          0.9004749059677124,
          36.09949493408203,
          -21.316606521606445,
          22.294246673583984,
          24.6408748626709,
          -14.318268775939941,
          -16.191476821899414,
          36.375850677490234,
          29.580961227416992,
          14.709184646606445,
          27.637983322143555,
          9.286273002624512,
          26.3707332611084,
          -18.60090446472168,
          31.80350112915039,
          -3.9480338096618652,
          -36.73359298706055,
          34.92680358886719,
          29.19865608215332,
          15.293136596679688,
          19.601396560668945,
          -50.59926986694336,
          29.40308380126953,
          18.40520477294922,
          28.41288185119629,
          -2.8465347290039062,
          21.892385482788086,
          29.488040924072266,
          9.810934066772461,
          28.723453521728516,
          28.8023738861084,
          11.519109725952148,
          34.57823181152344,
          33.038002014160156,
          27.24851417541504,
          11.72740364074707,
          -39.807674407958984,
          17.393047332763672,
          5.9357709884643555,
          25.328594207763672,
          32.38993453979492,
          7.018337249755859,
          25.028827667236328,
          9.864788055419922,
          14.540728569030762,
          23.11971664428711,
          9.559869766235352,
          25.246946334838867,
          26.985370635986328,
          16.704957962036133,
          25.076335906982422,
          24.19528579711914,
          27.952930450439453,
          9.149093627929688,
          -15.415538787841797,
          6.377485752105713,
          -14.192160606384277,
          20.367467880249023,
          0.6313998699188232,
          -0.6151489615440369,
          -31.258455276489258,
          -15.544923782348633,
          19.1525936126709,
          6.336000919342041,
          18.333110809326172,
          -19.367429733276367,
          17.57951545715332,
          -5.235479831695557,
          25.323749542236328,
          34.77468490600586,
          22.24752426147461,
          19.64227294921875,
          29.624879837036133,
          -0.0482834056019783,
          14.691197395324707,
          27.259748458862305,
          -47.53532409667969,
          5.27894401550293,
          8.977808952331543,
          28.248516082763672,
          15.528180122375488,
          26.176679611206055,
          27.931415557861328,
          28.850162506103516,
          -13.326407432556152,
          21.812456130981445,
          23.523269653320312,
          21.033042907714844,
          33.05206298828125,
          -32.84282684326172,
          -2.4174087047576904,
          -15.55916976928711,
          -12.667784690856934,
          -3.9231646060943604,
          21.722322463989258,
          25.702110290527344,
          29.890674591064453,
          31.627836227416992,
          37.7637939453125,
          36.47466278076172,
          25.604398727416992,
          30.177013397216797,
          -21.280500411987305,
          -37.14201736450195,
          36.776153564453125,
          28.82663345336914,
          23.48767852783203,
          -8.607362747192383,
          27.174968719482422,
          29.80611228942871,
          35.93311309814453,
          21.90545654296875,
          22.931135177612305,
          14.702638626098633,
          23.25311851501465,
          28.048765182495117,
          -21.15708351135254,
          32.635108947753906,
          32.94677734375,
          24.940916061401367,
          34.06257629394531,
          26.257278442382812,
          -1.6386321783065796,
          -18.7730770111084,
          7.751293182373047,
          25.609516143798828,
          16.359272003173828,
          -12.117206573486328,
          33.079105377197266,
          27.798879623413086,
          32.19264221191406,
          -14.33242130279541,
          12.332047462463379,
          -14.159095764160156,
          -4.2636942863464355,
          24.5253849029541,
          8.253137588500977,
          26.358203887939453,
          26.048065185546875,
          -8.982544898986816,
          35.98060989379883,
          21.950340270996094,
          20.475309371948242,
          -4.085958957672119,
          13.133159637451172,
          31.273611068725586,
          27.56747817993164,
          32.12432098388672,
          22.331478118896484,
          21.166282653808594,
          11.041338920593262,
          29.208452224731445,
          4.137958526611328,
          21.197526931762695,
          -14.71217155456543,
          22.09535789489746,
          25.7493839263916,
          27.637449264526367,
          0.377810001373291,
          30.081645965576172,
          31.87133026123047,
          33.22119140625,
          15.457289695739746,
          32.87479019165039,
          4.460005760192871,
          33.565040588378906,
          -25.938457489013672,
          -17.38550567626953,
          11.7632474899292,
          3.0995101928710938,
          1.9460393190383911,
          22.044775009155273,
          35.23625564575195,
          8.218969345092773,
          38.48918533325195,
          30.375558853149414,
          -11.10165023803711,
          32.98077392578125,
          3.338650941848755,
          33.85641098022461,
          14.898477554321289,
          -5.18392276763916,
          0.9969640374183655,
          28.55746841430664,
          6.414609909057617,
          -8.964466094970703,
          26.717924118041992,
          -20.05051040649414,
          18.130191802978516,
          -36.27550506591797,
          -7.454767227172852,
          15.817242622375488,
          -6.596109390258789,
          -37.34671401977539,
          -5.606173992156982,
          -8.824707984924316,
          -6.1434645652771,
          -0.30729439854621887,
          -12.521867752075195,
          -19.844011306762695,
          -9.765475273132324,
          13.616841316223145,
          2.8794212341308594,
          15.671082496643066,
          8.11340045928955,
          -13.472135543823242,
          -23.110422134399414,
          -13.911870002746582,
          16.922962188720703,
          5.222806930541992,
          -8.796889305114746,
          9.08176326751709,
          -5.3149614334106445,
          -4.003408432006836,
          7.81857442855835,
          5.269193172454834,
          -20.680368423461914,
          -19.881120681762695,
          6.667659282684326,
          -8.976953506469727,
          4.052401542663574,
          28.7205810546875,
          32.928321838378906,
          31.691692352294922,
          4.133335113525391,
          13.906378746032715,
          26.951921463012695,
          20.889705657958984,
          -22.434024810791016,
          32.62125015258789,
          18.139759063720703,
          -4.2115960121154785,
          -5.801095485687256,
          -14.712138175964355,
          20.741374969482422,
          14.266505241394043,
          26.395586013793945,
          -23.24983024597168,
          -3.764840841293335,
          5.132078170776367,
          33.41910934448242,
          31.531558990478516,
          20.610309600830078,
          26.875965118408203,
          23.623645782470703,
          28.36728286743164,
          25.146484375,
          25.73398208618164,
          -24.722549438476562,
          21.117755889892578
         ],
         "yaxis": "y"
        }
       ],
       "layout": {
        "legend": {
         "title": {
          "text": "color"
         },
         "tracegroupgap": 0
        },
        "margin": {
         "t": 60
        },
        "template": {
         "data": {
          "bar": [
           {
            "error_x": {
             "color": "#2a3f5f"
            },
            "error_y": {
             "color": "#2a3f5f"
            },
            "marker": {
             "line": {
              "color": "#E5ECF6",
              "width": 0.5
             },
             "pattern": {
              "fillmode": "overlay",
              "size": 10,
              "solidity": 0.2
             }
            },
            "type": "bar"
           }
          ],
          "barpolar": [
           {
            "marker": {
             "line": {
              "color": "#E5ECF6",
              "width": 0.5
             },
             "pattern": {
              "fillmode": "overlay",
              "size": 10,
              "solidity": 0.2
             }
            },
            "type": "barpolar"
           }
          ],
          "carpet": [
           {
            "aaxis": {
             "endlinecolor": "#2a3f5f",
             "gridcolor": "white",
             "linecolor": "white",
             "minorgridcolor": "white",
             "startlinecolor": "#2a3f5f"
            },
            "baxis": {
             "endlinecolor": "#2a3f5f",
             "gridcolor": "white",
             "linecolor": "white",
             "minorgridcolor": "white",
             "startlinecolor": "#2a3f5f"
            },
            "type": "carpet"
           }
          ],
          "choropleth": [
           {
            "colorbar": {
             "outlinewidth": 0,
             "ticks": ""
            },
            "type": "choropleth"
           }
          ],
          "contour": [
           {
            "colorbar": {
             "outlinewidth": 0,
             "ticks": ""
            },
            "colorscale": [
             [
              0,
              "#0d0887"
             ],
             [
              0.1111111111111111,
              "#46039f"
             ],
             [
              0.2222222222222222,
              "#7201a8"
             ],
             [
              0.3333333333333333,
              "#9c179e"
             ],
             [
              0.4444444444444444,
              "#bd3786"
             ],
             [
              0.5555555555555556,
              "#d8576b"
             ],
             [
              0.6666666666666666,
              "#ed7953"
             ],
             [
              0.7777777777777778,
              "#fb9f3a"
             ],
             [
              0.8888888888888888,
              "#fdca26"
             ],
             [
              1,
              "#f0f921"
             ]
            ],
            "type": "contour"
           }
          ],
          "contourcarpet": [
           {
            "colorbar": {
             "outlinewidth": 0,
             "ticks": ""
            },
            "type": "contourcarpet"
           }
          ],
          "heatmap": [
           {
            "colorbar": {
             "outlinewidth": 0,
             "ticks": ""
            },
            "colorscale": [
             [
              0,
              "#0d0887"
             ],
             [
              0.1111111111111111,
              "#46039f"
             ],
             [
              0.2222222222222222,
              "#7201a8"
             ],
             [
              0.3333333333333333,
              "#9c179e"
             ],
             [
              0.4444444444444444,
              "#bd3786"
             ],
             [
              0.5555555555555556,
              "#d8576b"
             ],
             [
              0.6666666666666666,
              "#ed7953"
             ],
             [
              0.7777777777777778,
              "#fb9f3a"
             ],
             [
              0.8888888888888888,
              "#fdca26"
             ],
             [
              1,
              "#f0f921"
             ]
            ],
            "type": "heatmap"
           }
          ],
          "heatmapgl": [
           {
            "colorbar": {
             "outlinewidth": 0,
             "ticks": ""
            },
            "colorscale": [
             [
              0,
              "#0d0887"
             ],
             [
              0.1111111111111111,
              "#46039f"
             ],
             [
              0.2222222222222222,
              "#7201a8"
             ],
             [
              0.3333333333333333,
              "#9c179e"
             ],
             [
              0.4444444444444444,
              "#bd3786"
             ],
             [
              0.5555555555555556,
              "#d8576b"
             ],
             [
              0.6666666666666666,
              "#ed7953"
             ],
             [
              0.7777777777777778,
              "#fb9f3a"
             ],
             [
              0.8888888888888888,
              "#fdca26"
             ],
             [
              1,
              "#f0f921"
             ]
            ],
            "type": "heatmapgl"
           }
          ],
          "histogram": [
           {
            "marker": {
             "pattern": {
              "fillmode": "overlay",
              "size": 10,
              "solidity": 0.2
             }
            },
            "type": "histogram"
           }
          ],
          "histogram2d": [
           {
            "colorbar": {
             "outlinewidth": 0,
             "ticks": ""
            },
            "colorscale": [
             [
              0,
              "#0d0887"
             ],
             [
              0.1111111111111111,
              "#46039f"
             ],
             [
              0.2222222222222222,
              "#7201a8"
             ],
             [
              0.3333333333333333,
              "#9c179e"
             ],
             [
              0.4444444444444444,
              "#bd3786"
             ],
             [
              0.5555555555555556,
              "#d8576b"
             ],
             [
              0.6666666666666666,
              "#ed7953"
             ],
             [
              0.7777777777777778,
              "#fb9f3a"
             ],
             [
              0.8888888888888888,
              "#fdca26"
             ],
             [
              1,
              "#f0f921"
             ]
            ],
            "type": "histogram2d"
           }
          ],
          "histogram2dcontour": [
           {
            "colorbar": {
             "outlinewidth": 0,
             "ticks": ""
            },
            "colorscale": [
             [
              0,
              "#0d0887"
             ],
             [
              0.1111111111111111,
              "#46039f"
             ],
             [
              0.2222222222222222,
              "#7201a8"
             ],
             [
              0.3333333333333333,
              "#9c179e"
             ],
             [
              0.4444444444444444,
              "#bd3786"
             ],
             [
              0.5555555555555556,
              "#d8576b"
             ],
             [
              0.6666666666666666,
              "#ed7953"
             ],
             [
              0.7777777777777778,
              "#fb9f3a"
             ],
             [
              0.8888888888888888,
              "#fdca26"
             ],
             [
              1,
              "#f0f921"
             ]
            ],
            "type": "histogram2dcontour"
           }
          ],
          "mesh3d": [
           {
            "colorbar": {
             "outlinewidth": 0,
             "ticks": ""
            },
            "type": "mesh3d"
           }
          ],
          "parcoords": [
           {
            "line": {
             "colorbar": {
              "outlinewidth": 0,
              "ticks": ""
             }
            },
            "type": "parcoords"
           }
          ],
          "pie": [
           {
            "automargin": true,
            "type": "pie"
           }
          ],
          "scatter": [
           {
            "fillpattern": {
             "fillmode": "overlay",
             "size": 10,
             "solidity": 0.2
            },
            "type": "scatter"
           }
          ],
          "scatter3d": [
           {
            "line": {
             "colorbar": {
              "outlinewidth": 0,
              "ticks": ""
             }
            },
            "marker": {
             "colorbar": {
              "outlinewidth": 0,
              "ticks": ""
             }
            },
            "type": "scatter3d"
           }
          ],
          "scattercarpet": [
           {
            "marker": {
             "colorbar": {
              "outlinewidth": 0,
              "ticks": ""
             }
            },
            "type": "scattercarpet"
           }
          ],
          "scattergeo": [
           {
            "marker": {
             "colorbar": {
              "outlinewidth": 0,
              "ticks": ""
             }
            },
            "type": "scattergeo"
           }
          ],
          "scattergl": [
           {
            "marker": {
             "colorbar": {
              "outlinewidth": 0,
              "ticks": ""
             }
            },
            "type": "scattergl"
           }
          ],
          "scattermapbox": [
           {
            "marker": {
             "colorbar": {
              "outlinewidth": 0,
              "ticks": ""
             }
            },
            "type": "scattermapbox"
           }
          ],
          "scatterpolar": [
           {
            "marker": {
             "colorbar": {
              "outlinewidth": 0,
              "ticks": ""
             }
            },
            "type": "scatterpolar"
           }
          ],
          "scatterpolargl": [
           {
            "marker": {
             "colorbar": {
              "outlinewidth": 0,
              "ticks": ""
             }
            },
            "type": "scatterpolargl"
           }
          ],
          "scatterternary": [
           {
            "marker": {
             "colorbar": {
              "outlinewidth": 0,
              "ticks": ""
             }
            },
            "type": "scatterternary"
           }
          ],
          "surface": [
           {
            "colorbar": {
             "outlinewidth": 0,
             "ticks": ""
            },
            "colorscale": [
             [
              0,
              "#0d0887"
             ],
             [
              0.1111111111111111,
              "#46039f"
             ],
             [
              0.2222222222222222,
              "#7201a8"
             ],
             [
              0.3333333333333333,
              "#9c179e"
             ],
             [
              0.4444444444444444,
              "#bd3786"
             ],
             [
              0.5555555555555556,
              "#d8576b"
             ],
             [
              0.6666666666666666,
              "#ed7953"
             ],
             [
              0.7777777777777778,
              "#fb9f3a"
             ],
             [
              0.8888888888888888,
              "#fdca26"
             ],
             [
              1,
              "#f0f921"
             ]
            ],
            "type": "surface"
           }
          ],
          "table": [
           {
            "cells": {
             "fill": {
              "color": "#EBF0F8"
             },
             "line": {
              "color": "white"
             }
            },
            "header": {
             "fill": {
              "color": "#C8D4E3"
             },
             "line": {
              "color": "white"
             }
            },
            "type": "table"
           }
          ]
         },
         "layout": {
          "annotationdefaults": {
           "arrowcolor": "#2a3f5f",
           "arrowhead": 0,
           "arrowwidth": 1
          },
          "autotypenumbers": "strict",
          "coloraxis": {
           "colorbar": {
            "outlinewidth": 0,
            "ticks": ""
           }
          },
          "colorscale": {
           "diverging": [
            [
             0,
             "#8e0152"
            ],
            [
             0.1,
             "#c51b7d"
            ],
            [
             0.2,
             "#de77ae"
            ],
            [
             0.3,
             "#f1b6da"
            ],
            [
             0.4,
             "#fde0ef"
            ],
            [
             0.5,
             "#f7f7f7"
            ],
            [
             0.6,
             "#e6f5d0"
            ],
            [
             0.7,
             "#b8e186"
            ],
            [
             0.8,
             "#7fbc41"
            ],
            [
             0.9,
             "#4d9221"
            ],
            [
             1,
             "#276419"
            ]
           ],
           "sequential": [
            [
             0,
             "#0d0887"
            ],
            [
             0.1111111111111111,
             "#46039f"
            ],
            [
             0.2222222222222222,
             "#7201a8"
            ],
            [
             0.3333333333333333,
             "#9c179e"
            ],
            [
             0.4444444444444444,
             "#bd3786"
            ],
            [
             0.5555555555555556,
             "#d8576b"
            ],
            [
             0.6666666666666666,
             "#ed7953"
            ],
            [
             0.7777777777777778,
             "#fb9f3a"
            ],
            [
             0.8888888888888888,
             "#fdca26"
            ],
            [
             1,
             "#f0f921"
            ]
           ],
           "sequentialminus": [
            [
             0,
             "#0d0887"
            ],
            [
             0.1111111111111111,
             "#46039f"
            ],
            [
             0.2222222222222222,
             "#7201a8"
            ],
            [
             0.3333333333333333,
             "#9c179e"
            ],
            [
             0.4444444444444444,
             "#bd3786"
            ],
            [
             0.5555555555555556,
             "#d8576b"
            ],
            [
             0.6666666666666666,
             "#ed7953"
            ],
            [
             0.7777777777777778,
             "#fb9f3a"
            ],
            [
             0.8888888888888888,
             "#fdca26"
            ],
            [
             1,
             "#f0f921"
            ]
           ]
          },
          "colorway": [
           "#636efa",
           "#EF553B",
           "#00cc96",
           "#ab63fa",
           "#FFA15A",
           "#19d3f3",
           "#FF6692",
           "#B6E880",
           "#FF97FF",
           "#FECB52"
          ],
          "font": {
           "color": "#2a3f5f"
          },
          "geo": {
           "bgcolor": "white",
           "lakecolor": "white",
           "landcolor": "#E5ECF6",
           "showlakes": true,
           "showland": true,
           "subunitcolor": "white"
          },
          "hoverlabel": {
           "align": "left"
          },
          "hovermode": "closest",
          "mapbox": {
           "style": "light"
          },
          "paper_bgcolor": "white",
          "plot_bgcolor": "#E5ECF6",
          "polar": {
           "angularaxis": {
            "gridcolor": "white",
            "linecolor": "white",
            "ticks": ""
           },
           "bgcolor": "#E5ECF6",
           "radialaxis": {
            "gridcolor": "white",
            "linecolor": "white",
            "ticks": ""
           }
          },
          "scene": {
           "xaxis": {
            "backgroundcolor": "#E5ECF6",
            "gridcolor": "white",
            "gridwidth": 2,
            "linecolor": "white",
            "showbackground": true,
            "ticks": "",
            "zerolinecolor": "white"
           },
           "yaxis": {
            "backgroundcolor": "#E5ECF6",
            "gridcolor": "white",
            "gridwidth": 2,
            "linecolor": "white",
            "showbackground": true,
            "ticks": "",
            "zerolinecolor": "white"
           },
           "zaxis": {
            "backgroundcolor": "#E5ECF6",
            "gridcolor": "white",
            "gridwidth": 2,
            "linecolor": "white",
            "showbackground": true,
            "ticks": "",
            "zerolinecolor": "white"
           }
          },
          "shapedefaults": {
           "line": {
            "color": "#2a3f5f"
           }
          },
          "ternary": {
           "aaxis": {
            "gridcolor": "white",
            "linecolor": "white",
            "ticks": ""
           },
           "baxis": {
            "gridcolor": "white",
            "linecolor": "white",
            "ticks": ""
           },
           "bgcolor": "#E5ECF6",
           "caxis": {
            "gridcolor": "white",
            "linecolor": "white",
            "ticks": ""
           }
          },
          "title": {
           "x": 0.05
          },
          "xaxis": {
           "automargin": true,
           "gridcolor": "white",
           "linecolor": "white",
           "ticks": "",
           "title": {
            "standoff": 15
           },
           "zerolinecolor": "white",
           "zerolinewidth": 2
          },
          "yaxis": {
           "automargin": true,
           "gridcolor": "white",
           "linecolor": "white",
           "ticks": "",
           "title": {
            "standoff": 15
           },
           "zerolinecolor": "white",
           "zerolinewidth": 2
          }
         }
        },
        "xaxis": {
         "anchor": "y",
         "domain": [
          0,
          1
         ],
         "title": {
          "text": "0"
         }
        },
        "yaxis": {
         "anchor": "x",
         "domain": [
          0,
          1
         ],
         "title": {
          "text": "1"
         }
        }
       }
      }
     },
     "metadata": {},
     "output_type": "display_data"
    },
    {
     "data": {
      "application/vnd.plotly.v1+json": {
       "config": {
        "plotlyServerURL": "https://plot.ly"
       },
       "data": [
        {
         "hovertemplate": "color=Coto<br>0=%{x}<br>1=%{y}<extra></extra>",
         "legendgroup": "Coto",
         "marker": {
          "color": "#636efa",
          "symbol": "circle"
         },
         "mode": "markers",
         "name": "Coto",
         "orientation": "v",
         "showlegend": true,
         "type": "scatter",
         "x": [
          -10.540029525756836,
          -13.20894718170166,
          -5.693147659301758,
          14.144755363464355,
          -7.518626689910889,
          9.416868209838867,
          -2.8422601222991943,
          -6.146583557128906,
          4.939704418182373,
          -6.080306053161621,
          6.867266654968262,
          -3.431551456451416,
          20.998600006103516,
          -5.3623528480529785,
          -1.6110626459121704,
          -10.99096965789795,
          -1.3996303081512451,
          -12.979382514953613,
          -13.54250431060791,
          -3.0113587379455566,
          11.94084358215332,
          25.93628692626953,
          7.478140354156494,
          9.468091011047363,
          -19.601207733154297,
          35.248985290527344,
          37.387229919433594,
          36.117435455322266,
          1.6109240055084229,
          -1.103464126586914,
          -4.862198352813721,
          -9.480205535888672,
          7.193944931030273,
          9.338438034057617,
          -13.325631141662598,
          -5.386800289154053,
          -0.5846723318099976,
          -1.8441996574401855,
          4.435919284820557,
          10.270971298217773,
          -13.364981651306152,
          -11.497687339782715,
          3.6479339599609375,
          -6.212993144989014,
          13.307778358459473,
          2.713510274887085,
          -10.457448959350586,
          -4.6704583168029785,
          0.010443929582834244,
          14.695035934448242,
          16.134082794189453,
          3.415868043899536,
          9.380534172058105,
          5.722461223602295,
          15.618303298950195,
          5.567453861236572,
          -2.721529483795166,
          6.741352081298828,
          3.917611598968506,
          3.194793701171875,
          -7.548943042755127,
          3.3248298168182373,
          6.440183639526367,
          -3.2753255367279053,
          -6.9179887771606445,
          8.459752082824707,
          2.311798572540283,
          -4.2587504386901855,
          3.9547817707061768,
          11.319987297058105,
          -6.028789043426514,
          7.168605327606201,
          8.96117115020752,
          -10.508926391601562,
          -5.943758487701416,
          9.930238723754883,
          -5.223494529724121,
          -12.279224395751953,
          16.77852439880371,
          26.276756286621094,
          20.11534309387207,
          6.495760917663574,
          3.59735107421875,
          8.319564819335938,
          5.976611614227295,
          23.49786949157715,
          6.9352006912231445,
          13.225176811218262,
          -9.154600143432617,
          26.058279037475586,
          -2.5005531311035156,
          6.9971489906311035,
          5.439428806304932,
          7.859323978424072,
          7.727259159088135,
          6.546419143676758,
          -12.539886474609375,
          -2.8486440181732178,
          5.7780585289001465,
          -10.263704299926758,
          22.484493255615234,
          19.139936447143555,
          -11.370667457580566,
          -4.437483787536621,
          13.69552993774414,
          -10.1218900680542,
          19.725996017456055,
          -10.932082176208496,
          -5.548373222351074,
          24.432579040527344,
          -9.636611938476562,
          21.5065975189209,
          4.3364715576171875,
          -5.42135763168335,
          22.01603126525879,
          25.257225036621094,
          16.133378982543945,
          3.08901309967041,
          -9.568863868713379,
          -12.1134672164917,
          3.831824779510498,
          1.9148313999176025,
          5.171774387359619,
          1.2551448345184326,
          24.918163299560547,
          -12.379998207092285,
          -6.3831634521484375,
          21.274232864379883,
          16.7366943359375,
          -1.0103117227554321,
          6.60529899597168,
          9.100641250610352,
          -4.0654449462890625,
          15.501213073730469,
          13.270684242248535,
          7.614327430725098,
          -8.175153732299805,
          3.923802137374878,
          7.345043182373047,
          6.248903274536133,
          -4.7067036628723145,
          18.014936447143555,
          -0.8203136324882507,
          5.642483711242676,
          6.579823017120361,
          7.3633246421813965,
          -2.009847640991211,
          7.431000232696533,
          16.776443481445312,
          5.67907190322876,
          8.625589370727539,
          8.443756103515625,
          4.5851216316223145,
          6.069016933441162,
          -6.799304008483887,
          11.909509658813477,
          -12.21320915222168,
          14.298249244689941,
          17.793378829956055,
          -4.704375743865967,
          5.05496072769165,
          20.939096450805664,
          9.82336711883545,
          26.19941520690918,
          18.843116760253906,
          -4.630305290222168,
          26.393226623535156,
          15.51827621459961,
          11.036991119384766,
          13.1577787399292,
          -1.6901458501815796,
          11.003442764282227,
          0.34806421399116516,
          1.1261653900146484,
          -7.855047225952148,
          17.186046600341797,
          1.643568992614746,
          7.496593952178955,
          4.705423355102539,
          -2.35971999168396,
          8.478323936462402,
          -1.3436260223388672,
          4.305308818817139,
          -2.003122091293335,
          25.566421508789062,
          -9.917695045471191,
          21.76156997680664,
          8.101393699645996,
          -14.589864730834961,
          4.91651725769043,
          2.6444942951202393,
          39.25825119018555,
          6.185997486114502,
          34.45050048828125,
          26.495328903198242,
          34.302734375,
          39.06944274902344,
          8.146322250366211,
          14.36353588104248,
          33.29310989379883,
          16.279739379882812,
          -2.6324079036712646,
          37.829524993896484,
          -2.2229604721069336,
          18.46196937561035,
          36.31971740722656,
          -1.392592191696167,
          0.11241581290960312,
          -1.249782919883728,
          37.512107849121094,
          19.974409103393555,
          24.533723831176758,
          -2.498486042022705,
          6.9552154541015625,
          14.896559715270996,
          3.51542329788208,
          -1.3958721160888672,
          13.358567237854004,
          -4.054027080535889,
          24.05680274963379,
          13.735198974609375,
          4.6786675453186035,
          0.5185746550559998,
          6.768672943115234,
          6.7754225730896,
          13.112370491027832,
          -2.0354785919189453,
          12.64656925201416,
          12.650238037109375,
          -4.792458534240723,
          12.678674697875977,
          4.292327404022217,
          15.936596870422363,
          7.306433200836182,
          5.726404190063477,
          -0.719696044921875,
          15.397661209106445,
          -9.996177673339844,
          8.406829833984375,
          3.9462203979492188,
          18.62507438659668,
          1.9049519300460815,
          15.506073951721191,
          1.826664686203003,
          19.443872451782227,
          3.629849910736084,
          27.264150619506836,
          4.98527193069458,
          7.456575393676758,
          24.74436378479004,
          -0.47981196641921997,
          1.709592580795288,
          4.237639427185059,
          0.5609742999076843,
          -0.5416929125785828,
          12.500102996826172,
          4.670632362365723,
          -1.8631503582000732,
          21.29263687133789,
          17.06224822998047,
          17.4923152923584,
          0.33135131001472473,
          1.0689826011657715,
          9.58064079284668,
          5.309813976287842,
          16.259685516357422,
          2.7499096393585205,
          0.6678968667984009,
          3.9030463695526123
         ],
         "xaxis": "x",
         "y": [
          -20.279659271240234,
          -9.570771217346191,
          0.957562267780304,
          -17.608440399169922,
          -23.579265594482422,
          -21.827714920043945,
          -19.968544006347656,
          -23.295698165893555,
          -25.313352584838867,
          -22.327585220336914,
          -19.462854385375977,
          -25.5743408203125,
          7.27359676361084,
          -22.248380661010742,
          25.200761795043945,
          -14.257861137390137,
          -8.887317657470703,
          -10.452259063720703,
          -10.408926963806152,
          -9.917394638061523,
          -19.115995407104492,
          0.6433973908424377,
          -9.103015899658203,
          -24.34756088256836,
          12.37031078338623,
          -0.9080964922904968,
          0.39823243021965027,
          -0.7704635262489319,
          13.02631950378418,
          3.816617012023926,
          -4.5522379875183105,
          20.68817710876465,
          8.494949340820312,
          13.39245891571045,
          -7.657938480377197,
          -25.348684310913086,
          11.429330825805664,
          26.667627334594727,
          6.505006790161133,
          18.817424774169922,
          -11.519265174865723,
          -19.309349060058594,
          3.5726959705352783,
          -16.88673973083496,
          -10.70136547088623,
          -22.279800415039062,
          -14.818775177001953,
          -25.665573120117188,
          18.64740562438965,
          -10.630148887634277,
          -19.229177474975586,
          12.40092658996582,
          17.21379280090332,
          -22.89702033996582,
          -14.042391777038574,
          17.93282127380371,
          8.50101089477539,
          20.5425968170166,
          -3.366903305053711,
          -25.180374145507812,
          -27.41584014892578,
          6.63839864730835,
          7.674095630645752,
          23.043397903442383,
          -11.77152156829834,
          -25.5927677154541,
          -21.6461124420166,
          -24.942829132080078,
          8.013072967529297,
          10.859691619873047,
          4.5716753005981445,
          25.290010452270508,
          20.163633346557617,
          0.874880313873291,
          -16.272306442260742,
          -21.560155868530273,
          -23.087909698486328,
          -17.236413955688477,
          2.5473783016204834,
          7.09350061416626,
          11.385913848876953,
          -25.207683563232422,
          -26.03338050842285,
          -25.25408935546875,
          -22.08208656311035,
          7.016598224639893,
          24.807004928588867,
          -16.716642379760742,
          -24.961345672607422,
          7.057130336761475,
          8.455306053161621,
          -11.453819274902344,
          24.105077743530273,
          -23.19895362854004,
          -25.263900756835938,
          6.90167236328125,
          -12.541524887084961,
          -14.605944633483887,
          19.882192611694336,
          -21.746030807495117,
          5.560305118560791,
          -11.672410011291504,
          -11.799781799316406,
          -23.181013107299805,
          -5.859236717224121,
          -13.39306926727295,
          -8.493885040283203,
          -21.573986053466797,
          -20.603803634643555,
          9.899402618408203,
          -15.479598999023438,
          6.475193977355957,
          1.0826990604400635,
          -21.486543655395508,
          -2.6026017665863037,
          8.533561706542969,
          -14.632039070129395,
          13.18648624420166,
          -20.923961639404297,
          -21.4078369140625,
          7.794240951538086,
          16.8743896484375,
          13.02054214477539,
          26.63063621520996,
          8.204398155212402,
          -19.45725440979004,
          -11.708880424499512,
          10.95970344543457,
          5.342828273773193,
          -7.443146705627441,
          -20.65420150756836,
          18.995447158813477,
          -24.151811599731445,
          -17.81770896911621,
          -14.788833618164062,
          -24.412799835205078,
          -23.8314266204834,
          19.640254974365234,
          17.606966018676758,
          15.592066764831543,
          -16.98565101623535,
          -9.878459930419922,
          4.702796936035156,
          -5.540022850036621,
          -17.65827751159668,
          -15.134651184082031,
          13.72165584564209,
          -10.734710693359375,
          -19.644996643066406,
          17.260005950927734,
          12.204524993896484,
          -20.45825958251953,
          15.030034065246582,
          -3.9148945808410645,
          -24.633195877075195,
          -11.529999732971191,
          -20.65517807006836,
          -14.289433479309082,
          -12.219862937927246,
          -7.1788010597229,
          18.944713592529297,
          -9.09125804901123,
          18.14905548095703,
          8.262426376342773,
          -10.558321952819824,
          -2.9177286624908447,
          9.016071319580078,
          1.9545363187789917,
          11.155168533325195,
          -7.661198616027832,
          -24.118932723999023,
          -18.748414993286133,
          -20.71424102783203,
          -21.151031494140625,
          -24.436153411865234,
          -14.660324096679688,
          15.483335494995117,
          -7.0086188316345215,
          24.68868637084961,
          -24.529659271240234,
          -7.488270282745361,
          20.137527465820312,
          31.26936912536621,
          -14.405389785766602,
          7.263396739959717,
          -22.26154136657715,
          6.778777122497559,
          20.00974464416504,
          -5.933992385864258,
          10.384910583496094,
          17.02261734008789,
          -0.8448710441589355,
          22.69563865661621,
          0.1783839464187622,
          -0.6168299317359924,
          -1.1495075225830078,
          -0.04230436682701111,
          23.7113037109375,
          -14.8411865234375,
          -0.27950385212898254,
          -4.3470282554626465,
          -6.716516494750977,
          -1.5628743171691895,
          -23.83177375793457,
          -10.560397148132324,
          0.3046784996986389,
          26.301477432250977,
          -7.419233798980713,
          -13.86358642578125,
          -2.790217399597168,
          -7.3828582763671875,
          -5.62462854385376,
          5.487199783325195,
          -17.393024444580078,
          0.135847270488739,
          14.692981719970703,
          16.89228630065918,
          -18.133127212524414,
          11.37814998626709,
          -1.5684657096862793,
          -19.262523651123047,
          24.565950393676758,
          23.612258911132812,
          4.031015872955322,
          8.182191848754883,
          -5.715437889099121,
          -5.245283126831055,
          -12.657099723815918,
          -13.92437744140625,
          -8.435906410217285,
          -18.576032638549805,
          3.4317452907562256,
          -1.338142991065979,
          12.039916038513184,
          21.896648406982422,
          16.189760208129883,
          -0.8440325856208801,
          1.7225931882858276,
          20.98855209350586,
          10.449430465698242,
          -2.695995330810547,
          -19.067378997802734,
          2.782505512237549,
          -20.22254180908203,
          -6.295971870422363,
          10.866347312927246,
          0.39956000447273254,
          17.47570037841797,
          16.15449333190918,
          9.398149490356445,
          5.520036220550537,
          -15.394612312316895,
          -16.727924346923828,
          -15.00601863861084,
          23.53035545349121,
          -21.103721618652344,
          -0.761732816696167,
          25.646156311035156,
          4.7876667976379395,
          -11.082647323608398,
          3.898524045944214,
          -14.657537460327148,
          22.47079086303711,
          -19.96343421936035,
          -15.434691429138184,
          -10.725618362426758,
          9.872694969177246,
          -13.940898895263672,
          12.475034713745117
         ],
         "yaxis": "y"
        },
        {
         "hovertemplate": "color=Laci<br>0=%{x}<br>1=%{y}<extra></extra>",
         "legendgroup": "Laci",
         "marker": {
          "color": "#EF553B",
          "symbol": "circle"
         },
         "mode": "markers",
         "name": "Laci",
         "orientation": "v",
         "showlegend": true,
         "type": "scatter",
         "x": [
          -27.841217041015625,
          3.1980741024017334,
          5.747950553894043,
          1.6540528535842896,
          13.783226013183594,
          -2.3023321628570557,
          -5.953922271728516,
          0.7398462295532227,
          16.435585021972656,
          9.353440284729004,
          -23.2076473236084,
          -9.566781044006348,
          -26.817901611328125,
          15.57237720489502,
          -0.6611968874931335,
          2.7305023670196533,
          -3.2725870609283447,
          18.157344818115234,
          -34.160484313964844,
          15.09196662902832,
          2.1035075187683105,
          6.980266094207764,
          -3.8479857444763184,
          9.6804838180542,
          7.103870868682861,
          16.614513397216797,
          -9.43990707397461,
          13.630963325500488,
          -6.552225112915039,
          0.28168386220932007,
          18.37039566040039,
          17.3907413482666,
          3.953974723815918,
          2.688293933868408,
          -9.346664428710938,
          -3.1298203468322754,
          -7.352509498596191,
          13.92716121673584,
          5.491144180297852,
          5.810806751251221,
          -7.102637767791748,
          1.7329095602035522,
          16.55265235900879,
          2.7965049743652344,
          -0.5011858940124512,
          3.968273401260376,
          14.637624740600586,
          -10.636816024780273,
          10.520428657531738,
          -3.2351558208465576,
          6.495589256286621,
          -6.150559425354004,
          -4.138084888458252,
          17.2047061920166,
          14.72765064239502,
          28.611913681030273,
          34.91211700439453,
          34.36287307739258,
          36.5953254699707,
          38.00349426269531,
          33.142333984375,
          8.813937187194824,
          32.758426666259766,
          38.33119583129883,
          35.41023254394531,
          33.821754455566406,
          35.269683837890625,
          37.269569396972656,
          36.566802978515625,
          32.98167419433594,
          34.486045837402344,
          3.8441717624664307,
          25.26382827758789,
          -13.571666717529297,
          35.885597229003906,
          -11.18628978729248,
          12.867687225341797,
          7.947772979736328,
          3.941787004470825,
          4.3406901359558105,
          1.46527099609375,
          14.346870422363281,
          -9.145037651062012,
          4.7463788986206055,
          4.220005989074707,
          -12.91547966003418,
          8.194395065307617,
          -33.99052810668945,
          -24.498756408691406,
          -34.07060241699219,
          -34.314064025878906,
          35.1622200012207,
          -33.62278747558594,
          -21.075340270996094,
          -33.215797424316406,
          -33.06827926635742,
          -17.74319076538086,
          -34.445899963378906,
          -32.491607666015625,
          -7.979156494140625,
          -33.02407455444336,
          -33.63377380371094,
          -33.28451919555664,
          -0.19084011018276215,
          -24.107864379882812,
          -32.91038131713867,
          -32.24566650390625,
          36.20729446411133,
          4.04782247543335,
          10.384082794189453,
          11.603860855102539,
          -3.904555082321167,
          35.86512756347656,
          33.76130294799805,
          -0.8289095759391785,
          20.423582077026367,
          31.707918167114258,
          17.643177032470703,
          1.3152778148651123,
          -8.001824378967285,
          0.5862118601799011,
          0.781968891620636,
          20.455793380737305,
          17.980127334594727,
          15.334148406982422,
          -7.960404872894287,
          7.746734142303467,
          -3.056976556777954,
          4.83683443069458,
          -5.052520275115967,
          -10.909270286560059,
          14.1296968460083,
          4.303849697113037,
          1.277815818786621,
          -11.590309143066406,
          -5.3227458000183105,
          35.748741149902344
         ],
         "xaxis": "x",
         "y": [
          -2.119642972946167,
          -26.968914031982422,
          19.011232376098633,
          20.700225830078125,
          0.3745747208595276,
          15.873332023620605,
          22.508777618408203,
          11.499656677246094,
          -11.939656257629395,
          -18.456449508666992,
          4.4212470054626465,
          4.003145694732666,
          -2.255762815475464,
          -7.22981071472168,
          26.035545349121094,
          16.170408248901367,
          24.402111053466797,
          2.8589940071105957,
          11.580936431884766,
          2.1881563663482666,
          11.037299156188965,
          14.772138595581055,
          -3.826885223388672,
          13.96687126159668,
          21.850671768188477,
          -16.496957778930664,
          20.008134841918945,
          -11.20224666595459,
          21.348962783813477,
          24.479951858520508,
          -4.264225482940674,
          -7.2756853103637695,
          30.369565963745117,
          18.176654815673828,
          -23.90583610534668,
          -4.701589107513428,
          -26.615524291992188,
          -1.707144856452942,
          -23.63379669189453,
          12.206814765930176,
          -26.5792179107666,
          11.172587394714355,
          -7.582387924194336,
          17.793027877807617,
          24.599313735961914,
          9.677366256713867,
          -8.995499610900879,
          -23.752988815307617,
          19.944067001342773,
          26.713037490844727,
          -5.918094635009766,
          -8.543416976928711,
          26.530628204345703,
          3.630157709121704,
          -12.88235855102539,
          0.445261687040329,
          -0.039341650903224945,
          -4.418565273284912,
          1.0224372148513794,
          -0.22113795578479767,
          1.1094428300857544,
          24.907854080200195,
          2.307547092437744,
          1.0895789861679077,
          -4.606747150421143,
          -1.9031686782836914,
          0.7260554432868958,
          -0.579379677772522,
          -2.0397250652313232,
          -4.77150821685791,
          -3.8184444904327393,
          -20.57459831237793,
          -0.9381954073905945,
          -13.445408821105957,
          -2.8373754024505615,
          -16.440584182739258,
          17.935195922851562,
          17.407562255859375,
          -2.6309633255004883,
          -19.35871124267578,
          1.8127713203430176,
          -6.078699588775635,
          22.973552703857422,
          -2.4510715007781982,
          1.7079486846923828,
          -13.168211936950684,
          22.51030921936035,
          7.9892354011535645,
          6.163719177246094,
          10.409830093383789,
          9.152497291564941,
          -2.7271342277526855,
          8.648336410522461,
          2.745459794998169,
          8.250312805175781,
          10.681254386901855,
          13.652692794799805,
          8.676944732666016,
          9.869184494018555,
          4.366149425506592,
          11.643701553344727,
          9.811907768249512,
          9.91700267791748,
          27.29667091369629,
          0.14008791744709015,
          8.611932754516602,
          9.398273468017578,
          1.5157852172851562,
          30.58700942993164,
          -18.97551918029785,
          -16.435665130615234,
          -22.134544372558594,
          1.8328810930252075,
          -5.008961200714111,
          -6.7501091957092285,
          11.341584205627441,
          0.1561339944601059,
          1.2271124124526978,
          -19.494932174682617,
          -1.3347108364105225,
          25.971616744995117,
          -6.3507232666015625,
          -5.693543910980225,
          0.01008682418614626,
          -1.8697859048843384,
          6.4049296379089355,
          -14.576203346252441,
          -3.9989819526672363,
          -20.176637649536133,
          2.967803716659546,
          -23.587915420532227,
          -13.491205215454102,
          -18.62946128845215,
          23.425777435302734,
          -19.935028076171875,
          -3.8642818927764893,
          -1.9091886281967163
         ],
         "yaxis": "y"
        },
        {
         "hovertemplate": "color=Anpa<br>0=%{x}<br>1=%{y}<extra></extra>",
         "legendgroup": "Anpa",
         "marker": {
          "color": "#00cc96",
          "symbol": "circle"
         },
         "mode": "markers",
         "name": "Anpa",
         "orientation": "v",
         "showlegend": true,
         "type": "scatter",
         "x": [
          17.609352111816406,
          8.641061782836914,
          -7.738246440887451,
          -4.339427471160889,
          8.499184608459473,
          17.35725975036621,
          -1.339463472366333,
          9.9514799118042,
          16.74853515625,
          -5.4549760818481445,
          26.196147918701172,
          12.308951377868652,
          7.998061656951904,
          18.116281509399414,
          19.748775482177734,
          12.313669204711914,
          17.14134979248047,
          32.35311508178711,
          17.540233612060547,
          -5.051835060119629,
          -0.7641473412513733,
          17.014299392700195,
          32.14377975463867,
          -3.472350597381592,
          -9.612900733947754,
          8.88453197479248,
          10.588558197021484,
          -16.26511001586914,
          -15.493038177490234,
          -8.139671325683594,
          -21.665483474731445,
          -21.359920501708984,
          -19.584718704223633,
          -25.247272491455078,
          -17.510950088500977,
          -22.22690200805664,
          -6.328474521636963,
          0.6983028650283813,
          -25.121929168701172,
          19.04140853881836,
          -18.021081924438477,
          -14.956485748291016,
          12.035861015319824,
          -10.293368339538574,
          -21.974361419677734,
          -20.016069412231445,
          -7.102733612060547,
          -19.49347496032715,
          -7.353126049041748,
          -19.6473445892334,
          -11.44614028930664,
          -18.954261779785156,
          0.025939816609025,
          18.790651321411133,
          -22.312829971313477,
          -24.604665756225586,
          -13.337970733642578,
          -15.637369155883789,
          39.635826110839844,
          -21.369491577148438,
          -14.33306884765625,
          -22.420211791992188,
          -3.6065335273742676,
          -15.05034351348877,
          -24.699947357177734,
          -0.12920290231704712,
          -23.09444236755371,
          -24.58149528503418,
          -11.019136428833008,
          -24.34982681274414,
          -24.931306838989258,
          -16.85028648376465,
          -8.39427661895752,
          30.367856979370117,
          -13.431510925292969,
          -4.63712215423584,
          -14.103084564208984,
          -19.635770797729492,
          -5.774340629577637,
          -20.028972625732422,
          -9.708473205566406,
          -10.009580612182617,
          -18.548704147338867,
          -9.190413475036621,
          -13.520904541015625,
          -17.386756896972656,
          -14.84090805053711,
          -17.844388961791992,
          -18.774032592773438,
          -19.46685218811035,
          -8.835226058959961,
          12.086457252502441,
          -5.287069797515869,
          11.275484085083008,
          -16.936784744262695,
          -0.9613456130027771,
          0.0543598048388958,
          23.99503517150879,
          12.296354293823242,
          -16.032440185546875,
          -5.2296366691589355,
          -15.49736499786377,
          21.348291397094727,
          -15.40198040008545,
          -0.2551291882991791,
          -19.84541130065918,
          -25.187301635742188,
          -19.58233070373535,
          -16.650360107421875,
          -17.934072494506836,
          0.12471990287303925,
          -4.499669075012207,
          -15.763691902160645,
          33.72211837768555,
          -4.670879364013672,
          -7.20648717880249,
          -16.880386352539062,
          -17.151817321777344,
          -14.90733528137207,
          -17.42244529724121,
          -16.87093734741211,
          10.50073528289795,
          -15.471335411071777,
          -18.594575881958008,
          -18.89739990234375,
          -24.60794448852539,
          23.008188247680664,
          2.1300342082977295,
          12.488373756408691,
          5.601724147796631,
          -4.387813091278076,
          -14.361248970031738,
          -21.701038360595703,
          -21.093700408935547,
          -13.949188232421875,
          -24.74506378173828,
          -24.483774185180664,
          -14.16008472442627,
          -24.08938980102539,
          20.459579467773438,
          27.961071014404297,
          -24.61734962463379,
          -20.3758602142334,
          -18.40547752380371,
          -1.3283183574676514,
          -19.90289878845215,
          -21.74493408203125,
          -24.58629608154297,
          -15.474888801574707,
          -16.33070182800293,
          -9.482325553894043,
          -17.19145393371582,
          -23.62379264831543,
          18.083091735839844,
          -27.159706115722656,
          -23.005657196044922,
          -18.70499610900879,
          -26.244815826416016,
          -21.006128311157227,
          10.540725708007812,
          10.521462440490723,
          -4.43296480178833,
          -20.11822509765625,
          -11.171833038330078,
          1.6616642475128174,
          -26.92960548400879,
          -17.93677520751953,
          -19.3189640045166,
          12.040124893188477,
          -12.012420654296875,
          10.957863807678223,
          -2.3443682193756104,
          -20.936065673828125,
          -6.59547758102417,
          -22.96067237854004,
          -22.807403564453125,
          12.103729248046875,
          -21.167709350585938,
          -17.55083656311035,
          -16.34905242919922,
          -4.131710529327393,
          -7.763400077819824,
          -21.303293228149414,
          -20.485572814941406,
          -25.591238021850586,
          -15.082320213317871,
          -16.868288040161133,
          -8.392898559570312,
          -21.362483978271484,
          -0.7209171056747437,
          -13.699604034423828,
          12.357029914855957,
          -17.497556686401367,
          -13.450336456298828,
          -15.918745994567871,
          -1.487538456916809,
          -20.167863845825195,
          -22.70489501953125,
          -21.267942428588867,
          -12.072020530700684,
          -22.51938819885254,
          -5.695443630218506,
          -21.344205856323242,
          13.643682479858398,
          14.551735877990723,
          -2.515580415725708,
          -3.137561082839966,
          -2.7308778762817383,
          -19.265039443969727,
          -27.28901481628418,
          4.397386074066162,
          -25.257827758789062,
          -18.629732131958008,
          9.428955078125,
          -25.640079498291016,
          -3.640010118484497,
          -27.572744369506836,
          -6.531128406524658,
          -3.401580333709717,
          -2.2908952236175537,
          -22.64613914489746,
          -4.301961898803711,
          13.516996383666992,
          -17.019113540649414,
          -8.523038864135742,
          -9.95110034942627,
          18.461088180541992,
          10.639719009399414,
          -12.473210334777832,
          6.554030895233154,
          19.7618465423584,
          1.0735812187194824,
          10.186280250549316,
          11.50208568572998,
          4.996310234069824,
          5.436746597290039,
          21.298446655273438,
          -5.2898783683776855,
          -12.650074005126953,
          -2.1685173511505127,
          -6.651744365692139,
          -9.497363090515137,
          5.95329475402832,
          19.063434600830078,
          9.28007984161377,
          -13.045461654663086,
          4.500677108764648,
          2.596940279006958,
          -0.7485578060150146,
          -3.220923900604248,
          2.4978444576263428,
          -10.55008602142334,
          -2.5714728832244873,
          16.27359962463379,
          16.526723861694336,
          -5.77287483215332,
          13.941888809204102,
          -2.416480779647827,
          -17.606834411621094,
          -22.289377212524414,
          -24.44795799255371,
          -4.247790813446045,
          -10.116418838500977,
          -15.904980659484863,
          -12.342430114746094,
          13.703413009643555,
          -26.151697158813477,
          -22.7386531829834,
          11.193208694458008,
          11.591419219970703,
          11.574090957641602,
          -12.303285598754883,
          -11.166708946228027,
          -18.53409767150879,
          16.844234466552734,
          -3.1356868743896484,
          4.2668328285217285,
          -23.656654357910156,
          -22.124950408935547,
          -12.157084465026855,
          -15.506269454956055,
          -18.809234619140625,
          -16.645294189453125,
          -18.40224838256836,
          -14.643749237060547,
          18.730876922607422,
          -12.702408790588379
         ],
         "xaxis": "x",
         "y": [
          -1.5056332349777222,
          21.986791610717773,
          6.3133416175842285,
          -2.381906509399414,
          -16.955036163330078,
          -1.8310195207595825,
          5.283649444580078,
          -16.9096622467041,
          -5.515063762664795,
          -0.41138869524002075,
          -1.5598814487457275,
          -7.423067569732666,
          -16.202363967895508,
          -1.2487146854400635,
          -9.668335914611816,
          -15.330668449401855,
          -2.4875752925872803,
          0.5822760462760925,
          -2.267293691635132,
          14.963314056396484,
          6.3318400382995605,
          -6.302948951721191,
          -2.966266632080078,
          11.782354354858398,
          21.500694274902344,
          -15.83431339263916,
          -23.036069869995117,
          9.974126815795898,
          11.335002899169922,
          -0.8995088934898376,
          9.618745803833008,
          14.981325149536133,
          -8.092085838317871,
          9.476391792297363,
          3.8835043907165527,
          17.54737091064453,
          -5.13377571105957,
          22.314176559448242,
          8.550443649291992,
          0.393222451210022,
          -5.039814472198486,
          9.38919734954834,
          3.00106143951416,
          16.34117889404297,
          17.911514282226562,
          9.400341987609863,
          -3.5616161823272705,
          5.1891350746154785,
          3.1803605556488037,
          1.468185544013977,
          17.293394088745117,
          16.076568603515625,
          25.670495986938477,
          11.630586624145508,
          12.576144218444824,
          -4.45955753326416,
          -8.110596656799316,
          -3.0378305912017822,
          -0.49066299200057983,
          1.4966037273406982,
          1.0979071855545044,
          1.9257429838180542,
          6.193398475646973,
          2.6499860286712646,
          -4.017616271972656,
          17.961091995239258,
          -1.9605079889297485,
          -5.781672477722168,
          -9.989716529846191,
          7.610374450683594,
          4.066119194030762,
          9.86279582977295,
          -2.6641063690185547,
          -0.6259250044822693,
          1.5883612632751465,
          -0.893868625164032,
          17.052448272705078,
          15.514551162719727,
          -1.6666576862335205,
          -3.320706367492676,
          -5.283449649810791,
          -2.409696578979492,
          -3.750627279281616,
          -5.568137168884277,
          9.57133960723877,
          8.436738967895508,
          -8.445253372192383,
          6.688604831695557,
          -0.9248818755149841,
          8.375569343566895,
          -5.167681694030762,
          -3.080967426300049,
          0.2877892851829529,
          -4.218145847320557,
          -5.499091148376465,
          -3.6064794063568115,
          -3.6114065647125244,
          -4.608553886413574,
          -3.321409225463867,
          -6.044648170471191,
          -1.7155636548995972,
          -6.442211627960205,
          -0.8017557263374329,
          -7.958434104919434,
          4.40897274017334,
          -1.4104641675949097,
          12.80638313293457,
          -7.04743766784668,
          -6.751368522644043,
          12.167398452758789,
          -2.3572652339935303,
          10.919026374816895,
          16.657291412353516,
          -5.377101898193359,
          -7.111818790435791,
          4.208980560302734,
          11.650666236877441,
          0.6851934790611267,
          17.144289016723633,
          10.435018539428711,
          12.696362495422363,
          -2.5440945625305176,
          4.49910831451416,
          -2.1384031772613525,
          -8.921333312988281,
          12.156417846679688,
          -0.8269344568252563,
          3.339698076248169,
          -1.3230341672897339,
          -16.765043258666992,
          -19.87680435180664,
          7.330315113067627,
          -4.844499588012695,
          6.207815647125244,
          11.178153991699219,
          15.372617721557617,
          14.359434127807617,
          17.836179733276367,
          1.7122299671173096,
          -1.998940348625183,
          0.2262195497751236,
          14.465972900390625,
          5.774571895599365,
          -1.2801902294158936,
          7.796914577484131,
          2.868126392364502,
          4.845452785491943,
          9.016830444335938,
          3.9623141288757324,
          4.302315711975098,
          -1.3618000745773315,
          2.3721184730529785,
          -4.54172420501709,
          1.6053329706192017,
          -4.410901069641113,
          7.59210729598999,
          9.18137264251709,
          3.0573887825012207,
          -2.774048089981079,
          -6.357956409454346,
          -19.68544578552246,
          5.35354471206665,
          -2.0424530506134033,
          -1.3933836221694946,
          -25.338891983032227,
          -3.0940370559692383,
          9.690389633178711,
          16.601953506469727,
          3.214451313018799,
          -10.354888916015625,
          0.23134593665599823,
          6.273670673370361,
          -5.847851753234863,
          4.024961471557617,
          -7.344764232635498,
          -7.558122158050537,
          -21.47826385498047,
          18.658864974975586,
          -3.13295578956604,
          -1.765601396560669,
          -20.639013290405273,
          9.567252159118652,
          8.303048133850098,
          2.267381429672241,
          1.260908842086792,
          7.264819622039795,
          -3.0117287635803223,
          2.695333242416382,
          4.087835311889648,
          21.151710510253906,
          6.539421081542969,
          2.0318005084991455,
          -2.341285467147827,
          11.522000312805176,
          12.433018684387207,
          -5.899807453155518,
          10.047842979431152,
          6.2087249755859375,
          11.647911071777344,
          2.405348300933838,
          8.775018692016602,
          6.5302348136901855,
          12.09565258026123,
          -11.779369354248047,
          -4.4291672706604,
          13.584946632385254,
          -2.9742984771728516,
          -9.850638389587402,
          -6.172612190246582,
          3.2369086742401123,
          11.8396577835083,
          15.636712074279785,
          11.908676147460938,
          -8.415830612182617,
          2.428610324859619,
          2.833371162414551,
          -3.188278913497925,
          14.724700927734375,
          -22.45635414123535,
          -7.435146808624268,
          -1.6351497173309326,
          4.334864616394043,
          16.205215454101562,
          7.81157112121582,
          21.205148696899414,
          12.036886215209961,
          11.928802490234375,
          21.671367645263672,
          0.611680269241333,
          -4.389686584472656,
          12.1519193649292,
          -0.2990099787712097,
          23.87505531311035,
          17.002229690551758,
          4.433348178863525,
          -17.10291290283203,
          -1.405953288078308,
          20.989582061767578,
          -3.527771472930908,
          -3.516681432723999,
          15.168781280517578,
          -12.92422866821289,
          -19.093957901000977,
          2.9023218154907227,
          -3.8454742431640625,
          2.3150722980499268,
          17.99163818359375,
          -18.34131622314453,
          16.673973083496094,
          -19.776166915893555,
          24.698915481567383,
          -15.891736030578613,
          -1.2658536434173584,
          3.633674383163452,
          0.8944131135940552,
          3.387786388397217,
          16.24420928955078,
          -2.3980278968811035,
          11.058701515197754,
          9.505069732666016,
          -0.9670199751853943,
          -8.644373893737793,
          -2.8556575775146484,
          15.100502967834473,
          13.92139720916748,
          -13.823271751403809,
          -2.0534746646881104,
          -0.3085106313228607,
          19.156078338623047,
          17.634387969970703,
          -3.251495599746704,
          15.495416641235352,
          1.4073569774627686,
          5.384212970733643,
          -0.18128909170627594,
          5.089751720428467,
          18.767881393432617,
          6.9891886711120605,
          6.815038681030273,
          14.20256233215332,
          16.06005859375,
          -3.0195515155792236,
          13.765886306762695,
          8.270730018615723,
          16.27068328857422,
          -4.941160202026367,
          15.36434555053711
         ],
         "yaxis": "y"
        }
       ],
       "layout": {
        "legend": {
         "title": {
          "text": "color"
         },
         "tracegroupgap": 0
        },
        "margin": {
         "t": 60
        },
        "template": {
         "data": {
          "bar": [
           {
            "error_x": {
             "color": "#2a3f5f"
            },
            "error_y": {
             "color": "#2a3f5f"
            },
            "marker": {
             "line": {
              "color": "#E5ECF6",
              "width": 0.5
             },
             "pattern": {
              "fillmode": "overlay",
              "size": 10,
              "solidity": 0.2
             }
            },
            "type": "bar"
           }
          ],
          "barpolar": [
           {
            "marker": {
             "line": {
              "color": "#E5ECF6",
              "width": 0.5
             },
             "pattern": {
              "fillmode": "overlay",
              "size": 10,
              "solidity": 0.2
             }
            },
            "type": "barpolar"
           }
          ],
          "carpet": [
           {
            "aaxis": {
             "endlinecolor": "#2a3f5f",
             "gridcolor": "white",
             "linecolor": "white",
             "minorgridcolor": "white",
             "startlinecolor": "#2a3f5f"
            },
            "baxis": {
             "endlinecolor": "#2a3f5f",
             "gridcolor": "white",
             "linecolor": "white",
             "minorgridcolor": "white",
             "startlinecolor": "#2a3f5f"
            },
            "type": "carpet"
           }
          ],
          "choropleth": [
           {
            "colorbar": {
             "outlinewidth": 0,
             "ticks": ""
            },
            "type": "choropleth"
           }
          ],
          "contour": [
           {
            "colorbar": {
             "outlinewidth": 0,
             "ticks": ""
            },
            "colorscale": [
             [
              0,
              "#0d0887"
             ],
             [
              0.1111111111111111,
              "#46039f"
             ],
             [
              0.2222222222222222,
              "#7201a8"
             ],
             [
              0.3333333333333333,
              "#9c179e"
             ],
             [
              0.4444444444444444,
              "#bd3786"
             ],
             [
              0.5555555555555556,
              "#d8576b"
             ],
             [
              0.6666666666666666,
              "#ed7953"
             ],
             [
              0.7777777777777778,
              "#fb9f3a"
             ],
             [
              0.8888888888888888,
              "#fdca26"
             ],
             [
              1,
              "#f0f921"
             ]
            ],
            "type": "contour"
           }
          ],
          "contourcarpet": [
           {
            "colorbar": {
             "outlinewidth": 0,
             "ticks": ""
            },
            "type": "contourcarpet"
           }
          ],
          "heatmap": [
           {
            "colorbar": {
             "outlinewidth": 0,
             "ticks": ""
            },
            "colorscale": [
             [
              0,
              "#0d0887"
             ],
             [
              0.1111111111111111,
              "#46039f"
             ],
             [
              0.2222222222222222,
              "#7201a8"
             ],
             [
              0.3333333333333333,
              "#9c179e"
             ],
             [
              0.4444444444444444,
              "#bd3786"
             ],
             [
              0.5555555555555556,
              "#d8576b"
             ],
             [
              0.6666666666666666,
              "#ed7953"
             ],
             [
              0.7777777777777778,
              "#fb9f3a"
             ],
             [
              0.8888888888888888,
              "#fdca26"
             ],
             [
              1,
              "#f0f921"
             ]
            ],
            "type": "heatmap"
           }
          ],
          "heatmapgl": [
           {
            "colorbar": {
             "outlinewidth": 0,
             "ticks": ""
            },
            "colorscale": [
             [
              0,
              "#0d0887"
             ],
             [
              0.1111111111111111,
              "#46039f"
             ],
             [
              0.2222222222222222,
              "#7201a8"
             ],
             [
              0.3333333333333333,
              "#9c179e"
             ],
             [
              0.4444444444444444,
              "#bd3786"
             ],
             [
              0.5555555555555556,
              "#d8576b"
             ],
             [
              0.6666666666666666,
              "#ed7953"
             ],
             [
              0.7777777777777778,
              "#fb9f3a"
             ],
             [
              0.8888888888888888,
              "#fdca26"
             ],
             [
              1,
              "#f0f921"
             ]
            ],
            "type": "heatmapgl"
           }
          ],
          "histogram": [
           {
            "marker": {
             "pattern": {
              "fillmode": "overlay",
              "size": 10,
              "solidity": 0.2
             }
            },
            "type": "histogram"
           }
          ],
          "histogram2d": [
           {
            "colorbar": {
             "outlinewidth": 0,
             "ticks": ""
            },
            "colorscale": [
             [
              0,
              "#0d0887"
             ],
             [
              0.1111111111111111,
              "#46039f"
             ],
             [
              0.2222222222222222,
              "#7201a8"
             ],
             [
              0.3333333333333333,
              "#9c179e"
             ],
             [
              0.4444444444444444,
              "#bd3786"
             ],
             [
              0.5555555555555556,
              "#d8576b"
             ],
             [
              0.6666666666666666,
              "#ed7953"
             ],
             [
              0.7777777777777778,
              "#fb9f3a"
             ],
             [
              0.8888888888888888,
              "#fdca26"
             ],
             [
              1,
              "#f0f921"
             ]
            ],
            "type": "histogram2d"
           }
          ],
          "histogram2dcontour": [
           {
            "colorbar": {
             "outlinewidth": 0,
             "ticks": ""
            },
            "colorscale": [
             [
              0,
              "#0d0887"
             ],
             [
              0.1111111111111111,
              "#46039f"
             ],
             [
              0.2222222222222222,
              "#7201a8"
             ],
             [
              0.3333333333333333,
              "#9c179e"
             ],
             [
              0.4444444444444444,
              "#bd3786"
             ],
             [
              0.5555555555555556,
              "#d8576b"
             ],
             [
              0.6666666666666666,
              "#ed7953"
             ],
             [
              0.7777777777777778,
              "#fb9f3a"
             ],
             [
              0.8888888888888888,
              "#fdca26"
             ],
             [
              1,
              "#f0f921"
             ]
            ],
            "type": "histogram2dcontour"
           }
          ],
          "mesh3d": [
           {
            "colorbar": {
             "outlinewidth": 0,
             "ticks": ""
            },
            "type": "mesh3d"
           }
          ],
          "parcoords": [
           {
            "line": {
             "colorbar": {
              "outlinewidth": 0,
              "ticks": ""
             }
            },
            "type": "parcoords"
           }
          ],
          "pie": [
           {
            "automargin": true,
            "type": "pie"
           }
          ],
          "scatter": [
           {
            "fillpattern": {
             "fillmode": "overlay",
             "size": 10,
             "solidity": 0.2
            },
            "type": "scatter"
           }
          ],
          "scatter3d": [
           {
            "line": {
             "colorbar": {
              "outlinewidth": 0,
              "ticks": ""
             }
            },
            "marker": {
             "colorbar": {
              "outlinewidth": 0,
              "ticks": ""
             }
            },
            "type": "scatter3d"
           }
          ],
          "scattercarpet": [
           {
            "marker": {
             "colorbar": {
              "outlinewidth": 0,
              "ticks": ""
             }
            },
            "type": "scattercarpet"
           }
          ],
          "scattergeo": [
           {
            "marker": {
             "colorbar": {
              "outlinewidth": 0,
              "ticks": ""
             }
            },
            "type": "scattergeo"
           }
          ],
          "scattergl": [
           {
            "marker": {
             "colorbar": {
              "outlinewidth": 0,
              "ticks": ""
             }
            },
            "type": "scattergl"
           }
          ],
          "scattermapbox": [
           {
            "marker": {
             "colorbar": {
              "outlinewidth": 0,
              "ticks": ""
             }
            },
            "type": "scattermapbox"
           }
          ],
          "scatterpolar": [
           {
            "marker": {
             "colorbar": {
              "outlinewidth": 0,
              "ticks": ""
             }
            },
            "type": "scatterpolar"
           }
          ],
          "scatterpolargl": [
           {
            "marker": {
             "colorbar": {
              "outlinewidth": 0,
              "ticks": ""
             }
            },
            "type": "scatterpolargl"
           }
          ],
          "scatterternary": [
           {
            "marker": {
             "colorbar": {
              "outlinewidth": 0,
              "ticks": ""
             }
            },
            "type": "scatterternary"
           }
          ],
          "surface": [
           {
            "colorbar": {
             "outlinewidth": 0,
             "ticks": ""
            },
            "colorscale": [
             [
              0,
              "#0d0887"
             ],
             [
              0.1111111111111111,
              "#46039f"
             ],
             [
              0.2222222222222222,
              "#7201a8"
             ],
             [
              0.3333333333333333,
              "#9c179e"
             ],
             [
              0.4444444444444444,
              "#bd3786"
             ],
             [
              0.5555555555555556,
              "#d8576b"
             ],
             [
              0.6666666666666666,
              "#ed7953"
             ],
             [
              0.7777777777777778,
              "#fb9f3a"
             ],
             [
              0.8888888888888888,
              "#fdca26"
             ],
             [
              1,
              "#f0f921"
             ]
            ],
            "type": "surface"
           }
          ],
          "table": [
           {
            "cells": {
             "fill": {
              "color": "#EBF0F8"
             },
             "line": {
              "color": "white"
             }
            },
            "header": {
             "fill": {
              "color": "#C8D4E3"
             },
             "line": {
              "color": "white"
             }
            },
            "type": "table"
           }
          ]
         },
         "layout": {
          "annotationdefaults": {
           "arrowcolor": "#2a3f5f",
           "arrowhead": 0,
           "arrowwidth": 1
          },
          "autotypenumbers": "strict",
          "coloraxis": {
           "colorbar": {
            "outlinewidth": 0,
            "ticks": ""
           }
          },
          "colorscale": {
           "diverging": [
            [
             0,
             "#8e0152"
            ],
            [
             0.1,
             "#c51b7d"
            ],
            [
             0.2,
             "#de77ae"
            ],
            [
             0.3,
             "#f1b6da"
            ],
            [
             0.4,
             "#fde0ef"
            ],
            [
             0.5,
             "#f7f7f7"
            ],
            [
             0.6,
             "#e6f5d0"
            ],
            [
             0.7,
             "#b8e186"
            ],
            [
             0.8,
             "#7fbc41"
            ],
            [
             0.9,
             "#4d9221"
            ],
            [
             1,
             "#276419"
            ]
           ],
           "sequential": [
            [
             0,
             "#0d0887"
            ],
            [
             0.1111111111111111,
             "#46039f"
            ],
            [
             0.2222222222222222,
             "#7201a8"
            ],
            [
             0.3333333333333333,
             "#9c179e"
            ],
            [
             0.4444444444444444,
             "#bd3786"
            ],
            [
             0.5555555555555556,
             "#d8576b"
            ],
            [
             0.6666666666666666,
             "#ed7953"
            ],
            [
             0.7777777777777778,
             "#fb9f3a"
            ],
            [
             0.8888888888888888,
             "#fdca26"
            ],
            [
             1,
             "#f0f921"
            ]
           ],
           "sequentialminus": [
            [
             0,
             "#0d0887"
            ],
            [
             0.1111111111111111,
             "#46039f"
            ],
            [
             0.2222222222222222,
             "#7201a8"
            ],
            [
             0.3333333333333333,
             "#9c179e"
            ],
            [
             0.4444444444444444,
             "#bd3786"
            ],
            [
             0.5555555555555556,
             "#d8576b"
            ],
            [
             0.6666666666666666,
             "#ed7953"
            ],
            [
             0.7777777777777778,
             "#fb9f3a"
            ],
            [
             0.8888888888888888,
             "#fdca26"
            ],
            [
             1,
             "#f0f921"
            ]
           ]
          },
          "colorway": [
           "#636efa",
           "#EF553B",
           "#00cc96",
           "#ab63fa",
           "#FFA15A",
           "#19d3f3",
           "#FF6692",
           "#B6E880",
           "#FF97FF",
           "#FECB52"
          ],
          "font": {
           "color": "#2a3f5f"
          },
          "geo": {
           "bgcolor": "white",
           "lakecolor": "white",
           "landcolor": "#E5ECF6",
           "showlakes": true,
           "showland": true,
           "subunitcolor": "white"
          },
          "hoverlabel": {
           "align": "left"
          },
          "hovermode": "closest",
          "mapbox": {
           "style": "light"
          },
          "paper_bgcolor": "white",
          "plot_bgcolor": "#E5ECF6",
          "polar": {
           "angularaxis": {
            "gridcolor": "white",
            "linecolor": "white",
            "ticks": ""
           },
           "bgcolor": "#E5ECF6",
           "radialaxis": {
            "gridcolor": "white",
            "linecolor": "white",
            "ticks": ""
           }
          },
          "scene": {
           "xaxis": {
            "backgroundcolor": "#E5ECF6",
            "gridcolor": "white",
            "gridwidth": 2,
            "linecolor": "white",
            "showbackground": true,
            "ticks": "",
            "zerolinecolor": "white"
           },
           "yaxis": {
            "backgroundcolor": "#E5ECF6",
            "gridcolor": "white",
            "gridwidth": 2,
            "linecolor": "white",
            "showbackground": true,
            "ticks": "",
            "zerolinecolor": "white"
           },
           "zaxis": {
            "backgroundcolor": "#E5ECF6",
            "gridcolor": "white",
            "gridwidth": 2,
            "linecolor": "white",
            "showbackground": true,
            "ticks": "",
            "zerolinecolor": "white"
           }
          },
          "shapedefaults": {
           "line": {
            "color": "#2a3f5f"
           }
          },
          "ternary": {
           "aaxis": {
            "gridcolor": "white",
            "linecolor": "white",
            "ticks": ""
           },
           "baxis": {
            "gridcolor": "white",
            "linecolor": "white",
            "ticks": ""
           },
           "bgcolor": "#E5ECF6",
           "caxis": {
            "gridcolor": "white",
            "linecolor": "white",
            "ticks": ""
           }
          },
          "title": {
           "x": 0.05
          },
          "xaxis": {
           "automargin": true,
           "gridcolor": "white",
           "linecolor": "white",
           "ticks": "",
           "title": {
            "standoff": 15
           },
           "zerolinecolor": "white",
           "zerolinewidth": 2
          },
          "yaxis": {
           "automargin": true,
           "gridcolor": "white",
           "linecolor": "white",
           "ticks": "",
           "title": {
            "standoff": 15
           },
           "zerolinecolor": "white",
           "zerolinewidth": 2
          }
         }
        },
        "xaxis": {
         "anchor": "y",
         "domain": [
          0,
          1
         ],
         "title": {
          "text": "0"
         }
        },
        "yaxis": {
         "anchor": "x",
         "domain": [
          0,
          1
         ],
         "title": {
          "text": "1"
         }
        }
       }
      }
     },
     "metadata": {},
     "output_type": "display_data"
    }
   ],
   "source": [
    "X = small_feats\n",
    "Y = small_labels\n",
    "\n",
    "for i in [5, 10, 20, 30]:\n",
    "    X_embedded = TSNE(n_components=2,\n",
    "                    learning_rate='auto',\n",
    "                    init='random',\n",
    "                    perplexity=i).fit_transform(X)\n",
    "    fig = px.scatter(X_embedded, x=0, y=1, color=Y)\n",
    "    fig.show()"
   ]
  },
  {
   "cell_type": "code",
   "execution_count": 15,
   "metadata": {},
   "outputs": [
    {
     "data": {
      "application/vnd.plotly.v1+json": {
       "config": {
        "plotlyServerURL": "https://plot.ly"
       },
       "data": [
        {
         "hovertemplate": "color=Coto<br>0=%{x}<br>1=%{y}<extra></extra>",
         "legendgroup": "Coto",
         "marker": {
          "color": "#636efa",
          "symbol": "circle"
         },
         "mode": "markers",
         "name": "Coto",
         "orientation": "v",
         "showlegend": true,
         "type": "scatter",
         "x": [
          16.44529151916504,
          -1.2231394052505493,
          -12.709144592285156,
          -17.96323585510254,
          13.92861557006836,
          -12.291572570800781,
          17.725112915039062,
          13.6419038772583,
          -7.075901985168457,
          14.385964393615723,
          -9.882025718688965,
          9.932685852050781,
          -3.493532419204712,
          14.302105903625488,
          25.21331024169922,
          6.0922417640686035,
          -7.380009174346924,
          -0.04237574711441994,
          -0.47927483916282654,
          6.933408737182617,
          -15.422316551208496,
          29.187074661254883,
          -16.25519561767578,
          -12.118969917297363,
          -2.652402877807617,
          37.61506271362305,
          39.79184341430664,
          38.58888244628906,
          21.6126651763916,
          10.93448543548584,
          -10.218910217285156,
          10.47791862487793,
          29.59364891052246,
          18.386184692382812,
          -3.3721415996551514,
          11.308168411254883,
          18.693096160888672,
          23.694433212280273,
          12.163933753967285,
          32.17667770385742,
          0.3644028902053833,
          16.90682601928711,
          10.276324272155762,
          5.988032817840576,
          -25.19281005859375,
          -4.816381454467773,
          6.8546648025512695,
          10.846010208129883,
          20.7543888092041,
          -25.723052978515625,
          -20.229185104370117,
          20.105932235717773,
          33.12095260620117,
          -8.048284530639648,
          -21.770145416259766,
          24.453203201293945,
          11.423810005187988,
          27.82708740234375,
          -15.165149688720703,
          -5.359342575073242,
          8.850757598876953,
          12.579401969909668,
          30.492372512817383,
          20.544876098632812,
          2.1977744102478027,
          -10.693180084228516,
          -4.724189758300781,
          10.995443344116211,
          13.761062622070312,
          -3.6266884803771973,
          4.837706565856934,
          29.52950096130371,
          30.399742126464844,
          0.5387380123138428,
          5.322088718414307,
          -12.877880096435547,
          13.370295524597168,
          8.517592430114746,
          -22.764455795288086,
          3.5551905632019043,
          22.78993034362793,
          -8.657428741455078,
          -5.782691478729248,
          -10.574638366699219,
          -8.280630111694336,
          -3.207045793533325,
          29.797582626342773,
          -18.18901824951172,
          12.614654541015625,
          3.1282858848571777,
          11.663614273071289,
          -15.10241413116455,
          27.965206146240234,
          -10.75192928314209,
          -9.924406051635742,
          30.348712921142578,
          2.017238140106201,
          3.7635936737060547,
          26.12030792236328,
          14.827465057373047,
          -3.9233033657073975,
          -27.28607177734375,
          2.1681745052337646,
          12.771257400512695,
          -21.51308250427246,
          5.499366283416748,
          -28.877182006835938,
          14.839044570922852,
          15.779611587524414,
          2.9249091148376465,
          8.343225479125977,
          -3.6771881580352783,
          12.860794067382812,
          15.137927055358887,
          -11.124235153198242,
          3.0756676197052,
          -21.706439971923828,
          20.154979705810547,
          15.959115982055664,
          14.18019962310791,
          13.601713180541992,
          26.008621215820312,
          19.27263641357422,
          27.16038703918457,
          3.3730509281158447,
          16.115995407104492,
          1.9942514896392822,
          21.35515022277832,
          -20.109907150268555,
          -5.511886119842529,
          -9.201556205749512,
          31.28803825378418,
          11.561734199523926,
          -19.42884063720703,
          -19.40057945251465,
          -10.03813362121582,
          13.84869384765625,
          22.32400131225586,
          26.300838470458984,
          22.49848175048828,
          5.651674270629883,
          -26.569643020629883,
          10.660812377929688,
          -15.738901138305664,
          -10.571134567260742,
          -12.556044578552246,
          16.13577651977539,
          -15.667793273925781,
          -20.870695114135742,
          24.24432945251465,
          17.555694580078125,
          -11.68368911743164,
          22.6168270111084,
          -16.689706802368164,
          12.68996524810791,
          -24.753063201904297,
          15.115569114685059,
          -20.249948501586914,
          -25.55938148498535,
          -4.104855060577393,
          24.203588485717773,
          -30.017738342285156,
          32.16204833984375,
          2.3733696937561035,
          -27.75311851501465,
          -11.613713264465332,
          1.6693590879440308,
          -24.450735092163086,
          -3.138432264328003,
          -21.239280700683594,
          8.728018760681152,
          -14.74402141571045,
          -2.9711248874664307,
          -3.2837886810302734,
          14.547262191772461,
          -22.3232364654541,
          27.668474197387695,
          -18.006729125976562,
          27.31961441040039,
          9.495243072509766,
          -18.84103775024414,
          23.110240936279297,
          29.252378463745117,
          3.1028454303741455,
          3.5191593170166016,
          14.800028800964355,
          -3.0039961338043213,
          29.669118881225586,
          -3.685924530029297,
          19.77174186706543,
          26.12401008605957,
          42.51542282104492,
          27.744871139526367,
          36.880653381347656,
          30.812763214111328,
          36.477752685546875,
          42.06463623046875,
          29.503019332885742,
          -20.177143096923828,
          35.411380767822266,
          -22.6417293548584,
          -5.977544784545898,
          40.717166900634766,
          8.861696243286133,
          -27.467514038085938,
          39.081390380859375,
          24.054712295532227,
          -5.1751933097839355,
          2.310887575149536,
          40.273441314697266,
          -29.01974868774414,
          -11.999197959899902,
          9.137368202209473,
          -11.000142097473145,
          -28.981416702270508,
          22.96271514892578,
          19.883451461791992,
          -17.09088706970215,
          14.823281288146973,
          -9.723258972167969,
          -16.751598358154297,
          27.221317291259766,
          23.8499755859375,
          8.354461669921875,
          30.008817672729492,
          -20.917890548706055,
          -8.796061515808105,
          -22.960391998291016,
          -20.057941436767578,
          -3.067333221435547,
          -16.400815963745117,
          11.371302604675293,
          -27.132835388183594,
          17.480772018432617,
          26.978349685668945,
          20.548233032226562,
          -27.43728256225586,
          1.1976014375686646,
          29.589235305786133,
          18.520904541015625,
          -26.148649215698242,
          -5.059463977813721,
          -24.45521354675293,
          -4.539516925811768,
          -28.580730438232422,
          18.356233596801758,
          30.182252883911133,
          23.550899505615234,
          22.782344818115234,
          3.0083425045013428,
          11.45853328704834,
          -0.5285382270812988,
          -8.596229553222656,
          0.5498409867286682,
          23.080354690551758,
          0.5734646916389465,
          12.676084518432617,
          24.660554885864258,
          -4.81318998336792,
          -25.07568359375,
          -21.389028549194336,
          0.983642578125,
          23.308237075805664,
          -13.154463768005371,
          -9.821842193603516,
          -23.589387893676758,
          16.565671920776367,
          1.4590330123901367,
          19.607696533203125
         ],
         "xaxis": "x",
         "y": [
          9.467418670654297,
          -3.2144618034362793,
          -2.163565158843994,
          27.263668060302734,
          16.2338809967041,
          29.60063934326172,
          22.41167449951172,
          18.399930953979492,
          32.093082427978516,
          18.90746307373047,
          26.067626953125,
          18.586196899414062,
          11.166693687438965,
          19.78043556213379,
          -21.043010711669922,
          2.615828275680542,
          5.939196586608887,
          -2.9265670776367188,
          -2.6697869300842285,
          -2.367779016494751,
          27.86910057067871,
          20.674421310424805,
          15.513671875,
          32.29315948486328,
          -30.87928009033203,
          24.115406036376953,
          23.583837509155273,
          24.07020378112793,
          2.705899477005005,
          -11.806081771850586,
          0.4131228029727936,
          -24.279800415039062,
          -4.960670471191406,
          -3.6290693283081055,
          -3.8346688747406006,
          17.71381187438965,
          -22.7430419921875,
          -20.997596740722656,
          1.1878173351287842,
          -10.148153305053711,
          -1.7271567583084106,
          7.839808940887451,
          -5.844766139984131,
          13.714366912841797,
          22.118432998657227,
          26.013309478759766,
          2.6660194396972656,
          18.142993927001953,
          -11.500692367553711,
          21.09229278564453,
          28.917802810668945,
          1.852036952972412,
          -8.957533836364746,
          29.575902938842773,
          23.60879135131836,
          -6.475008964538574,
          -16.681474685668945,
          -8.586743354797363,
          8.752981185913086,
          31.63462257385254,
          14.569079399108887,
          2.7430405616760254,
          -3.9493162631988525,
          -22.086395263671875,
          3.483050584793091,
          33.40079116821289,
          25.204193115234375,
          19.09488868713379,
          1.689070463180542,
          9.099432945251465,
          -13.343194961547852,
          -15.906737327575684,
          -8.300604820251465,
          -8.073382377624512,
          13.7377347946167,
          29.488317489624023,
          19.541885375976562,
          5.560853958129883,
          1.6617664098739624,
          27.047895431518555,
          20.48419761657715,
          32.36349868774414,
          32.64210510253906,
          32.945823669433594,
          28.688446044921875,
          14.596247673034668,
          -15.330534934997559,
          25.497224807739258,
          14.210664749145508,
          26.962390899658203,
          -16.514501571655273,
          17.602954864501953,
          -13.748851776123047,
          30.472728729248047,
          32.87092590332031,
          -5.734733581542969,
          -0.46778202056884766,
          15.294395446777344,
          -8.32467269897461,
          10.89132022857666,
          13.135637283325195,
          18.704265594482422,
          -1.5153266191482544,
          20.225046157836914,
          11.513880729675293,
          1.6441925764083862,
          14.778854370117188,
          10.161276817321777,
          19.651782989501953,
          23.21653175354004,
          2.5092363357543945,
          11.990269660949707,
          -5.441513538360596,
          19.77252769470215,
          9.03570556640625,
          24.991174697875977,
          24.51686668395996,
          0.7042603492736816,
          10.801803588867188,
          8.794609069824219,
          1.9646250009536743,
          -1.5449471473693848,
          -0.5476671457290649,
          -19.082401275634766,
          24.991491317749023,
          7.239129066467285,
          3.720954179763794,
          20.816328048706055,
          3.843898057937622,
          5.5440778732299805,
          27.27060890197754,
          -7.756609916687012,
          19.97588348388672,
          27.28420066833496,
          22.377696990966797,
          31.859134674072266,
          15.43213176727295,
          -7.765523910522461,
          -6.142451286315918,
          -3.556309938430786,
          15.145638465881348,
          16.98830223083496,
          -12.91201400756836,
          12.53792953491211,
          23.645586013793945,
          21.1573429107666,
          -7.63196325302124,
          16.975473403930664,
          29.455589294433594,
          -5.669624328613281,
          -2.534691572189331,
          27.529403686523438,
          -1.3078217506408691,
          11.254234313964844,
          16.40193748474121,
          23.50458526611328,
          8.215533256530762,
          22.457809448242188,
          19.226037979125977,
          1.8441330194473267,
          -7.7186126708984375,
          15.78383731842041,
          -8.974390983581543,
          25.86813735961914,
          17.32223892211914,
          1.1340419054031372,
          25.298948287963867,
          0.8196992874145508,
          9.139768600463867,
          14.591503143310547,
          20.398418426513672,
          27.102754592895508,
          23.400510787963867,
          24.236434936523438,
          15.513314247131348,
          25.24846076965332,
          -0.8974679708480835,
          13.707966804504395,
          -14.267111778259277,
          20.48979949951172,
          14.329113960266113,
          -11.906301498413086,
          4.230717658996582,
          15.963345527648926,
          26.338769912719727,
          11.520562171936035,
          12.035012245178223,
          -7.6049065589904785,
          -7.708872318267822,
          4.1353960037231445,
          -2.322996139526367,
          23.70714569091797,
          -11.46725845336914,
          22.732194900512695,
          19.510324478149414,
          24.298492431640625,
          23.04918670654297,
          -12.356822967529297,
          23.367036819458008,
          23.159231185913086,
          8.658656120300293,
          3.2336983680725098,
          25.130435943603516,
          19.953920364379883,
          17.270490646362305,
          22.583396911621094,
          -20.440929412841797,
          7.0062456130981445,
          16.512174606323242,
          26.34606170654297,
          13.576956748962402,
          15.199915885925293,
          -13.61096477508545,
          23.41132164001465,
          7.370148658752441,
          -0.15204626321792603,
          -9.349133491516113,
          27.870094299316406,
          -10.449223518371582,
          12.376626014709473,
          29.370790481567383,
          -14.13571834564209,
          -16.930072784423828,
          -3.2682769298553467,
          -4.309247016906738,
          11.483341217041016,
          3.9596242904663086,
          22.41672134399414,
          20.941638946533203,
          2.333094596862793,
          28.141780853271484,
          -5.555788040161133,
          5.942107200622559,
          -1.5907100439071655,
          -10.605006217956543,
          -8.556015014648438,
          5.12083625793457,
          -9.069475173950195,
          -8.750985145568848,
          3.9442999362945557,
          8.57867431640625,
          22.589569091796875,
          1.6446019411087036,
          23.596351623535156,
          12.44989013671875,
          3.335035562515259,
          21.15622901916504,
          -6.062470436096191,
          -4.40320348739624,
          23.82158088684082,
          -13.602333068847656,
          18.230249404907227,
          21.77412223815918,
          17.700767517089844,
          -17.60308074951172,
          20.69662094116211,
          -3.746192693710327,
          -21.112361907958984,
          13.982759475708008,
          18.284273147583008,
          3.1690239906311035,
          17.768293380737305,
          -15.589630126953125,
          27.818124771118164,
          20.67230796813965,
          18.120590209960938,
          3.4336814880371094,
          18.534971237182617,
          2.4214789867401123
         ],
         "yaxis": "y"
        },
        {
         "hovertemplate": "color=Laci<br>0=%{x}<br>1=%{y}<extra></extra>",
         "legendgroup": "Laci",
         "marker": {
          "color": "#EF553B",
          "symbol": "circle"
         },
         "mode": "markers",
         "name": "Laci",
         "orientation": "v",
         "showlegend": true,
         "type": "scatter",
         "x": [
          -20.024736404418945,
          -5.362758636474609,
          25.123302459716797,
          21.00977897644043,
          -29.93328285217285,
          19.013935089111328,
          14.290934562683105,
          16.688507080078125,
          -23.917171478271484,
          -13.358419418334961,
          -10.977021217346191,
          1.1954859495162964,
          -18.822872161865234,
          -23.118310928344727,
          24.946943283081055,
          25.355106353759766,
          22.0109920501709,
          -22.13275718688965,
          -16.801706314086914,
          -25.06412696838379,
          17.203521728515625,
          21.297630310058594,
          -8.292954444885254,
          18.51031494140625,
          28.28972816467285,
          -20.65961456298828,
          10.160167694091797,
          -24.73641586303711,
          13.189685821533203,
          24.261890411376953,
          -27.65755844116211,
          -25.010765075683594,
          29.25674819946289,
          26.826114654541016,
          13.650443077087402,
          -9.812227249145508,
          9.530845642089844,
          -27.44126319885254,
          -7.868475437164307,
          18.408842086791992,
          9.367266654968262,
          17.16077423095703,
          -24.115558624267578,
          26.94273567199707,
          23.955997467041016,
          17.817874908447266,
          -23.01785659790039,
          13.162007331848145,
          31.7283878326416,
          25.15989112854004,
          -16.44314956665039,
          -2.0562167167663574,
          24.92453956604004,
          -21.61028289794922,
          -22.121915817260742,
          31.169944763183594,
          37.40191650390625,
          36.51332092285156,
          39.54287338256836,
          40.66777420043945,
          35.248992919921875,
          30.985986709594727,
          34.85872268676758,
          41.28884506225586,
          37.58308792114258,
          35.893959045410156,
          37.89377212524414,
          40.56640625,
          39.12310791015625,
          35.0483512878418,
          36.71620178222656,
          -7.884173393249512,
          30.06024932861328,
          1.8638274669647217,
          38.29556655883789,
          7.720743179321289,
          15.359610557556152,
          26.312578201293945,
          -15.738224983215332,
          -7.409929275512695,
          9.720942497253418,
          -22.058889389038086,
          12.601456642150879,
          -16.071971893310547,
          12.46912956237793,
          2.56381893157959,
          29.372493743896484,
          -20.943309783935547,
          -11.25369644165039,
          -18.096736907958984,
          -19.57842445373535,
          37.4371337890625,
          -20.168289184570312,
          -9.895686149597168,
          -20.714004516601562,
          -17.83493423461914,
          0.8122664093971252,
          -20.177261352539062,
          -18.78029441833496,
          2.804872512817383,
          -16.730892181396484,
          -18.844558715820312,
          -18.727033615112305,
          26.614669799804688,
          -14.721734046936035,
          -20.235559463500977,
          -19.36829948425293,
          39.076194763183594,
          29.26277732849121,
          -14.157368659973145,
          -17.13257598876953,
          13.863629341125488,
          38.6539192199707,
          35.80751037597656,
          -6.174558639526367,
          22.364028930664062,
          33.65509033203125,
          -24.307613372802734,
          -4.285202503204346,
          -17.878124237060547,
          26.12317657470703,
          -4.594976425170898,
          -29.709360122680664,
          -25.22317886352539,
          -27.76907730102539,
          4.848389625549316,
          -12.73170280456543,
          -8.673135757446289,
          -6.65122652053833,
          4.752625942230225,
          13.035965919494629,
          -20.829044342041016,
          -7.494277000427246,
          24.27792739868164,
          16.293807983398438,
          -9.591787338256836,
          38.033897399902344
         ],
         "xaxis": "x",
         "y": [
          -18.516952514648438,
          33.70106887817383,
          -7.775987148284912,
          -14.378998756408691,
          7.895877838134766,
          -7.894573211669922,
          -21.2159366607666,
          0.9938161969184875,
          19.078109741210938,
          25.73830223083496,
          -24.807151794433594,
          -14.460199356079102,
          -18.237577438354492,
          14.028329849243164,
          -19.86553382873535,
          -1.3530563116073608,
          -21.961271286010742,
          5.7424421310424805,
          -39.09922790527344,
          0.9103016257286072,
          2.409226179122925,
          -4.114259243011475,
          1.1204344034194946,
          -4.065777778625488,
          -10.183215141296387,
          26.528274536132812,
          -23.581241607666016,
          21.93541717529297,
          -20.69475555419922,
          -18.03527069091797,
          10.091683387756348,
          13.936330795288086,
          3.058398723602295,
          -3.2210781574249268,
          13.857475280761719,
          2.9163851737976074,
          15.132648468017578,
          3.5156447887420654,
          30.195810317993164,
          -0.468340665102005,
          15.305156707763672,
          2.096541166305542,
          14.298879623413086,
          -2.91459059715271,
          -18.678253173828125,
          4.171329975128174,
          16.47431182861328,
          12.343231201171875,
          -11.273539543151855,
          -22.794967651367188,
          13.253175735473633,
          1.3242772817611694,
          -23.682815551757812,
          2.421638011932373,
          21.2694034576416,
          21.550355911254883,
          22.990642547607422,
          28.18583869934082,
          21.786937713623047,
          23.98615837097168,
          21.33568572998047,
          -13.13415813446045,
          19.820791244506836,
          21.735797882080078,
          28.520301818847656,
          25.0417423248291,
          22.164697647094727,
          22.793651580810547,
          25.589374542236328,
          28.369457244873047,
          27.509931564331055,
          25.68100929260254,
          19.19821548461914,
          0.7312771677970886,
          26.499858856201172,
          4.495591640472412,
          -14.420466423034668,
          -6.498442649841309,
          8.784937858581543,
          24.49135971069336,
          -8.453466415405273,
          11.663764953613281,
          -25.789012908935547,
          9.468965530395508,
          -5.465289115905762,
          0.13326342403888702,
          -10.768929481506348,
          -39.26292037963867,
          -27.401823043823242,
          -39.24168014526367,
          -38.94532012939453,
          26.365562438964844,
          -39.70503234863281,
          -21.443641662597656,
          -40.158321380615234,
          -40.37567901611328,
          -30.428926467895508,
          -38.71150588989258,
          -41.06966781616211,
          -12.26274585723877,
          -40.351905822753906,
          -39.699241638183594,
          -40.17958068847656,
          -20.837146759033203,
          -19.14004898071289,
          -40.54695129394531,
          -41.34513473510742,
          21.24395179748535,
          3.3497824668884277,
          26.57147216796875,
          24.196876525878906,
          21.495298385620117,
          20.886615753173828,
          28.83124351501465,
          5.816094398498535,
          20.534420013427734,
          22.216127395629883,
          3.716352701187134,
          22.642602920532227,
          -3.6441431045532227,
          -19.06573486328125,
          8.091069221496582,
          11.872236251831055,
          4.794799327850342,
          6.481990814208984,
          -15.942105293273926,
          20.575536727905273,
          2.1144490242004395,
          25.150894165039062,
          -10.750720977783203,
          11.996224403381348,
          21.492780685424805,
          23.719751358032227,
          -16.177017211914062,
          8.101273536682129,
          -0.00775251816958189,
          25.545827865600586
         ],
         "yaxis": "y"
        },
        {
         "hovertemplate": "color=Anpa<br>0=%{x}<br>1=%{y}<extra></extra>",
         "legendgroup": "Anpa",
         "marker": {
          "color": "#00cc96",
          "symbol": "circle"
         },
         "mode": "markers",
         "name": "Anpa",
         "orientation": "v",
         "showlegend": true,
         "type": "scatter",
         "x": [
          -25.367326736450195,
          29.501113891601562,
          4.978950023651123,
          -12.10113525390625,
          -12.938948631286621,
          -24.88116455078125,
          10.7161865234375,
          -14.514362335205078,
          -24.993972778320312,
          -13.71483039855957,
          31.00090789794922,
          -20.6616268157959,
          -12.96181869506836,
          -25.543685913085938,
          -28.69407081604004,
          -18.365703582763672,
          -24.895111083984375,
          34.469482421875,
          -25.50113868713379,
          7.959149360656738,
          11.489686012268066,
          -25.13646125793457,
          33.720489501953125,
          15.083413124084473,
          10.806743621826172,
          -13.784767150878906,
          -14.412199974060059,
          -1.137859582901001,
          0.4667789041996002,
          -18.55588722229004,
          -6.43407678604126,
          -2.8831188678741455,
          -4.5107831954956055,
          -10.381176948547363,
          -5.88306999206543,
          -2.0133373737335205,
          -10.129459381103516,
          23.080385208129883,
          -10.722954750061035,
          -24.235952377319336,
          -9.783038139343262,
          -0.22462140023708344,
          -33.32501220703125,
          -20.299442291259766,
          -1.6034677028656006,
          -4.938281059265137,
          -7.742903232574463,
          -7.007457256317139,
          2.45517897605896,
          -9.056681632995605,
          -21.798704147338867,
          -0.5740358233451843,
          25.402347564697266,
          24.96971321105957,
          -6.093420505523682,
          -17.873886108398438,
          -3.152766466140747,
          -6.186076641082764,
          42.84654235839844,
          -11.303423881530762,
          -2.955132484436035,
          -11.688382148742676,
          8.150228500366211,
          -3.414625644683838,
          -17.49357032775879,
          20.42455291748047,
          -14.356390953063965,
          -19.087862014770508,
          1.3997474908828735,
          -10.386506080627441,
          -12.953099250793457,
          -1.1906543970108032,
          -14.068967819213867,
          32.31114959716797,
          -2.028449058532715,
          -13.189666748046875,
          6.249646186828613,
          -1.2339142560958862,
          -14.16921329498291,
          -11.313546180725098,
          -10.456562042236328,
          -16.44114112854004,
          -9.658289909362793,
          -9.680900573730469,
          0.8569397926330566,
          -3.293416976928711,
          -3.9964401721954346,
          -4.062570095062256,
          -9.336408615112305,
          -4.621212959289551,
          -10.132242202758789,
          -30.28899383544922,
          -13.198541641235352,
          -30.93341064453125,
          -6.778653621673584,
          -9.632325172424316,
          -10.671072959899902,
          -11.877001762390137,
          -30.19419288635254,
          -5.701487064361572,
          -14.235345840454102,
          -4.816114902496338,
          -11.32610034942627,
          -4.772947311401367,
          10.205169677734375,
          -10.604212760925293,
          -6.515312194824219,
          -5.489019870758057,
          -5.290376663208008,
          -1.1293179988861084,
          -9.905553817749023,
          14.510552406311035,
          5.554413318634033,
          35.71821212768555,
          -4.1410393714904785,
          3.406688928604126,
          -0.5137971639633179,
          -11.138233184814453,
          6.080821514129639,
          -1.721621036529541,
          0.05359736457467079,
          -29.897981643676758,
          -4.066818714141846,
          -9.624909400939941,
          -3.8482701778411865,
          2.500338554382324,
          -10.892472267150879,
          9.3569917678833,
          -28.13373565673828,
          -9.870465278625488,
          16.99734878540039,
          -0.6051065325737,
          -13.463302612304688,
          -8.091231346130371,
          3.286179542541504,
          -5.611067771911621,
          -5.582849979400635,
          7.1088032722473145,
          -13.874205589294434,
          -12.382112503051758,
          30.446701049804688,
          -5.686434268951416,
          -7.6442155838012695,
          -9.248571395874023,
          12.930416107177734,
          -8.901593208312988,
          -9.626297950744629,
          -10.185667037963867,
          -4.101075172424316,
          -4.904544353485107,
          -16.191566467285156,
          -7.331265449523926,
          -17.311426162719727,
          -23.54849624633789,
          -19.111948013305664,
          -9.121783256530762,
          -2.1352086067199707,
          -15.15627384185791,
          -12.137146949768066,
          -11.667184829711914,
          -13.698705673217773,
          7.148336887359619,
          -11.091439247131348,
          -15.007758140563965,
          -4.000179767608643,
          -19.105100631713867,
          -2.531769037246704,
          -0.21649426221847534,
          -33.54948425292969,
          0.7833572030067444,
          -27.69793701171875,
          9.415083885192871,
          -13.58377456665039,
          3.954005241394043,
          -16.61670684814453,
          -16.390283584594727,
          0.1077638491988182,
          -0.5908858776092529,
          -8.372977256774902,
          -6.595980644226074,
          16.144283294677734,
          1.750921607017517,
          -7.053986072540283,
          -9.762563705444336,
          -14.744540214538574,
          -1.2615132331848145,
          -7.64923620223999,
          2.249540328979492,
          -9.620677947998047,
          22.95879364013672,
          -0.7767511010169983,
          -32.23492431640625,
          -8.199413299560547,
          3.9799962043762207,
          1.01869797706604,
          -7.349094390869141,
          -4.80486536026001,
          -9.574111938476562,
          -5.1212334632873535,
          -1.0998989343643188,
          -7.830995559692383,
          5.834488391876221,
          -4.819737911224365,
          -24.02182388305664,
          -23.817005157470703,
          16.306289672851562,
          -9.714536666870117,
          6.935393333435059,
          -6.2577128410339355,
          -16.09309196472168,
          19.235227584838867,
          -6.105213165283203,
          -1.8082000017166138,
          -18.775253295898438,
          -14.682250022888184,
          5.917860507965088,
          -19.853900909423828,
          4.928697109222412,
          13.266764640808105,
          -5.353715896606445,
          -13.948507308959961,
          6.58623743057251,
          15.963136672973633,
          -3.8648667335510254,
          11.606549263000488,
          -29.193851470947266,
          25.043914794921875,
          30.644248962402344,
          -0.7214067578315735,
          -16.948144912719727,
          23.572010040283203,
          -9.917189598083496,
          31.66914176940918,
          13.845361709594727,
          11.768844604492188,
          -9.578941345214844,
          -11.754063606262207,
          13.362326622009277,
          -14.693124771118164,
          -7.505198001861572,
          5.606889247894287,
          5.674033164978027,
          -9.188063621520996,
          -22.06369972229004,
          -15.8026123046875,
          -1.2779245376586914,
          23.119009017944336,
          -6.003715515136719,
          20.542858123779297,
          17.764963150024414,
          26.367473602294922,
          7.621186256408691,
          -5.61516809463501,
          -23.00034523010254,
          -25.25965690612793,
          4.759366512298584,
          16.371496200561523,
          -6.738340854644775,
          -1.6772398948669434,
          -7.310017108917236,
          -16.022947311401367,
          -3.108851432800293,
          -17.118383407592773,
          3.89200758934021,
          1.8942418098449707,
          -20.89879035949707,
          -18.014150619506836,
          -17.684410095214844,
          33.0335807800293,
          14.406205177307129,
          -30.012741088867188,
          3.7705562114715576,
          0.28017786145210266,
          -6.123713493347168,
          -23.118698120117188,
          8.3712739944458,
          23.33588218688965,
          -10.002573013305664,
          -8.814481735229492,
          2.211806297302246,
          4.921686172485352,
          -10.107455253601074,
          1.5317673683166504,
          -2.9891421794891357,
          5.215114593505859,
          -27.997499465942383,
          3.405020236968994
         ],
         "xaxis": "x",
         "y": [
          6.787641525268555,
          -10.0731201171875,
          -15.836456298828125,
          1.314434289932251,
          23.680217742919922,
          7.099503040313721,
          -13.691099166870117,
          24.039470672607422,
          11.972697257995605,
          -0.8572620153427124,
          18.3083438873291,
          14.503151893615723,
          22.63373565673828,
          6.2898149490356445,
          16.16273307800293,
          23.324047088623047,
          7.805619239807129,
          21.980331420898438,
          7.4890971183776855,
          -33.10960388183594,
          -14.702274322509766,
          12.645856857299805,
          26.460866928100586,
          -9.71692180633545,
          -25.15178108215332,
          22.569110870361328,
          30.59514617919922,
          -26.442371368408203,
          -27.66754722595215,
          -3.1862072944641113,
          -29.07107162475586,
          -34.26456069946289,
          -11.124554634094238,
          -31.281997680664062,
          -20.353649139404297,
          -37.579551696777344,
          -2.4221763610839844,
          -15.585041999816895,
          -30.336502075195312,
          4.772978782653809,
          -10.484526634216309,
          -25.132173538208008,
          7.757511615753174,
          -2.230834722518921,
          -37.8144416809082,
          -27.56968116760254,
          -2.145583152770996,
          -23.32007598876953,
          -13.756143569946289,
          -19.768054962158203,
          0.4252375364303589,
          -33.883113861083984,
          -19.198408126831055,
          20.25086784362793,
          -31.9129695892334,
          -22.136144638061523,
          -3.842703104019165,
          -14.631647109985352,
          23.240318298339844,
          -21.622468948364258,
          -13.873525619506836,
          -20.359643936157227,
          -14.54619312286377,
          -16.40838623046875,
          -22.343536376953125,
          -11.077031135559082,
          -17.498201370239258,
          -21.903661727905273,
          -4.156826972961426,
          -28.852622985839844,
          -24.824193954467773,
          -27.192699432373047,
          -5.266557693481445,
          22.859516143798828,
          -13.394680976867676,
          -0.12607252597808838,
          -26.094552993774414,
          -33.78711700439453,
          0.1017114520072937,
          -13.887619018554688,
          -4.716395854949951,
          -5.78099250793457,
          -12.720539093017578,
          -4.5111894607543945,
          -26.155292510986328,
          -25.896617889404297,
          -5.345982551574707,
          -23.29705047607422,
          -15.916465759277344,
          -26.137216567993164,
          -4.052184104919434,
          2.871659517288208,
          -1.38156259059906,
          2.011132001876831,
          -8.626261711120605,
          5.2884840965271,
          5.972006320953369,
          14.134608268737793,
          3.294346570968628,
          -7.995842933654785,
          0.7306877374649048,
          -7.860076427459717,
          10.195074081420898,
          -5.655176162719727,
          -12.514223098754883,
          -15.908177375793457,
          -34.71232986450195,
          -10.658781051635742,
          -8.870512008666992,
          -29.714473724365234,
          6.645777225494385,
          -10.885685920715332,
          -27.67171287536621,
          29.243892669677734,
          1.9483282566070557,
          -13.3482027053833,
          -28.581432342529297,
          -17.97123908996582,
          -26.74706268310547,
          -27.571691513061523,
          -29.287025451660156,
          0.21212220191955566,
          -18.67998695373535,
          -14.395861625671387,
          -10.346362113952637,
          -32.94716262817383,
          11.402994155883789,
          -6.753551483154297,
          1.822638750076294,
          22.173891067504883,
          21.012361526489258,
          -21.591819763183594,
          -14.538641929626465,
          -25.147174835205078,
          -32.37337112426758,
          -37.03524398803711,
          -35.85837173461914,
          -26.346166610717773,
          -20.568984985351562,
          11.970824241638184,
          21.972736358642578,
          -36.04059600830078,
          -24.265399932861328,
          -15.34599494934082,
          -17.07329559326172,
          -21.057737350463867,
          -23.996912002563477,
          -30.5787353515625,
          -18.159191131591797,
          -18.956890106201172,
          -4.930447101593018,
          -17.1270809173584,
          -21.43206214904785,
          3.4986910820007324,
          -16.082048416137695,
          -27.947887420654297,
          -24.348243713378906,
          -24.477867126464844,
          -15.322118759155273,
          6.028053283691406,
          26.966188430786133,
          -14.01311206817627,
          -15.44903564453125,
          -6.326901435852051,
          31.20611572265625,
          -17.50554656982422,
          -26.998790740966797,
          -34.49256134033203,
          7.538273334503174,
          -3.489823818206787,
          -0.35360702872276306,
          -14.690312385559082,
          -13.584800720214844,
          -13.45134449005127,
          -14.20663833618164,
          -14.008583068847656,
          21.13433837890625,
          -38.19950485229492,
          -13.42005443572998,
          -13.408287048339844,
          21.57353973388672,
          -17.929767608642578,
          -27.629056930541992,
          -20.75053596496582,
          -22.529176712036133,
          -21.74696159362793,
          -13.3626708984375,
          -10.724309921264648,
          -23.21196746826172,
          -13.335978507995605,
          -20.32822608947754,
          8.42385482788086,
          -14.172500610351562,
          -31.811779022216797,
          -28.418466567993164,
          4.467390060424805,
          -28.145000457763672,
          -26.3013916015625,
          -30.927589416503906,
          -11.818958282470703,
          -28.845029830932617,
          -10.950740814208984,
          -31.374635696411133,
          21.88294792175293,
          10.64180850982666,
          -8.20742130279541,
          1.9677612781524658,
          -2.422464370727539,
          -10.224475860595703,
          -25.047161102294922,
          1.3705472946166992,
          -37.516845703125,
          -30.0664119720459,
          15.590519905090332,
          -23.609102249145508,
          -9.865798950195312,
          -17.269243240356445,
          -32.5801887512207,
          21.887794494628906,
          4.337547779083252,
          -17.553449630737305,
          -13.150904655456543,
          -16.389724731445312,
          -25.313966751098633,
          -24.1661434173584,
          -2.7053170204162598,
          19.92108726501465,
          -14.852920532226562,
          -9.795464515686035,
          11.6535062789917,
          19.998289108276367,
          8.101698875427246,
          -16.019027709960938,
          -14.904669761657715,
          -7.725810527801514,
          22.479482650756836,
          10.576284408569336,
          -18.467878341674805,
          -9.326753616333008,
          2.472076416015625,
          -33.00137710571289,
          0.5856499671936035,
          25.264259338378906,
          4.395399570465088,
          2.3631792068481445,
          -13.345364570617676,
          -6.627209663391113,
          22.38627815246582,
          -9.033220291137695,
          21.956424713134766,
          -16.63852310180664,
          3.593491554260254,
          0.4453657567501068,
          2.570112943649292,
          3.672229290008545,
          -12.144638061523438,
          -16.521560668945312,
          1.492733120918274,
          -28.410951614379883,
          -29.28489875793457,
          -18.1790828704834,
          3.1157710552215576,
          -5.991299629211426,
          -27.3857364654541,
          -22.73655128479004,
          22.1651554107666,
          -18.032808303833008,
          -10.425871849060059,
          -10.898903846740723,
          -14.743764877319336,
          2.1449360847473145,
          -23.37091636657715,
          -9.11879825592041,
          -22.527658462524414,
          6.56264066696167,
          -13.404088973999023,
          -7.483613967895508,
          -27.795164108276367,
          -26.56191062927246,
          -22.66633415222168,
          -27.347087860107422,
          -13.440874099731445,
          -29.66476058959961,
          -24.229578018188477,
          -26.327817916870117,
          10.6544828414917,
          -23.60507583618164
         ],
         "yaxis": "y"
        }
       ],
       "layout": {
        "legend": {
         "title": {
          "text": "color"
         },
         "tracegroupgap": 0
        },
        "margin": {
         "t": 60
        },
        "template": {
         "data": {
          "bar": [
           {
            "error_x": {
             "color": "#2a3f5f"
            },
            "error_y": {
             "color": "#2a3f5f"
            },
            "marker": {
             "line": {
              "color": "#E5ECF6",
              "width": 0.5
             },
             "pattern": {
              "fillmode": "overlay",
              "size": 10,
              "solidity": 0.2
             }
            },
            "type": "bar"
           }
          ],
          "barpolar": [
           {
            "marker": {
             "line": {
              "color": "#E5ECF6",
              "width": 0.5
             },
             "pattern": {
              "fillmode": "overlay",
              "size": 10,
              "solidity": 0.2
             }
            },
            "type": "barpolar"
           }
          ],
          "carpet": [
           {
            "aaxis": {
             "endlinecolor": "#2a3f5f",
             "gridcolor": "white",
             "linecolor": "white",
             "minorgridcolor": "white",
             "startlinecolor": "#2a3f5f"
            },
            "baxis": {
             "endlinecolor": "#2a3f5f",
             "gridcolor": "white",
             "linecolor": "white",
             "minorgridcolor": "white",
             "startlinecolor": "#2a3f5f"
            },
            "type": "carpet"
           }
          ],
          "choropleth": [
           {
            "colorbar": {
             "outlinewidth": 0,
             "ticks": ""
            },
            "type": "choropleth"
           }
          ],
          "contour": [
           {
            "colorbar": {
             "outlinewidth": 0,
             "ticks": ""
            },
            "colorscale": [
             [
              0,
              "#0d0887"
             ],
             [
              0.1111111111111111,
              "#46039f"
             ],
             [
              0.2222222222222222,
              "#7201a8"
             ],
             [
              0.3333333333333333,
              "#9c179e"
             ],
             [
              0.4444444444444444,
              "#bd3786"
             ],
             [
              0.5555555555555556,
              "#d8576b"
             ],
             [
              0.6666666666666666,
              "#ed7953"
             ],
             [
              0.7777777777777778,
              "#fb9f3a"
             ],
             [
              0.8888888888888888,
              "#fdca26"
             ],
             [
              1,
              "#f0f921"
             ]
            ],
            "type": "contour"
           }
          ],
          "contourcarpet": [
           {
            "colorbar": {
             "outlinewidth": 0,
             "ticks": ""
            },
            "type": "contourcarpet"
           }
          ],
          "heatmap": [
           {
            "colorbar": {
             "outlinewidth": 0,
             "ticks": ""
            },
            "colorscale": [
             [
              0,
              "#0d0887"
             ],
             [
              0.1111111111111111,
              "#46039f"
             ],
             [
              0.2222222222222222,
              "#7201a8"
             ],
             [
              0.3333333333333333,
              "#9c179e"
             ],
             [
              0.4444444444444444,
              "#bd3786"
             ],
             [
              0.5555555555555556,
              "#d8576b"
             ],
             [
              0.6666666666666666,
              "#ed7953"
             ],
             [
              0.7777777777777778,
              "#fb9f3a"
             ],
             [
              0.8888888888888888,
              "#fdca26"
             ],
             [
              1,
              "#f0f921"
             ]
            ],
            "type": "heatmap"
           }
          ],
          "heatmapgl": [
           {
            "colorbar": {
             "outlinewidth": 0,
             "ticks": ""
            },
            "colorscale": [
             [
              0,
              "#0d0887"
             ],
             [
              0.1111111111111111,
              "#46039f"
             ],
             [
              0.2222222222222222,
              "#7201a8"
             ],
             [
              0.3333333333333333,
              "#9c179e"
             ],
             [
              0.4444444444444444,
              "#bd3786"
             ],
             [
              0.5555555555555556,
              "#d8576b"
             ],
             [
              0.6666666666666666,
              "#ed7953"
             ],
             [
              0.7777777777777778,
              "#fb9f3a"
             ],
             [
              0.8888888888888888,
              "#fdca26"
             ],
             [
              1,
              "#f0f921"
             ]
            ],
            "type": "heatmapgl"
           }
          ],
          "histogram": [
           {
            "marker": {
             "pattern": {
              "fillmode": "overlay",
              "size": 10,
              "solidity": 0.2
             }
            },
            "type": "histogram"
           }
          ],
          "histogram2d": [
           {
            "colorbar": {
             "outlinewidth": 0,
             "ticks": ""
            },
            "colorscale": [
             [
              0,
              "#0d0887"
             ],
             [
              0.1111111111111111,
              "#46039f"
             ],
             [
              0.2222222222222222,
              "#7201a8"
             ],
             [
              0.3333333333333333,
              "#9c179e"
             ],
             [
              0.4444444444444444,
              "#bd3786"
             ],
             [
              0.5555555555555556,
              "#d8576b"
             ],
             [
              0.6666666666666666,
              "#ed7953"
             ],
             [
              0.7777777777777778,
              "#fb9f3a"
             ],
             [
              0.8888888888888888,
              "#fdca26"
             ],
             [
              1,
              "#f0f921"
             ]
            ],
            "type": "histogram2d"
           }
          ],
          "histogram2dcontour": [
           {
            "colorbar": {
             "outlinewidth": 0,
             "ticks": ""
            },
            "colorscale": [
             [
              0,
              "#0d0887"
             ],
             [
              0.1111111111111111,
              "#46039f"
             ],
             [
              0.2222222222222222,
              "#7201a8"
             ],
             [
              0.3333333333333333,
              "#9c179e"
             ],
             [
              0.4444444444444444,
              "#bd3786"
             ],
             [
              0.5555555555555556,
              "#d8576b"
             ],
             [
              0.6666666666666666,
              "#ed7953"
             ],
             [
              0.7777777777777778,
              "#fb9f3a"
             ],
             [
              0.8888888888888888,
              "#fdca26"
             ],
             [
              1,
              "#f0f921"
             ]
            ],
            "type": "histogram2dcontour"
           }
          ],
          "mesh3d": [
           {
            "colorbar": {
             "outlinewidth": 0,
             "ticks": ""
            },
            "type": "mesh3d"
           }
          ],
          "parcoords": [
           {
            "line": {
             "colorbar": {
              "outlinewidth": 0,
              "ticks": ""
             }
            },
            "type": "parcoords"
           }
          ],
          "pie": [
           {
            "automargin": true,
            "type": "pie"
           }
          ],
          "scatter": [
           {
            "fillpattern": {
             "fillmode": "overlay",
             "size": 10,
             "solidity": 0.2
            },
            "type": "scatter"
           }
          ],
          "scatter3d": [
           {
            "line": {
             "colorbar": {
              "outlinewidth": 0,
              "ticks": ""
             }
            },
            "marker": {
             "colorbar": {
              "outlinewidth": 0,
              "ticks": ""
             }
            },
            "type": "scatter3d"
           }
          ],
          "scattercarpet": [
           {
            "marker": {
             "colorbar": {
              "outlinewidth": 0,
              "ticks": ""
             }
            },
            "type": "scattercarpet"
           }
          ],
          "scattergeo": [
           {
            "marker": {
             "colorbar": {
              "outlinewidth": 0,
              "ticks": ""
             }
            },
            "type": "scattergeo"
           }
          ],
          "scattergl": [
           {
            "marker": {
             "colorbar": {
              "outlinewidth": 0,
              "ticks": ""
             }
            },
            "type": "scattergl"
           }
          ],
          "scattermapbox": [
           {
            "marker": {
             "colorbar": {
              "outlinewidth": 0,
              "ticks": ""
             }
            },
            "type": "scattermapbox"
           }
          ],
          "scatterpolar": [
           {
            "marker": {
             "colorbar": {
              "outlinewidth": 0,
              "ticks": ""
             }
            },
            "type": "scatterpolar"
           }
          ],
          "scatterpolargl": [
           {
            "marker": {
             "colorbar": {
              "outlinewidth": 0,
              "ticks": ""
             }
            },
            "type": "scatterpolargl"
           }
          ],
          "scatterternary": [
           {
            "marker": {
             "colorbar": {
              "outlinewidth": 0,
              "ticks": ""
             }
            },
            "type": "scatterternary"
           }
          ],
          "surface": [
           {
            "colorbar": {
             "outlinewidth": 0,
             "ticks": ""
            },
            "colorscale": [
             [
              0,
              "#0d0887"
             ],
             [
              0.1111111111111111,
              "#46039f"
             ],
             [
              0.2222222222222222,
              "#7201a8"
             ],
             [
              0.3333333333333333,
              "#9c179e"
             ],
             [
              0.4444444444444444,
              "#bd3786"
             ],
             [
              0.5555555555555556,
              "#d8576b"
             ],
             [
              0.6666666666666666,
              "#ed7953"
             ],
             [
              0.7777777777777778,
              "#fb9f3a"
             ],
             [
              0.8888888888888888,
              "#fdca26"
             ],
             [
              1,
              "#f0f921"
             ]
            ],
            "type": "surface"
           }
          ],
          "table": [
           {
            "cells": {
             "fill": {
              "color": "#EBF0F8"
             },
             "line": {
              "color": "white"
             }
            },
            "header": {
             "fill": {
              "color": "#C8D4E3"
             },
             "line": {
              "color": "white"
             }
            },
            "type": "table"
           }
          ]
         },
         "layout": {
          "annotationdefaults": {
           "arrowcolor": "#2a3f5f",
           "arrowhead": 0,
           "arrowwidth": 1
          },
          "autotypenumbers": "strict",
          "coloraxis": {
           "colorbar": {
            "outlinewidth": 0,
            "ticks": ""
           }
          },
          "colorscale": {
           "diverging": [
            [
             0,
             "#8e0152"
            ],
            [
             0.1,
             "#c51b7d"
            ],
            [
             0.2,
             "#de77ae"
            ],
            [
             0.3,
             "#f1b6da"
            ],
            [
             0.4,
             "#fde0ef"
            ],
            [
             0.5,
             "#f7f7f7"
            ],
            [
             0.6,
             "#e6f5d0"
            ],
            [
             0.7,
             "#b8e186"
            ],
            [
             0.8,
             "#7fbc41"
            ],
            [
             0.9,
             "#4d9221"
            ],
            [
             1,
             "#276419"
            ]
           ],
           "sequential": [
            [
             0,
             "#0d0887"
            ],
            [
             0.1111111111111111,
             "#46039f"
            ],
            [
             0.2222222222222222,
             "#7201a8"
            ],
            [
             0.3333333333333333,
             "#9c179e"
            ],
            [
             0.4444444444444444,
             "#bd3786"
            ],
            [
             0.5555555555555556,
             "#d8576b"
            ],
            [
             0.6666666666666666,
             "#ed7953"
            ],
            [
             0.7777777777777778,
             "#fb9f3a"
            ],
            [
             0.8888888888888888,
             "#fdca26"
            ],
            [
             1,
             "#f0f921"
            ]
           ],
           "sequentialminus": [
            [
             0,
             "#0d0887"
            ],
            [
             0.1111111111111111,
             "#46039f"
            ],
            [
             0.2222222222222222,
             "#7201a8"
            ],
            [
             0.3333333333333333,
             "#9c179e"
            ],
            [
             0.4444444444444444,
             "#bd3786"
            ],
            [
             0.5555555555555556,
             "#d8576b"
            ],
            [
             0.6666666666666666,
             "#ed7953"
            ],
            [
             0.7777777777777778,
             "#fb9f3a"
            ],
            [
             0.8888888888888888,
             "#fdca26"
            ],
            [
             1,
             "#f0f921"
            ]
           ]
          },
          "colorway": [
           "#636efa",
           "#EF553B",
           "#00cc96",
           "#ab63fa",
           "#FFA15A",
           "#19d3f3",
           "#FF6692",
           "#B6E880",
           "#FF97FF",
           "#FECB52"
          ],
          "font": {
           "color": "#2a3f5f"
          },
          "geo": {
           "bgcolor": "white",
           "lakecolor": "white",
           "landcolor": "#E5ECF6",
           "showlakes": true,
           "showland": true,
           "subunitcolor": "white"
          },
          "hoverlabel": {
           "align": "left"
          },
          "hovermode": "closest",
          "mapbox": {
           "style": "light"
          },
          "paper_bgcolor": "white",
          "plot_bgcolor": "#E5ECF6",
          "polar": {
           "angularaxis": {
            "gridcolor": "white",
            "linecolor": "white",
            "ticks": ""
           },
           "bgcolor": "#E5ECF6",
           "radialaxis": {
            "gridcolor": "white",
            "linecolor": "white",
            "ticks": ""
           }
          },
          "scene": {
           "xaxis": {
            "backgroundcolor": "#E5ECF6",
            "gridcolor": "white",
            "gridwidth": 2,
            "linecolor": "white",
            "showbackground": true,
            "ticks": "",
            "zerolinecolor": "white"
           },
           "yaxis": {
            "backgroundcolor": "#E5ECF6",
            "gridcolor": "white",
            "gridwidth": 2,
            "linecolor": "white",
            "showbackground": true,
            "ticks": "",
            "zerolinecolor": "white"
           },
           "zaxis": {
            "backgroundcolor": "#E5ECF6",
            "gridcolor": "white",
            "gridwidth": 2,
            "linecolor": "white",
            "showbackground": true,
            "ticks": "",
            "zerolinecolor": "white"
           }
          },
          "shapedefaults": {
           "line": {
            "color": "#2a3f5f"
           }
          },
          "ternary": {
           "aaxis": {
            "gridcolor": "white",
            "linecolor": "white",
            "ticks": ""
           },
           "baxis": {
            "gridcolor": "white",
            "linecolor": "white",
            "ticks": ""
           },
           "bgcolor": "#E5ECF6",
           "caxis": {
            "gridcolor": "white",
            "linecolor": "white",
            "ticks": ""
           }
          },
          "title": {
           "x": 0.05
          },
          "xaxis": {
           "automargin": true,
           "gridcolor": "white",
           "linecolor": "white",
           "ticks": "",
           "title": {
            "standoff": 15
           },
           "zerolinecolor": "white",
           "zerolinewidth": 2
          },
          "yaxis": {
           "automargin": true,
           "gridcolor": "white",
           "linecolor": "white",
           "ticks": "",
           "title": {
            "standoff": 15
           },
           "zerolinecolor": "white",
           "zerolinewidth": 2
          }
         }
        },
        "xaxis": {
         "anchor": "y",
         "domain": [
          0,
          1
         ],
         "title": {
          "text": "0"
         }
        },
        "yaxis": {
         "anchor": "x",
         "domain": [
          0,
          1
         ],
         "title": {
          "text": "1"
         }
        }
       }
      }
     },
     "metadata": {},
     "output_type": "display_data"
    }
   ],
   "source": [
    "X = small_feats\n",
    "Y = small_labels\n",
    "\n",
    "i = 20\n",
    "X_embedded = TSNE(n_components=2,\n",
    "                learning_rate='auto',\n",
    "                init='random',\n",
    "                perplexity=i).fit_transform(X)\n",
    "fig = px.scatter(X_embedded, x=0, y=1, color=Y)\n",
    "fig.show()"
   ]
  },
  {
   "cell_type": "code",
   "execution_count": 16,
   "metadata": {},
   "outputs": [],
   "source": [
    "anpa_small_df = small_df[small_df.Species == 'Anpa']\n",
    "anpa_small_feats = anpa_small_df.loc[:,'CallDuration':].to_numpy()\n",
    "anpa_small_labels = anpa_small_df.Individual.to_numpy()"
   ]
  },
  {
   "cell_type": "code",
   "execution_count": 17,
   "metadata": {},
   "outputs": [
    {
     "data": {
      "text/plain": [
       "<AxesSubplot:>"
      ]
     },
     "execution_count": 17,
     "metadata": {},
     "output_type": "execute_result"
    },
    {
     "data": {
      "image/png": "[encoded data removed]",
      "text/plain": [
       "<Figure size 640x480 with 1 Axes>"
      ]
     },
     "metadata": {},
     "output_type": "display_data"
    }
   ],
   "source": [
    "X, Y = PCA(n_components=2).fit_transform(anpa_small_feats).T\n",
    "\n",
    "sns.scatterplot(\n",
    "        x=X,\n",
    "        y=Y,\n",
    "        hue=[label for label in anpa_small_labels]\n",
    "    )"
   ]
  },
  {
   "cell_type": "code",
   "execution_count": 18,
   "metadata": {},
   "outputs": [
    {
     "data": {
      "application/vnd.plotly.v1+json": {
       "config": {
        "plotlyServerURL": "https://plot.ly"
       },
       "data": [
        {
         "hovertemplate": "color=D20220723T195414m434<br>0=%{x}<br>1=%{y}<extra></extra>",
         "legendgroup": "D20220723T195414m434",
         "marker": {
          "color": "#636efa",
          "symbol": "circle"
         },
         "mode": "markers",
         "name": "D20220723T195414m434",
         "orientation": "v",
         "showlegend": true,
         "type": "scatter",
         "x": [
          36.704097747802734,
          44.021114349365234,
          19.17131805419922,
          13.148829460144043,
          20.749055862426758,
          37.38003921508789,
          28.819713592529297,
          17.952476501464844,
          31.862394332885742,
          16.555171966552734,
          39.076107025146484,
          26.83481788635254,
          19.421491622924805,
          35.76155471801758,
          36.868953704833984,
          25.5659236907959,
          35.77956008911133,
          48.74600601196289,
          36.89191818237305,
          -5.837193489074707,
          30.555795669555664,
          32.499542236328125,
          44.46269226074219,
          -2.0651283264160156,
          25.07553482055664,
          18.46571922302246,
          14.809697151184082
         ],
         "xaxis": "x",
         "y": [
          1.8260610103607178,
          -14.044411659240723,
          -9.316051483154297,
          2.374937057495117,
          -37.040950775146484,
          2.9398880004882812,
          -9.882796287536621,
          -37.30498504638672,
          8.428934097290039,
          1.3479472398757935,
          -20.808513641357422,
          -33.56017303466797,
          -35.75295639038086,
          0.7706902623176575,
          9.055224418640137,
          -35.25056457519531,
          3.31684947013855,
          -23.791439056396484,
          4.058283805847168,
          43.60969543457031,
          -8.102296829223633,
          8.836553573608398,
          -25.749284744262695,
          32.96588134765625,
          31.47561264038086,
          -35.88569259643555,
          -37.57220458984375
         ],
         "yaxis": "y"
        },
        {
         "hovertemplate": "color=D20220723T200740m009<br>0=%{x}<br>1=%{y}<extra></extra>",
         "legendgroup": "D20220723T200740m009",
         "marker": {
          "color": "#EF553B",
          "symbol": "circle"
         },
         "mode": "markers",
         "name": "D20220723T200740m009",
         "orientation": "v",
         "showlegend": true,
         "type": "scatter",
         "x": [
          -13.130644798278809,
          -10.230539321899414,
          10.60801887512207,
          -23.60474967956543,
          -21.44736099243164,
          -31.884876251220703,
          -35.20117950439453,
          -20.33210563659668,
          -26.892587661743164,
          -2.6514811515808105,
          0.15910816192626953,
          -33.77218246459961,
          36.007930755615234,
          -25.345685958862305,
          -14.833697319030762,
          24.25599479675293,
          20.123004913330078,
          -27.6734676361084,
          -14.040456771850586,
          -30.07715606689453,
          -22.42055320739746,
          13.227534294128418,
          -28.999755859375,
          21.216337203979492,
          -18.43793296813965,
          4.934817314147949,
          49.99650955200195
         ],
         "xaxis": "x",
         "y": [
          24.721647262573242,
          29.966320037841797,
          16.180009841918945,
          23.209856033325195,
          49.41293716430664,
          -28.063610076904297,
          18.827564239501953,
          5.193402290344238,
          47.906211853027344,
          -6.952434539794922,
          39.018585205078125,
          17.447080612182617,
          -2.5008513927459717,
          -16.55113410949707,
          23.215728759765625,
          21.006214141845703,
          23.024124145507812,
          48.31940841674805,
          17.35508918762207,
          5.125324726104736,
          10.00490665435791,
          -12.359498023986816,
          -2.1626572608947754,
          28.79515266418457,
          49.958553314208984,
          41.83145523071289,
          -22.089759826660156
         ],
         "yaxis": "y"
        },
        {
         "hovertemplate": "color=D20220723T202041m463<br>0=%{x}<br>1=%{y}<extra></extra>",
         "legendgroup": "D20220723T202041m463",
         "marker": {
          "color": "#00cc96",
          "symbol": "circle"
         },
         "mode": "markers",
         "name": "D20220723T202041m463",
         "orientation": "v",
         "showlegend": true,
         "type": "scatter",
         "x": [
          -27.85814094543457,
          -47.846248626708984,
          -23.119356155395508,
          -17.16706085205078,
          -4.838161468505859,
          -33.745391845703125,
          -12.996999740600586,
          -31.854825973510742,
          23.73164176940918,
          -19.430784225463867,
          -47.28453063964844,
          -5.04060173034668,
          -33.44105529785156,
          -48.09178924560547,
          -4.8332839012146,
          -30.213735580444336,
          -37.75614547729492
         ],
         "xaxis": "x",
         "y": [
          27.826112747192383,
          -5.881321907043457,
          -27.98366355895996,
          -15.681245803833008,
          -41.78523635864258,
          -2.857327461242676,
          -22.652616500854492,
          -5.829075813293457,
          -9.22215461730957,
          4.389540672302246,
          -5.205989837646484,
          39.2161979675293,
          -12.304681777954102,
          -7.693130970001221,
          -25.223827362060547,
          15.502058029174805,
          4.255146026611328
         ],
         "yaxis": "y"
        },
        {
         "hovertemplate": "color=D20220723T202257m087<br>0=%{x}<br>1=%{y}<extra></extra>",
         "legendgroup": "D20220723T202257m087",
         "marker": {
          "color": "#ab63fa",
          "symbol": "circle"
         },
         "mode": "markers",
         "name": "D20220723T202257m087",
         "orientation": "v",
         "showlegend": true,
         "type": "scatter",
         "x": [
          -10.004280090332031,
          6.275371074676514,
          45.06187438964844,
          -12.911677360534668,
          15.917402267456055,
          21.252012252807617,
          -19.284042358398438,
          16.500728607177734,
          -29.353017807006836,
          -4.649248123168945,
          10.3759126663208,
          -24.340003967285156,
          -4.582417964935303,
          -6.138006687164307,
          -8.653820037841797,
          -23.205076217651367,
          -1.7035342454910278,
          -24.808744430541992,
          -10.19444751739502,
          -3.8445279598236084,
          25.145212173461914,
          15.940335273742676,
          22.960683822631836,
          -25.732412338256836,
          23.812320709228516,
          25.080678939819336,
          39.483943939208984,
          26.110990524291992,
          -25.884822845458984,
          17.321823120117188,
          -25.91468620300293,
          36.21034240722656
         ],
         "xaxis": "x",
         "y": [
          27.08844757080078,
          14.653258323669434,
          -27.52544403076172,
          -23.94530487060547,
          2.1811535358428955,
          32.60312271118164,
          49.724884033203125,
          3.954709053039551,
          -13.324597358703613,
          -6.595945358276367,
          13.116607666015625,
          -14.512487411499023,
          -8.450950622558594,
          29.53787612915039,
          18.935436248779297,
          -29.921245574951172,
          18.729183197021484,
          -8.497908592224121,
          17.33293914794922,
          -7.586075782775879,
          8.827235221862793,
          0.1736108362674713,
          8.077584266662598,
          -23.973987579345703,
          -26.74188804626465,
          -27.680944442749023,
          -27.318103790283203,
          8.38097858428955,
          -25.29425621032715,
          4.538448333740234,
          -26.489185333251953,
          -23.296459197998047
         ],
         "yaxis": "y"
        },
        {
         "hovertemplate": "color=D20220723T203621m070<br>0=%{x}<br>1=%{y}<extra></extra>",
         "legendgroup": "D20220723T203621m070",
         "marker": {
          "color": "#FFA15A",
          "symbol": "circle"
         },
         "mode": "markers",
         "name": "D20220723T203621m070",
         "orientation": "v",
         "showlegend": true,
         "type": "scatter",
         "x": [
          -24.129796981811523,
          28.435022354125977,
          -27.935909271240234,
          -13.884895324707031,
          -31.173038482666016,
          -27.900970458984375,
          -15.946878433227539,
          24.339073181152344,
          -3.7480340003967285,
          20.422910690307617,
          42.11347198486328,
          22.144384384155273,
          12.814300537109375,
          -11.991525650024414,
          -31.372547149658203,
          20.839975357055664,
          -11.344182968139648,
          -14.597060203552246,
          21.559476852416992,
          -16.061487197875977,
          -23.25143051147461,
          -33.33041000366211,
          -12.058526992797852,
          37.969417572021484,
          28.330181121826172,
          24.486541748046875,
          20.948396682739258
         ],
         "xaxis": "x",
         "y": [
          -30.441020965576172,
          -11.85209846496582,
          -9.435513496398926,
          40.76968002319336,
          -26.57008171081543,
          -26.340383529663086,
          30.988393783569336,
          -25.683652877807617,
          31.1975154876709,
          36.837886810302734,
          -28.413005828857422,
          -25.91694450378418,
          -10.61900520324707,
          29.144290924072266,
          5.528598785400391,
          33.952938079833984,
          26.8248291015625,
          31.68718910217285,
          11.153135299682617,
          2.822983503341675,
          -11.153526306152344,
          -27.322954177856445,
          40.36617660522461,
          -22.291128158569336,
          -13.64115047454834,
          12.16270923614502,
          -41.764732360839844
         ],
         "yaxis": "y"
        },
        {
         "hovertemplate": "color=D20220723T204111m278<br>0=%{x}<br>1=%{y}<extra></extra>",
         "legendgroup": "D20220723T204111m278",
         "marker": {
          "color": "#19d3f3",
          "symbol": "circle"
         },
         "mode": "markers",
         "name": "D20220723T204111m278",
         "orientation": "v",
         "showlegend": true,
         "type": "scatter",
         "x": [
          -5.209762096405029,
          -7.766551971435547,
          -33.28884506225586,
          -25.0247859954834,
          -9.607101440429688,
          -21.35008430480957,
          -19.13874626159668,
          22.41335105895996,
          -35.149810791015625,
          38.10655212402344,
          45.66386413574219,
          -19.83495330810547,
          -23.68326187133789,
          -23.906204223632812,
          35.92694091796875,
          -30.5582275390625,
          -34.75770568847656,
          -34.2070426940918,
          -17.123628616333008,
          -17.321645736694336,
          9.756077766418457,
          -22.330280303955078,
          -49.10624313354492,
          31.655067443847656,
          -44.66773223876953,
          -27.645763397216797,
          0.2463274747133255,
          -42.579925537109375,
          -29.845638275146484,
          25.80664825439453,
          16.191144943237305,
          22.7847843170166
         ],
         "xaxis": "x",
         "y": [
          -38.887001037597656,
          13.134387969970703,
          -21.639251708984375,
          10.96380615234375,
          40.09000015258789,
          42.259056091308594,
          41.868186950683594,
          32.97293472290039,
          -9.787898063659668,
          -26.226198196411133,
          -28.190500259399414,
          41.63840103149414,
          10.010997772216797,
          -8.095024108886719,
          -11.890960693359375,
          -1.3981380462646484,
          4.860385417938232,
          18.27387809753418,
          3.0862936973571777,
          1.5807167291641235,
          14.495591163635254,
          -9.6114501953125,
          -4.669243812561035,
          -6.3235249519348145,
          -16.934114456176758,
          15.432987213134766,
          20.36506462097168,
          0.7268171310424805,
          -11.96219539642334,
          -29.096548080444336,
          -38.69658660888672,
          -10.205513954162598
         ],
         "yaxis": "y"
        },
        {
         "hovertemplate": "color=D20220723T204240m923<br>0=%{x}<br>1=%{y}<extra></extra>",
         "legendgroup": "D20220723T204240m923",
         "marker": {
          "color": "#FF6692",
          "symbol": "circle"
         },
         "mode": "markers",
         "name": "D20220723T204240m923",
         "orientation": "v",
         "showlegend": true,
         "type": "scatter",
         "x": [
          -28.97338104248047,
          7.016997337341309,
          -45.284767150878906,
          -44.341896057128906,
          -11.049539566040039,
          -17.15336799621582,
          24.945894241333008,
          -5.495429039001465,
          23.33454132080078,
          25.324663162231445,
          -32.944007873535156,
          13.424200057983398,
          -40.50071334838867,
          -39.9185676574707,
          15.829143524169922,
          -29.087135314941406,
          -20.428049087524414,
          -18.59035301208496,
          -5.319311618804932,
          6.903440475463867,
          -24.094045639038086,
          -30.90389633178711,
          -42.24807357788086,
          -7.026979923248291,
          -19.21177864074707,
          12.08200454711914,
          -34.771812438964844,
          -0.20275843143463135,
          -5.69050407409668,
          22.948671340942383,
          -19.741350173950195,
          -8.13410472869873
         ],
         "xaxis": "x",
         "y": [
          -9.886604309082031,
          13.733346939086914,
          -18.860563278198242,
          -14.81230640411377,
          25.63670539855957,
          49.94333267211914,
          20.433696746826172,
          -25.620519638061523,
          13.790992736816406,
          -8.807149887084961,
          -22.9259033203125,
          -10.128994941711426,
          -21.04283332824707,
          -21.495851516723633,
          -40.14976501464844,
          49.01298904418945,
          -15.982077598571777,
          -18.247207641601562,
          -40.073970794677734,
          -6.753069877624512,
          19.769079208374023,
          -2.188397169113159,
          3.747037172317505,
          14.527101516723633,
          -16.68386459350586,
          -16.916276931762695,
          3.8920278549194336,
          40.34152603149414,
          13.643917083740234,
          21.959091186523438,
          -15.216333389282227,
          39.76946258544922
         ],
         "yaxis": "y"
        },
        {
         "hovertemplate": "color=D20220723T205606m183<br>0=%{x}<br>1=%{y}<extra></extra>",
         "legendgroup": "D20220723T205606m183",
         "marker": {
          "color": "#B6E880",
          "symbol": "circle"
         },
         "mode": "markers",
         "name": "D20220723T205606m183",
         "orientation": "v",
         "showlegend": true,
         "type": "scatter",
         "x": [
          -11.885313034057617,
          16.25952911376953,
          -14.787708282470703,
          -28.75527572631836,
          -28.28885269165039,
          -13.401169776916504,
          -25.000694274902344,
          10.777213096618652,
          -29.20465660095215,
          27.327669143676758,
          28.861440658569336,
          -1.2699679136276245,
          18.797155380249023,
          15.348319053649902,
          -29.92108154296875,
          -43.71834182739258,
          10.460362434387207,
          -22.58900260925293,
          -16.90645980834961,
          29.125661849975586,
          -41.920066833496094,
          9.193025588989258,
          -45.370506286621094,
          -7.4914164543151855,
          -7.345922470092773,
          16.449583053588867,
          -33.999088287353516,
          20.341236114501953,
          45.34437942504883,
          -8.892498016357422,
          25.970155715942383,
          20.883474349975586
         ],
         "xaxis": "x",
         "y": [
          31.382095336914062,
          -24.53331184387207,
          17.295400619506836,
          11.172611236572266,
          26.15921401977539,
          -27.120555877685547,
          21.19518280029297,
          -7.245716094970703,
          25.778480529785156,
          -37.160377502441406,
          8.142599105834961,
          34.16847610473633,
          -13.561814308166504,
          -22.6247501373291,
          -25.923006057739258,
          -0.4664406478404999,
          -17.30587387084961,
          41.8289909362793,
          30.651243209838867,
          -33.605926513671875,
          2.406670331954956,
          -7.686012268066406,
          -14.40998363494873,
          41.693328857421875,
          -36.87044906616211,
          -25.61577033996582,
          -11.450873374938965,
          -11.887039184570312,
          -10.427885055541992,
          17.36190414428711,
          30.50271224975586,
          13.572339057922363
         ],
         "yaxis": "y"
        },
        {
         "hovertemplate": "color=D20220723T212734m674<br>0=%{x}<br>1=%{y}<extra></extra>",
         "legendgroup": "D20220723T212734m674",
         "marker": {
          "color": "#FF97FF",
          "symbol": "circle"
         },
         "mode": "markers",
         "name": "D20220723T212734m674",
         "orientation": "v",
         "showlegend": true,
         "type": "scatter",
         "x": [
          50.16117858886719,
          45.55384063720703,
          -10.64438247680664,
          33.675148010253906,
          51.58970260620117,
          26.08108139038086,
          46.84828567504883,
          39.38912582397461,
          38.98440170288086,
          21.120864868164062,
          36.16858673095703,
          35.664947509765625,
          -22.26118278503418,
          16.65859603881836,
          -8.264379501342773,
          -9.014969825744629,
          22.42242431640625,
          27.720767974853516,
          18.60013198852539,
          -13.882160186767578,
          2.432410717010498,
          17.900041580200195,
          -0.22978448867797852,
          -4.205482482910156,
          4.5220136642456055,
          -8.673008918762207,
          14.405394554138184,
          32.41083908081055,
          34.527687072753906,
          11.728224754333496,
          45.64924621582031,
          15.52125072479248
         ],
         "xaxis": "x",
         "y": [
          -21.297523498535156,
          -12.914331436157227,
          -25.259607315063477,
          -23.67531967163086,
          -21.59099769592285,
          -24.13877296447754,
          -14.536276817321777,
          -12.162899017333984,
          -14.131928443908691,
          -40.96804428100586,
          -24.087310791015625,
          -10.943124771118164,
          -5.674768924713135,
          -15.695121765136719,
          42.92424011230469,
          -34.05874252319336,
          -39.61702346801758,
          29.065256118774414,
          5.954056739807129,
          -24.57169532775879,
          34.908756256103516,
          -29.248586654663086,
          37.4864387512207,
          -39.3933219909668,
          41.192710876464844,
          -34.97438049316406,
          -17.03624725341797,
          -4.931914806365967,
          -0.39929330348968506,
          -8.794844627380371,
          -11.390602111816406,
          -16.17212677001953
         ],
         "yaxis": "y"
        },
        {
         "hovertemplate": "color=D20220723T215748m724<br>0=%{x}<br>1=%{y}<extra></extra>",
         "legendgroup": "D20220723T215748m724",
         "marker": {
          "color": "#FECB52",
          "symbol": "circle"
         },
         "mode": "markers",
         "name": "D20220723T215748m724",
         "orientation": "v",
         "showlegend": true,
         "type": "scatter",
         "x": [
          -12.957350730895996,
          -24.981666564941406,
          -29.962175369262695,
          19.23621940612793,
          11.085882186889648,
          17.974634170532227,
          11.9164400100708,
          26.028255462646484,
          -43.12516784667969,
          5.813598155975342,
          40.83195114135742,
          39.94355392456055,
          23.95660972595215,
          15.04930305480957,
          -11.8436918258667,
          -22.17654037475586,
          33.77437973022461,
          23.726865768432617,
          1.764022946357727,
          -28.747020721435547,
          -27.48604393005371,
          12.638864517211914,
          19.404800415039062,
          -23.775299072265625,
          -13.781539916992188,
          -0.3812675476074219,
          19.615787506103516,
          36.459869384765625,
          14.438486099243164
         ],
         "xaxis": "x",
         "y": [
          27.417282104492188,
          22.147830963134766,
          9.671335220336914,
          -28.144168853759766,
          12.083592414855957,
          36.986759185791016,
          23.43604278564453,
          -36.129459381103516,
          -13.90359878540039,
          11.295787811279297,
          -9.963619232177734,
          -11.385857582092285,
          9.539748191833496,
          25.90398406982422,
          -26.26749038696289,
          7.9413533210754395,
          1.7452576160430908,
          -10.905303955078125,
          35.315494537353516,
          14.820239067077637,
          12.456106185913086,
          23.570940017700195,
          36.681888580322266,
          -12.492114067077637,
          33.46568298339844,
          19.704782485961914,
          34.23952102661133,
          7.618792533874512,
          25.36148452758789
         ],
         "yaxis": "y"
        }
       ],
       "layout": {
        "legend": {
         "title": {
          "text": "color"
         },
         "tracegroupgap": 0
        },
        "margin": {
         "t": 60
        },
        "template": {
         "data": {
          "bar": [
           {
            "error_x": {
             "color": "#2a3f5f"
            },
            "error_y": {
             "color": "#2a3f5f"
            },
            "marker": {
             "line": {
              "color": "#E5ECF6",
              "width": 0.5
             },
             "pattern": {
              "fillmode": "overlay",
              "size": 10,
              "solidity": 0.2
             }
            },
            "type": "bar"
           }
          ],
          "barpolar": [
           {
            "marker": {
             "line": {
              "color": "#E5ECF6",
              "width": 0.5
             },
             "pattern": {
              "fillmode": "overlay",
              "size": 10,
              "solidity": 0.2
             }
            },
            "type": "barpolar"
           }
          ],
          "carpet": [
           {
            "aaxis": {
             "endlinecolor": "#2a3f5f",
             "gridcolor": "white",
             "linecolor": "white",
             "minorgridcolor": "white",
             "startlinecolor": "#2a3f5f"
            },
            "baxis": {
             "endlinecolor": "#2a3f5f",
             "gridcolor": "white",
             "linecolor": "white",
             "minorgridcolor": "white",
             "startlinecolor": "#2a3f5f"
            },
            "type": "carpet"
           }
          ],
          "choropleth": [
           {
            "colorbar": {
             "outlinewidth": 0,
             "ticks": ""
            },
            "type": "choropleth"
           }
          ],
          "contour": [
           {
            "colorbar": {
             "outlinewidth": 0,
             "ticks": ""
            },
            "colorscale": [
             [
              0,
              "#0d0887"
             ],
             [
              0.1111111111111111,
              "#46039f"
             ],
             [
              0.2222222222222222,
              "#7201a8"
             ],
             [
              0.3333333333333333,
              "#9c179e"
             ],
             [
              0.4444444444444444,
              "#bd3786"
             ],
             [
              0.5555555555555556,
              "#d8576b"
             ],
             [
              0.6666666666666666,
              "#ed7953"
             ],
             [
              0.7777777777777778,
              "#fb9f3a"
             ],
             [
              0.8888888888888888,
              "#fdca26"
             ],
             [
              1,
              "#f0f921"
             ]
            ],
            "type": "contour"
           }
          ],
          "contourcarpet": [
           {
            "colorbar": {
             "outlinewidth": 0,
             "ticks": ""
            },
            "type": "contourcarpet"
           }
          ],
          "heatmap": [
           {
            "colorbar": {
             "outlinewidth": 0,
             "ticks": ""
            },
            "colorscale": [
             [
              0,
              "#0d0887"
             ],
             [
              0.1111111111111111,
              "#46039f"
             ],
             [
              0.2222222222222222,
              "#7201a8"
             ],
             [
              0.3333333333333333,
              "#9c179e"
             ],
             [
              0.4444444444444444,
              "#bd3786"
             ],
             [
              0.5555555555555556,
              "#d8576b"
             ],
             [
              0.6666666666666666,
              "#ed7953"
             ],
             [
              0.7777777777777778,
              "#fb9f3a"
             ],
             [
              0.8888888888888888,
              "#fdca26"
             ],
             [
              1,
              "#f0f921"
             ]
            ],
            "type": "heatmap"
           }
          ],
          "heatmapgl": [
           {
            "colorbar": {
             "outlinewidth": 0,
             "ticks": ""
            },
            "colorscale": [
             [
              0,
              "#0d0887"
             ],
             [
              0.1111111111111111,
              "#46039f"
             ],
             [
              0.2222222222222222,
              "#7201a8"
             ],
             [
              0.3333333333333333,
              "#9c179e"
             ],
             [
              0.4444444444444444,
              "#bd3786"
             ],
             [
              0.5555555555555556,
              "#d8576b"
             ],
             [
              0.6666666666666666,
              "#ed7953"
             ],
             [
              0.7777777777777778,
              "#fb9f3a"
             ],
             [
              0.8888888888888888,
              "#fdca26"
             ],
             [
              1,
              "#f0f921"
             ]
            ],
            "type": "heatmapgl"
           }
          ],
          "histogram": [
           {
            "marker": {
             "pattern": {
              "fillmode": "overlay",
              "size": 10,
              "solidity": 0.2
             }
            },
            "type": "histogram"
           }
          ],
          "histogram2d": [
           {
            "colorbar": {
             "outlinewidth": 0,
             "ticks": ""
            },
            "colorscale": [
             [
              0,
              "#0d0887"
             ],
             [
              0.1111111111111111,
              "#46039f"
             ],
             [
              0.2222222222222222,
              "#7201a8"
             ],
             [
              0.3333333333333333,
              "#9c179e"
             ],
             [
              0.4444444444444444,
              "#bd3786"
             ],
             [
              0.5555555555555556,
              "#d8576b"
             ],
             [
              0.6666666666666666,
              "#ed7953"
             ],
             [
              0.7777777777777778,
              "#fb9f3a"
             ],
             [
              0.8888888888888888,
              "#fdca26"
             ],
             [
              1,
              "#f0f921"
             ]
            ],
            "type": "histogram2d"
           }
          ],
          "histogram2dcontour": [
           {
            "colorbar": {
             "outlinewidth": 0,
             "ticks": ""
            },
            "colorscale": [
             [
              0,
              "#0d0887"
             ],
             [
              0.1111111111111111,
              "#46039f"
             ],
             [
              0.2222222222222222,
              "#7201a8"
             ],
             [
              0.3333333333333333,
              "#9c179e"
             ],
             [
              0.4444444444444444,
              "#bd3786"
             ],
             [
              0.5555555555555556,
              "#d8576b"
             ],
             [
              0.6666666666666666,
              "#ed7953"
             ],
             [
              0.7777777777777778,
              "#fb9f3a"
             ],
             [
              0.8888888888888888,
              "#fdca26"
             ],
             [
              1,
              "#f0f921"
             ]
            ],
            "type": "histogram2dcontour"
           }
          ],
          "mesh3d": [
           {
            "colorbar": {
             "outlinewidth": 0,
             "ticks": ""
            },
            "type": "mesh3d"
           }
          ],
          "parcoords": [
           {
            "line": {
             "colorbar": {
              "outlinewidth": 0,
              "ticks": ""
             }
            },
            "type": "parcoords"
           }
          ],
          "pie": [
           {
            "automargin": true,
            "type": "pie"
           }
          ],
          "scatter": [
           {
            "fillpattern": {
             "fillmode": "overlay",
             "size": 10,
             "solidity": 0.2
            },
            "type": "scatter"
           }
          ],
          "scatter3d": [
           {
            "line": {
             "colorbar": {
              "outlinewidth": 0,
              "ticks": ""
             }
            },
            "marker": {
             "colorbar": {
              "outlinewidth": 0,
              "ticks": ""
             }
            },
            "type": "scatter3d"
           }
          ],
          "scattercarpet": [
           {
            "marker": {
             "colorbar": {
              "outlinewidth": 0,
              "ticks": ""
             }
            },
            "type": "scattercarpet"
           }
          ],
          "scattergeo": [
           {
            "marker": {
             "colorbar": {
              "outlinewidth": 0,
              "ticks": ""
             }
            },
            "type": "scattergeo"
           }
          ],
          "scattergl": [
           {
            "marker": {
             "colorbar": {
              "outlinewidth": 0,
              "ticks": ""
             }
            },
            "type": "scattergl"
           }
          ],
          "scattermapbox": [
           {
            "marker": {
             "colorbar": {
              "outlinewidth": 0,
              "ticks": ""
             }
            },
            "type": "scattermapbox"
           }
          ],
          "scatterpolar": [
           {
            "marker": {
             "colorbar": {
              "outlinewidth": 0,
              "ticks": ""
             }
            },
            "type": "scatterpolar"
           }
          ],
          "scatterpolargl": [
           {
            "marker": {
             "colorbar": {
              "outlinewidth": 0,
              "ticks": ""
             }
            },
            "type": "scatterpolargl"
           }
          ],
          "scatterternary": [
           {
            "marker": {
             "colorbar": {
              "outlinewidth": 0,
              "ticks": ""
             }
            },
            "type": "scatterternary"
           }
          ],
          "surface": [
           {
            "colorbar": {
             "outlinewidth": 0,
             "ticks": ""
            },
            "colorscale": [
             [
              0,
              "#0d0887"
             ],
             [
              0.1111111111111111,
              "#46039f"
             ],
             [
              0.2222222222222222,
              "#7201a8"
             ],
             [
              0.3333333333333333,
              "#9c179e"
             ],
             [
              0.4444444444444444,
              "#bd3786"
             ],
             [
              0.5555555555555556,
              "#d8576b"
             ],
             [
              0.6666666666666666,
              "#ed7953"
             ],
             [
              0.7777777777777778,
              "#fb9f3a"
             ],
             [
              0.8888888888888888,
              "#fdca26"
             ],
             [
              1,
              "#f0f921"
             ]
            ],
            "type": "surface"
           }
          ],
          "table": [
           {
            "cells": {
             "fill": {
              "color": "#EBF0F8"
             },
             "line": {
              "color": "white"
             }
            },
            "header": {
             "fill": {
              "color": "#C8D4E3"
             },
             "line": {
              "color": "white"
             }
            },
            "type": "table"
           }
          ]
         },
         "layout": {
          "annotationdefaults": {
           "arrowcolor": "#2a3f5f",
           "arrowhead": 0,
           "arrowwidth": 1
          },
          "autotypenumbers": "strict",
          "coloraxis": {
           "colorbar": {
            "outlinewidth": 0,
            "ticks": ""
           }
          },
          "colorscale": {
           "diverging": [
            [
             0,
             "#8e0152"
            ],
            [
             0.1,
             "#c51b7d"
            ],
            [
             0.2,
             "#de77ae"
            ],
            [
             0.3,
             "#f1b6da"
            ],
            [
             0.4,
             "#fde0ef"
            ],
            [
             0.5,
             "#f7f7f7"
            ],
            [
             0.6,
             "#e6f5d0"
            ],
            [
             0.7,
             "#b8e186"
            ],
            [
             0.8,
             "#7fbc41"
            ],
            [
             0.9,
             "#4d9221"
            ],
            [
             1,
             "#276419"
            ]
           ],
           "sequential": [
            [
             0,
             "#0d0887"
            ],
            [
             0.1111111111111111,
             "#46039f"
            ],
            [
             0.2222222222222222,
             "#7201a8"
            ],
            [
             0.3333333333333333,
             "#9c179e"
            ],
            [
             0.4444444444444444,
             "#bd3786"
            ],
            [
             0.5555555555555556,
             "#d8576b"
            ],
            [
             0.6666666666666666,
             "#ed7953"
            ],
            [
             0.7777777777777778,
             "#fb9f3a"
            ],
            [
             0.8888888888888888,
             "#fdca26"
            ],
            [
             1,
             "#f0f921"
            ]
           ],
           "sequentialminus": [
            [
             0,
             "#0d0887"
            ],
            [
             0.1111111111111111,
             "#46039f"
            ],
            [
             0.2222222222222222,
             "#7201a8"
            ],
            [
             0.3333333333333333,
             "#9c179e"
            ],
            [
             0.4444444444444444,
             "#bd3786"
            ],
            [
             0.5555555555555556,
             "#d8576b"
            ],
            [
             0.6666666666666666,
             "#ed7953"
            ],
            [
             0.7777777777777778,
             "#fb9f3a"
            ],
            [
             0.8888888888888888,
             "#fdca26"
            ],
            [
             1,
             "#f0f921"
            ]
           ]
          },
          "colorway": [
           "#636efa",
           "#EF553B",
           "#00cc96",
           "#ab63fa",
           "#FFA15A",
           "#19d3f3",
           "#FF6692",
           "#B6E880",
           "#FF97FF",
           "#FECB52"
          ],
          "font": {
           "color": "#2a3f5f"
          },
          "geo": {
           "bgcolor": "white",
           "lakecolor": "white",
           "landcolor": "#E5ECF6",
           "showlakes": true,
           "showland": true,
           "subunitcolor": "white"
          },
          "hoverlabel": {
           "align": "left"
          },
          "hovermode": "closest",
          "mapbox": {
           "style": "light"
          },
          "paper_bgcolor": "white",
          "plot_bgcolor": "#E5ECF6",
          "polar": {
           "angularaxis": {
            "gridcolor": "white",
            "linecolor": "white",
            "ticks": ""
           },
           "bgcolor": "#E5ECF6",
           "radialaxis": {
            "gridcolor": "white",
            "linecolor": "white",
            "ticks": ""
           }
          },
          "scene": {
           "xaxis": {
            "backgroundcolor": "#E5ECF6",
            "gridcolor": "white",
            "gridwidth": 2,
            "linecolor": "white",
            "showbackground": true,
            "ticks": "",
            "zerolinecolor": "white"
           },
           "yaxis": {
            "backgroundcolor": "#E5ECF6",
            "gridcolor": "white",
            "gridwidth": 2,
            "linecolor": "white",
            "showbackground": true,
            "ticks": "",
            "zerolinecolor": "white"
           },
           "zaxis": {
            "backgroundcolor": "#E5ECF6",
            "gridcolor": "white",
            "gridwidth": 2,
            "linecolor": "white",
            "showbackground": true,
            "ticks": "",
            "zerolinecolor": "white"
           }
          },
          "shapedefaults": {
           "line": {
            "color": "#2a3f5f"
           }
          },
          "ternary": {
           "aaxis": {
            "gridcolor": "white",
            "linecolor": "white",
            "ticks": ""
           },
           "baxis": {
            "gridcolor": "white",
            "linecolor": "white",
            "ticks": ""
           },
           "bgcolor": "#E5ECF6",
           "caxis": {
            "gridcolor": "white",
            "linecolor": "white",
            "ticks": ""
           }
          },
          "title": {
           "x": 0.05
          },
          "xaxis": {
           "automargin": true,
           "gridcolor": "white",
           "linecolor": "white",
           "ticks": "",
           "title": {
            "standoff": 15
           },
           "zerolinecolor": "white",
           "zerolinewidth": 2
          },
          "yaxis": {
           "automargin": true,
           "gridcolor": "white",
           "linecolor": "white",
           "ticks": "",
           "title": {
            "standoff": 15
           },
           "zerolinecolor": "white",
           "zerolinewidth": 2
          }
         }
        },
        "xaxis": {
         "anchor": "y",
         "domain": [
          0,
          1
         ],
         "title": {
          "text": "0"
         }
        },
        "yaxis": {
         "anchor": "x",
         "domain": [
          0,
          1
         ],
         "title": {
          "text": "1"
         }
        }
       }
      }
     },
     "metadata": {},
     "output_type": "display_data"
    },
    {
     "data": {
      "application/vnd.plotly.v1+json": {
       "config": {
        "plotlyServerURL": "https://plot.ly"
       },
       "data": [
        {
         "hovertemplate": "color=D20220723T195414m434<br>0=%{x}<br>1=%{y}<extra></extra>",
         "legendgroup": "D20220723T195414m434",
         "marker": {
          "color": "#636efa",
          "symbol": "circle"
         },
         "mode": "markers",
         "name": "D20220723T195414m434",
         "orientation": "v",
         "showlegend": true,
         "type": "scatter",
         "x": [
          -27.923784255981445,
          -34.05058670043945,
          -16.63805389404297,
          -8.016225814819336,
          -21.274255752563477,
          -28.676342010498047,
          -23.76589012145996,
          -20.98004722595215,
          -12.264355659484863,
          -4.914196968078613,
          -34.65654373168945,
          -19.143314361572266,
          -20.4111270904541,
          -28.273696899414062,
          -7.808366775512695,
          -19.17688751220703,
          -26.63753890991211,
          -39.649322509765625,
          -27.62796401977539,
          -9.733377456665039,
          -25.591489791870117,
          -11.57015609741211,
          -42.6827507019043,
          -14.733182907104492,
          -10.450321197509766,
          -19.591909408569336,
          -20.222694396972656
         ],
         "xaxis": "x",
         "y": [
          17.26027488708496,
          -0.19188182055950165,
          0.5596640110015869,
          10.95448112487793,
          27.463214874267578,
          18.291950225830078,
          2.5697484016418457,
          30.269790649414062,
          27.823183059692383,
          9.263580322265625,
          11.31302547454834,
          22.722993850708008,
          28.677291870117188,
          16.006080627441406,
          28.11832618713379,
          25.253934860229492,
          18.180843353271484,
          9.58059310913086,
          19.046838760375977,
          -14.412699699401855,
          3.956357717514038,
          28.465978622436523,
          13.73711109161377,
          -10.62088394165039,
          -28.974939346313477,
          29.526918411254883,
          33.22726058959961
         ],
         "yaxis": "y"
        },
        {
         "hovertemplate": "color=D20220723T200740m009<br>0=%{x}<br>1=%{y}<extra></extra>",
         "legendgroup": "D20220723T200740m009",
         "marker": {
          "color": "#EF553B",
          "symbol": "circle"
         },
         "mode": "markers",
         "name": "D20220723T200740m009",
         "orientation": "v",
         "showlegend": true,
         "type": "scatter",
         "x": [
          4.665232181549072,
          -0.8658108711242676,
          0.9518896341323853,
          12.583856582641602,
          6.822892665863037,
          36.81679153442383,
          20.216535568237305,
          19.479339599609375,
          6.770482063293457,
          1.9141310453414917,
          -17.755184173583984,
          20.94749641418457,
          -29.414690017700195,
          30.06363868713379,
          6.824049472808838,
          0.4190406799316406,
          -0.26668044924736023,
          5.837862968444824,
          9.89810848236084,
          28.092777252197266,
          19.319622039794922,
          -13.440264701843262,
          25.120738983154297,
          -1.4603551626205444,
          3.211524724960327,
          -21.597545623779297,
          -39.66499710083008
         ],
         "xaxis": "x",
         "y": [
          -17.922531127929688,
          -18.295732498168945,
          3.3664560317993164,
          -17.993549346923828,
          -30.31760597229004,
          10.381815910339355,
          -24.569374084472656,
          -3.8847784996032715,
          -36.33985900878906,
          13.457462310791016,
          -16.423707962036133,
          -22.822267532348633,
          14.11178207397461,
          5.481591701507568,
          -18.7130069732666,
          26.897214889526367,
          1.3800513744354248,
          -36.70964050292969,
          -14.5109281539917,
          -18.353282928466797,
          -10.820330619812012,
          3.727142333984375,
          -6.015988349914551,
          -2.029996871948242,
          -30.574535369873047,
          -17.223371505737305,
          7.18092679977417
         ],
         "yaxis": "y"
        },
        {
         "hovertemplate": "color=D20220723T202041m463<br>0=%{x}<br>1=%{y}<extra></extra>",
         "legendgroup": "D20220723T202041m463",
         "marker": {
          "color": "#00cc96",
          "symbol": "circle"
         },
         "mode": "markers",
         "name": "D20220723T202041m463",
         "orientation": "v",
         "showlegend": true,
         "type": "scatter",
         "x": [
          12.585806846618652,
          40.53232192993164,
          28.47963523864746,
          22.63379669189453,
          -49.72335433959961,
          28.60222053527832,
          21.292879104614258,
          29.97400665283203,
          -21.263614654541016,
          18.836393356323242,
          39.79425811767578,
          -13.928742408752441,
          33.90215301513672,
          42.20895767211914,
          23.633947372436523,
          20.084693908691406,
          30.852415084838867
         ],
         "xaxis": "x",
         "y": [
          -23.920101165771484,
          -4.937631607055664,
          12.956841468811035,
          4.258515357971191,
          12.172453880310059,
          -8.855387687683105,
          8.631464958190918,
          -6.454328536987305,
          -0.44508400559425354,
          -2.3968591690063477,
          -5.639168739318848,
          -16.229724884033203,
          -1.4657129049301147,
          -4.22609281539917,
          15.297390937805176,
          -20.158620834350586,
          -13.240623474121094
         ],
         "yaxis": "y"
        },
        {
         "hovertemplate": "color=D20220723T202257m087<br>0=%{x}<br>1=%{y}<extra></extra>",
         "legendgroup": "D20220723T202257m087",
         "marker": {
          "color": "#ab63fa",
          "symbol": "circle"
         },
         "mode": "markers",
         "name": "D20220723T202257m087",
         "orientation": "v",
         "showlegend": true,
         "type": "scatter",
         "x": [
          1.671990990638733,
          4.489152431488037,
          -39.73412322998047,
          20.36294937133789,
          -5.950832366943359,
          -7.463138103485107,
          4.249147415161133,
          -4.21615743637085,
          31.074270248413086,
          3.7169289588928223,
          2.781160593032837,
          28.698402404785156,
          4.627079486846924,
          -2.7119815349578857,
          5.892317771911621,
          29.49435806274414,
          5.009083271026611,
          25.813636779785156,
          8.106512069702148,
          3.4158525466918945,
          -7.663929462432861,
          -5.905571460723877,
          -7.978579044342041,
          30.40693473815918,
          -18.14495277404785,
          -18.913124084472656,
          -35.79047393798828,
          -8.775237083435059,
          30.57292366027832,
          -5.005629062652588,
          30.702163696289062,
          -31.588687896728516
         ],
         "xaxis": "x",
         "y": [
          -16.763765335083008,
          3.118021249771118,
          13.583710670471191,
          9.732426643371582,
          10.167006492614746,
          -28.046188354492188,
          -30.41326904296875,
          11.262521743774414,
          1.2915236949920654,
          14.48323917388916,
          6.69523811340332,
          3.48740291595459,
          13.002352714538574,
          -15.370894432067871,
          -12.822036743164062,
          14.417540550231934,
          -8.727685928344727,
          -1.2030448913574219,
          -12.702542304992676,
          13.114546775817871,
          22.445083618164062,
          8.190630912780762,
          19.964012145996094,
          8.620959281921387,
          15.568879127502441,
          17.220666885375977,
          16.809293746948242,
          22.099946975708008,
          10.070571899414062,
          12.399658203125,
          11.247353553771973,
          14.114143371582031
         ],
         "yaxis": "y"
        },
        {
         "hovertemplate": "color=D20220723T203621m070<br>0=%{x}<br>1=%{y}<extra></extra>",
         "legendgroup": "D20220723T203621m070",
         "marker": {
          "color": "#FFA15A",
          "symbol": "circle"
         },
         "mode": "markers",
         "name": "D20220723T203621m070",
         "orientation": "v",
         "showlegend": true,
         "type": "scatter",
         "x": [
          30.789161682128906,
          -22.864612579345703,
          28.261137008666992,
          13.689377784729004,
          35.7091178894043,
          32.670413970947266,
          2.002565383911133,
          -19.368982315063477,
          -12.94768238067627,
          -4.4364142417907715,
          -39.381465911865234,
          -17.626863479614258,
          -13.411474227905273,
          1.0224303007125854,
          27.346824645996094,
          -6.472764015197754,
          2.814289093017578,
          0.44373100996017456,
          -4.863648891448975,
          15.05030345916748,
          26.539531707763672,
          37.959007263183594,
          13.057395935058594,
          -33.7067985534668,
          -21.598793029785156,
          -4.524175643920898,
          -25.007797241210938
         ],
         "xaxis": "x",
         "y": [
          14.135266304016113,
          4.260678768157959,
          -1.6117209196090698,
          -30.781362533569336,
          9.038686752319336,
          10.300345420837402,
          -22.008018493652344,
          14.58664608001709,
          -9.827299118041992,
          -29.23483657836914,
          16.271236419677734,
          14.02360725402832,
          1.8574095964431763,
          -19.531909942626953,
          -17.007137298583984,
          -29.2584228515625,
          -17.37127685546875,
          -22.101627349853516,
          19.201642990112305,
          -2.512908697128296,
          1.0352191925048828,
          9.192692756652832,
          -29.17469596862793,
          13.548893928527832,
          5.8666839599609375,
          22.15928840637207,
          28.8521785736084
         ],
         "yaxis": "y"
        },
        {
         "hovertemplate": "color=D20220723T204111m278<br>0=%{x}<br>1=%{y}<extra></extra>",
         "legendgroup": "D20220723T204111m278",
         "marker": {
          "color": "#19d3f3",
          "symbol": "circle"
         },
         "mode": "markers",
         "name": "D20220723T204111m278",
         "orientation": "v",
         "showlegend": true,
         "type": "scatter",
         "x": [
          -47.646175384521484,
          9.836856842041016,
          36.22703552246094,
          19.710386276245117,
          -5.97072696685791,
          12.925283432006836,
          13.003084182739258,
          -8.244349479675293,
          33.33578109741211,
          -33.61782455444336,
          -38.77670669555664,
          13.655476570129395,
          19.61391258239746,
          25.13705062866211,
          -26.578048706054688,
          25.115999221801758,
          27.084152221679688,
          19.949005126953125,
          16.309818267822266,
          16.417320251464844,
          2.2851805686950684,
          22.670818328857422,
          39.324684143066406,
          -26.98046875,
          46.08308792114258,
          18.3326358795166,
          2.689404010772705,
          35.88718795776367,
          31.370683670043945,
          -18.837308883666992,
          -21.868209838867188,
          -19.835783004760742
         ],
         "xaxis": "x",
         "y": [
          10.068366050720215,
          -8.23478889465332,
          3.6827375888824463,
          -13.798534393310547,
          -16.89879035949707,
          -35.64722442626953,
          -33.5440559387207,
          -29.186847686767578,
          -4.9722442626953125,
          16.55052375793457,
          13.287880897521973,
          -34.101295471191406,
          -12.201998710632324,
          -0.19268853962421417,
          0.6713389754295349,
          -8.001785278320312,
          -13.854090690612793,
          -23.31987762451172,
          -2.3194046020507812,
          -3.8713066577911377,
          4.90153694152832,
          -1.4274977445602417,
          -3.6298134326934814,
          6.089033603668213,
          1.3857625722885132,
          -17.973007202148438,
          -10.121668815612793,
          -10.92711353302002,
          -0.3958211839199066,
          19.07411766052246,
          32.25332260131836,
          0.2541868984699249
         ],
         "yaxis": "y"
        },
        {
         "hovertemplate": "color=D20220723T204240m923<br>0=%{x}<br>1=%{y}<extra></extra>",
         "legendgroup": "D20220723T204240m923",
         "marker": {
          "color": "#FF6692",
          "symbol": "circle"
         },
         "mode": "markers",
         "name": "D20220723T204240m923",
         "orientation": "v",
         "showlegend": true,
         "type": "scatter",
         "x": [
          29.56977653503418,
          4.97223424911499,
          46.25098419189453,
          46.20536804199219,
          3.57344913482666,
          2.7590255737304688,
          0.3813549876213074,
          24.623571395874023,
          -2.409905195236206,
          -23.03192138671875,
          36.41416549682617,
          -14.3485107421875,
          41.77178192138672,
          40.94240951538086,
          -23.124788284301758,
          4.246886730194092,
          26.169353485107422,
          24.054447174072266,
          -48.679656982421875,
          -8.05152416229248,
          15.23875617980957,
          26.267608642578125,
          35.78560256958008,
          8.298341751098633,
          25.033178329467773,
          -16.89652442932129,
          26.659021377563477,
          -17.24974822998047,
          8.598876953125,
          0.5286624431610107,
          25.158992767333984,
          -7.1638288497924805
         ],
         "xaxis": "x",
         "y": [
          -1.4305499792099,
          4.284852027893066,
          3.613276958465576,
          -0.6502521634101868,
          -16.024293899536133,
          -31.834028244018555,
          25.92974281311035,
          15.335237503051758,
          21.73360252380371,
          -0.10004225373268127,
          5.324950218200684,
          1.789365530014038,
          3.1024742126464844,
          3.4295547008514404,
          33.108760833740234,
          -37.20029830932617,
          4.348691463470459,
          6.521468639373779,
          10.773110389709473,
          -2.308410882949829,
          -17.057140350341797,
          -7.802914142608643,
          -7.8662004470825195,
          -8.20481014251709,
          5.135194301605225,
          -2.884671211242676,
          -12.43025016784668,
          -17.793968200683594,
          -6.502767562866211,
          28.364599227905273,
          3.5092995166778564,
          -17.52571678161621
         ],
         "yaxis": "y"
        },
        {
         "hovertemplate": "color=D20220723T205606m183<br>0=%{x}<br>1=%{y}<extra></extra>",
         "legendgroup": "D20220723T205606m183",
         "marker": {
          "color": "#B6E880",
          "symbol": "circle"
         },
         "mode": "markers",
         "name": "D20220723T205606m183",
         "orientation": "v",
         "showlegend": true,
         "type": "scatter",
         "x": [
          -1.1967580318450928,
          -13.913301467895508,
          10.428485870361328,
          21.95889663696289,
          11.470233917236328,
          18.08293914794922,
          14.907608032226562,
          -11.958568572998047,
          10.47896957397461,
          -16.21222496032715,
          -11.95333480834961,
          -15.570616722106934,
          -10.962574005126953,
          -15.790257453918457,
          34.306373596191406,
          37.404937744140625,
          -17.36203384399414,
          13.806488037109375,
          3.2499232292175293,
          -22.083423614501953,
          35.36298751831055,
          -10.479240417480469,
          47.402217864990234,
          -8.770434379577637,
          -48.71419906616211,
          -13.450298309326172,
          33.44436264038086,
          -18.48257827758789,
          -31.075685501098633,
          7.135725975036621,
          -26.581584930419922,
          5.6049394607543945
         ],
         "xaxis": "x",
         "y": [
          -20.398818969726562,
          12.511373519897461,
          -15.255244255065918,
          -16.4306583404541,
          -22.302410125732422,
          11.56043815612793,
          -18.992536544799805,
          -1.9543299674987793,
          -22.901775360107422,
          25.054443359375,
          25.282827377319336,
          -11.93265438079834,
          9.663286209106445,
          10.61197280883789,
          8.779293060302734,
          -11.875325202941895,
          -4.566073894500732,
          -36.71539306640625,
          -21.8219051361084,
          23.542638778686523,
          -9.43273639678955,
          -1.2023208141326904,
          -0.8062397241592407,
          -16.475648880004883,
          8.265697479248047,
          13.930920600891113,
          -2.5493879318237305,
          2.042250394821167,
          2.4797825813293457,
          -11.541024208068848,
          -9.638077735900879,
          -2.0049731731414795
         ],
         "yaxis": "y"
        },
        {
         "hovertemplate": "color=D20220723T212734m674<br>0=%{x}<br>1=%{y}<extra></extra>",
         "legendgroup": "D20220723T212734m674",
         "marker": {
          "color": "#FF97FF",
          "symbol": "circle"
         },
         "mode": "markers",
         "name": "D20220723T212734m674",
         "orientation": "v",
         "showlegend": true,
         "type": "scatter",
         "x": [
          -39.61209487915039,
          -33.53189468383789,
          21.43195152282715,
          -30.60434913635254,
          -41.18983840942383,
          -21.14280128479004,
          -35.83977508544922,
          -28.68809700012207,
          -27.82174301147461,
          -24.009172439575195,
          -32.153053283691406,
          -26.254228591918945,
          10.391338348388672,
          -12.784297943115234,
          -9.904788970947266,
          19.32713508605957,
          -23.620895385742188,
          -28.57490348815918,
          -4.552028656005859,
          19.072349548339844,
          -18.79540252685547,
          -13.968461036682129,
          -16.61578369140625,
          -47.35098648071289,
          -21.298154830932617,
          19.571203231811523,
          -14.645221710205078,
          -28.065353393554688,
          -27.078889846801758,
          -12.634868621826172,
          -32.24053955078125,
          -13.622456550598145
         ],
         "xaxis": "x",
         "y": [
          6.275881767272949,
          1.5941534042358398,
          12.52872085571289,
          10.645852088928223,
          6.687952518463135,
          13.236466407775879,
          2.2665445804595947,
          -0.6811935901641846,
          -3.532771587371826,
          28.633811950683594,
          15.008583068847656,
          -0.5663670301437378,
          9.54823112487793,
          8.866331100463867,
          -17.297069549560547,
          16.673078536987305,
          26.721923828125,
          -9.029559135437012,
          14.663701057434082,
          9.532041549682617,
          -12.11982536315918,
          16.849992752075195,
          -14.580405235290527,
          11.25131607055664,
          -16.370378494262695,
          17.791057586669922,
          6.81406831741333,
          7.154019355773926,
          14.32147216796875,
          0.29400399327278137,
          2.5355312824249268,
          7.726851463317871
         ],
         "yaxis": "y"
        },
        {
         "hovertemplate": "color=D20220723T215748m724<br>0=%{x}<br>1=%{y}<extra></extra>",
         "legendgroup": "D20220723T215748m724",
         "marker": {
          "color": "#FECB52",
          "symbol": "circle"
         },
         "mode": "markers",
         "name": "D20220723T215748m724",
         "orientation": "v",
         "showlegend": true,
         "type": "scatter",
         "x": [
          2.771710157394409,
          13.865666389465332,
          24.20467185974121,
          -15.367258071899414,
          3.5156819820404053,
          -3.616680860519409,
          1.3816008567810059,
          -17.912694931030273,
          45.26462173461914,
          7.921053886413574,
          -31.058958053588867,
          -29.768091201782227,
          -6.821603298187256,
          -1.4032388925552368,
          19.734683990478516,
          18.87828254699707,
          -25.963449478149414,
          -20.969234466552734,
          -18.119800567626953,
          19.63820457458496,
          20.063913345336914,
          0.6735116839408875,
          -4.285765171051025,
          27.863447189331055,
          -1.2640317678451538,
          3.889159917831421,
          -5.977346897125244,
          -8.383213996887207,
          -0.4219852089881897
         ],
         "xaxis": "x",
         "y": [
          -19.06414222717285,
          -19.39824867248535,
          -16.368694305419922,
          15.697941780090332,
          7.7528910636901855,
          -26.63706398010254,
          -4.60653829574585,
          25.225229263305664,
          -1.7678335905075073,
          4.719784736633301,
          -1.62942636013031,
          -0.3860393762588501,
          21.282724380493164,
          -6.241859436035156,
          12.301712036132812,
          -8.9583740234375,
          16.049707412719727,
          1.385659098625183,
          -12.678939819335938,
          -18.447715759277344,
          -16.140287399291992,
          -3.8938260078430176,
          -27.955690383911133,
          1.9093847274780273,
          -23.220014572143555,
          -9.837237358093262,
          -27.57411003112793,
          26.686208724975586,
          -5.924914360046387
         ],
         "yaxis": "y"
        }
       ],
       "layout": {
        "legend": {
         "title": {
          "text": "color"
         },
         "tracegroupgap": 0
        },
        "margin": {
         "t": 60
        },
        "template": {
         "data": {
          "bar": [
           {
            "error_x": {
             "color": "#2a3f5f"
            },
            "error_y": {
             "color": "#2a3f5f"
            },
            "marker": {
             "line": {
              "color": "#E5ECF6",
              "width": 0.5
             },
             "pattern": {
              "fillmode": "overlay",
              "size": 10,
              "solidity": 0.2
             }
            },
            "type": "bar"
           }
          ],
          "barpolar": [
           {
            "marker": {
             "line": {
              "color": "#E5ECF6",
              "width": 0.5
             },
             "pattern": {
              "fillmode": "overlay",
              "size": 10,
              "solidity": 0.2
             }
            },
            "type": "barpolar"
           }
          ],
          "carpet": [
           {
            "aaxis": {
             "endlinecolor": "#2a3f5f",
             "gridcolor": "white",
             "linecolor": "white",
             "minorgridcolor": "white",
             "startlinecolor": "#2a3f5f"
            },
            "baxis": {
             "endlinecolor": "#2a3f5f",
             "gridcolor": "white",
             "linecolor": "white",
             "minorgridcolor": "white",
             "startlinecolor": "#2a3f5f"
            },
            "type": "carpet"
           }
          ],
          "choropleth": [
           {
            "colorbar": {
             "outlinewidth": 0,
             "ticks": ""
            },
            "type": "choropleth"
           }
          ],
          "contour": [
           {
            "colorbar": {
             "outlinewidth": 0,
             "ticks": ""
            },
            "colorscale": [
             [
              0,
              "#0d0887"
             ],
             [
              0.1111111111111111,
              "#46039f"
             ],
             [
              0.2222222222222222,
              "#7201a8"
             ],
             [
              0.3333333333333333,
              "#9c179e"
             ],
             [
              0.4444444444444444,
              "#bd3786"
             ],
             [
              0.5555555555555556,
              "#d8576b"
             ],
             [
              0.6666666666666666,
              "#ed7953"
             ],
             [
              0.7777777777777778,
              "#fb9f3a"
             ],
             [
              0.8888888888888888,
              "#fdca26"
             ],
             [
              1,
              "#f0f921"
             ]
            ],
            "type": "contour"
           }
          ],
          "contourcarpet": [
           {
            "colorbar": {
             "outlinewidth": 0,
             "ticks": ""
            },
            "type": "contourcarpet"
           }
          ],
          "heatmap": [
           {
            "colorbar": {
             "outlinewidth": 0,
             "ticks": ""
            },
            "colorscale": [
             [
              0,
              "#0d0887"
             ],
             [
              0.1111111111111111,
              "#46039f"
             ],
             [
              0.2222222222222222,
              "#7201a8"
             ],
             [
              0.3333333333333333,
              "#9c179e"
             ],
             [
              0.4444444444444444,
              "#bd3786"
             ],
             [
              0.5555555555555556,
              "#d8576b"
             ],
             [
              0.6666666666666666,
              "#ed7953"
             ],
             [
              0.7777777777777778,
              "#fb9f3a"
             ],
             [
              0.8888888888888888,
              "#fdca26"
             ],
             [
              1,
              "#f0f921"
             ]
            ],
            "type": "heatmap"
           }
          ],
          "heatmapgl": [
           {
            "colorbar": {
             "outlinewidth": 0,
             "ticks": ""
            },
            "colorscale": [
             [
              0,
              "#0d0887"
             ],
             [
              0.1111111111111111,
              "#46039f"
             ],
             [
              0.2222222222222222,
              "#7201a8"
             ],
             [
              0.3333333333333333,
              "#9c179e"
             ],
             [
              0.4444444444444444,
              "#bd3786"
             ],
             [
              0.5555555555555556,
              "#d8576b"
             ],
             [
              0.6666666666666666,
              "#ed7953"
             ],
             [
              0.7777777777777778,
              "#fb9f3a"
             ],
             [
              0.8888888888888888,
              "#fdca26"
             ],
             [
              1,
              "#f0f921"
             ]
            ],
            "type": "heatmapgl"
           }
          ],
          "histogram": [
           {
            "marker": {
             "pattern": {
              "fillmode": "overlay",
              "size": 10,
              "solidity": 0.2
             }
            },
            "type": "histogram"
           }
          ],
          "histogram2d": [
           {
            "colorbar": {
             "outlinewidth": 0,
             "ticks": ""
            },
            "colorscale": [
             [
              0,
              "#0d0887"
             ],
             [
              0.1111111111111111,
              "#46039f"
             ],
             [
              0.2222222222222222,
              "#7201a8"
             ],
             [
              0.3333333333333333,
              "#9c179e"
             ],
             [
              0.4444444444444444,
              "#bd3786"
             ],
             [
              0.5555555555555556,
              "#d8576b"
             ],
             [
              0.6666666666666666,
              "#ed7953"
             ],
             [
              0.7777777777777778,
              "#fb9f3a"
             ],
             [
              0.8888888888888888,
              "#fdca26"
             ],
             [
              1,
              "#f0f921"
             ]
            ],
            "type": "histogram2d"
           }
          ],
          "histogram2dcontour": [
           {
            "colorbar": {
             "outlinewidth": 0,
             "ticks": ""
            },
            "colorscale": [
             [
              0,
              "#0d0887"
             ],
             [
              0.1111111111111111,
              "#46039f"
             ],
             [
              0.2222222222222222,
              "#7201a8"
             ],
             [
              0.3333333333333333,
              "#9c179e"
             ],
             [
              0.4444444444444444,
              "#bd3786"
             ],
             [
              0.5555555555555556,
              "#d8576b"
             ],
             [
              0.6666666666666666,
              "#ed7953"
             ],
             [
              0.7777777777777778,
              "#fb9f3a"
             ],
             [
              0.8888888888888888,
              "#fdca26"
             ],
             [
              1,
              "#f0f921"
             ]
            ],
            "type": "histogram2dcontour"
           }
          ],
          "mesh3d": [
           {
            "colorbar": {
             "outlinewidth": 0,
             "ticks": ""
            },
            "type": "mesh3d"
           }
          ],
          "parcoords": [
           {
            "line": {
             "colorbar": {
              "outlinewidth": 0,
              "ticks": ""
             }
            },
            "type": "parcoords"
           }
          ],
          "pie": [
           {
            "automargin": true,
            "type": "pie"
           }
          ],
          "scatter": [
           {
            "fillpattern": {
             "fillmode": "overlay",
             "size": 10,
             "solidity": 0.2
            },
            "type": "scatter"
           }
          ],
          "scatter3d": [
           {
            "line": {
             "colorbar": {
              "outlinewidth": 0,
              "ticks": ""
             }
            },
            "marker": {
             "colorbar": {
              "outlinewidth": 0,
              "ticks": ""
             }
            },
            "type": "scatter3d"
           }
          ],
          "scattercarpet": [
           {
            "marker": {
             "colorbar": {
              "outlinewidth": 0,
              "ticks": ""
             }
            },
            "type": "scattercarpet"
           }
          ],
          "scattergeo": [
           {
            "marker": {
             "colorbar": {
              "outlinewidth": 0,
              "ticks": ""
             }
            },
            "type": "scattergeo"
           }
          ],
          "scattergl": [
           {
            "marker": {
             "colorbar": {
              "outlinewidth": 0,
              "ticks": ""
             }
            },
            "type": "scattergl"
           }
          ],
          "scattermapbox": [
           {
            "marker": {
             "colorbar": {
              "outlinewidth": 0,
              "ticks": ""
             }
            },
            "type": "scattermapbox"
           }
          ],
          "scatterpolar": [
           {
            "marker": {
             "colorbar": {
              "outlinewidth": 0,
              "ticks": ""
             }
            },
            "type": "scatterpolar"
           }
          ],
          "scatterpolargl": [
           {
            "marker": {
             "colorbar": {
              "outlinewidth": 0,
              "ticks": ""
             }
            },
            "type": "scatterpolargl"
           }
          ],
          "scatterternary": [
           {
            "marker": {
             "colorbar": {
              "outlinewidth": 0,
              "ticks": ""
             }
            },
            "type": "scatterternary"
           }
          ],
          "surface": [
           {
            "colorbar": {
             "outlinewidth": 0,
             "ticks": ""
            },
            "colorscale": [
             [
              0,
              "#0d0887"
             ],
             [
              0.1111111111111111,
              "#46039f"
             ],
             [
              0.2222222222222222,
              "#7201a8"
             ],
             [
              0.3333333333333333,
              "#9c179e"
             ],
             [
              0.4444444444444444,
              "#bd3786"
             ],
             [
              0.5555555555555556,
              "#d8576b"
             ],
             [
              0.6666666666666666,
              "#ed7953"
             ],
             [
              0.7777777777777778,
              "#fb9f3a"
             ],
             [
              0.8888888888888888,
              "#fdca26"
             ],
             [
              1,
              "#f0f921"
             ]
            ],
            "type": "surface"
           }
          ],
          "table": [
           {
            "cells": {
             "fill": {
              "color": "#EBF0F8"
             },
             "line": {
              "color": "white"
             }
            },
            "header": {
             "fill": {
              "color": "#C8D4E3"
             },
             "line": {
              "color": "white"
             }
            },
            "type": "table"
           }
          ]
         },
         "layout": {
          "annotationdefaults": {
           "arrowcolor": "#2a3f5f",
           "arrowhead": 0,
           "arrowwidth": 1
          },
          "autotypenumbers": "strict",
          "coloraxis": {
           "colorbar": {
            "outlinewidth": 0,
            "ticks": ""
           }
          },
          "colorscale": {
           "diverging": [
            [
             0,
             "#8e0152"
            ],
            [
             0.1,
             "#c51b7d"
            ],
            [
             0.2,
             "#de77ae"
            ],
            [
             0.3,
             "#f1b6da"
            ],
            [
             0.4,
             "#fde0ef"
            ],
            [
             0.5,
             "#f7f7f7"
            ],
            [
             0.6,
             "#e6f5d0"
            ],
            [
             0.7,
             "#b8e186"
            ],
            [
             0.8,
             "#7fbc41"
            ],
            [
             0.9,
             "#4d9221"
            ],
            [
             1,
             "#276419"
            ]
           ],
           "sequential": [
            [
             0,
             "#0d0887"
            ],
            [
             0.1111111111111111,
             "#46039f"
            ],
            [
             0.2222222222222222,
             "#7201a8"
            ],
            [
             0.3333333333333333,
             "#9c179e"
            ],
            [
             0.4444444444444444,
             "#bd3786"
            ],
            [
             0.5555555555555556,
             "#d8576b"
            ],
            [
             0.6666666666666666,
             "#ed7953"
            ],
            [
             0.7777777777777778,
             "#fb9f3a"
            ],
            [
             0.8888888888888888,
             "#fdca26"
            ],
            [
             1,
             "#f0f921"
            ]
           ],
           "sequentialminus": [
            [
             0,
             "#0d0887"
            ],
            [
             0.1111111111111111,
             "#46039f"
            ],
            [
             0.2222222222222222,
             "#7201a8"
            ],
            [
             0.3333333333333333,
             "#9c179e"
            ],
            [
             0.4444444444444444,
             "#bd3786"
            ],
            [
             0.5555555555555556,
             "#d8576b"
            ],
            [
             0.6666666666666666,
             "#ed7953"
            ],
            [
             0.7777777777777778,
             "#fb9f3a"
            ],
            [
             0.8888888888888888,
             "#fdca26"
            ],
            [
             1,
             "#f0f921"
            ]
           ]
          },
          "colorway": [
           "#636efa",
           "#EF553B",
           "#00cc96",
           "#ab63fa",
           "#FFA15A",
           "#19d3f3",
           "#FF6692",
           "#B6E880",
           "#FF97FF",
           "#FECB52"
          ],
          "font": {
           "color": "#2a3f5f"
          },
          "geo": {
           "bgcolor": "white",
           "lakecolor": "white",
           "landcolor": "#E5ECF6",
           "showlakes": true,
           "showland": true,
           "subunitcolor": "white"
          },
          "hoverlabel": {
           "align": "left"
          },
          "hovermode": "closest",
          "mapbox": {
           "style": "light"
          },
          "paper_bgcolor": "white",
          "plot_bgcolor": "#E5ECF6",
          "polar": {
           "angularaxis": {
            "gridcolor": "white",
            "linecolor": "white",
            "ticks": ""
           },
           "bgcolor": "#E5ECF6",
           "radialaxis": {
            "gridcolor": "white",
            "linecolor": "white",
            "ticks": ""
           }
          },
          "scene": {
           "xaxis": {
            "backgroundcolor": "#E5ECF6",
            "gridcolor": "white",
            "gridwidth": 2,
            "linecolor": "white",
            "showbackground": true,
            "ticks": "",
            "zerolinecolor": "white"
           },
           "yaxis": {
            "backgroundcolor": "#E5ECF6",
            "gridcolor": "white",
            "gridwidth": 2,
            "linecolor": "white",
            "showbackground": true,
            "ticks": "",
            "zerolinecolor": "white"
           },
           "zaxis": {
            "backgroundcolor": "#E5ECF6",
            "gridcolor": "white",
            "gridwidth": 2,
            "linecolor": "white",
            "showbackground": true,
            "ticks": "",
            "zerolinecolor": "white"
           }
          },
          "shapedefaults": {
           "line": {
            "color": "#2a3f5f"
           }
          },
          "ternary": {
           "aaxis": {
            "gridcolor": "white",
            "linecolor": "white",
            "ticks": ""
           },
           "baxis": {
            "gridcolor": "white",
            "linecolor": "white",
            "ticks": ""
           },
           "bgcolor": "#E5ECF6",
           "caxis": {
            "gridcolor": "white",
            "linecolor": "white",
            "ticks": ""
           }
          },
          "title": {
           "x": 0.05
          },
          "xaxis": {
           "automargin": true,
           "gridcolor": "white",
           "linecolor": "white",
           "ticks": "",
           "title": {
            "standoff": 15
           },
           "zerolinecolor": "white",
           "zerolinewidth": 2
          },
          "yaxis": {
           "automargin": true,
           "gridcolor": "white",
           "linecolor": "white",
           "ticks": "",
           "title": {
            "standoff": 15
           },
           "zerolinecolor": "white",
           "zerolinewidth": 2
          }
         }
        },
        "xaxis": {
         "anchor": "y",
         "domain": [
          0,
          1
         ],
         "title": {
          "text": "0"
         }
        },
        "yaxis": {
         "anchor": "x",
         "domain": [
          0,
          1
         ],
         "title": {
          "text": "1"
         }
        }
       }
      }
     },
     "metadata": {},
     "output_type": "display_data"
    },
    {
     "data": {
      "application/vnd.plotly.v1+json": {
       "config": {
        "plotlyServerURL": "https://plot.ly"
       },
       "data": [
        {
         "hovertemplate": "color=D20220723T195414m434<br>0=%{x}<br>1=%{y}<extra></extra>",
         "legendgroup": "D20220723T195414m434",
         "marker": {
          "color": "#636efa",
          "symbol": "circle"
         },
         "mode": "markers",
         "name": "D20220723T195414m434",
         "orientation": "v",
         "showlegend": true,
         "type": "scatter",
         "x": [
          -2.675248384475708,
          -8.767727851867676,
          -4.250082969665527,
          -1.4139809608459473,
          -18.634151458740234,
          -2.934030294418335,
          -7.329560279846191,
          -18.84735679626465,
          -0.8767076134681702,
          -0.4766877591609955,
          -7.190148830413818,
          -15.633871078491211,
          -17.693622589111328,
          -3.3853611946105957,
          2.034917116165161,
          -17.585546493530273,
          -1.7301877737045288,
          -11.978219985961914,
          -2.084052324295044,
          -10.689187049865723,
          -7.059239387512207,
          -0.3264818489551544,
          -14.598713874816895,
          -6.833880424499512,
          13.19003963470459,
          -17.501859664916992,
          -20.82891273498535
         ],
         "xaxis": "x",
         "y": [
          -20.501537322998047,
          -13.855123519897461,
          -4.370678424835205,
          -7.937751770019531,
          -10.232446670532227,
          -21.283042907714844,
          -9.67726993560791,
          -11.296159744262695,
          -23.299114227294922,
          -6.4820876121521,
          -23.449552536010742,
          -13.54905891418457,
          -9.427376747131348,
          -20.132184982299805,
          -20.975513458251953,
          -12.461712837219238,
          -20.74485206604004,
          -18.853836059570312,
          -21.44036865234375,
          9.046028137207031,
          -10.789300918579102,
          -23.70636558532715,
          -20.533344268798828,
          3.158562183380127,
          -14.654093742370605,
          -10.49345874786377,
          -12.546748161315918
         ],
         "yaxis": "y"
        },
        {
         "hovertemplate": "color=D20220723T200740m009<br>0=%{x}<br>1=%{y}<extra></extra>",
         "legendgroup": "D20220723T200740m009",
         "marker": {
          "color": "#EF553B",
          "symbol": "circle"
         },
         "mode": "markers",
         "name": "D20220723T200740m009",
         "orientation": "v",
         "showlegend": true,
         "type": "scatter",
         "x": [
          -2.1250386238098145,
          -4.409257888793945,
          5.867457866668701,
          2.334939956665039,
          8.522047996520996,
          16.655941009521484,
          4.88348913192749,
          6.158082485198975,
          -3.1637723445892334,
          2.4658663272857666,
          -10.639520645141602,
          5.575510501861572,
          -4.614315509796143,
          9.696415901184082,
          -2.8662078380584717,
          7.681188106536865,
          9.12060546875,
          -2.6454074382781982,
          2.2220072746276855,
          13.63758373260498,
          6.012070178985596,
          -7.408936977386475,
          15.117895126342773,
          10.469598770141602,
          -7.72800350189209,
          -2.583810567855835,
          -11.876176834106445
         ],
         "xaxis": "x",
         "y": [
          11.204340934753418,
          10.873103141784668,
          -9.223275184631348,
          17.065664291381836,
          12.798133850097656,
          2.1468870639801025,
          22.140138626098633,
          8.960083961486816,
          23.3931884765625,
          -4.584518909454346,
          5.227702617645264,
          21.16619873046875,
          -19.303245544433594,
          4.0029449462890625,
          9.411296844482422,
          -18.458209991455078,
          -14.896008491516113,
          23.785287857055664,
          14.589244842529297,
          -3.035121202468872,
          12.934225082397461,
          -3.7485036849975586,
          7.776893138885498,
          -13.816712379455566,
          15.890270233154297,
          -11.729992866516113,
          -17.08961296081543
         ],
         "yaxis": "y"
        },
        {
         "hovertemplate": "color=D20220723T202041m463<br>0=%{x}<br>1=%{y}<extra></extra>",
         "legendgroup": "D20220723T202041m463",
         "marker": {
          "color": "#00cc96",
          "symbol": "circle"
         },
         "mode": "markers",
         "name": "D20220723T202041m463",
         "orientation": "v",
         "showlegend": true,
         "type": "scatter",
         "x": [
          -0.2514950931072235,
          16.683414459228516,
          9.719389915466309,
          14.180451393127441,
          -21.07451629638672,
          17.170499801635742,
          5.720492839813232,
          15.206917762756348,
          -6.068793773651123,
          5.6122565269470215,
          15.99752426147461,
          -8.888869285583496,
          12.372262954711914,
          18.214040756225586,
          1.405972957611084,
          5.561707973480225,
          10.086880683898926
         ],
         "xaxis": "x",
         "y": [
          20.84890365600586,
          17.767805099487305,
          1.6044058799743652,
          6.162353038787842,
          -2.4077978134155273,
          10.592175483703613,
          4.626098155975342,
          10.958361625671387,
          -7.8616814613342285,
          6.670475006103516,
          17.783897399902344,
          6.473860740661621,
          12.03289794921875,
          17.301218032836914,
          0.907319962978363,
          19.5771484375,
          17.808794021606445
         ],
         "yaxis": "y"
        },
        {
         "hovertemplate": "color=D20220723T202257m087<br>0=%{x}<br>1=%{y}<extra></extra>",
         "legendgroup": "D20220723T202257m087",
         "marker": {
          "color": "#ab63fa",
          "symbol": "circle"
         },
         "mode": "markers",
         "name": "D20220723T202257m087",
         "orientation": "v",
         "showlegend": true,
         "type": "scatter",
         "x": [
          -1.2738076448440552,
          5.621256351470947,
          -12.18756103515625,
          4.806227207183838,
          -1.4791237115859985,
          12.34064769744873,
          -7.204019546508789,
          0.7392110824584961,
          11.463090896606445,
          4.036881923675537,
          4.757907390594482,
          10.807083129882812,
          3.2055726051330566,
          -4.5576863288879395,
          0.6953650116920471,
          10.32986068725586,
          3.507944107055664,
          11.192314147949219,
          1.5326299667358398,
          3.191378355026245,
          1.6611212491989136,
          -1.263197422027588,
          1.392236590385437,
          11.608341217041016,
          -12.638276100158691,
          -13.604888916015625,
          -10.159382820129395,
          1.1577688455581665,
          11.923630714416504,
          0.5227986574172974,
          12.104350090026855,
          -6.460086345672607
         ],
         "xaxis": "x",
         "y": [
          11.82461166381836,
          -5.269200801849365,
          -20.917444229125977,
          4.002267360687256,
          -6.629324913024902,
          -12.616435050964355,
          16.187599182128906,
          -7.345497131347656,
          10.255995750427246,
          -3.3160507678985596,
          -6.986570835113525,
          5.8853583335876465,
          -2.8024165630340576,
          7.844767093658447,
          11.671618461608887,
          0.7414551377296448,
          10.956183433532715,
          8.239641189575195,
          13.282175064086914,
          -3.6977195739746094,
          -15.606008529663086,
          -5.4363603591918945,
          -13.608336448669434,
          3.3218798637390137,
          -8.515460968017578,
          -10.602608680725098,
          -22.292369842529297,
          -15.025321006774902,
          2.398085355758667,
          -8.351202964782715,
          1.786547303199768,
          -19.76708984375
         ],
         "yaxis": "y"
        },
        {
         "hovertemplate": "color=D20220723T203621m070<br>0=%{x}<br>1=%{y}<extra></extra>",
         "legendgroup": "D20220723T203621m070",
         "marker": {
          "color": "#FFA15A",
          "symbol": "circle"
         },
         "mode": "markers",
         "name": "D20220723T203621m070",
         "orientation": "v",
         "showlegend": true,
         "type": "scatter",
         "x": [
          11.143413543701172,
          -8.62601089477539,
          12.65768814086914,
          -4.828390598297119,
          15.907727241516113,
          13.436675071716309,
          -3.3159642219543457,
          -12.495243072509766,
          -5.531576156616211,
          14.457999229431152,
          -13.101759910583496,
          -13.85865306854248,
          -6.214191913604736,
          -3.0566511154174805,
          13.751809120178223,
          13.19814682006836,
          -1.560556173324585,
          -4.189084529876709,
          3.7259140014648438,
          3.500046491622925,
          9.947554588317871,
          17.51041030883789,
          -4.785521984100342,
          -6.750258922576904,
          -9.920281410217285,
          2.9420273303985596,
          -19.8363037109375
         ],
         "xaxis": "x",
         "y": [
          0.3951420783996582,
          -9.679134368896484,
          8.397928237915039,
          18.853532791137695,
          3.1449828147888184,
          2.2752249240875244,
          14.218440055847168,
          -9.675653457641602,
          4.315124034881592,
          -11.806954383850098,
          -22.323270797729492,
          -8.611031532287598,
          -3.266935348510742,
          12.778112411499023,
          -2.165229320526123,
          -12.133585929870605,
          12.697580337524414,
          13.520222663879395,
          -14.115325927734375,
          7.885990142822266,
          7.407940864562988,
          2.8842179775238037,
          17.421939849853516,
          -21.866411209106445,
          -8.871309280395508,
          -17.09423065185547,
          -7.963595867156982
         ],
         "yaxis": "y"
        },
        {
         "hovertemplate": "color=D20220723T204111m278<br>0=%{x}<br>1=%{y}<extra></extra>",
         "legendgroup": "D20220723T204111m278",
         "marker": {
          "color": "#19d3f3",
          "symbol": "circle"
         },
         "mode": "markers",
         "name": "D20220723T204111m278",
         "orientation": "v",
         "showlegend": true,
         "type": "scatter",
         "x": [
          -19.10308265686035,
          -0.5051583051681519,
          17.491939544677734,
          5.573705673217773,
          -7.076531410217285,
          -6.064535140991211,
          -5.817050457000732,
          13.34269905090332,
          12.145270347595215,
          -5.402587413787842,
          -11.528658866882324,
          -5.973027229309082,
          5.883238315582275,
          10.225875854492188,
          -5.826351642608643,
          16.2630615234375,
          8.379517555236816,
          4.757374286651611,
          4.214991092681885,
          4.596651554107666,
          5.714550971984863,
          7.907919406890869,
          16.749845504760742,
          -3.976346731185913,
          19.464540481567383,
          4.504722595214844,
          2.889214515686035,
          12.890894889831543,
          12.74541187286377,
          -14.445059776306152,
          -20.773767471313477,
          -6.585443496704102
         ],
         "xaxis": "x",
         "y": [
          -2.471287250518799,
          7.3890838623046875,
          6.2213640213012695,
          15.240909576416016,
          10.310689926147461,
          21.773042678833008,
          20.32900619506836,
          -13.22536563873291,
          14.351977348327637,
          -21.291507720947266,
          -20.905946731567383,
          20.621517181396484,
          14.183735847473145,
          8.347831726074219,
          -11.424549102783203,
          8.662431716918945,
          16.052799224853516,
          21.18077278137207,
          7.4714035987854,
          8.617674827575684,
          -7.90175199508667,
          8.335844993591309,
          18.856433868408203,
          -17.569272994995117,
          13.851112365722656,
          18.13477325439453,
          12.717958450317383,
          18.90738296508789,
          10.315962791442871,
          -11.857168197631836,
          -11.18382453918457,
          -6.328202247619629
         ],
         "yaxis": "y"
        },
        {
         "hovertemplate": "color=D20220723T204240m923<br>0=%{x}<br>1=%{y}<extra></extra>",
         "legendgroup": "D20220723T204240m923",
         "marker": {
          "color": "#FF6692",
          "symbol": "circle"
         },
         "mode": "markers",
         "name": "D20220723T204240m923",
         "orientation": "v",
         "showlegend": true,
         "type": "scatter",
         "x": [
          12.769078254699707,
          6.56863260269165,
          21.115224838256836,
          17.778085708618164,
          -0.3276004195213318,
          -8.541110038757324,
          7.252363204956055,
          2.048116445541382,
          5.029489994049072,
          -6.1616950035095215,
          16.96092987060547,
          -5.9388957023620605,
          20.12981605529785,
          19.95351219177246,
          -21.800769805908203,
          -1.647216558456421,
          12.6714448928833,
          12.869277954101562,
          -19.844223022460938,
          -1.5877810716629028,
          0.840226948261261,
          15.948150634765625,
          12.80378246307373,
          0.21534673869609833,
          12.144611358642578,
          -8.89043140411377,
          9.099289894104004,
          -11.485713005065918,
          -0.2048170566558838,
          8.516239166259766,
          12.10356330871582,
          -7.210855007171631
         ],
         "xaxis": "x",
         "y": [
          9.171863555908203,
          -5.916690826416016,
          13.364096641540527,
          14.529693603515625,
          12.925888061523438,
          16.14171600341797,
          -18.67299461364746,
          0.7391896843910217,
          -15.948368072509766,
          -9.187887191772461,
          5.222908973693848,
          -3.999145030975342,
          9.321542739868164,
          8.768442153930664,
          -10.676246643066406,
          24.44025993347168,
          6.3507513999938965,
          5.016477108001709,
          -2.3231914043426514,
          3.695087432861328,
          16.86188316345215,
          9.299986839294434,
          16.574493408203125,
          7.993707656860352,
          5.593584060668945,
          -2.336841106414795,
          15.469890594482422,
          5.6876020431518555,
          6.049098968505859,
          -17.72799301147461,
          6.8155903816223145,
          9.209221839904785
         ],
         "yaxis": "y"
        },
        {
         "hovertemplate": "color=D20220723T205606m183<br>0=%{x}<br>1=%{y}<extra></extra>",
         "legendgroup": "D20220723T205606m183",
         "marker": {
          "color": "#B6E880",
          "symbol": "circle"
         },
         "mode": "markers",
         "name": "D20220723T205606m183",
         "orientation": "v",
         "showlegend": true,
         "type": "scatter",
         "x": [
          -4.214868068695068,
          -13.04200553894043,
          2.04011869430542,
          6.372533798217773,
          -0.1589403599500656,
          5.342019557952881,
          2.7788875102996826,
          -5.12705659866333,
          -0.8432806730270386,
          -18.08477783203125,
          0.6256109476089478,
          -7.86453914642334,
          -3.7091476917266846,
          -12.578605651855469,
          14.853782653808594,
          13.653800010681152,
          -9.55785846710205,
          -6.7374267578125,
          -2.839679718017578,
          -16.649137496948242,
          12.422663688659668,
          -4.847438812255859,
          17.91253089904785,
          -8.62532901763916,
          -18.221755981445312,
          -14.234590530395508,
          12.480740547180176,
          -5.160045146942139,
          -6.57295036315918,
          1.0941805839538574,
          -1.9320826530456543,
          6.185367584228516
         ],
         "xaxis": "x",
         "y": [
          12.121613502502441,
          -6.703415870666504,
          15.112668991088867,
          16.91607093811035,
          18.861251831054688,
          2.50437593460083,
          18.44066047668457,
          -0.07810978591442108,
          19.193437576293945,
          -14.578726768493652,
          -22.51448631286621,
          3.673393726348877,
          -7.078521251678467,
          -4.833925724029541,
          3.367365837097168,
          19.988012313842773,
          -0.8510954976081848,
          22.32345962524414,
          14.927814483642578,
          -15.529166221618652,
          17.815128326416016,
          -1.0334309339523315,
          13.909469604492188,
          8.968878746032715,
          -1.1997241973876953,
          -6.266100883483887,
          12.673410415649414,
          -6.273660659790039,
          -15.279803276062012,
          10.706908226013184,
          -16.01039695739746,
          -13.824271202087402
         ],
         "yaxis": "y"
        },
        {
         "hovertemplate": "color=D20220723T212734m674<br>0=%{x}<br>1=%{y}<extra></extra>",
         "legendgroup": "D20220723T212734m674",
         "marker": {
          "color": "#FF97FF",
          "symbol": "circle"
         },
         "mode": "markers",
         "name": "D20220723T212734m674",
         "orientation": "v",
         "showlegend": true,
         "type": "scatter",
         "x": [
          -11.676512718200684,
          -8.186800956726074,
          3.1047191619873047,
          -8.219125747680664,
          -12.695052146911621,
          -11.617103576660156,
          -9.65127944946289,
          -7.1359758377075195,
          -9.218696594238281,
          -19.277189254760742,
          -6.554382801055908,
          -5.102296352386475,
          7.785431385040283,
          -9.786150932312012,
          -9.224220275878906,
          -15.990856170654297,
          -19.927204132080078,
          -1.2448102235794067,
          1.4341928958892822,
          3.9495246410369873,
          -9.625536918640137,
          -16.873292922973633,
          -9.417252540588379,
          -19.552040100097656,
          -2.9263181686401367,
          -16.90166664123535,
          -9.727941513061523,
          -3.4047906398773193,
          -2.6413748264312744,
          -5.140999794006348,
          -7.26407527923584,
          -9.329791069030762
         ],
         "xaxis": "x",
         "y": [
          -16.58889389038086,
          -14.995285987854004,
          2.4024882316589355,
          -19.028446197509766,
          -16.433147430419922,
          -10.715548515319824,
          -15.83375072479248,
          -12.577404022216797,
          -11.875436782836914,
          -8.43348503112793,
          -20.522735595703125,
          -11.925827980041504,
          -1.870615839958191,
          -5.840191841125488,
          9.74677562713623,
          -0.15292540192604065,
          -9.39525032043457,
          -17.459930419921875,
          -10.046225547790527,
          4.082787036895752,
          2.5851683616638184,
          -7.8648905754089355,
          4.576539993286133,
          -3.163163900375366,
          -11.494053840637207,
          -0.17737413942813873,
          -3.925056219100952,
          -16.761995315551758,
          -18.67070198059082,
          -2.6127355098724365,
          -15.654831886291504,
          -4.838839530944824
         ],
         "yaxis": "y"
        },
        {
         "hovertemplate": "color=D20220723T215748m724<br>0=%{x}<br>1=%{y}<extra></extra>",
         "legendgroup": "D20220723T215748m724",
         "marker": {
          "color": "#FECB52",
          "symbol": "circle"
         },
         "mode": "markers",
         "name": "D20220723T215748m724",
         "orientation": "v",
         "showlegend": true,
         "type": "scatter",
         "x": [
          -1.76203191280365,
          2.060943603515625,
          14.43800163269043,
          -15.487460136413574,
          4.1902594566345215,
          13.638904571533203,
          8.455928802490234,
          -17.724870681762695,
          16.24213409423828,
          8.656538009643555,
          -5.636711597442627,
          -6.608549118041992,
          2.279700756072998,
          9.096086502075195,
          4.236948490142822,
          5.525337219238281,
          -1.7398102283477783,
          -6.942558765411377,
          -9.43226432800293,
          5.402200698852539,
          5.313051700592041,
          8.75033187866211,
          13.928488731384277,
          9.857654571533203,
          -5.58090877532959,
          2.4464128017425537,
          12.62928295135498,
          0.80024254322052,
          9.728419303894043
         ],
         "xaxis": "x",
         "y": [
          13.712756156921387,
          18.344482421875,
          13.886893272399902,
          -7.575440406799316,
          -7.488821983337402,
          -9.884138107299805,
          -10.220375061035156,
          -13.35423755645752,
          14.39395523071289,
          -5.625683307647705,
          -14.048040390014648,
          -13.329498291015625,
          -14.97325611114502,
          -12.300681114196777,
          2.281351089477539,
          11.530411720275879,
          -19.477140426635742,
          -7.534280300140381,
          2.971428632736206,
          18.400413513183594,
          16.70281982421875,
          -10.637612342834473,
          -11.001605033874512,
          6.456623554229736,
          12.96260929107666,
          11.956244468688965,
          -11.274569511413574,
          -20.753183364868164,
          -11.838932037353516
         ],
         "yaxis": "y"
        }
       ],
       "layout": {
        "legend": {
         "title": {
          "text": "color"
         },
         "tracegroupgap": 0
        },
        "margin": {
         "t": 60
        },
        "template": {
         "data": {
          "bar": [
           {
            "error_x": {
             "color": "#2a3f5f"
            },
            "error_y": {
             "color": "#2a3f5f"
            },
            "marker": {
             "line": {
              "color": "#E5ECF6",
              "width": 0.5
             },
             "pattern": {
              "fillmode": "overlay",
              "size": 10,
              "solidity": 0.2
             }
            },
            "type": "bar"
           }
          ],
          "barpolar": [
           {
            "marker": {
             "line": {
              "color": "#E5ECF6",
              "width": 0.5
             },
             "pattern": {
              "fillmode": "overlay",
              "size": 10,
              "solidity": 0.2
             }
            },
            "type": "barpolar"
           }
          ],
          "carpet": [
           {
            "aaxis": {
             "endlinecolor": "#2a3f5f",
             "gridcolor": "white",
             "linecolor": "white",
             "minorgridcolor": "white",
             "startlinecolor": "#2a3f5f"
            },
            "baxis": {
             "endlinecolor": "#2a3f5f",
             "gridcolor": "white",
             "linecolor": "white",
             "minorgridcolor": "white",
             "startlinecolor": "#2a3f5f"
            },
            "type": "carpet"
           }
          ],
          "choropleth": [
           {
            "colorbar": {
             "outlinewidth": 0,
             "ticks": ""
            },
            "type": "choropleth"
           }
          ],
          "contour": [
           {
            "colorbar": {
             "outlinewidth": 0,
             "ticks": ""
            },
            "colorscale": [
             [
              0,
              "#0d0887"
             ],
             [
              0.1111111111111111,
              "#46039f"
             ],
             [
              0.2222222222222222,
              "#7201a8"
             ],
             [
              0.3333333333333333,
              "#9c179e"
             ],
             [
              0.4444444444444444,
              "#bd3786"
             ],
             [
              0.5555555555555556,
              "#d8576b"
             ],
             [
              0.6666666666666666,
              "#ed7953"
             ],
             [
              0.7777777777777778,
              "#fb9f3a"
             ],
             [
              0.8888888888888888,
              "#fdca26"
             ],
             [
              1,
              "#f0f921"
             ]
            ],
            "type": "contour"
           }
          ],
          "contourcarpet": [
           {
            "colorbar": {
             "outlinewidth": 0,
             "ticks": ""
            },
            "type": "contourcarpet"
           }
          ],
          "heatmap": [
           {
            "colorbar": {
             "outlinewidth": 0,
             "ticks": ""
            },
            "colorscale": [
             [
              0,
              "#0d0887"
             ],
             [
              0.1111111111111111,
              "#46039f"
             ],
             [
              0.2222222222222222,
              "#7201a8"
             ],
             [
              0.3333333333333333,
              "#9c179e"
             ],
             [
              0.4444444444444444,
              "#bd3786"
             ],
             [
              0.5555555555555556,
              "#d8576b"
             ],
             [
              0.6666666666666666,
              "#ed7953"
             ],
             [
              0.7777777777777778,
              "#fb9f3a"
             ],
             [
              0.8888888888888888,
              "#fdca26"
             ],
             [
              1,
              "#f0f921"
             ]
            ],
            "type": "heatmap"
           }
          ],
          "heatmapgl": [
           {
            "colorbar": {
             "outlinewidth": 0,
             "ticks": ""
            },
            "colorscale": [
             [
              0,
              "#0d0887"
             ],
             [
              0.1111111111111111,
              "#46039f"
             ],
             [
              0.2222222222222222,
              "#7201a8"
             ],
             [
              0.3333333333333333,
              "#9c179e"
             ],
             [
              0.4444444444444444,
              "#bd3786"
             ],
             [
              0.5555555555555556,
              "#d8576b"
             ],
             [
              0.6666666666666666,
              "#ed7953"
             ],
             [
              0.7777777777777778,
              "#fb9f3a"
             ],
             [
              0.8888888888888888,
              "#fdca26"
             ],
             [
              1,
              "#f0f921"
             ]
            ],
            "type": "heatmapgl"
           }
          ],
          "histogram": [
           {
            "marker": {
             "pattern": {
              "fillmode": "overlay",
              "size": 10,
              "solidity": 0.2
             }
            },
            "type": "histogram"
           }
          ],
          "histogram2d": [
           {
            "colorbar": {
             "outlinewidth": 0,
             "ticks": ""
            },
            "colorscale": [
             [
              0,
              "#0d0887"
             ],
             [
              0.1111111111111111,
              "#46039f"
             ],
             [
              0.2222222222222222,
              "#7201a8"
             ],
             [
              0.3333333333333333,
              "#9c179e"
             ],
             [
              0.4444444444444444,
              "#bd3786"
             ],
             [
              0.5555555555555556,
              "#d8576b"
             ],
             [
              0.6666666666666666,
              "#ed7953"
             ],
             [
              0.7777777777777778,
              "#fb9f3a"
             ],
             [
              0.8888888888888888,
              "#fdca26"
             ],
             [
              1,
              "#f0f921"
             ]
            ],
            "type": "histogram2d"
           }
          ],
          "histogram2dcontour": [
           {
            "colorbar": {
             "outlinewidth": 0,
             "ticks": ""
            },
            "colorscale": [
             [
              0,
              "#0d0887"
             ],
             [
              0.1111111111111111,
              "#46039f"
             ],
             [
              0.2222222222222222,
              "#7201a8"
             ],
             [
              0.3333333333333333,
              "#9c179e"
             ],
             [
              0.4444444444444444,
              "#bd3786"
             ],
             [
              0.5555555555555556,
              "#d8576b"
             ],
             [
              0.6666666666666666,
              "#ed7953"
             ],
             [
              0.7777777777777778,
              "#fb9f3a"
             ],
             [
              0.8888888888888888,
              "#fdca26"
             ],
             [
              1,
              "#f0f921"
             ]
            ],
            "type": "histogram2dcontour"
           }
          ],
          "mesh3d": [
           {
            "colorbar": {
             "outlinewidth": 0,
             "ticks": ""
            },
            "type": "mesh3d"
           }
          ],
          "parcoords": [
           {
            "line": {
             "colorbar": {
              "outlinewidth": 0,
              "ticks": ""
             }
            },
            "type": "parcoords"
           }
          ],
          "pie": [
           {
            "automargin": true,
            "type": "pie"
           }
          ],
          "scatter": [
           {
            "fillpattern": {
             "fillmode": "overlay",
             "size": 10,
             "solidity": 0.2
            },
            "type": "scatter"
           }
          ],
          "scatter3d": [
           {
            "line": {
             "colorbar": {
              "outlinewidth": 0,
              "ticks": ""
             }
            },
            "marker": {
             "colorbar": {
              "outlinewidth": 0,
              "ticks": ""
             }
            },
            "type": "scatter3d"
           }
          ],
          "scattercarpet": [
           {
            "marker": {
             "colorbar": {
              "outlinewidth": 0,
              "ticks": ""
             }
            },
            "type": "scattercarpet"
           }
          ],
          "scattergeo": [
           {
            "marker": {
             "colorbar": {
              "outlinewidth": 0,
              "ticks": ""
             }
            },
            "type": "scattergeo"
           }
          ],
          "scattergl": [
           {
            "marker": {
             "colorbar": {
              "outlinewidth": 0,
              "ticks": ""
             }
            },
            "type": "scattergl"
           }
          ],
          "scattermapbox": [
           {
            "marker": {
             "colorbar": {
              "outlinewidth": 0,
              "ticks": ""
             }
            },
            "type": "scattermapbox"
           }
          ],
          "scatterpolar": [
           {
            "marker": {
             "colorbar": {
              "outlinewidth": 0,
              "ticks": ""
             }
            },
            "type": "scatterpolar"
           }
          ],
          "scatterpolargl": [
           {
            "marker": {
             "colorbar": {
              "outlinewidth": 0,
              "ticks": ""
             }
            },
            "type": "scatterpolargl"
           }
          ],
          "scatterternary": [
           {
            "marker": {
             "colorbar": {
              "outlinewidth": 0,
              "ticks": ""
             }
            },
            "type": "scatterternary"
           }
          ],
          "surface": [
           {
            "colorbar": {
             "outlinewidth": 0,
             "ticks": ""
            },
            "colorscale": [
             [
              0,
              "#0d0887"
             ],
             [
              0.1111111111111111,
              "#46039f"
             ],
             [
              0.2222222222222222,
              "#7201a8"
             ],
             [
              0.3333333333333333,
              "#9c179e"
             ],
             [
              0.4444444444444444,
              "#bd3786"
             ],
             [
              0.5555555555555556,
              "#d8576b"
             ],
             [
              0.6666666666666666,
              "#ed7953"
             ],
             [
              0.7777777777777778,
              "#fb9f3a"
             ],
             [
              0.8888888888888888,
              "#fdca26"
             ],
             [
              1,
              "#f0f921"
             ]
            ],
            "type": "surface"
           }
          ],
          "table": [
           {
            "cells": {
             "fill": {
              "color": "#EBF0F8"
             },
             "line": {
              "color": "white"
             }
            },
            "header": {
             "fill": {
              "color": "#C8D4E3"
             },
             "line": {
              "color": "white"
             }
            },
            "type": "table"
           }
          ]
         },
         "layout": {
          "annotationdefaults": {
           "arrowcolor": "#2a3f5f",
           "arrowhead": 0,
           "arrowwidth": 1
          },
          "autotypenumbers": "strict",
          "coloraxis": {
           "colorbar": {
            "outlinewidth": 0,
            "ticks": ""
           }
          },
          "colorscale": {
           "diverging": [
            [
             0,
             "#8e0152"
            ],
            [
             0.1,
             "#c51b7d"
            ],
            [
             0.2,
             "#de77ae"
            ],
            [
             0.3,
             "#f1b6da"
            ],
            [
             0.4,
             "#fde0ef"
            ],
            [
             0.5,
             "#f7f7f7"
            ],
            [
             0.6,
             "#e6f5d0"
            ],
            [
             0.7,
             "#b8e186"
            ],
            [
             0.8,
             "#7fbc41"
            ],
            [
             0.9,
             "#4d9221"
            ],
            [
             1,
             "#276419"
            ]
           ],
           "sequential": [
            [
             0,
             "#0d0887"
            ],
            [
             0.1111111111111111,
             "#46039f"
            ],
            [
             0.2222222222222222,
             "#7201a8"
            ],
            [
             0.3333333333333333,
             "#9c179e"
            ],
            [
             0.4444444444444444,
             "#bd3786"
            ],
            [
             0.5555555555555556,
             "#d8576b"
            ],
            [
             0.6666666666666666,
             "#ed7953"
            ],
            [
             0.7777777777777778,
             "#fb9f3a"
            ],
            [
             0.8888888888888888,
             "#fdca26"
            ],
            [
             1,
             "#f0f921"
            ]
           ],
           "sequentialminus": [
            [
             0,
             "#0d0887"
            ],
            [
             0.1111111111111111,
             "#46039f"
            ],
            [
             0.2222222222222222,
             "#7201a8"
            ],
            [
             0.3333333333333333,
             "#9c179e"
            ],
            [
             0.4444444444444444,
             "#bd3786"
            ],
            [
             0.5555555555555556,
             "#d8576b"
            ],
            [
             0.6666666666666666,
             "#ed7953"
            ],
            [
             0.7777777777777778,
             "#fb9f3a"
            ],
            [
             0.8888888888888888,
             "#fdca26"
            ],
            [
             1,
             "#f0f921"
            ]
           ]
          },
          "colorway": [
           "#636efa",
           "#EF553B",
           "#00cc96",
           "#ab63fa",
           "#FFA15A",
           "#19d3f3",
           "#FF6692",
           "#B6E880",
           "#FF97FF",
           "#FECB52"
          ],
          "font": {
           "color": "#2a3f5f"
          },
          "geo": {
           "bgcolor": "white",
           "lakecolor": "white",
           "landcolor": "#E5ECF6",
           "showlakes": true,
           "showland": true,
           "subunitcolor": "white"
          },
          "hoverlabel": {
           "align": "left"
          },
          "hovermode": "closest",
          "mapbox": {
           "style": "light"
          },
          "paper_bgcolor": "white",
          "plot_bgcolor": "#E5ECF6",
          "polar": {
           "angularaxis": {
            "gridcolor": "white",
            "linecolor": "white",
            "ticks": ""
           },
           "bgcolor": "#E5ECF6",
           "radialaxis": {
            "gridcolor": "white",
            "linecolor": "white",
            "ticks": ""
           }
          },
          "scene": {
           "xaxis": {
            "backgroundcolor": "#E5ECF6",
            "gridcolor": "white",
            "gridwidth": 2,
            "linecolor": "white",
            "showbackground": true,
            "ticks": "",
            "zerolinecolor": "white"
           },
           "yaxis": {
            "backgroundcolor": "#E5ECF6",
            "gridcolor": "white",
            "gridwidth": 2,
            "linecolor": "white",
            "showbackground": true,
            "ticks": "",
            "zerolinecolor": "white"
           },
           "zaxis": {
            "backgroundcolor": "#E5ECF6",
            "gridcolor": "white",
            "gridwidth": 2,
            "linecolor": "white",
            "showbackground": true,
            "ticks": "",
            "zerolinecolor": "white"
           }
          },
          "shapedefaults": {
           "line": {
            "color": "#2a3f5f"
           }
          },
          "ternary": {
           "aaxis": {
            "gridcolor": "white",
            "linecolor": "white",
            "ticks": ""
           },
           "baxis": {
            "gridcolor": "white",
            "linecolor": "white",
            "ticks": ""
           },
           "bgcolor": "#E5ECF6",
           "caxis": {
            "gridcolor": "white",
            "linecolor": "white",
            "ticks": ""
           }
          },
          "title": {
           "x": 0.05
          },
          "xaxis": {
           "automargin": true,
           "gridcolor": "white",
           "linecolor": "white",
           "ticks": "",
           "title": {
            "standoff": 15
           },
           "zerolinecolor": "white",
           "zerolinewidth": 2
          },
          "yaxis": {
           "automargin": true,
           "gridcolor": "white",
           "linecolor": "white",
           "ticks": "",
           "title": {
            "standoff": 15
           },
           "zerolinecolor": "white",
           "zerolinewidth": 2
          }
         }
        },
        "xaxis": {
         "anchor": "y",
         "domain": [
          0,
          1
         ],
         "title": {
          "text": "0"
         }
        },
        "yaxis": {
         "anchor": "x",
         "domain": [
          0,
          1
         ],
         "title": {
          "text": "1"
         }
        }
       }
      }
     },
     "metadata": {},
     "output_type": "display_data"
    },
    {
     "data": {
      "application/vnd.plotly.v1+json": {
       "config": {
        "plotlyServerURL": "https://plot.ly"
       },
       "data": [
        {
         "hovertemplate": "color=D20220723T195414m434<br>0=%{x}<br>1=%{y}<extra></extra>",
         "legendgroup": "D20220723T195414m434",
         "marker": {
          "color": "#636efa",
          "symbol": "circle"
         },
         "mode": "markers",
         "name": "D20220723T195414m434",
         "orientation": "v",
         "showlegend": true,
         "type": "scatter",
         "x": [
          -7.345164775848389,
          8.722734451293945,
          3.184507131576538,
          -2.1129262447357178,
          -1.5084538459777832,
          -7.2436933517456055,
          4.874417304992676,
          -1.8918895721435547,
          -9.78183364868164,
          -1.2304199934005737,
          -7.520073413848877,
          -4.784538269042969,
          -0.8293365240097046,
          -6.9625372886657715,
          -10.201716423034668,
          -2.839035749435425,
          -7.515514850616455,
          7.2910027503967285,
          -7.889986991882324,
          8.957783699035645,
          4.890259742736816,
          -10.194693565368652,
          -1.825773000717163,
          7.556984901428223,
          12.66717529296875,
          -1.5782148838043213,
          -2.2253847122192383
         ],
         "xaxis": "x",
         "y": [
          -11.33122444152832,
          -9.164241790771484,
          -3.1015524864196777,
          -5.990159511566162,
          -13.412585258483887,
          -10.809786796569824,
          -8.2498197555542,
          -14.077960014343262,
          -11.86740779876709,
          -4.445701599121094,
          -15.761555671691895,
          -10.319406509399414,
          -12.79789924621582,
          -11.6756010055542,
          -9.505377769470215,
          -13.503588676452637,
          -10.52306079864502,
          -14.998175621032715,
          -10.937171936035156,
          -1.5995014905929565,
          -9.324214935302734,
          -11.643553733825684,
          -18.462385177612305,
          -3.9629013538360596,
          5.110412120819092,
          -12.806488990783691,
          -15.616639137268066
         ],
         "yaxis": "y"
        },
        {
         "hovertemplate": "color=D20220723T200740m009<br>0=%{x}<br>1=%{y}<extra></extra>",
         "legendgroup": "D20220723T200740m009",
         "marker": {
          "color": "#EF553B",
          "symbol": "circle"
         },
         "mode": "markers",
         "name": "D20220723T200740m009",
         "orientation": "v",
         "showlegend": true,
         "type": "scatter",
         "x": [
          5.9699387550354,
          7.482914447784424,
          -0.46976324915885925,
          2.161928415298462,
          4.55088996887207,
          -4.979523181915283,
          6.9321513175964355,
          -0.9298497438430786,
          10.50880241394043,
          -4.00145959854126,
          11.014116287231445,
          6.092688083648682,
          -6.371974468231201,
          -9.338829040527344,
          6.490004062652588,
          -11.181135177612305,
          0.6571041345596313,
          10.842798233032227,
          4.241700172424316,
          3.3503947257995605,
          0.4438430368900299,
          1.5871769189834595,
          -3.306917428970337,
          11.394927978515625,
          10.332230567932129,
          11.297467231750488,
          6.181668758392334
         ],
         "xaxis": "x",
         "y": [
          4.3929829597473145,
          3.7705111503601074,
          -1.8069511651992798,
          11.277067184448242,
          15.642659187316895,
          11.438359260559082,
          9.38591194152832,
          5.9375715255737305,
          12.829275131225586,
          -3.9971671104431152,
          -4.58322286605835,
          10.01014518737793,
          -12.456562042236328,
          6.15758752822876,
          2.8339502811431885,
          -6.527067184448242,
          -1.2368415594100952,
          12.612313270568848,
          7.444953918457031,
          16.278030395507812,
          7.455330848693848,
          -5.107966423034668,
          7.772347450256348,
          3.724252939224243,
          8.784211158752441,
          -6.4508256912231445,
          -14.570645332336426
         ],
         "yaxis": "y"
        },
        {
         "hovertemplate": "color=D20220723T202041m463<br>0=%{x}<br>1=%{y}<extra></extra>",
         "legendgroup": "D20220723T202041m463",
         "marker": {
          "color": "#00cc96",
          "symbol": "circle"
         },
         "mode": "markers",
         "name": "D20220723T202041m463",
         "orientation": "v",
         "showlegend": true,
         "type": "scatter",
         "x": [
          3.917518138885498,
          -4.506115436553955,
          -8.37062931060791,
          -4.251016616821289,
          2.6629068851470947,
          -2.283879518508911,
          -4.046569347381592,
          -3.034698724746704,
          5.573863983154297,
          -2.22342848777771,
          -4.086601257324219,
          10.280627250671387,
          -8.28786849975586,
          -5.7800703048706055,
          -8.284342765808105,
          4.8789777755737305,
          0.4723794460296631
         ],
         "xaxis": "x",
         "y": [
          13.351300239562988,
          14.679190635681152,
          3.1110830307006836,
          6.196074962615967,
          -19.057064056396484,
          9.73139476776123,
          4.355767250061035,
          10.575322151184082,
          -6.821763515472412,
          4.427511215209961,
          14.757940292358398,
          -2.7466602325439453,
          9.952614784240723,
          14.171817779541016,
          1.0427483320236206,
          9.784110069274902,
          13.755810737609863
         ],
         "yaxis": "y"
        },
        {
         "hovertemplate": "color=D20220723T202257m087<br>0=%{x}<br>1=%{y}<extra></extra>",
         "legendgroup": "D20220723T202257m087",
         "marker": {
          "color": "#ab63fa",
          "symbol": "circle"
         },
         "mode": "markers",
         "name": "D20220723T202257m087",
         "orientation": "v",
         "showlegend": true,
         "type": "scatter",
         "x": [
          5.4843220710754395,
          -2.0068531036376953,
          -4.918286323547363,
          -3.984567642211914,
          -1.1682883501052856,
          11.105417251586914,
          9.822836875915527,
          -2.499251365661621,
          -7.83211088180542,
          -5.081303596496582,
          -2.6904470920562744,
          -7.559762954711914,
          -4.866050720214844,
          6.8472490310668945,
          3.8687639236450195,
          -9.111437797546387,
          2.0051119327545166,
          -5.147248268127441,
          3.5469248294830322,
          -4.422121524810791,
          -7.230335712432861,
          -0.4855680465698242,
          -5.304283142089844,
          -7.88472318649292,
          -1.6610832214355469,
          -2.7942428588867188,
          -4.985622406005859,
          -6.873206615447998,
          -7.544743537902832,
          -3.3205580711364746,
          -7.18789005279541,
          -5.1994805335998535
         ],
         "xaxis": "x",
         "y": [
          4.8999481201171875,
          -0.39596548676490784,
          -17.3369083404541,
          3.516892671585083,
          -5.359915733337402,
          5.310348987579346,
          9.213528633117676,
          -4.652390956878662,
          8.452249526977539,
          -2.5799570083618164,
          -1.8355627059936523,
          7.009009838104248,
          -1.966556429862976,
          0.7919041514396667,
          4.862086296081543,
          3.6114416122436523,
          5.624119281768799,
          7.838934898376465,
          6.731130599975586,
          -2.622363328933716,
          -8.270956993103027,
          -4.277182579040527,
          -8.151179313659668,
          5.557648181915283,
          -8.69310188293457,
          -9.387735366821289,
          -15.179996490478516,
          -7.918200492858887,
          4.483875751495361,
          -5.621278762817383,
          3.794316053390503,
          -12.365351676940918
         ],
         "yaxis": "y"
        },
        {
         "hovertemplate": "color=D20220723T203621m070<br>0=%{x}<br>1=%{y}<extra></extra>",
         "legendgroup": "D20220723T203621m070",
         "marker": {
          "color": "#FFA15A",
          "symbol": "circle"
         },
         "mode": "markers",
         "name": "D20220723T203621m070",
         "orientation": "v",
         "showlegend": true,
         "type": "scatter",
         "x": [
          -9.095836639404297,
          3.9965031147003174,
          -5.322536468505859,
          6.33790922164917,
          -5.726053237915039,
          -7.132546901702881,
          7.3686957359313965,
          -1.8388432264328003,
          6.781227111816406,
          10.531394958496094,
          -3.695035219192505,
          -0.8778858780860901,
          2.3997678756713867,
          7.0774641036987305,
          2.961016893386841,
          11.1912260055542,
          5.843503475189209,
          8.062182426452637,
          -7.073132514953613,
          -0.4711037874221802,
          -6.514455795288086,
          -5.512750148773193,
          9.039444923400879,
          -6.666457176208496,
          2.863737106323242,
          -6.0413737297058105,
          0.2168106883764267
         ],
         "xaxis": "x",
         "y": [
          4.136490821838379,
          -8.512517929077148,
          8.685747146606445,
          13.970440864562988,
          11.018702507019043,
          4.519942283630371,
          6.334664821624756,
          -9.573979377746582,
          -2.481997489929199,
          6.700444221496582,
          -17.365726470947266,
          -9.823382377624512,
          -4.38617467880249,
          5.16723108291626,
          15.688070297241211,
          6.24043083190918,
          5.576114654541016,
          5.75970458984375,
          -6.6181135177612305,
          3.69517183303833,
          7.477025508880615,
          11.878975868225098,
          2.0094661712646484,
          -13.92162799835205,
          -8.288586616516113,
          -9.442144393920898,
          -14.37598705291748
         ],
         "yaxis": "y"
        },
        {
         "hovertemplate": "color=D20220723T204111m278<br>0=%{x}<br>1=%{y}<extra></extra>",
         "legendgroup": "D20220723T204111m278",
         "marker": {
          "color": "#19d3f3",
          "symbol": "circle"
         },
         "mode": "markers",
         "name": "D20220723T204111m278",
         "orientation": "v",
         "showlegend": true,
         "type": "scatter",
         "x": [
          2.123321771621704,
          2.031568765640259,
          -6.6791510581970215,
          1.7694965600967407,
          8.753860473632812,
          8.288138389587402,
          7.601192951202393,
          11.726680755615234,
          -2.1939446926116943,
          -5.8452630043029785,
          -5.37917423248291,
          7.600569725036621,
          1.279154658317566,
          -5.959278583526611,
          6.0866289138793945,
          -1.891939640045166,
          5.970298767089844,
          6.084013938903809,
          -0.9033922553062439,
          -0.41504722833633423,
          -1.3413463830947876,
          -2.1555755138397217,
          -4.623461723327637,
          3.977884292602539,
          -8.174727439880371,
          3.4990975856781006,
          4.206414699554443,
          -1.2143515348434448,
          -6.993497371673584,
          -3.8722610473632812,
          -1.3398908376693726,
          4.436013698577881
         ],
         "xaxis": "x",
         "y": [
          -17.943971633911133,
          2.889754056930542,
          12.128717422485352,
          8.50488567352295,
          1.2543162107467651,
          14.187956809997559,
          13.43403148651123,
          5.688102722167969,
          12.092185020446777,
          -13.426812171936035,
          -17.21152687072754,
          13.522439002990723,
          7.978947639465332,
          7.775035858154297,
          -8.789701461791992,
          7.949429988861084,
          12.478181838989258,
          9.53219985961914,
          3.979858875274658,
          4.7098236083984375,
          -1.45280122756958,
          5.872586250305176,
          13.940447807312012,
          -10.68478775024414,
          15.304442405700684,
          9.64767074584961,
          5.930372714996338,
          14.600165367126465,
          9.327411651611328,
          -9.700400352478027,
          -15.307931900024414,
          -6.153595924377441
         ],
         "yaxis": "y"
        },
        {
         "hovertemplate": "color=D20220723T204240m923<br>0=%{x}<br>1=%{y}<extra></extra>",
         "legendgroup": "D20220723T204240m923",
         "marker": {
          "color": "#FF6692",
          "symbol": "circle"
         },
         "mode": "markers",
         "name": "D20220723T204240m923",
         "orientation": "v",
         "showlegend": true,
         "type": "scatter",
         "x": [
          -6.085988998413086,
          -1.4676145315170288,
          -9.453639030456543,
          -7.113818168640137,
          5.085860252380371,
          10.70835018157959,
          -10.99710750579834,
          -8.465224266052246,
          -8.421812057495117,
          5.717085838317871,
          -6.935230731964111,
          2.577847719192505,
          -8.137264251708984,
          -8.30588436126709,
          -0.7297422885894775,
          11.531622886657715,
          -6.23715353012085,
          -5.08674430847168,
          2.24239182472229,
          0.7431821823120117,
          2.543538808822632,
          -2.468106985092163,
          -2.4443933963775635,
          2.3911776542663574,
          -5.973859786987305,
          2.2200582027435303,
          -0.5457733273506165,
          11.561514854431152,
          1.1190028190612793,
          -11.57585620880127,
          -5.505599021911621,
          9.046339988708496
         ],
         "xaxis": "x",
         "y": [
          8.831748962402344,
          0.4841909408569336,
          14.892399787902832,
          15.80858325958252,
          5.966060161590576,
          9.422154426574707,
          -6.270143985748291,
          1.5487626791000366,
          -5.68462610244751,
          -7.76080322265625,
          11.525932312011719,
          -4.83685302734375,
          13.329684257507324,
          12.915068626403809,
          -15.874300956726074,
          11.812715530395508,
          6.5587639808654785,
          5.465055465698242,
          -18.300304412841797,
          1.0502837896347046,
          9.958334922790527,
          8.611518859863281,
          13.518619537353516,
          3.422050714492798,
          6.023948669433594,
          -6.341081619262695,
          8.93547534942627,
          -3.9979560375213623,
          2.3127386569976807,
          -7.093479156494141,
          6.744523525238037,
          0.4776749312877655
         ],
         "yaxis": "y"
        },
        {
         "hovertemplate": "color=D20220723T205606m183<br>0=%{x}<br>1=%{y}<extra></extra>",
         "legendgroup": "D20220723T205606m183",
         "marker": {
          "color": "#B6E880",
          "symbol": "circle"
         },
         "mode": "markers",
         "name": "D20220723T205606m183",
         "orientation": "v",
         "showlegend": true,
         "type": "scatter",
         "x": [
          7.963630199432373,
          -0.8996053338050842,
          4.806120872497559,
          3.243755578994751,
          3.3819775581359863,
          -3.9120025634765625,
          3.5490317344665527,
          4.99361515045166,
          2.8133609294891357,
          -8.680068969726562,
          -9.32259750366211,
          8.475168228149414,
          -1.0208536386489868,
          0.8619868755340576,
          -6.381460189819336,
          -1.5502554178237915,
          6.604167938232422,
          8.278730392456055,
          6.873816967010498,
          -3.292435884475708,
          -1.0683096647262573,
          4.473769187927246,
          -7.4121413230896,
          9.531477928161621,
          2.3452067375183105,
          -0.1387501060962677,
          -8.001913070678711,
          3.537773847579956,
          6.337284564971924,
          3.0835824012756348,
          4.32138729095459,
          3.242302417755127
         ],
         "xaxis": "x",
         "y": [
          4.63201904296875,
          -8.270984649658203,
          7.81182336807251,
          8.279648780822754,
          12.476104736328125,
          2.393048048019409,
          10.557697296142578,
          -3.5326015949249268,
          13.083189010620117,
          -13.836074829101562,
          -10.956165313720703,
          -3.805511236190796,
          -6.736923694610596,
          -9.269857406616211,
          10.38359260559082,
          15.585472106933594,
          -5.292664527893066,
          14.76500415802002,
          6.69434118270874,
          -12.23102855682373,
          13.855819702148438,
          -4.251467227935791,
          16.1680965423584,
          -0.6023927330970764,
          -17.042695999145508,
          -8.631585121154785,
          9.721465110778809,
          -6.097000598907471,
          -10.620055198669434,
          4.762947082519531,
          -11.97846794128418,
          -0.05115519464015961
         ],
         "yaxis": "y"
        },
        {
         "hovertemplate": "color=D20220723T212734m674<br>0=%{x}<br>1=%{y}<extra></extra>",
         "legendgroup": "D20220723T212734m674",
         "marker": {
          "color": "#FF97FF",
          "symbol": "circle"
         },
         "mode": "markers",
         "name": "D20220723T212734m674",
         "orientation": "v",
         "showlegend": true,
         "type": "scatter",
         "x": [
          6.098527908325195,
          7.48103666305542,
          -5.685734748840332,
          -4.194936752319336,
          5.6311845779418945,
          -1.796922206878662,
          7.790411472320557,
          7.074478626251221,
          8.17292308807373,
          -0.03510617837309837,
          -5.390607833862305,
          6.79000997543335,
          -10.17013168334961,
          -0.08205084502696991,
          10.103656768798828,
          -6.325000762939453,
          -0.7205808162689209,
          3.1656534671783447,
          -5.050770282745361,
          -3.2702364921569824,
          9.152783393859863,
          -0.12519770860671997,
          9.68221664428711,
          1.7127501964569092,
          11.06594467163086,
          -6.598155975341797,
          1.2142149209976196,
          4.667348384857178,
          -6.402283668518066,
          3.289738178253174,
          6.564032554626465,
          0.6519981622695923
         ],
         "xaxis": "x",
         "y": [
          -14.311391830444336,
          -11.203800201416016,
          2.560514211654663,
          -11.397514343261719,
          -15.041206359863281,
          -10.475404739379883,
          -12.719780921936035,
          -9.139613151550293,
          -7.543283462524414,
          -13.941808700561523,
          -12.150053024291992,
          -8.503125190734863,
          8.571039199829102,
          -7.160613536834717,
          -0.5722333788871765,
          0.7215624451637268,
          -14.20433235168457,
          -12.40849494934082,
          -6.239851474761963,
          3.069000482559204,
          -5.321987628936768,
          -11.980592727661133,
          -4.079766750335693,
          -18.164255142211914,
          -6.532073497772217,
          1.1695835590362549,
          -6.860738277435303,
          -11.174036979675293,
          -10.913565635681152,
          -4.31073522567749,
          -11.152355194091797,
          -6.764161586761475
         ],
         "yaxis": "y"
        },
        {
         "hovertemplate": "color=D20220723T215748m724<br>0=%{x}<br>1=%{y}<extra></extra>",
         "legendgroup": "D20220723T215748m724",
         "marker": {
          "color": "#FECB52",
          "symbol": "circle"
         },
         "mode": "markers",
         "name": "D20220723T215748m724",
         "orientation": "v",
         "showlegend": true,
         "type": "scatter",
         "x": [
          6.373637676239014,
          3.573761224746704,
          -0.7059851288795471,
          -0.1143723577260971,
          -2.6306004524230957,
          9.129387855529785,
          3.6263365745544434,
          -3.571449041366577,
          -6.352323055267334,
          0.4543505609035492,
          8.320743560791016,
          7.217788219451904,
          -6.315904140472412,
          4.727193355560303,
          -4.860989093780518,
          0.7454466223716736,
          -7.934004783630371,
          4.5461626052856445,
          9.245294570922852,
          3.962355852127075,
          2.7360267639160156,
          3.6939845085144043,
          10.040303230285645,
          -7.488748073577881,
          8.823222160339355,
          3.379668712615967,
          10.426888465881348,
          -9.194382667541504,
          4.734014511108398
         ],
         "xaxis": "x",
         "y": [
          5.779201030731201,
          11.05688190460205,
          11.710967063903809,
          -10.77375316619873,
          -2.146711587905884,
          6.633883953094482,
          2.249584197998047,
          -13.684545516967773,
          15.857285499572754,
          10.755242347717285,
          -10.42729663848877,
          -9.805548667907715,
          -8.288586616516113,
          1.2045338153839111,
          2.2948365211486816,
          6.5828680992126465,
          -12.05571460723877,
          -6.971340179443359,
          -5.159762859344482,
          9.52888011932373,
          8.809351921081543,
          1.8571664094924927,
          6.309756755828857,
          7.469297885894775,
          5.154799938201904,
          5.684351444244385,
          5.7172088623046875,
          -9.761026382446289,
          1.778039574623108
         ],
         "yaxis": "y"
        }
       ],
       "layout": {
        "legend": {
         "title": {
          "text": "color"
         },
         "tracegroupgap": 0
        },
        "margin": {
         "t": 60
        },
        "template": {
         "data": {
          "bar": [
           {
            "error_x": {
             "color": "#2a3f5f"
            },
            "error_y": {
             "color": "#2a3f5f"
            },
            "marker": {
             "line": {
              "color": "#E5ECF6",
              "width": 0.5
             },
             "pattern": {
              "fillmode": "overlay",
              "size": 10,
              "solidity": 0.2
             }
            },
            "type": "bar"
           }
          ],
          "barpolar": [
           {
            "marker": {
             "line": {
              "color": "#E5ECF6",
              "width": 0.5
             },
             "pattern": {
              "fillmode": "overlay",
              "size": 10,
              "solidity": 0.2
             }
            },
            "type": "barpolar"
           }
          ],
          "carpet": [
           {
            "aaxis": {
             "endlinecolor": "#2a3f5f",
             "gridcolor": "white",
             "linecolor": "white",
             "minorgridcolor": "white",
             "startlinecolor": "#2a3f5f"
            },
            "baxis": {
             "endlinecolor": "#2a3f5f",
             "gridcolor": "white",
             "linecolor": "white",
             "minorgridcolor": "white",
             "startlinecolor": "#2a3f5f"
            },
            "type": "carpet"
           }
          ],
          "choropleth": [
           {
            "colorbar": {
             "outlinewidth": 0,
             "ticks": ""
            },
            "type": "choropleth"
           }
          ],
          "contour": [
           {
            "colorbar": {
             "outlinewidth": 0,
             "ticks": ""
            },
            "colorscale": [
             [
              0,
              "#0d0887"
             ],
             [
              0.1111111111111111,
              "#46039f"
             ],
             [
              0.2222222222222222,
              "#7201a8"
             ],
             [
              0.3333333333333333,
              "#9c179e"
             ],
             [
              0.4444444444444444,
              "#bd3786"
             ],
             [
              0.5555555555555556,
              "#d8576b"
             ],
             [
              0.6666666666666666,
              "#ed7953"
             ],
             [
              0.7777777777777778,
              "#fb9f3a"
             ],
             [
              0.8888888888888888,
              "#fdca26"
             ],
             [
              1,
              "#f0f921"
             ]
            ],
            "type": "contour"
           }
          ],
          "contourcarpet": [
           {
            "colorbar": {
             "outlinewidth": 0,
             "ticks": ""
            },
            "type": "contourcarpet"
           }
          ],
          "heatmap": [
           {
            "colorbar": {
             "outlinewidth": 0,
             "ticks": ""
            },
            "colorscale": [
             [
              0,
              "#0d0887"
             ],
             [
              0.1111111111111111,
              "#46039f"
             ],
             [
              0.2222222222222222,
              "#7201a8"
             ],
             [
              0.3333333333333333,
              "#9c179e"
             ],
             [
              0.4444444444444444,
              "#bd3786"
             ],
             [
              0.5555555555555556,
              "#d8576b"
             ],
             [
              0.6666666666666666,
              "#ed7953"
             ],
             [
              0.7777777777777778,
              "#fb9f3a"
             ],
             [
              0.8888888888888888,
              "#fdca26"
             ],
             [
              1,
              "#f0f921"
             ]
            ],
            "type": "heatmap"
           }
          ],
          "heatmapgl": [
           {
            "colorbar": {
             "outlinewidth": 0,
             "ticks": ""
            },
            "colorscale": [
             [
              0,
              "#0d0887"
             ],
             [
              0.1111111111111111,
              "#46039f"
             ],
             [
              0.2222222222222222,
              "#7201a8"
             ],
             [
              0.3333333333333333,
              "#9c179e"
             ],
             [
              0.4444444444444444,
              "#bd3786"
             ],
             [
              0.5555555555555556,
              "#d8576b"
             ],
             [
              0.6666666666666666,
              "#ed7953"
             ],
             [
              0.7777777777777778,
              "#fb9f3a"
             ],
             [
              0.8888888888888888,
              "#fdca26"
             ],
             [
              1,
              "#f0f921"
             ]
            ],
            "type": "heatmapgl"
           }
          ],
          "histogram": [
           {
            "marker": {
             "pattern": {
              "fillmode": "overlay",
              "size": 10,
              "solidity": 0.2
             }
            },
            "type": "histogram"
           }
          ],
          "histogram2d": [
           {
            "colorbar": {
             "outlinewidth": 0,
             "ticks": ""
            },
            "colorscale": [
             [
              0,
              "#0d0887"
             ],
             [
              0.1111111111111111,
              "#46039f"
             ],
             [
              0.2222222222222222,
              "#7201a8"
             ],
             [
              0.3333333333333333,
              "#9c179e"
             ],
             [
              0.4444444444444444,
              "#bd3786"
             ],
             [
              0.5555555555555556,
              "#d8576b"
             ],
             [
              0.6666666666666666,
              "#ed7953"
             ],
             [
              0.7777777777777778,
              "#fb9f3a"
             ],
             [
              0.8888888888888888,
              "#fdca26"
             ],
             [
              1,
              "#f0f921"
             ]
            ],
            "type": "histogram2d"
           }
          ],
          "histogram2dcontour": [
           {
            "colorbar": {
             "outlinewidth": 0,
             "ticks": ""
            },
            "colorscale": [
             [
              0,
              "#0d0887"
             ],
             [
              0.1111111111111111,
              "#46039f"
             ],
             [
              0.2222222222222222,
              "#7201a8"
             ],
             [
              0.3333333333333333,
              "#9c179e"
             ],
             [
              0.4444444444444444,
              "#bd3786"
             ],
             [
              0.5555555555555556,
              "#d8576b"
             ],
             [
              0.6666666666666666,
              "#ed7953"
             ],
             [
              0.7777777777777778,
              "#fb9f3a"
             ],
             [
              0.8888888888888888,
              "#fdca26"
             ],
             [
              1,
              "#f0f921"
             ]
            ],
            "type": "histogram2dcontour"
           }
          ],
          "mesh3d": [
           {
            "colorbar": {
             "outlinewidth": 0,
             "ticks": ""
            },
            "type": "mesh3d"
           }
          ],
          "parcoords": [
           {
            "line": {
             "colorbar": {
              "outlinewidth": 0,
              "ticks": ""
             }
            },
            "type": "parcoords"
           }
          ],
          "pie": [
           {
            "automargin": true,
            "type": "pie"
           }
          ],
          "scatter": [
           {
            "fillpattern": {
             "fillmode": "overlay",
             "size": 10,
             "solidity": 0.2
            },
            "type": "scatter"
           }
          ],
          "scatter3d": [
           {
            "line": {
             "colorbar": {
              "outlinewidth": 0,
              "ticks": ""
             }
            },
            "marker": {
             "colorbar": {
              "outlinewidth": 0,
              "ticks": ""
             }
            },
            "type": "scatter3d"
           }
          ],
          "scattercarpet": [
           {
            "marker": {
             "colorbar": {
              "outlinewidth": 0,
              "ticks": ""
             }
            },
            "type": "scattercarpet"
           }
          ],
          "scattergeo": [
           {
            "marker": {
             "colorbar": {
              "outlinewidth": 0,
              "ticks": ""
             }
            },
            "type": "scattergeo"
           }
          ],
          "scattergl": [
           {
            "marker": {
             "colorbar": {
              "outlinewidth": 0,
              "ticks": ""
             }
            },
            "type": "scattergl"
           }
          ],
          "scattermapbox": [
           {
            "marker": {
             "colorbar": {
              "outlinewidth": 0,
              "ticks": ""
             }
            },
            "type": "scattermapbox"
           }
          ],
          "scatterpolar": [
           {
            "marker": {
             "colorbar": {
              "outlinewidth": 0,
              "ticks": ""
             }
            },
            "type": "scatterpolar"
           }
          ],
          "scatterpolargl": [
           {
            "marker": {
             "colorbar": {
              "outlinewidth": 0,
              "ticks": ""
             }
            },
            "type": "scatterpolargl"
           }
          ],
          "scatterternary": [
           {
            "marker": {
             "colorbar": {
              "outlinewidth": 0,
              "ticks": ""
             }
            },
            "type": "scatterternary"
           }
          ],
          "surface": [
           {
            "colorbar": {
             "outlinewidth": 0,
             "ticks": ""
            },
            "colorscale": [
             [
              0,
              "#0d0887"
             ],
             [
              0.1111111111111111,
              "#46039f"
             ],
             [
              0.2222222222222222,
              "#7201a8"
             ],
             [
              0.3333333333333333,
              "#9c179e"
             ],
             [
              0.4444444444444444,
              "#bd3786"
             ],
             [
              0.5555555555555556,
              "#d8576b"
             ],
             [
              0.6666666666666666,
              "#ed7953"
             ],
             [
              0.7777777777777778,
              "#fb9f3a"
             ],
             [
              0.8888888888888888,
              "#fdca26"
             ],
             [
              1,
              "#f0f921"
             ]
            ],
            "type": "surface"
           }
          ],
          "table": [
           {
            "cells": {
             "fill": {
              "color": "#EBF0F8"
             },
             "line": {
              "color": "white"
             }
            },
            "header": {
             "fill": {
              "color": "#C8D4E3"
             },
             "line": {
              "color": "white"
             }
            },
            "type": "table"
           }
          ]
         },
         "layout": {
          "annotationdefaults": {
           "arrowcolor": "#2a3f5f",
           "arrowhead": 0,
           "arrowwidth": 1
          },
          "autotypenumbers": "strict",
          "coloraxis": {
           "colorbar": {
            "outlinewidth": 0,
            "ticks": ""
           }
          },
          "colorscale": {
           "diverging": [
            [
             0,
             "#8e0152"
            ],
            [
             0.1,
             "#c51b7d"
            ],
            [
             0.2,
             "#de77ae"
            ],
            [
             0.3,
             "#f1b6da"
            ],
            [
             0.4,
             "#fde0ef"
            ],
            [
             0.5,
             "#f7f7f7"
            ],
            [
             0.6,
             "#e6f5d0"
            ],
            [
             0.7,
             "#b8e186"
            ],
            [
             0.8,
             "#7fbc41"
            ],
            [
             0.9,
             "#4d9221"
            ],
            [
             1,
             "#276419"
            ]
           ],
           "sequential": [
            [
             0,
             "#0d0887"
            ],
            [
             0.1111111111111111,
             "#46039f"
            ],
            [
             0.2222222222222222,
             "#7201a8"
            ],
            [
             0.3333333333333333,
             "#9c179e"
            ],
            [
             0.4444444444444444,
             "#bd3786"
            ],
            [
             0.5555555555555556,
             "#d8576b"
            ],
            [
             0.6666666666666666,
             "#ed7953"
            ],
            [
             0.7777777777777778,
             "#fb9f3a"
            ],
            [
             0.8888888888888888,
             "#fdca26"
            ],
            [
             1,
             "#f0f921"
            ]
           ],
           "sequentialminus": [
            [
             0,
             "#0d0887"
            ],
            [
             0.1111111111111111,
             "#46039f"
            ],
            [
             0.2222222222222222,
             "#7201a8"
            ],
            [
             0.3333333333333333,
             "#9c179e"
            ],
            [
             0.4444444444444444,
             "#bd3786"
            ],
            [
             0.5555555555555556,
             "#d8576b"
            ],
            [
             0.6666666666666666,
             "#ed7953"
            ],
            [
             0.7777777777777778,
             "#fb9f3a"
            ],
            [
             0.8888888888888888,
             "#fdca26"
            ],
            [
             1,
             "#f0f921"
            ]
           ]
          },
          "colorway": [
           "#636efa",
           "#EF553B",
           "#00cc96",
           "#ab63fa",
           "#FFA15A",
           "#19d3f3",
           "#FF6692",
           "#B6E880",
           "#FF97FF",
           "#FECB52"
          ],
          "font": {
           "color": "#2a3f5f"
          },
          "geo": {
           "bgcolor": "white",
           "lakecolor": "white",
           "landcolor": "#E5ECF6",
           "showlakes": true,
           "showland": true,
           "subunitcolor": "white"
          },
          "hoverlabel": {
           "align": "left"
          },
          "hovermode": "closest",
          "mapbox": {
           "style": "light"
          },
          "paper_bgcolor": "white",
          "plot_bgcolor": "#E5ECF6",
          "polar": {
           "angularaxis": {
            "gridcolor": "white",
            "linecolor": "white",
            "ticks": ""
           },
           "bgcolor": "#E5ECF6",
           "radialaxis": {
            "gridcolor": "white",
            "linecolor": "white",
            "ticks": ""
           }
          },
          "scene": {
           "xaxis": {
            "backgroundcolor": "#E5ECF6",
            "gridcolor": "white",
            "gridwidth": 2,
            "linecolor": "white",
            "showbackground": true,
            "ticks": "",
            "zerolinecolor": "white"
           },
           "yaxis": {
            "backgroundcolor": "#E5ECF6",
            "gridcolor": "white",
            "gridwidth": 2,
            "linecolor": "white",
            "showbackground": true,
            "ticks": "",
            "zerolinecolor": "white"
           },
           "zaxis": {
            "backgroundcolor": "#E5ECF6",
            "gridcolor": "white",
            "gridwidth": 2,
            "linecolor": "white",
            "showbackground": true,
            "ticks": "",
            "zerolinecolor": "white"
           }
          },
          "shapedefaults": {
           "line": {
            "color": "#2a3f5f"
           }
          },
          "ternary": {
           "aaxis": {
            "gridcolor": "white",
            "linecolor": "white",
            "ticks": ""
           },
           "baxis": {
            "gridcolor": "white",
            "linecolor": "white",
            "ticks": ""
           },
           "bgcolor": "#E5ECF6",
           "caxis": {
            "gridcolor": "white",
            "linecolor": "white",
            "ticks": ""
           }
          },
          "title": {
           "x": 0.05
          },
          "xaxis": {
           "automargin": true,
           "gridcolor": "white",
           "linecolor": "white",
           "ticks": "",
           "title": {
            "standoff": 15
           },
           "zerolinecolor": "white",
           "zerolinewidth": 2
          },
          "yaxis": {
           "automargin": true,
           "gridcolor": "white",
           "linecolor": "white",
           "ticks": "",
           "title": {
            "standoff": 15
           },
           "zerolinecolor": "white",
           "zerolinewidth": 2
          }
         }
        },
        "xaxis": {
         "anchor": "y",
         "domain": [
          0,
          1
         ],
         "title": {
          "text": "0"
         }
        },
        "yaxis": {
         "anchor": "x",
         "domain": [
          0,
          1
         ],
         "title": {
          "text": "1"
         }
        }
       }
      }
     },
     "metadata": {},
     "output_type": "display_data"
    }
   ],
   "source": [
    "X = anpa_small_feats\n",
    "Y = anpa_small_labels\n",
    "\n",
    "for i in [5, 10, 20, 30]:\n",
    "    X_embedded = TSNE(n_components=2,\n",
    "                    learning_rate='auto',\n",
    "                    init='random',\n",
    "                    perplexity=i).fit_transform(X)\n",
    "    fig = px.scatter(X_embedded, x=0, y=1, color=Y)\n",
    "    fig.show()"
   ]
  },
  {
   "cell_type": "code",
   "execution_count": 23,
   "metadata": {},
   "outputs": [],
   "source": [
    "from sklearn.cluster import KMeans\n",
    "\n",
    "km = KMeans(\n",
    "    n_clusters=3, init='random',\n",
    "    n_init=10, max_iter=300, \n",
    "    tol=1e-04, random_state=0\n",
    ")\n",
    "y_km = km.fit_predict(small_feats)"
   ]
  },
  {
   "cell_type": "code",
   "execution_count": 24,
   "metadata": {},
   "outputs": [
    {
     "ename": "IndexError",
     "evalue": "boolean index did not match indexed array along dimension 0; dimension is 287 but corresponding boolean dimension is 693",
     "output_type": "error",
     "traceback": [
      "\u001b[1;31m---------------------------------------------------------------------------\u001b[0m",
      "\u001b[1;31mIndexError\u001b[0m                                Traceback (most recent call last)",
      "\u001b[1;32m~\\AppData\\Local\\Temp\\ipykernel_17644\\946083222.py\u001b[0m in \u001b[0;36m<module>\u001b[1;34m\u001b[0m\n\u001b[0;32m      1\u001b[0m \u001b[1;31m# plot the 3 clusters\u001b[0m\u001b[1;33m\u001b[0m\u001b[1;33m\u001b[0m\u001b[0m\n\u001b[0;32m      2\u001b[0m plt.scatter(\n\u001b[1;32m----> 3\u001b[1;33m     \u001b[0mX\u001b[0m\u001b[1;33m[\u001b[0m\u001b[0my_km\u001b[0m \u001b[1;33m==\u001b[0m \u001b[1;36m0\u001b[0m\u001b[1;33m,\u001b[0m \u001b[1;36m0\u001b[0m\u001b[1;33m]\u001b[0m\u001b[1;33m,\u001b[0m \u001b[0mX\u001b[0m\u001b[1;33m[\u001b[0m\u001b[0my_km\u001b[0m \u001b[1;33m==\u001b[0m \u001b[1;36m0\u001b[0m\u001b[1;33m,\u001b[0m \u001b[1;36m1\u001b[0m\u001b[1;33m]\u001b[0m\u001b[1;33m,\u001b[0m\u001b[1;33m\u001b[0m\u001b[1;33m\u001b[0m\u001b[0m\n\u001b[0m\u001b[0;32m      4\u001b[0m     \u001b[0ms\u001b[0m\u001b[1;33m=\u001b[0m\u001b[1;36m50\u001b[0m\u001b[1;33m,\u001b[0m \u001b[0mc\u001b[0m\u001b[1;33m=\u001b[0m\u001b[1;34m'lightgreen'\u001b[0m\u001b[1;33m,\u001b[0m\u001b[1;33m\u001b[0m\u001b[1;33m\u001b[0m\u001b[0m\n\u001b[0;32m      5\u001b[0m     \u001b[0mmarker\u001b[0m\u001b[1;33m=\u001b[0m\u001b[1;34m's'\u001b[0m\u001b[1;33m,\u001b[0m \u001b[0medgecolor\u001b[0m\u001b[1;33m=\u001b[0m\u001b[1;34m'black'\u001b[0m\u001b[1;33m,\u001b[0m\u001b[1;33m\u001b[0m\u001b[1;33m\u001b[0m\u001b[0m\n",
      "\u001b[1;31mIndexError\u001b[0m: boolean index did not match indexed array along dimension 0; dimension is 287 but corresponding boolean dimension is 693"
     ]
    }
   ],
   "source": [
    "# plot the 3 clusters\n",
    "plt.scatter(\n",
    "    X[y_km == 0, 0], X[y_km == 0, 1],\n",
    "    s=50, c='lightgreen',\n",
    "    marker='s', edgecolor='black',\n",
    "    label='cluster 1'\n",
    ")\n",
    "\n",
    "plt.scatter(\n",
    "    X[y_km == 1, 0], X[y_km == 1, 1],\n",
    "    s=50, c='orange',\n",
    "    marker='o', edgecolor='black',\n",
    "    label='cluster 2'\n",
    ")\n",
    "\n",
    "plt.scatter(\n",
    "    X[y_km == 2, 0], X[y_km == 2, 1],\n",
    "    s=50, c='lightblue',\n",
    "    marker='v', edgecolor='black',\n",
    "    label='cluster 3'\n",
    ")\n",
    "\n",
    "# plot the centroids\n",
    "plt.scatter(\n",
    "    km.cluster_centers_[:, 0], km.cluster_centers_[:, 1],\n",
    "    s=250, marker='*',\n",
    "    c='red', edgecolor='black',\n",
    "    label='centroids'\n",
    ")\n",
    "plt.legend(scatterpoints=1)\n",
    "# plt.grid()\n",
    "plt.show()"
   ]
  },
  {
   "cell_type": "code",
   "execution_count": null,
   "metadata": {},
   "outputs": [],
   "source": []
  }
 ],
 "metadata": {
  "kernelspec": {
   "display_name": "Python 3",
   "language": "python",
   "name": "python3"
  },
  "language_info": {
   "codemirror_mode": {
    "name": "ipython",
    "version": 3
   },
   "file_extension": ".py",
   "mimetype": "text/x-python",
   "name": "python",
   "nbconvert_exporter": "python",
   "pygments_lexer": "ipython3",
   "version": "3.9.13"
  },
  "orig_nbformat": 4
 },
 "nbformat": 4,
 "nbformat_minor": 2
}
